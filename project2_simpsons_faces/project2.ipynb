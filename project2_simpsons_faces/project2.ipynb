{
 "cells": [
  {
   "cell_type": "markdown",
   "metadata": {},
   "source": [
    "#### Jérémy TREMBLAY"
   ]
  },
  {
   "cell_type": "markdown",
   "metadata": {},
   "source": [
    "# Project 2: The Simpsons Faces"
   ]
  },
  {
   "cell_type": "code",
   "execution_count": 2,
   "metadata": {},
   "outputs": [
    {
     "name": "stdout",
     "output_type": "stream",
     "text": [
      "WARNING:tensorflow:From C:\\Users\\jtrem\\AppData\\Local\\Packages\\PythonSoftwareFoundation.Python.3.11_qbz5n2kfra8p0\\LocalCache\\local-packages\\Python311\\site-packages\\keras\\src\\losses.py:2976: The name tf.losses.sparse_softmax_cross_entropy is deprecated. Please use tf.compat.v1.losses.sparse_softmax_cross_entropy instead.\n",
      "\n"
     ]
    }
   ],
   "source": [
    "# Import used in this notebook.\n",
    "import os\n",
    "import h5py\n",
    "import random\n",
    "import numpy as np\n",
    "import pandas as pd\n",
    "import matplotlib.pyplot as plt\n",
    "\n",
    "from skimage import io, color, exposure, transform\n",
    "from sklearn.utils.class_weight import compute_sample_weight\n",
    "from tensorflow import keras\n",
    "from keras.models import Sequential\n",
    "from keras.layers import Input, Conv2D, Flatten, Dense, Dropout, MaxPooling2D, BatchNormalization"
   ]
  },
  {
   "cell_type": "markdown",
   "metadata": {},
   "source": [
    "Fix seeds for reprodutiblity principles."
   ]
  },
  {
   "cell_type": "code",
   "execution_count": 3,
   "metadata": {},
   "outputs": [],
   "source": [
    "np.random.seed(42)\n",
    "random.seed(42)"
   ]
  },
  {
   "cell_type": "markdown",
   "metadata": {},
   "source": [
    "In the subfolder of this path, there is a dataset extracted from The Simpsons serie.\n",
    "The mission is to classify correctly each person for each image to the corresponding personnage. This dataset is composed of more than 6000 images for training and nearly 600 for testing. Each image is associated with a class. The dataset offers 18 different classes, i.e. 18 different characters from The Simpsons.\n",
    "\n",
    "Constraints:\n",
    "* Don't cheat!\n",
    "* Respect a model with at most 1M parameters (it will be checked)\n",
    "* Max dataset image size must be (64, 64)\n",
    "\n",
    "**The goal of this notebook is to realize the best possible model to predict data.**"
   ]
  },
  {
   "cell_type": "markdown",
   "metadata": {},
   "source": [
    "## First step : load data"
   ]
  },
  {
   "cell_type": "markdown",
   "metadata": {},
   "source": [
    "The first step is to load the two CSV that will be used in this notebook with `pandas`."
   ]
  },
  {
   "cell_type": "code",
   "execution_count": 4,
   "metadata": {},
   "outputs": [
    {
     "name": "stdout",
     "output_type": "stream",
     "text": [
      "   width  height          className  classId                path\n",
      "0    236     333       bart_simpson        2  dataset_000000.png\n",
      "1    154     223       nelson_muntz       15  dataset_000001.png\n",
      "2    187     294      kent_brockman        8  dataset_000002.png\n",
      "3    219     281       ned_flanders       14  dataset_000003.png\n",
      "4    278     384  principal_skinner       16  dataset_000004.png\n",
      "---------------------------------------------------\n",
      "   width  height             path\n",
      "0    194     328  test_000000.png\n",
      "1    236     363  test_000001.png\n",
      "2    185     373  test_000002.png\n",
      "3    380     399  test_000003.png\n",
      "4    152     294  test_000004.png\n"
     ]
    }
   ],
   "source": [
    "# Specify the relative path of the the files.\n",
    "train_file_path = 'datasets/train.csv'\n",
    "test_file_path = 'datasets/test.csv'\n",
    "\n",
    "# Load the database into a DataFrame.\n",
    "df_train = pd.read_csv(train_file_path)\n",
    "df_test = pd.read_csv(test_file_path)\n",
    "\n",
    "# Display the first few rows of the DataFrame with head.\n",
    "print(df_train.head())\n",
    "print(\"---------------------------------------------------\")\n",
    "print(df_test.head())"
   ]
  },
  {
   "cell_type": "markdown",
   "metadata": {},
   "source": [
    "Perfect. We will now explore data."
   ]
  },
  {
   "cell_type": "code",
   "execution_count": 4,
   "metadata": {},
   "outputs": [
    {
     "name": "stdout",
     "output_type": "stream",
     "text": [
      "width        False\n",
      "height       False\n",
      "className    False\n",
      "classId      False\n",
      "path         False\n",
      "dtype: bool\n",
      "width     False\n",
      "height    False\n",
      "path      False\n",
      "dtype: bool\n"
     ]
    }
   ],
   "source": [
    "print(df_train.isnull().any())\n",
    "print(df_test.isnull().any())"
   ]
  },
  {
   "cell_type": "markdown",
   "metadata": {},
   "source": [
    "The datasets are already clean, we can easily read it now and search some information."
   ]
  },
  {
   "cell_type": "code",
   "execution_count": 5,
   "metadata": {},
   "outputs": [
    {
     "name": "stdout",
     "output_type": "stream",
     "text": [
      "(5458, 5)\n",
      "(596, 3)\n"
     ]
    }
   ],
   "source": [
    "# Know the dimensions of the dataframes.\n",
    "print(df_train.shape)\n",
    "print(df_test.shape)"
   ]
  },
  {
   "cell_type": "markdown",
   "metadata": {},
   "source": [
    "There is 5458 rows and 5 columns for the train dataset and 596 rows and 3 columns for the test dataset, let's check the content more in detail with some stats."
   ]
  },
  {
   "cell_type": "code",
   "execution_count": 6,
   "metadata": {},
   "outputs": [
    {
     "name": "stdout",
     "output_type": "stream",
     "text": [
      "<class 'pandas.core.frame.DataFrame'>\n",
      "RangeIndex: 5458 entries, 0 to 5457\n",
      "Data columns (total 5 columns):\n",
      " #   Column     Non-Null Count  Dtype \n",
      "---  ------     --------------  ----- \n",
      " 0   width      5458 non-null   int64 \n",
      " 1   height     5458 non-null   int64 \n",
      " 2   className  5458 non-null   object\n",
      " 3   classId    5458 non-null   int64 \n",
      " 4   path       5458 non-null   object\n",
      "dtypes: int64(3), object(2)\n",
      "memory usage: 213.3+ KB\n"
     ]
    }
   ],
   "source": [
    "# Display usefull information about the train dataset.\n",
    "df_train.info()"
   ]
  },
  {
   "cell_type": "code",
   "execution_count": 7,
   "metadata": {},
   "outputs": [
    {
     "name": "stdout",
     "output_type": "stream",
     "text": [
      "<class 'pandas.core.frame.DataFrame'>\n",
      "RangeIndex: 596 entries, 0 to 595\n",
      "Data columns (total 3 columns):\n",
      " #   Column  Non-Null Count  Dtype \n",
      "---  ------  --------------  ----- \n",
      " 0   width   596 non-null    int64 \n",
      " 1   height  596 non-null    int64 \n",
      " 2   path    596 non-null    object\n",
      "dtypes: int64(2), object(1)\n",
      "memory usage: 14.1+ KB\n"
     ]
    }
   ],
   "source": [
    "# Display usefull information about the test dataset.\n",
    "df_test.info()"
   ]
  },
  {
   "cell_type": "code",
   "execution_count": 8,
   "metadata": {},
   "outputs": [
    {
     "data": {
      "text/html": [
       "<div>\n",
       "<style scoped>\n",
       "    .dataframe tbody tr th:only-of-type {\n",
       "        vertical-align: middle;\n",
       "    }\n",
       "\n",
       "    .dataframe tbody tr th {\n",
       "        vertical-align: top;\n",
       "    }\n",
       "\n",
       "    .dataframe thead th {\n",
       "        text-align: right;\n",
       "    }\n",
       "</style>\n",
       "<table border=\"1\" class=\"dataframe\">\n",
       "  <thead>\n",
       "    <tr style=\"text-align: right;\">\n",
       "      <th></th>\n",
       "      <th>width</th>\n",
       "      <th>height</th>\n",
       "      <th>classId</th>\n",
       "    </tr>\n",
       "  </thead>\n",
       "  <tbody>\n",
       "    <tr>\n",
       "      <th>count</th>\n",
       "      <td>5458.000000</td>\n",
       "      <td>5458.000000</td>\n",
       "      <td>5458.000000</td>\n",
       "    </tr>\n",
       "    <tr>\n",
       "      <th>mean</th>\n",
       "      <td>226.390253</td>\n",
       "      <td>312.764749</td>\n",
       "      <td>8.030781</td>\n",
       "    </tr>\n",
       "    <tr>\n",
       "      <th>std</th>\n",
       "      <td>73.223297</td>\n",
       "      <td>82.585173</td>\n",
       "      <td>5.278480</td>\n",
       "    </tr>\n",
       "    <tr>\n",
       "      <th>min</th>\n",
       "      <td>111.000000</td>\n",
       "      <td>114.000000</td>\n",
       "      <td>0.000000</td>\n",
       "    </tr>\n",
       "    <tr>\n",
       "      <th>25%</th>\n",
       "      <td>173.000000</td>\n",
       "      <td>252.000000</td>\n",
       "      <td>3.000000</td>\n",
       "    </tr>\n",
       "    <tr>\n",
       "      <th>50%</th>\n",
       "      <td>214.000000</td>\n",
       "      <td>317.000000</td>\n",
       "      <td>8.000000</td>\n",
       "    </tr>\n",
       "    <tr>\n",
       "      <th>75%</th>\n",
       "      <td>264.000000</td>\n",
       "      <td>373.000000</td>\n",
       "      <td>13.000000</td>\n",
       "    </tr>\n",
       "    <tr>\n",
       "      <th>max</th>\n",
       "      <td>629.000000</td>\n",
       "      <td>618.000000</td>\n",
       "      <td>17.000000</td>\n",
       "    </tr>\n",
       "  </tbody>\n",
       "</table>\n",
       "</div>"
      ],
      "text/plain": [
       "             width       height      classId\n",
       "count  5458.000000  5458.000000  5458.000000\n",
       "mean    226.390253   312.764749     8.030781\n",
       "std      73.223297    82.585173     5.278480\n",
       "min     111.000000   114.000000     0.000000\n",
       "25%     173.000000   252.000000     3.000000\n",
       "50%     214.000000   317.000000     8.000000\n",
       "75%     264.000000   373.000000    13.000000\n",
       "max     629.000000   618.000000    17.000000"
      ]
     },
     "execution_count": 8,
     "metadata": {},
     "output_type": "execute_result"
    }
   ],
   "source": [
    "df_train.describe()"
   ]
  },
  {
   "cell_type": "code",
   "execution_count": 9,
   "metadata": {},
   "outputs": [
    {
     "data": {
      "text/html": [
       "<div>\n",
       "<style scoped>\n",
       "    .dataframe tbody tr th:only-of-type {\n",
       "        vertical-align: middle;\n",
       "    }\n",
       "\n",
       "    .dataframe tbody tr th {\n",
       "        vertical-align: top;\n",
       "    }\n",
       "\n",
       "    .dataframe thead th {\n",
       "        text-align: right;\n",
       "    }\n",
       "</style>\n",
       "<table border=\"1\" class=\"dataframe\">\n",
       "  <thead>\n",
       "    <tr style=\"text-align: right;\">\n",
       "      <th></th>\n",
       "      <th>width</th>\n",
       "      <th>height</th>\n",
       "    </tr>\n",
       "  </thead>\n",
       "  <tbody>\n",
       "    <tr>\n",
       "      <th>count</th>\n",
       "      <td>596.000000</td>\n",
       "      <td>596.00000</td>\n",
       "    </tr>\n",
       "    <tr>\n",
       "      <th>mean</th>\n",
       "      <td>228.652685</td>\n",
       "      <td>315.07047</td>\n",
       "    </tr>\n",
       "    <tr>\n",
       "      <th>std</th>\n",
       "      <td>79.461392</td>\n",
       "      <td>85.25644</td>\n",
       "    </tr>\n",
       "    <tr>\n",
       "      <th>min</th>\n",
       "      <td>112.000000</td>\n",
       "      <td>130.00000</td>\n",
       "    </tr>\n",
       "    <tr>\n",
       "      <th>25%</th>\n",
       "      <td>173.750000</td>\n",
       "      <td>253.00000</td>\n",
       "    </tr>\n",
       "    <tr>\n",
       "      <th>50%</th>\n",
       "      <td>210.000000</td>\n",
       "      <td>319.00000</td>\n",
       "    </tr>\n",
       "    <tr>\n",
       "      <th>75%</th>\n",
       "      <td>269.250000</td>\n",
       "      <td>380.00000</td>\n",
       "    </tr>\n",
       "    <tr>\n",
       "      <th>max</th>\n",
       "      <td>800.000000</td>\n",
       "      <td>816.00000</td>\n",
       "    </tr>\n",
       "  </tbody>\n",
       "</table>\n",
       "</div>"
      ],
      "text/plain": [
       "            width     height\n",
       "count  596.000000  596.00000\n",
       "mean   228.652685  315.07047\n",
       "std     79.461392   85.25644\n",
       "min    112.000000  130.00000\n",
       "25%    173.750000  253.00000\n",
       "50%    210.000000  319.00000\n",
       "75%    269.250000  380.00000\n",
       "max    800.000000  816.00000"
      ]
     },
     "execution_count": 9,
     "metadata": {},
     "output_type": "execute_result"
    }
   ],
   "source": [
    "df_test.describe()"
   ]
  },
  {
   "cell_type": "markdown",
   "metadata": {},
   "source": [
    "Since we want to predict the class of the simpson, we will use the columns `path` which contains the path to the image of the simpson. The dataset also provides the width and length of the images and the `className` containing the name of the personnage and its associated `classId`. For the test dataset, we also have the size of the image and their paths, but not their classes because it is what we want to know.\n",
    "Let's check the number of simpsonfor each class in the train dataset to see if the data is well balanced between the classes."
   ]
  },
  {
   "cell_type": "code",
   "execution_count": 10,
   "metadata": {},
   "outputs": [
    {
     "data": {
      "text/plain": [
       "className\n",
       "homer_simpson               533\n",
       "abraham_grampa_simpson      512\n",
       "marge_simpson               491\n",
       "bart_simpson                485\n",
       "ned_flanders                483\n",
       "charles_montgomery_burns    461\n",
       "lisa_simpson                420\n",
       "principal_skinner           407\n",
       "nelson_muntz                186\n",
       "krusty_the_clown            186\n",
       "chief_wiggum                181\n",
       "kent_brockman               168\n",
       "apu_nahasapeemapetilon      166\n",
       "edna_krabappel              164\n",
       "moe_szyslak                 164\n",
       "milhouse_van_houten         164\n",
       "comic_book_guy              149\n",
       "sideshow_bob                138\n",
       "Name: count, dtype: int64"
      ]
     },
     "execution_count": 10,
     "metadata": {},
     "output_type": "execute_result"
    }
   ],
   "source": [
    "df_train.className.value_counts()"
   ]
  },
  {
   "cell_type": "markdown",
   "metadata": {},
   "source": [
    "We can see that the data is not balanced between the classes. For example, there is more often marge simpson than kent brockman. We will use a tool later to balance the data and improve the training of our model, this is an important step.   \n",
    "\n",
    "We also need to do a dictionnary to link a `classId` to it's `className` to display some data, it can be usefull but just for us because our model will only use the `classId` to separate the images. Let's do it."
   ]
  },
  {
   "cell_type": "code",
   "execution_count": 11,
   "metadata": {},
   "outputs": [
    {
     "name": "stdout",
     "output_type": "stream",
     "text": [
      "{2: 'bart_simpson', 15: 'nelson_muntz', 8: 'kent_brockman', 14: 'ned_flanders', 16: 'principal_skinner', 0: 'abraham_grampa_simpson', 11: 'marge_simpson', 3: 'charles_montgomery_burns', 5: 'comic_book_guy', 7: 'homer_simpson', 6: 'edna_krabappel', 4: 'chief_wiggum', 10: 'lisa_simpson', 9: 'krusty_the_clown', 13: 'moe_szyslak', 1: 'apu_nahasapeemapetilon', 12: 'milhouse_van_houten', 17: 'sideshow_bob'}\n"
     ]
    }
   ],
   "source": [
    "# Create a dictionnary to associate a classId to a className.\n",
    "class_dict = dict(zip(df_train['classId'], df_train['className']))\n",
    "\n",
    "# Display data.\n",
    "print(class_dict)"
   ]
  },
  {
   "cell_type": "markdown",
   "metadata": {},
   "source": [
    "We are now ready to work with the data to separate it."
   ]
  },
  {
   "cell_type": "markdown",
   "metadata": {},
   "source": [
    "## Second step : separate data"
   ]
  },
  {
   "cell_type": "markdown",
   "metadata": {},
   "source": [
    "We must use our train dataset and split it to use it to train and test our model and check his performances. The test dataset cannot be used for that because it contains the data we want to predict, and we cannot check the effiency of the mdoel with it. We do not need to clean the dataset as saw at the previous step and we will not used the `width` and `heigh` columns of the datasets because they are not usefull. The `className` is usefull just for us, as human, to read the name of the simpson, but the model will use the integer value of the `classId` column to classify the data. We want to separate our data : 80% for train and 20% for test."
   ]
  },
  {
   "cell_type": "code",
   "execution_count": 12,
   "metadata": {},
   "outputs": [],
   "source": [
    "# Separate the dataset in two sets.\n",
    "data = df_train.sample(frac=1., axis=0, random_state=42)\n",
    "data_train = data.sample(frac=0.8, axis=0, random_state=42) # 80 / 20\n",
    "data_test = data.drop(data_train.index)"
   ]
  },
  {
   "cell_type": "markdown",
   "metadata": {},
   "source": [
    "Now our data is separated, we need to process it. In fact, we have here images of different sizes as seen previously, so we need to resize all of them at the same size and also apply a treatment on them. Then it will be possible to use our data to train our model."
   ]
  },
  {
   "cell_type": "markdown",
   "metadata": {},
   "source": [
    "## Thrid step: process and normalize data "
   ]
  },
  {
   "cell_type": "markdown",
   "metadata": {},
   "source": [
    "We must resize all the images at the same size. At the first step, we have seen that all the images are larger than 100x100 so we can resize them to a 64x64 format.  \n",
    "We can also preprocess images by applying them an effect, for example, we can apply a gray scale or transform them into RGB images before normalizing them. This step will for sure modify the performance of our model, so we need to do a function if we want to test various solutions."
   ]
  },
  {
   "cell_type": "code",
   "execution_count": 13,
   "metadata": {},
   "outputs": [],
   "source": [
    "def preprocessing_and_normalizing(dataframe, folder='train', transformation=0):\n",
    "    out_x_train = []\n",
    "    img_size = (64, 64)\n",
    "    folder = 'datasets/simpsons/' + folder\n",
    "\n",
    "    # Iterate through each image of our dataset.\n",
    "    for i, row in dataframe.iterrows():\n",
    "        # Read image content.\n",
    "        img_path = os.path.join(folder, row['path'])\n",
    "        img_arr = io.imread(img_path)\n",
    "\n",
    "        # Resize image to new shape.\n",
    "        img_arr = transform.resize(img_arr, img_size, preserve_range=True)\n",
    "\n",
    "        # Here come the transformation part. Depending on the tranformation parameter given to the function, something will be apply to the images.\n",
    "        if transformation == 1: # Gray scale.\n",
    "            img_arr = color.rgb2gray(img_arr).reshape(img_size[0], img_size[1], 1)\n",
    "        elif transformation == 2: # Better exposure.\n",
    "            img_arr = exposure.rescale_intensity(img_arr)\n",
    "        elif transformation == 3: # Better exposure + gray scale.\n",
    "            img_arr = exposure.rescale_intensity(img_arr)\n",
    "            img_arr = color.rgb2gray(img_arr).reshape(img_size[0], img_size[1], 1)\n",
    "\n",
    "        # Normalize image and add it to the list.\n",
    "        img_arr = img_arr / 255.\n",
    "\n",
    "        out_x_train.append(img_arr)\n",
    "    \n",
    "    # Return new normalized data.\n",
    "    return out_x_train"
   ]
  },
  {
   "cell_type": "markdown",
   "metadata": {},
   "source": [
    "Later in this challenge, I wanted to test other combinations with gray scale or RGB, so I decided to add this transformation parameter in this function and the associated treatments.  \n",
    "\n",
    "Now the data is ready, there is a last thing to do before using it: we mut save it to avoid to reload and process again all the data each time we want to test our models."
   ]
  },
  {
   "cell_type": "markdown",
   "metadata": {},
   "source": [
    "## Fourth step: Create a dataset file"
   ]
  },
  {
   "cell_type": "markdown",
   "metadata": {},
   "source": [
    "Let's now use our function to save our data in a h5 file to easily load it again. We first create two functions to load and save."
   ]
  },
  {
   "cell_type": "code",
   "execution_count": 6,
   "metadata": {},
   "outputs": [],
   "source": [
    "# Define constants and create folder if not existing.\n",
    "output_folder = 'working/datasets'\n",
    "os.makedirs(output_folder, exist_ok=True)\n",
    "\n",
    "def save_dataset(out_x_train, out_x_test, filename):\n",
    "    # Open & create the file and image save data inside to reuse it.\n",
    "    with h5py.File(os.path.join(output_folder, filename), \"w\") as f:\n",
    "        f.create_dataset(\"x_train\", data=out_x_train)\n",
    "        f.create_dataset(\"y_train\", data=data_train.classId.to_numpy())\n",
    "\n",
    "        # Do the same for test data. \n",
    "        f.create_dataset(\"x_test\", data=out_x_test)\n",
    "        f.create_dataset(\"y_test\", data=data_test.classId.to_numpy())\n",
    "\n",
    "def read_dataset(filename):\n",
    "    # Read dataset h5 file.\n",
    "    with h5py.File(os.path.join(output_folder, filename), 'r') as f:\n",
    "        x_train = f['x_train'][:]\n",
    "        y_train = f['y_train'][:]\n",
    "\n",
    "        # Do the same for test data.\n",
    "        x_test = f['x_test'][:]\n",
    "        y_test = f['y_test'][:]\n",
    "\n",
    "    return x_train, y_train, x_test, y_test"
   ]
  },
  {
   "cell_type": "markdown",
   "metadata": {},
   "source": [
    "Now let use our functions to load our images from dataframe, process them, save them into different h5 files: one with no processing, one with a gray scale and the other with RGB. This will be usefull later."
   ]
  },
  {
   "cell_type": "code",
   "execution_count": 15,
   "metadata": {},
   "outputs": [],
   "source": [
    "# With no processing. We normalize our two dataframe : train and test and then save them into the file.\n",
    "out_x_train = preprocessing_and_normalizing(data_train)\n",
    "out_x_test = preprocessing_and_normalizing(data_test)\n",
    "save_dataset(out_x_train, out_x_test, \"dataset_standard.h5\")\n",
    "\n",
    "# With gray scale.\n",
    "out_x_train = preprocessing_and_normalizing(data_train, transformation=1)\n",
    "out_x_test = preprocessing_and_normalizing(data_test, transformation=1)\n",
    "save_dataset(out_x_train, out_x_test, \"dataset_gray.h5\")\n",
    "\n",
    "# With RGB (better exposure).\n",
    "out_x_train = preprocessing_and_normalizing(data_train, transformation=2)\n",
    "out_x_test = preprocessing_and_normalizing(data_test, transformation=2)\n",
    "save_dataset(out_x_train, out_x_test, \"dataset_exposure.h5\")\n",
    "\n",
    "# With better exposure + gray scale.\n",
    "out_x_train = preprocessing_and_normalizing(data_train, transformation=3)\n",
    "out_x_test = preprocessing_and_normalizing(data_test, transformation=3)\n",
    "save_dataset(out_x_train, out_x_test, \"dataset_exposure_gray.h5\")"
   ]
  },
  {
   "cell_type": "markdown",
   "metadata": {},
   "source": [
    "Let processing the test data now (the thing we want to predict) and save it."
   ]
  },
  {
   "cell_type": "code",
   "execution_count": 20,
   "metadata": {},
   "outputs": [],
   "source": [
    "# With no processing.\n",
    "out_x_final = preprocessing_and_normalizing(df_test, folder='test')\n",
    "dataset_file_final = os.path.join(output_folder, 'dataset_standard_final.h5')\n",
    "with h5py.File(dataset_file_final, \"w\") as f:\n",
    "    f.create_dataset(\"x_test\",  data=out_x_final)\n",
    "\n",
    "# With gray scale.\n",
    "out_x_final = preprocessing_and_normalizing(df_test, folder='test', transformation=1)\n",
    "dataset_file_final = os.path.join(output_folder, 'dataset_gray_final.h5')\n",
    "with h5py.File(dataset_file_final, \"w\") as f:\n",
    "    f.create_dataset(\"x_test\",  data=out_x_final)\n",
    "\n",
    "# With RGB (better exposure).\n",
    "out_x_final = preprocessing_and_normalizing(df_test, folder='test', transformation=2)\n",
    "dataset_file_final = os.path.join(output_folder, 'dataset_exposure_final.h5')\n",
    "with h5py.File(dataset_file_final, \"w\") as f:\n",
    "    f.create_dataset(\"x_test\",  data=out_x_final)\n",
    "\n",
    "# With better exposure + gray scale.\n",
    "out_x_final = preprocessing_and_normalizing(df_test, folder='test', transformation=3)\n",
    "dataset_file_final = os.path.join(output_folder, 'dataset_exposure_gray_final.h5')\n",
    "with h5py.File(dataset_file_final, \"w\") as f:\n",
    "    f.create_dataset(\"x_test\",  data=out_x_final)"
   ]
  },
  {
   "cell_type": "markdown",
   "metadata": {},
   "source": [
    "Now we have our data we are ready to create a model, train it and see results."
   ]
  },
  {
   "cell_type": "markdown",
   "metadata": {},
   "source": [
    "## Fifth step: read data"
   ]
  },
  {
   "cell_type": "markdown",
   "metadata": {},
   "source": [
    "Now we have our data saved, let's read it to yuse it."
   ]
  },
  {
   "cell_type": "code",
   "execution_count": 7,
   "metadata": {},
   "outputs": [],
   "source": [
    "x_train_standard, y_train_standard, x_test_standard, y_test_standard = read_dataset(\"dataset_standard.h5\")\n",
    "x_train_gray, y_train_gray, x_test_gray, y_test_gray = read_dataset(\"dataset_gray.h5\")\n",
    "x_train_exposure, y_train_exposure, x_test_exposure, y_test_exposure = read_dataset(\"dataset_exposure.h5\")\n",
    "x_train_exposure_gray, y_train_exposure_gray, x_test_exposure_gray, y_test_exposure_gray = read_dataset(\"dataset_exposure_gray.h5\")"
   ]
  },
  {
   "cell_type": "markdown",
   "metadata": {},
   "source": [
    "Do the same for our final predictions."
   ]
  },
  {
   "cell_type": "code",
   "execution_count": 8,
   "metadata": {},
   "outputs": [],
   "source": [
    "with h5py.File(os.path.join(output_folder, 'dataset_standard_final.h5'), 'r') as f:\n",
    "    x_final_standard = f['x_test'][:]\n",
    "with h5py.File(os.path.join(output_folder, 'dataset_gray_final.h5'), 'r') as f:\n",
    "    x_final_gray = f['x_test'][:]\n",
    "with h5py.File(os.path.join(output_folder, 'dataset_exposure_final.h5'), 'r') as f:\n",
    "    x_final_exposure = f['x_test'][:]\n",
    "with h5py.File(os.path.join(output_folder, 'dataset_exposure_gray_final.h5'), 'r') as f:\n",
    "    x_final_exposure_gray = f['x_test'][:]"
   ]
  },
  {
   "cell_type": "markdown",
   "metadata": {},
   "source": [
    "Let's check the sizes to be sure everything is ok."
   ]
  },
  {
   "cell_type": "code",
   "execution_count": 9,
   "metadata": {},
   "outputs": [
    {
     "name": "stdout",
     "output_type": "stream",
     "text": [
      "(4366, 64, 64, 3)\n",
      "(4366, 64, 64, 3)\n",
      "(4366, 64, 64, 1)\n",
      "(4366, 64, 64, 1)\n",
      "(1092, 64, 64, 3)\n",
      "(1092, 64, 64, 3)\n",
      "(1092, 64, 64, 1)\n",
      "(1092, 64, 64, 1)\n",
      "(4366,)\n",
      "(4366,)\n",
      "(4366,)\n",
      "(4366,)\n",
      "(1092,)\n",
      "(1092,)\n",
      "(1092,)\n",
      "(1092,)\n",
      "(596, 64, 64, 3)\n",
      "(596, 64, 64, 3)\n",
      "(596, 64, 64, 1)\n",
      "(596, 64, 64, 1)\n"
     ]
    }
   ],
   "source": [
    "print(x_train_exposure.shape)\n",
    "print(x_train_standard.shape)\n",
    "print(x_train_gray.shape)\n",
    "print(x_train_exposure_gray.shape)\n",
    "print(x_test_exposure.shape)\n",
    "print(x_test_standard.shape)\n",
    "print(x_test_gray.shape)\n",
    "print(x_test_exposure_gray.shape)\n",
    "\n",
    "print(y_train_standard.shape)\n",
    "print(y_train_gray.shape)\n",
    "print(y_train_exposure.shape)\n",
    "print(y_train_exposure_gray.shape)\n",
    "print(y_test_exposure.shape)\n",
    "print(y_test_standard.shape)\n",
    "print(y_test_gray.shape)\n",
    "print(y_test_exposure_gray.shape)\n",
    "\n",
    "print(x_final_exposure.shape)\n",
    "print(x_final_standard.shape)\n",
    "print(x_final_gray.shape)\n",
    "print(x_final_exposure_gray.shape)"
   ]
  },
  {
   "cell_type": "markdown",
   "metadata": {},
   "source": [
    "It's seems ok. We note that we have a 3 sized images for the standard and exposure images only, this is beecause they are RGB images, the others are a gray scale. We will try our models on all these types of images to see which one is the best."
   ]
  },
  {
   "cell_type": "markdown",
   "metadata": {},
   "source": [
    "## Sixth step: Create and train a CNN"
   ]
  },
  {
   "cell_type": "markdown",
   "metadata": {},
   "source": [
    "We are now in the core subject of this project. Our model will be a CNN. We will do NOT use a DNN because we know that the CNN can make better performances than DNN (in overall), so we will directly skip to a CNN. But first, we need to define a `get_model` function to create such a model. But how can we create our model ? This is simple.  \n",
    "\n",
    "* It will be composed of an Input layer which will take the geometry of the input data as a parameter, here 64* 64 * 1 (in our case we will work with images in grayscale, therefore 1 color).\n",
    "* Inputs will be passed to 2 `Conv2D` layers each with a kernel of 3 * 3, a *stride* of 1 and no *padding*. These layers will respectively return a number of 8 and 16 feature maps (*features maps*). The activation functions will be `ReLu`.\n",
    "* A `Flatten` layer which allows the flattening of data into a vector in order to be able to correctly connect our following layers.\n",
    "* Then, two `Dense` layers, both composed of `ReLu` type activation functions and respectively 128 and 32 neurons.\n",
    "* A `Dropout` layer after each hidden layer.\n",
    "* Finally, a final layer of type `Dense` with a number of neurons corresponding to the number of classes to predict (18 different characters). This will be the output layer."
   ]
  },
  {
   "cell_type": "code",
   "execution_count": 10,
   "metadata": {},
   "outputs": [],
   "source": [
    "def get_model_cnn_v1(input_shape=(64, 64, 1), dropout_rate=0.2):\n",
    "    \"\"\"\n",
    "    Creates a Sequential model for classifying the simpsons using a pooling system.\n",
    "\n",
    "    Parameters:\n",
    "    - input_shape (tuple): The shape of input images (default is (64, 64, 1)).\n",
    "    - dropout_rate (float): The droupout rate used in Droupout (default is 0.2).\n",
    "\n",
    "    Returns:\n",
    "    - model (Sequential): The compiled Keras Sequential model.\n",
    "    \"\"\"\n",
    "    model = Sequential()\n",
    "\n",
    "    # Convolutional layers.\n",
    "    model.add(Input(shape=input_shape))\n",
    "    if len(input_shape) == 3:\n",
    "        model.add(Conv2D(8, kernel_size=(3, 3), strides=1, padding='valid', activation='relu'))\n",
    "        model.add(MaxPooling2D(pool_size=(2, 2)))\n",
    "        model.add(Conv2D(16, kernel_size=(3, 3), strides=1, padding='valid', activation='relu'))\n",
    "        model.add(MaxPooling2D(pool_size=(2, 2)))\n",
    "\n",
    "    # Flatten layer.\n",
    "    model.add(Flatten())\n",
    "\n",
    "    # Dense layers with Dropout.\n",
    "    model.add(Dense(128, activation='relu'))\n",
    "    model.add(Dropout(dropout_rate))\n",
    "    model.add(Dense(32, activation='relu'))\n",
    "    model.add(Dropout(dropout_rate))\n",
    "\n",
    "    # Output layer.\n",
    "    num_classes = 18  # Number of classes (18 simpsons).\n",
    "    model.add(Dense(num_classes, activation='softmax'))\n",
    "\n",
    "    return model"
   ]
  },
  {
   "cell_type": "code",
   "execution_count": 11,
   "metadata": {},
   "outputs": [],
   "source": [
    "# Log directory for TensorBoard.\n",
    "log_dir = 'logs/cnn_v1'\n",
    "os.makedirs(log_dir, exist_ok=True)\n",
    "tensorboard_callback = keras.callbacks.TensorBoard(log_dir=log_dir, histogram_freq=1)"
   ]
  },
  {
   "cell_type": "markdown",
   "metadata": {},
   "source": [
    "Now let's see the number of parameters to be sure there are not more than 1M."
   ]
  },
  {
   "cell_type": "code",
   "execution_count": 12,
   "metadata": {},
   "outputs": [
    {
     "name": "stdout",
     "output_type": "stream",
     "text": [
      "WARNING:tensorflow:From C:\\Users\\jtrem\\AppData\\Local\\Packages\\PythonSoftwareFoundation.Python.3.11_qbz5n2kfra8p0\\LocalCache\\local-packages\\Python311\\site-packages\\keras\\src\\backend.py:873: The name tf.get_default_graph is deprecated. Please use tf.compat.v1.get_default_graph instead.\n",
      "\n",
      "WARNING:tensorflow:From C:\\Users\\jtrem\\AppData\\Local\\Packages\\PythonSoftwareFoundation.Python.3.11_qbz5n2kfra8p0\\LocalCache\\local-packages\\Python311\\site-packages\\keras\\src\\layers\\pooling\\max_pooling2d.py:161: The name tf.nn.max_pool is deprecated. Please use tf.nn.max_pool2d instead.\n",
      "\n",
      "Model: \"sequential\"\n",
      "_________________________________________________________________\n",
      " Layer (type)                Output Shape              Param #   \n",
      "=================================================================\n",
      " conv2d (Conv2D)             (None, 62, 62, 8)         224       \n",
      "                                                                 \n",
      " max_pooling2d (MaxPooling2  (None, 31, 31, 8)         0         \n",
      " D)                                                              \n",
      "                                                                 \n",
      " conv2d_1 (Conv2D)           (None, 29, 29, 16)        1168      \n",
      "                                                                 \n",
      " max_pooling2d_1 (MaxPoolin  (None, 14, 14, 16)        0         \n",
      " g2D)                                                            \n",
      "                                                                 \n",
      " flatten (Flatten)           (None, 3136)              0         \n",
      "                                                                 \n",
      " dense (Dense)               (None, 128)               401536    \n",
      "                                                                 \n",
      " dropout (Dropout)           (None, 128)               0         \n",
      "                                                                 \n",
      " dense_1 (Dense)             (None, 32)                4128      \n",
      "                                                                 \n",
      " dropout_1 (Dropout)         (None, 32)                0         \n",
      "                                                                 \n",
      " dense_2 (Dense)             (None, 18)                594       \n",
      "                                                                 \n",
      "=================================================================\n",
      "Total params: 407650 (1.56 MB)\n",
      "Trainable params: 407650 (1.56 MB)\n",
      "Non-trainable params: 0 (0.00 Byte)\n",
      "_________________________________________________________________\n"
     ]
    }
   ],
   "source": [
    "model_cnn_1_standard = get_model_cnn_v1(input_shape=(64, 64, 3)) # Because we use a RGB image we precise the 3 here.\n",
    "model_cnn_1_standard.summary()"
   ]
  },
  {
   "cell_type": "markdown",
   "metadata": {},
   "source": [
    "It's good, but the first time I do this, there was over than 7M parameters... To reduce this number I have decided to change my model and add it some pooling to reduce the number of parameters to 400K. Let's train it now. First we will use it on stadard data then try it on the gray scale images, the exposure and the exposure + gray scale images."
   ]
  },
  {
   "cell_type": "code",
   "execution_count": 13,
   "metadata": {},
   "outputs": [],
   "source": [
    "# Define usefull callbacks.\n",
    "save_callback_1 = keras.callbacks.ModelCheckpoint(filepath=\"models/model_v1\", verbose=0, save_best_only=True)\n",
    "tensorboard_callback_1 = keras.callbacks.TensorBoard(log_dir=\"logs/cnn_v1_standard\", histogram_freq=1)\n",
    "\n",
    "# Create folders.\n",
    "os.makedirs('models/', exist_ok=True)\n",
    "os.makedirs('logs/', exist_ok=True)"
   ]
  },
  {
   "cell_type": "code",
   "execution_count": 14,
   "metadata": {},
   "outputs": [
    {
     "name": "stdout",
     "output_type": "stream",
     "text": [
      "WARNING:tensorflow:From C:\\Users\\jtrem\\AppData\\Local\\Packages\\PythonSoftwareFoundation.Python.3.11_qbz5n2kfra8p0\\LocalCache\\local-packages\\Python311\\site-packages\\keras\\src\\optimizers\\__init__.py:309: The name tf.train.Optimizer is deprecated. Please use tf.compat.v1.train.Optimizer instead.\n",
      "\n",
      "Epoch 1/50\n",
      "WARNING:tensorflow:From C:\\Users\\jtrem\\AppData\\Local\\Packages\\PythonSoftwareFoundation.Python.3.11_qbz5n2kfra8p0\\LocalCache\\local-packages\\Python311\\site-packages\\keras\\src\\utils\\tf_utils.py:492: The name tf.ragged.RaggedTensorValue is deprecated. Please use tf.compat.v1.ragged.RaggedTensorValue instead.\n",
      "\n",
      "WARNING:tensorflow:From C:\\Users\\jtrem\\AppData\\Local\\Packages\\PythonSoftwareFoundation.Python.3.11_qbz5n2kfra8p0\\LocalCache\\local-packages\\Python311\\site-packages\\keras\\src\\engine\\base_layer_utils.py:384: The name tf.executing_eagerly_outside_functions is deprecated. Please use tf.compat.v1.executing_eagerly_outside_functions instead.\n",
      "\n",
      "9/9 [==============================] - ETA: 0s - loss: 2.8627 - accuracy: 0.0822INFO:tensorflow:Assets written to: models\\model_v1\\assets\n"
     ]
    },
    {
     "name": "stderr",
     "output_type": "stream",
     "text": [
      "INFO:tensorflow:Assets written to: models\\model_v1\\assets\n"
     ]
    },
    {
     "name": "stdout",
     "output_type": "stream",
     "text": [
      "9/9 [==============================] - 15s 2s/step - loss: 2.8627 - accuracy: 0.0822 - val_loss: 2.7496 - val_accuracy: 0.1639\n",
      "Epoch 2/50\n",
      "9/9 [==============================] - ETA: 0s - loss: 2.6833 - accuracy: 0.1640INFO:tensorflow:Assets written to: models\\model_v1\\assets\n"
     ]
    },
    {
     "name": "stderr",
     "output_type": "stream",
     "text": [
      "INFO:tensorflow:Assets written to: models\\model_v1\\assets\n"
     ]
    },
    {
     "name": "stdout",
     "output_type": "stream",
     "text": [
      "9/9 [==============================] - 8s 960ms/step - loss: 2.6833 - accuracy: 0.1640 - val_loss: 2.4797 - val_accuracy: 0.2390\n",
      "Epoch 3/50\n",
      "9/9 [==============================] - ETA: 0s - loss: 2.4751 - accuracy: 0.2112INFO:tensorflow:Assets written to: models\\model_v1\\assets\n"
     ]
    },
    {
     "name": "stderr",
     "output_type": "stream",
     "text": [
      "INFO:tensorflow:Assets written to: models\\model_v1\\assets\n"
     ]
    },
    {
     "name": "stdout",
     "output_type": "stream",
     "text": [
      "9/9 [==============================] - 5s 659ms/step - loss: 2.4751 - accuracy: 0.2112 - val_loss: 2.2466 - val_accuracy: 0.3352\n",
      "Epoch 4/50\n",
      "9/9 [==============================] - ETA: 0s - loss: 2.2749 - accuracy: 0.2776INFO:tensorflow:Assets written to: models\\model_v1\\assets\n"
     ]
    },
    {
     "name": "stderr",
     "output_type": "stream",
     "text": [
      "INFO:tensorflow:Assets written to: models\\model_v1\\assets\n"
     ]
    },
    {
     "name": "stdout",
     "output_type": "stream",
     "text": [
      "9/9 [==============================] - 8s 932ms/step - loss: 2.2749 - accuracy: 0.2776 - val_loss: 2.0397 - val_accuracy: 0.4451\n",
      "Epoch 5/50\n",
      "9/9 [==============================] - ETA: 0s - loss: 2.0996 - accuracy: 0.3326INFO:tensorflow:Assets written to: models\\model_v1\\assets\n"
     ]
    },
    {
     "name": "stderr",
     "output_type": "stream",
     "text": [
      "INFO:tensorflow:Assets written to: models\\model_v1\\assets\n"
     ]
    },
    {
     "name": "stdout",
     "output_type": "stream",
     "text": [
      "9/9 [==============================] - 8s 1s/step - loss: 2.0996 - accuracy: 0.3326 - val_loss: 1.8846 - val_accuracy: 0.5018\n",
      "Epoch 6/50\n",
      "9/9 [==============================] - ETA: 0s - loss: 1.9543 - accuracy: 0.3944INFO:tensorflow:Assets written to: models\\model_v1\\assets\n"
     ]
    },
    {
     "name": "stderr",
     "output_type": "stream",
     "text": [
      "INFO:tensorflow:Assets written to: models\\model_v1\\assets\n"
     ]
    },
    {
     "name": "stdout",
     "output_type": "stream",
     "text": [
      "9/9 [==============================] - 5s 600ms/step - loss: 1.9543 - accuracy: 0.3944 - val_loss: 1.7244 - val_accuracy: 0.5174\n",
      "Epoch 7/50\n",
      "9/9 [==============================] - ETA: 0s - loss: 1.8068 - accuracy: 0.4201INFO:tensorflow:Assets written to: models\\model_v1\\assets\n"
     ]
    },
    {
     "name": "stderr",
     "output_type": "stream",
     "text": [
      "INFO:tensorflow:Assets written to: models\\model_v1\\assets\n"
     ]
    },
    {
     "name": "stdout",
     "output_type": "stream",
     "text": [
      "9/9 [==============================] - 3s 355ms/step - loss: 1.8068 - accuracy: 0.4201 - val_loss: 1.5861 - val_accuracy: 0.5870\n",
      "Epoch 8/50\n",
      "9/9 [==============================] - ETA: 0s - loss: 1.6795 - accuracy: 0.4698INFO:tensorflow:Assets written to: models\\model_v1\\assets\n"
     ]
    },
    {
     "name": "stderr",
     "output_type": "stream",
     "text": [
      "INFO:tensorflow:Assets written to: models\\model_v1\\assets\n"
     ]
    },
    {
     "name": "stdout",
     "output_type": "stream",
     "text": [
      "9/9 [==============================] - 9s 1s/step - loss: 1.6795 - accuracy: 0.4698 - val_loss: 1.4672 - val_accuracy: 0.6035\n",
      "Epoch 9/50\n",
      "9/9 [==============================] - ETA: 0s - loss: 1.5804 - accuracy: 0.5021INFO:tensorflow:Assets written to: models\\model_v1\\assets\n"
     ]
    },
    {
     "name": "stderr",
     "output_type": "stream",
     "text": [
      "INFO:tensorflow:Assets written to: models\\model_v1\\assets\n"
     ]
    },
    {
     "name": "stdout",
     "output_type": "stream",
     "text": [
      "9/9 [==============================] - 4s 485ms/step - loss: 1.5804 - accuracy: 0.5021 - val_loss: 1.3681 - val_accuracy: 0.6484\n",
      "Epoch 10/50\n",
      "9/9 [==============================] - ETA: 0s - loss: 1.4418 - accuracy: 0.5529INFO:tensorflow:Assets written to: models\\model_v1\\assets\n"
     ]
    },
    {
     "name": "stderr",
     "output_type": "stream",
     "text": [
      "INFO:tensorflow:Assets written to: models\\model_v1\\assets\n"
     ]
    },
    {
     "name": "stdout",
     "output_type": "stream",
     "text": [
      "9/9 [==============================] - 5s 622ms/step - loss: 1.4418 - accuracy: 0.5529 - val_loss: 1.2575 - val_accuracy: 0.6630\n",
      "Epoch 11/50\n",
      "9/9 [==============================] - ETA: 0s - loss: 1.3368 - accuracy: 0.5731INFO:tensorflow:Assets written to: models\\model_v1\\assets\n"
     ]
    },
    {
     "name": "stderr",
     "output_type": "stream",
     "text": [
      "INFO:tensorflow:Assets written to: models\\model_v1\\assets\n"
     ]
    },
    {
     "name": "stdout",
     "output_type": "stream",
     "text": [
      "9/9 [==============================] - 4s 447ms/step - loss: 1.3368 - accuracy: 0.5731 - val_loss: 1.2056 - val_accuracy: 0.6758\n",
      "Epoch 12/50\n",
      "9/9 [==============================] - ETA: 0s - loss: 1.2627 - accuracy: 0.5902INFO:tensorflow:Assets written to: models\\model_v1\\assets\n"
     ]
    },
    {
     "name": "stderr",
     "output_type": "stream",
     "text": [
      "INFO:tensorflow:Assets written to: models\\model_v1\\assets\n"
     ]
    },
    {
     "name": "stdout",
     "output_type": "stream",
     "text": [
      "9/9 [==============================] - 4s 466ms/step - loss: 1.2627 - accuracy: 0.5902 - val_loss: 1.1002 - val_accuracy: 0.6987\n",
      "Epoch 13/50\n",
      "9/9 [==============================] - ETA: 0s - loss: 1.1918 - accuracy: 0.6257INFO:tensorflow:Assets written to: models\\model_v1\\assets\n"
     ]
    },
    {
     "name": "stderr",
     "output_type": "stream",
     "text": [
      "INFO:tensorflow:Assets written to: models\\model_v1\\assets\n"
     ]
    },
    {
     "name": "stdout",
     "output_type": "stream",
     "text": [
      "9/9 [==============================] - 5s 546ms/step - loss: 1.1918 - accuracy: 0.6257 - val_loss: 1.0339 - val_accuracy: 0.7143\n",
      "Epoch 14/50\n",
      "9/9 [==============================] - ETA: 0s - loss: 1.1442 - accuracy: 0.6276INFO:tensorflow:Assets written to: models\\model_v1\\assets\n"
     ]
    },
    {
     "name": "stderr",
     "output_type": "stream",
     "text": [
      "INFO:tensorflow:Assets written to: models\\model_v1\\assets\n"
     ]
    },
    {
     "name": "stdout",
     "output_type": "stream",
     "text": [
      "9/9 [==============================] - 4s 452ms/step - loss: 1.1442 - accuracy: 0.6276 - val_loss: 1.0041 - val_accuracy: 0.7143\n",
      "Epoch 15/50\n",
      "9/9 [==============================] - ETA: 0s - loss: 1.0741 - accuracy: 0.6535INFO:tensorflow:Assets written to: models\\model_v1\\assets\n"
     ]
    },
    {
     "name": "stderr",
     "output_type": "stream",
     "text": [
      "INFO:tensorflow:Assets written to: models\\model_v1\\assets\n"
     ]
    },
    {
     "name": "stdout",
     "output_type": "stream",
     "text": [
      "9/9 [==============================] - 4s 522ms/step - loss: 1.0741 - accuracy: 0.6535 - val_loss: 0.9773 - val_accuracy: 0.7225\n",
      "Epoch 16/50\n",
      "9/9 [==============================] - 2s 234ms/step - loss: 1.0283 - accuracy: 0.6718 - val_loss: 0.9873 - val_accuracy: 0.7161\n",
      "Epoch 17/50\n",
      "9/9 [==============================] - ETA: 0s - loss: 0.9814 - accuracy: 0.6896INFO:tensorflow:Assets written to: models\\model_v1\\assets\n"
     ]
    },
    {
     "name": "stderr",
     "output_type": "stream",
     "text": [
      "INFO:tensorflow:Assets written to: models\\model_v1\\assets\n"
     ]
    },
    {
     "name": "stdout",
     "output_type": "stream",
     "text": [
      "9/9 [==============================] - 4s 425ms/step - loss: 0.9814 - accuracy: 0.6896 - val_loss: 0.9270 - val_accuracy: 0.7408\n",
      "Epoch 18/50\n",
      "9/9 [==============================] - ETA: 0s - loss: 0.9215 - accuracy: 0.6965INFO:tensorflow:Assets written to: models\\model_v1\\assets\n"
     ]
    },
    {
     "name": "stderr",
     "output_type": "stream",
     "text": [
      "INFO:tensorflow:Assets written to: models\\model_v1\\assets\n"
     ]
    },
    {
     "name": "stdout",
     "output_type": "stream",
     "text": [
      "9/9 [==============================] - 5s 559ms/step - loss: 0.9215 - accuracy: 0.6965 - val_loss: 0.8843 - val_accuracy: 0.7335\n",
      "Epoch 19/50\n",
      "9/9 [==============================] - ETA: 0s - loss: 0.8784 - accuracy: 0.7107INFO:tensorflow:Assets written to: models\\model_v1\\assets\n"
     ]
    },
    {
     "name": "stderr",
     "output_type": "stream",
     "text": [
      "INFO:tensorflow:Assets written to: models\\model_v1\\assets\n"
     ]
    },
    {
     "name": "stdout",
     "output_type": "stream",
     "text": [
      "9/9 [==============================] - 3s 390ms/step - loss: 0.8784 - accuracy: 0.7107 - val_loss: 0.8778 - val_accuracy: 0.7518\n",
      "Epoch 20/50\n",
      "9/9 [==============================] - ETA: 0s - loss: 0.8501 - accuracy: 0.7114INFO:tensorflow:Assets written to: models\\model_v1\\assets\n"
     ]
    },
    {
     "name": "stderr",
     "output_type": "stream",
     "text": [
      "INFO:tensorflow:Assets written to: models\\model_v1\\assets\n"
     ]
    },
    {
     "name": "stdout",
     "output_type": "stream",
     "text": [
      "9/9 [==============================] - 4s 496ms/step - loss: 0.8501 - accuracy: 0.7114 - val_loss: 0.8614 - val_accuracy: 0.7546\n",
      "Epoch 21/50\n",
      "9/9 [==============================] - 2s 280ms/step - loss: 0.8085 - accuracy: 0.7348 - val_loss: 0.8798 - val_accuracy: 0.7527\n",
      "Epoch 22/50\n",
      "9/9 [==============================] - 2s 267ms/step - loss: 0.7819 - accuracy: 0.7387 - val_loss: 0.8777 - val_accuracy: 0.7473\n",
      "Epoch 23/50\n",
      "9/9 [==============================] - ETA: 0s - loss: 0.7555 - accuracy: 0.7451INFO:tensorflow:Assets written to: models\\model_v1\\assets\n"
     ]
    },
    {
     "name": "stderr",
     "output_type": "stream",
     "text": [
      "INFO:tensorflow:Assets written to: models\\model_v1\\assets\n"
     ]
    },
    {
     "name": "stdout",
     "output_type": "stream",
     "text": [
      "9/9 [==============================] - 3s 379ms/step - loss: 0.7555 - accuracy: 0.7451 - val_loss: 0.8246 - val_accuracy: 0.7665\n",
      "Epoch 24/50\n",
      "9/9 [==============================] - 2s 184ms/step - loss: 0.7411 - accuracy: 0.7556 - val_loss: 0.8337 - val_accuracy: 0.7647\n",
      "Epoch 25/50\n",
      "9/9 [==============================] - 2s 220ms/step - loss: 0.6927 - accuracy: 0.7568 - val_loss: 0.8421 - val_accuracy: 0.7582\n",
      "Epoch 26/50\n",
      "9/9 [==============================] - ETA: 0s - loss: 0.6670 - accuracy: 0.7714INFO:tensorflow:Assets written to: models\\model_v1\\assets\n"
     ]
    },
    {
     "name": "stderr",
     "output_type": "stream",
     "text": [
      "INFO:tensorflow:Assets written to: models\\model_v1\\assets\n"
     ]
    },
    {
     "name": "stdout",
     "output_type": "stream",
     "text": [
      "9/9 [==============================] - 5s 618ms/step - loss: 0.6670 - accuracy: 0.7714 - val_loss: 0.8065 - val_accuracy: 0.7756\n",
      "Epoch 27/50\n",
      "9/9 [==============================] - 4s 478ms/step - loss: 0.6449 - accuracy: 0.7751 - val_loss: 0.8076 - val_accuracy: 0.7573\n",
      "Epoch 28/50\n",
      "9/9 [==============================] - ETA: 0s - loss: 0.6386 - accuracy: 0.7833INFO:tensorflow:Assets written to: models\\model_v1\\assets\n"
     ]
    },
    {
     "name": "stderr",
     "output_type": "stream",
     "text": [
      "INFO:tensorflow:Assets written to: models\\model_v1\\assets\n"
     ]
    },
    {
     "name": "stdout",
     "output_type": "stream",
     "text": [
      "9/9 [==============================] - 4s 474ms/step - loss: 0.6386 - accuracy: 0.7833 - val_loss: 0.7877 - val_accuracy: 0.7656\n",
      "Epoch 29/50\n",
      "9/9 [==============================] - ETA: 0s - loss: 0.6076 - accuracy: 0.7783INFO:tensorflow:Assets written to: models\\model_v1\\assets\n"
     ]
    },
    {
     "name": "stderr",
     "output_type": "stream",
     "text": [
      "INFO:tensorflow:Assets written to: models\\model_v1\\assets\n"
     ]
    },
    {
     "name": "stdout",
     "output_type": "stream",
     "text": [
      "9/9 [==============================] - 4s 533ms/step - loss: 0.6076 - accuracy: 0.7783 - val_loss: 0.7803 - val_accuracy: 0.7738\n",
      "Epoch 30/50\n",
      "9/9 [==============================] - 2s 286ms/step - loss: 0.5891 - accuracy: 0.7891 - val_loss: 0.7909 - val_accuracy: 0.7647\n",
      "Epoch 31/50\n",
      "9/9 [==============================] - 3s 336ms/step - loss: 0.5721 - accuracy: 0.8000 - val_loss: 0.7922 - val_accuracy: 0.7747\n",
      "Epoch 32/50\n",
      "9/9 [==============================] - 3s 369ms/step - loss: 0.5472 - accuracy: 0.8122 - val_loss: 0.7942 - val_accuracy: 0.7738\n",
      "Epoch 33/50\n",
      "9/9 [==============================] - 4s 429ms/step - loss: 0.5167 - accuracy: 0.8142 - val_loss: 0.7867 - val_accuracy: 0.7766\n",
      "Epoch 34/50\n",
      "9/9 [==============================] - ETA: 0s - loss: 0.4940 - accuracy: 0.8216INFO:tensorflow:Assets written to: models\\model_v1\\assets\n"
     ]
    },
    {
     "name": "stderr",
     "output_type": "stream",
     "text": [
      "INFO:tensorflow:Assets written to: models\\model_v1\\assets\n"
     ]
    },
    {
     "name": "stdout",
     "output_type": "stream",
     "text": [
      "9/9 [==============================] - 5s 584ms/step - loss: 0.4940 - accuracy: 0.8216 - val_loss: 0.7725 - val_accuracy: 0.7720\n",
      "Epoch 35/50\n",
      "9/9 [==============================] - ETA: 0s - loss: 0.4651 - accuracy: 0.8268INFO:tensorflow:Assets written to: models\\model_v1\\assets\n"
     ]
    },
    {
     "name": "stderr",
     "output_type": "stream",
     "text": [
      "INFO:tensorflow:Assets written to: models\\model_v1\\assets\n"
     ]
    },
    {
     "name": "stdout",
     "output_type": "stream",
     "text": [
      "9/9 [==============================] - 6s 674ms/step - loss: 0.4651 - accuracy: 0.8268 - val_loss: 0.7537 - val_accuracy: 0.7866\n",
      "Epoch 36/50\n",
      "9/9 [==============================] - 4s 487ms/step - loss: 0.4659 - accuracy: 0.8328 - val_loss: 0.7617 - val_accuracy: 0.7784\n",
      "Epoch 37/50\n",
      "9/9 [==============================] - 3s 361ms/step - loss: 0.4437 - accuracy: 0.8321 - val_loss: 0.7623 - val_accuracy: 0.7821\n",
      "Epoch 38/50\n",
      "9/9 [==============================] - 3s 317ms/step - loss: 0.4369 - accuracy: 0.8452 - val_loss: 0.7661 - val_accuracy: 0.7747\n",
      "Epoch 39/50\n",
      "9/9 [==============================] - 3s 365ms/step - loss: 0.4223 - accuracy: 0.8394 - val_loss: 0.7577 - val_accuracy: 0.7793\n",
      "Epoch 40/50\n",
      "9/9 [==============================] - ETA: 0s - loss: 0.4287 - accuracy: 0.8426INFO:tensorflow:Assets written to: models\\model_v1\\assets\n"
     ]
    },
    {
     "name": "stderr",
     "output_type": "stream",
     "text": [
      "INFO:tensorflow:Assets written to: models\\model_v1\\assets\n"
     ]
    },
    {
     "name": "stdout",
     "output_type": "stream",
     "text": [
      "9/9 [==============================] - 6s 657ms/step - loss: 0.4287 - accuracy: 0.8426 - val_loss: 0.7433 - val_accuracy: 0.7885\n",
      "Epoch 41/50\n",
      "9/9 [==============================] - 3s 380ms/step - loss: 0.4033 - accuracy: 0.8511 - val_loss: 0.7479 - val_accuracy: 0.7857\n",
      "Epoch 42/50\n",
      "9/9 [==============================] - ETA: 0s - loss: 0.3893 - accuracy: 0.8516INFO:tensorflow:Assets written to: models\\model_v1\\assets\n"
     ]
    },
    {
     "name": "stderr",
     "output_type": "stream",
     "text": [
      "INFO:tensorflow:Assets written to: models\\model_v1\\assets\n"
     ]
    },
    {
     "name": "stdout",
     "output_type": "stream",
     "text": [
      "9/9 [==============================] - 5s 637ms/step - loss: 0.3893 - accuracy: 0.8516 - val_loss: 0.7405 - val_accuracy: 0.7857\n",
      "Epoch 43/50\n",
      "9/9 [==============================] - 5s 567ms/step - loss: 0.3765 - accuracy: 0.8571 - val_loss: 0.7658 - val_accuracy: 0.7793\n",
      "Epoch 44/50\n",
      "9/9 [==============================] - 3s 343ms/step - loss: 0.3643 - accuracy: 0.8596 - val_loss: 0.7577 - val_accuracy: 0.7912\n",
      "Epoch 45/50\n",
      "9/9 [==============================] - 2s 220ms/step - loss: 0.3551 - accuracy: 0.8628 - val_loss: 0.7482 - val_accuracy: 0.7894\n",
      "Epoch 46/50\n",
      "9/9 [==============================] - 2s 232ms/step - loss: 0.3397 - accuracy: 0.8644 - val_loss: 0.7484 - val_accuracy: 0.7903\n",
      "Epoch 47/50\n",
      "9/9 [==============================] - 2s 235ms/step - loss: 0.3321 - accuracy: 0.8708 - val_loss: 0.7527 - val_accuracy: 0.7912\n",
      "Epoch 48/50\n",
      "9/9 [==============================] - 2s 236ms/step - loss: 0.3325 - accuracy: 0.8749 - val_loss: 0.7512 - val_accuracy: 0.7940\n",
      "Epoch 49/50\n",
      "9/9 [==============================] - 2s 285ms/step - loss: 0.3212 - accuracy: 0.8749 - val_loss: 0.7547 - val_accuracy: 0.7930\n",
      "Epoch 50/50\n",
      "9/9 [==============================] - ETA: 0s - loss: 0.3048 - accuracy: 0.8800INFO:tensorflow:Assets written to: models\\model_v1\\assets\n"
     ]
    },
    {
     "name": "stderr",
     "output_type": "stream",
     "text": [
      "INFO:tensorflow:Assets written to: models\\model_v1\\assets\n"
     ]
    },
    {
     "name": "stdout",
     "output_type": "stream",
     "text": [
      "9/9 [==============================] - 4s 496ms/step - loss: 0.3048 - accuracy: 0.8800 - val_loss: 0.7320 - val_accuracy: 0.7985\n"
     ]
    }
   ],
   "source": [
    "samples_weight = compute_sample_weight(\"balanced\", y_train_standard) # Used to manage inbalanced data.\n",
    "\n",
    "model_cnn_1_standard.compile(optimizer='adam', loss='sparse_categorical_crossentropy', metrics=['accuracy'])\n",
    "\n",
    "# Train the model on 50 epochs.\n",
    "history_v1_standard = model_cnn_1_standard.fit(\n",
    "    x=x_train_standard,\n",
    "    y=y_train_standard,\n",
    "    batch_size=512,\n",
    "    epochs=50,\t\n",
    "    callbacks=[save_callback_1, tensorboard_callback_1],\n",
    "    validation_data=(x_test_standard, y_test_standard),\n",
    "    sample_weight=samples_weight\n",
    ")"
   ]
  },
  {
   "cell_type": "markdown",
   "metadata": {},
   "source": [
    "Let's now renew the operation with each of the previous image types."
   ]
  },
  {
   "cell_type": "code",
   "execution_count": 15,
   "metadata": {},
   "outputs": [
    {
     "name": "stdout",
     "output_type": "stream",
     "text": [
      "Epoch 1/50\n",
      "9/9 [==============================] - 11s 433ms/step - loss: 2.8986 - accuracy: 0.0648 - val_loss: 2.8682 - val_accuracy: 0.1282\n",
      "Epoch 2/50\n",
      "9/9 [==============================] - 2s 254ms/step - loss: 2.8645 - accuracy: 0.1088 - val_loss: 2.8129 - val_accuracy: 0.1511\n",
      "Epoch 3/50\n",
      "9/9 [==============================] - 3s 360ms/step - loss: 2.8119 - accuracy: 0.1230 - val_loss: 2.7258 - val_accuracy: 0.1886\n",
      "Epoch 4/50\n",
      "9/9 [==============================] - 3s 322ms/step - loss: 2.7343 - accuracy: 0.1475 - val_loss: 2.6300 - val_accuracy: 0.2060\n",
      "Epoch 5/50\n",
      "9/9 [==============================] - 5s 552ms/step - loss: 2.6416 - accuracy: 0.1606 - val_loss: 2.5157 - val_accuracy: 0.2802\n",
      "Epoch 6/50\n",
      "9/9 [==============================] - 2s 208ms/step - loss: 2.5414 - accuracy: 0.2055 - val_loss: 2.4311 - val_accuracy: 0.3159\n",
      "Epoch 7/50\n",
      "9/9 [==============================] - 2s 210ms/step - loss: 2.4658 - accuracy: 0.2364 - val_loss: 2.3143 - val_accuracy: 0.3342\n",
      "Epoch 8/50\n",
      "9/9 [==============================] - 2s 207ms/step - loss: 2.3775 - accuracy: 0.2627 - val_loss: 2.2568 - val_accuracy: 0.3654\n",
      "Epoch 9/50\n",
      "9/9 [==============================] - 2s 228ms/step - loss: 2.3273 - accuracy: 0.2746 - val_loss: 2.1480 - val_accuracy: 0.4130\n",
      "Epoch 10/50\n",
      "9/9 [==============================] - 2s 209ms/step - loss: 2.2140 - accuracy: 0.3058 - val_loss: 2.0582 - val_accuracy: 0.4093\n",
      "Epoch 11/50\n",
      "9/9 [==============================] - 2s 215ms/step - loss: 2.1609 - accuracy: 0.3193 - val_loss: 2.0189 - val_accuracy: 0.4359\n",
      "Epoch 12/50\n",
      "9/9 [==============================] - 2s 259ms/step - loss: 2.0946 - accuracy: 0.3511 - val_loss: 1.9372 - val_accuracy: 0.4469\n",
      "Epoch 13/50\n",
      "9/9 [==============================] - 2s 213ms/step - loss: 2.0364 - accuracy: 0.3548 - val_loss: 1.9085 - val_accuracy: 0.4707\n",
      "Epoch 14/50\n",
      "9/9 [==============================] - 2s 211ms/step - loss: 1.9632 - accuracy: 0.3724 - val_loss: 1.8638 - val_accuracy: 0.4734\n",
      "Epoch 15/50\n",
      "9/9 [==============================] - 2s 211ms/step - loss: 1.9320 - accuracy: 0.3878 - val_loss: 1.8397 - val_accuracy: 0.4881\n",
      "Epoch 16/50\n",
      "9/9 [==============================] - 2s 218ms/step - loss: 1.8820 - accuracy: 0.4015 - val_loss: 1.7972 - val_accuracy: 0.4881\n",
      "Epoch 17/50\n",
      "9/9 [==============================] - 2s 232ms/step - loss: 1.8368 - accuracy: 0.4079 - val_loss: 1.7463 - val_accuracy: 0.4945\n",
      "Epoch 18/50\n",
      "9/9 [==============================] - 2s 221ms/step - loss: 1.7997 - accuracy: 0.4201 - val_loss: 1.7692 - val_accuracy: 0.4799\n",
      "Epoch 19/50\n",
      "9/9 [==============================] - 2s 228ms/step - loss: 1.7691 - accuracy: 0.4267 - val_loss: 1.7302 - val_accuracy: 0.5037\n",
      "Epoch 20/50\n",
      "9/9 [==============================] - 2s 221ms/step - loss: 1.7335 - accuracy: 0.4359 - val_loss: 1.6635 - val_accuracy: 0.5137\n",
      "Epoch 21/50\n",
      "9/9 [==============================] - 2s 207ms/step - loss: 1.6931 - accuracy: 0.4352 - val_loss: 1.6693 - val_accuracy: 0.5293\n",
      "Epoch 22/50\n",
      "9/9 [==============================] - 4s 527ms/step - loss: 1.6312 - accuracy: 0.4721 - val_loss: 1.6099 - val_accuracy: 0.5293\n",
      "Epoch 23/50\n",
      "9/9 [==============================] - 2s 268ms/step - loss: 1.6018 - accuracy: 0.4746 - val_loss: 1.6413 - val_accuracy: 0.5220\n",
      "Epoch 24/50\n",
      "9/9 [==============================] - 4s 514ms/step - loss: 1.6035 - accuracy: 0.4675 - val_loss: 1.5901 - val_accuracy: 0.5321\n",
      "Epoch 25/50\n",
      "9/9 [==============================] - 2s 209ms/step - loss: 1.5328 - accuracy: 0.4929 - val_loss: 1.5940 - val_accuracy: 0.5449\n",
      "Epoch 26/50\n",
      "9/9 [==============================] - 2s 236ms/step - loss: 1.4981 - accuracy: 0.4998 - val_loss: 1.5548 - val_accuracy: 0.5440\n",
      "Epoch 27/50\n",
      "9/9 [==============================] - 2s 208ms/step - loss: 1.4540 - accuracy: 0.5165 - val_loss: 1.5442 - val_accuracy: 0.5568\n",
      "Epoch 28/50\n",
      "9/9 [==============================] - 2s 218ms/step - loss: 1.4264 - accuracy: 0.5190 - val_loss: 1.5595 - val_accuracy: 0.5430\n",
      "Epoch 29/50\n",
      "9/9 [==============================] - 2s 228ms/step - loss: 1.4215 - accuracy: 0.5181 - val_loss: 1.5073 - val_accuracy: 0.5604\n",
      "Epoch 30/50\n",
      "9/9 [==============================] - 2s 218ms/step - loss: 1.3561 - accuracy: 0.5444 - val_loss: 1.4921 - val_accuracy: 0.5714\n",
      "Epoch 31/50\n",
      "9/9 [==============================] - 3s 348ms/step - loss: 1.3473 - accuracy: 0.5408 - val_loss: 1.5032 - val_accuracy: 0.5549\n",
      "Epoch 32/50\n",
      "9/9 [==============================] - 2s 204ms/step - loss: 1.3317 - accuracy: 0.5394 - val_loss: 1.4667 - val_accuracy: 0.5595\n",
      "Epoch 33/50\n",
      "9/9 [==============================] - 3s 327ms/step - loss: 1.2708 - accuracy: 0.5573 - val_loss: 1.4814 - val_accuracy: 0.5723\n",
      "Epoch 34/50\n",
      "9/9 [==============================] - 2s 216ms/step - loss: 1.2511 - accuracy: 0.5735 - val_loss: 1.4420 - val_accuracy: 0.5714\n",
      "Epoch 35/50\n",
      "9/9 [==============================] - 3s 307ms/step - loss: 1.2168 - accuracy: 0.5806 - val_loss: 1.4604 - val_accuracy: 0.5659\n",
      "Epoch 36/50\n",
      "9/9 [==============================] - 2s 214ms/step - loss: 1.1967 - accuracy: 0.5834 - val_loss: 1.4220 - val_accuracy: 0.5778\n",
      "Epoch 37/50\n",
      "9/9 [==============================] - 3s 311ms/step - loss: 1.1668 - accuracy: 0.5960 - val_loss: 1.4377 - val_accuracy: 0.5751\n",
      "Epoch 38/50\n",
      "9/9 [==============================] - 2s 217ms/step - loss: 1.1304 - accuracy: 0.6040 - val_loss: 1.3963 - val_accuracy: 0.5842\n",
      "Epoch 39/50\n",
      "9/9 [==============================] - 2s 223ms/step - loss: 1.1005 - accuracy: 0.5994 - val_loss: 1.3902 - val_accuracy: 0.5907\n",
      "Epoch 40/50\n",
      "9/9 [==============================] - 2s 208ms/step - loss: 1.0780 - accuracy: 0.6131 - val_loss: 1.3958 - val_accuracy: 0.5833\n",
      "Epoch 41/50\n",
      "9/9 [==============================] - 2s 210ms/step - loss: 1.0637 - accuracy: 0.6276 - val_loss: 1.3741 - val_accuracy: 0.6016\n",
      "Epoch 42/50\n",
      "9/9 [==============================] - 2s 226ms/step - loss: 1.0448 - accuracy: 0.6182 - val_loss: 1.3859 - val_accuracy: 0.5907\n",
      "Epoch 43/50\n",
      "9/9 [==============================] - 2s 217ms/step - loss: 1.0089 - accuracy: 0.6283 - val_loss: 1.3499 - val_accuracy: 0.5998\n",
      "Epoch 44/50\n",
      "9/9 [==============================] - 2s 229ms/step - loss: 0.9973 - accuracy: 0.6461 - val_loss: 1.3625 - val_accuracy: 0.5998\n",
      "Epoch 45/50\n",
      "9/9 [==============================] - 2s 241ms/step - loss: 0.9711 - accuracy: 0.6443 - val_loss: 1.3652 - val_accuracy: 0.5971\n",
      "Epoch 46/50\n",
      "9/9 [==============================] - 2s 228ms/step - loss: 0.9427 - accuracy: 0.6496 - val_loss: 1.3438 - val_accuracy: 0.6062\n",
      "Epoch 47/50\n",
      "9/9 [==============================] - 2s 246ms/step - loss: 0.9325 - accuracy: 0.6537 - val_loss: 1.3714 - val_accuracy: 0.6062\n",
      "Epoch 48/50\n",
      "9/9 [==============================] - 2s 240ms/step - loss: 0.9109 - accuracy: 0.6699 - val_loss: 1.3264 - val_accuracy: 0.6154\n",
      "Epoch 49/50\n",
      "9/9 [==============================] - 2s 212ms/step - loss: 0.8972 - accuracy: 0.6718 - val_loss: 1.3572 - val_accuracy: 0.6044\n",
      "Epoch 50/50\n",
      "9/9 [==============================] - 2s 196ms/step - loss: 0.8807 - accuracy: 0.6848 - val_loss: 1.3456 - val_accuracy: 0.6190\n"
     ]
    }
   ],
   "source": [
    "# Gray scale.\n",
    "model_cnn_1_gray = get_model_cnn_v1(input_shape=(64, 64, 1))\n",
    "tensorboard_callback_1 = keras.callbacks.TensorBoard(log_dir=\"logs/cnn_v1_gray\", histogram_freq=1)\n",
    "samples_weight = compute_sample_weight(\"balanced\", y_train_gray)\n",
    "model_cnn_1_gray.compile(optimizer='adam', loss='sparse_categorical_crossentropy', metrics=['accuracy'])\n",
    "history_v1_gray = model_cnn_1_gray.fit(\n",
    "    x=x_train_gray,\n",
    "    y=y_train_gray,\n",
    "    batch_size=512,\n",
    "    epochs=50,\t\n",
    "    callbacks=[save_callback_1, tensorboard_callback_1],\n",
    "    validation_data=(x_test_gray, y_test_gray),\n",
    "    sample_weight=samples_weight\n",
    ")"
   ]
  },
  {
   "cell_type": "code",
   "execution_count": 16,
   "metadata": {},
   "outputs": [
    {
     "name": "stdout",
     "output_type": "stream",
     "text": [
      "Epoch 1/50\n",
      "9/9 [==============================] - 46s 5s/step - loss: 2.8902 - accuracy: 0.0598 - val_loss: 2.8880 - val_accuracy: 0.1071\n",
      "Epoch 2/50\n",
      "9/9 [==============================] - 3s 307ms/step - loss: 2.8877 - accuracy: 0.0731 - val_loss: 2.8810 - val_accuracy: 0.1090\n",
      "Epoch 3/50\n",
      "9/9 [==============================] - 3s 368ms/step - loss: 2.8833 - accuracy: 0.0873 - val_loss: 2.8698 - val_accuracy: 0.1145\n",
      "Epoch 4/50\n",
      "9/9 [==============================] - 3s 325ms/step - loss: 2.8720 - accuracy: 0.1102 - val_loss: 2.8540 - val_accuracy: 0.1529\n",
      "Epoch 5/50\n",
      "9/9 [==============================] - 2s 254ms/step - loss: 2.8494 - accuracy: 0.1296 - val_loss: 2.7978 - val_accuracy: 0.1703\n",
      "Epoch 6/50\n",
      "9/9 [==============================] - 3s 368ms/step - loss: 2.8050 - accuracy: 0.1464 - val_loss: 2.7363 - val_accuracy: 0.1923\n",
      "Epoch 7/50\n",
      "9/9 [==============================] - 5s 554ms/step - loss: 2.7468 - accuracy: 0.1624 - val_loss: 2.6555 - val_accuracy: 0.2033\n",
      "Epoch 8/50\n",
      "9/9 [==============================] - 4s 443ms/step - loss: 2.6724 - accuracy: 0.1883 - val_loss: 2.5091 - val_accuracy: 0.2353\n",
      "Epoch 9/50\n",
      "9/9 [==============================] - 3s 379ms/step - loss: 2.6096 - accuracy: 0.1942 - val_loss: 2.4229 - val_accuracy: 0.2601\n",
      "Epoch 10/50\n",
      "9/9 [==============================] - 3s 319ms/step - loss: 2.5395 - accuracy: 0.2114 - val_loss: 2.3578 - val_accuracy: 0.2692\n",
      "Epoch 11/50\n",
      "9/9 [==============================] - 3s 394ms/step - loss: 2.4874 - accuracy: 0.2167 - val_loss: 2.2951 - val_accuracy: 0.3150\n",
      "Epoch 12/50\n",
      "9/9 [==============================] - 2s 291ms/step - loss: 2.4535 - accuracy: 0.2309 - val_loss: 2.2519 - val_accuracy: 0.3306\n",
      "Epoch 13/50\n",
      "9/9 [==============================] - 2s 232ms/step - loss: 2.4187 - accuracy: 0.2332 - val_loss: 2.1962 - val_accuracy: 0.3214\n",
      "Epoch 14/50\n",
      "9/9 [==============================] - 2s 231ms/step - loss: 2.3730 - accuracy: 0.2384 - val_loss: 2.1650 - val_accuracy: 0.3608\n",
      "Epoch 15/50\n",
      "9/9 [==============================] - 3s 375ms/step - loss: 2.3397 - accuracy: 0.2558 - val_loss: 2.1307 - val_accuracy: 0.3645\n",
      "Epoch 16/50\n",
      "9/9 [==============================] - 3s 320ms/step - loss: 2.3061 - accuracy: 0.2652 - val_loss: 2.0974 - val_accuracy: 0.3892\n",
      "Epoch 17/50\n",
      "9/9 [==============================] - 3s 302ms/step - loss: 2.2773 - accuracy: 0.2794 - val_loss: 2.0784 - val_accuracy: 0.3984\n",
      "Epoch 18/50\n",
      "9/9 [==============================] - 2s 211ms/step - loss: 2.2539 - accuracy: 0.2893 - val_loss: 2.0202 - val_accuracy: 0.4029\n",
      "Epoch 19/50\n",
      "9/9 [==============================] - 3s 309ms/step - loss: 2.2363 - accuracy: 0.2920 - val_loss: 1.9942 - val_accuracy: 0.4112\n",
      "Epoch 20/50\n",
      "9/9 [==============================] - 3s 383ms/step - loss: 2.2089 - accuracy: 0.3007 - val_loss: 2.0372 - val_accuracy: 0.3974\n",
      "Epoch 21/50\n",
      "9/9 [==============================] - 3s 339ms/step - loss: 2.1851 - accuracy: 0.2998 - val_loss: 1.9636 - val_accuracy: 0.4441\n",
      "Epoch 22/50\n",
      "9/9 [==============================] - 2s 258ms/step - loss: 2.1752 - accuracy: 0.3133 - val_loss: 1.9476 - val_accuracy: 0.4158\n",
      "Epoch 23/50\n",
      "9/9 [==============================] - 3s 389ms/step - loss: 2.1524 - accuracy: 0.3239 - val_loss: 1.9512 - val_accuracy: 0.4368\n",
      "Epoch 24/50\n",
      "9/9 [==============================] - 3s 355ms/step - loss: 2.1339 - accuracy: 0.3236 - val_loss: 1.9155 - val_accuracy: 0.4304\n",
      "Epoch 25/50\n",
      "9/9 [==============================] - 3s 382ms/step - loss: 2.1490 - accuracy: 0.3170 - val_loss: 1.9070 - val_accuracy: 0.4496\n",
      "Epoch 26/50\n",
      "9/9 [==============================] - 3s 416ms/step - loss: 2.1085 - accuracy: 0.3415 - val_loss: 1.9016 - val_accuracy: 0.4423\n",
      "Epoch 27/50\n",
      "9/9 [==============================] - 3s 390ms/step - loss: 2.0963 - accuracy: 0.3404 - val_loss: 1.8687 - val_accuracy: 0.4588\n",
      "Epoch 28/50\n",
      "9/9 [==============================] - 2s 195ms/step - loss: 2.0803 - accuracy: 0.3443 - val_loss: 1.8585 - val_accuracy: 0.4661\n",
      "Epoch 29/50\n",
      "9/9 [==============================] - 3s 398ms/step - loss: 2.0657 - accuracy: 0.3468 - val_loss: 1.8834 - val_accuracy: 0.4478\n",
      "Epoch 30/50\n",
      "9/9 [==============================] - 2s 204ms/step - loss: 2.0722 - accuracy: 0.3452 - val_loss: 1.8494 - val_accuracy: 0.4588\n",
      "Epoch 31/50\n",
      "9/9 [==============================] - 2s 290ms/step - loss: 2.0478 - accuracy: 0.3461 - val_loss: 1.8491 - val_accuracy: 0.4615\n",
      "Epoch 32/50\n",
      "9/9 [==============================] - 2s 217ms/step - loss: 2.0272 - accuracy: 0.3578 - val_loss: 1.8172 - val_accuracy: 0.4670\n",
      "Epoch 33/50\n",
      "9/9 [==============================] - 2s 267ms/step - loss: 2.0144 - accuracy: 0.3578 - val_loss: 1.8092 - val_accuracy: 0.4661\n",
      "Epoch 34/50\n",
      "9/9 [==============================] - 2s 232ms/step - loss: 1.9942 - accuracy: 0.3646 - val_loss: 1.8024 - val_accuracy: 0.4716\n",
      "Epoch 35/50\n",
      "9/9 [==============================] - 3s 304ms/step - loss: 2.0026 - accuracy: 0.3662 - val_loss: 1.7944 - val_accuracy: 0.4698\n",
      "Epoch 36/50\n",
      "9/9 [==============================] - 2s 252ms/step - loss: 1.9903 - accuracy: 0.3775 - val_loss: 1.8241 - val_accuracy: 0.4689\n",
      "Epoch 37/50\n",
      "9/9 [==============================] - 2s 278ms/step - loss: 1.9817 - accuracy: 0.3724 - val_loss: 1.7836 - val_accuracy: 0.4808\n",
      "Epoch 38/50\n",
      "9/9 [==============================] - 2s 254ms/step - loss: 1.9640 - accuracy: 0.3859 - val_loss: 1.7775 - val_accuracy: 0.4835\n",
      "Epoch 39/50\n",
      "9/9 [==============================] - 2s 239ms/step - loss: 1.9758 - accuracy: 0.3827 - val_loss: 1.7827 - val_accuracy: 0.4826\n",
      "Epoch 40/50\n",
      "9/9 [==============================] - 2s 258ms/step - loss: 1.9440 - accuracy: 0.3809 - val_loss: 1.7473 - val_accuracy: 0.4908\n",
      "Epoch 41/50\n",
      "9/9 [==============================] - 2s 197ms/step - loss: 1.9240 - accuracy: 0.3960 - val_loss: 1.7356 - val_accuracy: 0.4853\n",
      "Epoch 42/50\n",
      "9/9 [==============================] - 2s 273ms/step - loss: 1.9398 - accuracy: 0.3935 - val_loss: 1.7404 - val_accuracy: 0.4863\n",
      "Epoch 43/50\n",
      "9/9 [==============================] - 3s 395ms/step - loss: 1.9164 - accuracy: 0.4047 - val_loss: 1.7244 - val_accuracy: 0.4927\n",
      "Epoch 44/50\n",
      "9/9 [==============================] - 3s 392ms/step - loss: 1.9117 - accuracy: 0.3978 - val_loss: 1.7358 - val_accuracy: 0.4963\n",
      "Epoch 45/50\n",
      "9/9 [==============================] - 2s 201ms/step - loss: 1.8986 - accuracy: 0.3921 - val_loss: 1.7442 - val_accuracy: 0.4908\n",
      "Epoch 46/50\n",
      "9/9 [==============================] - 3s 365ms/step - loss: 1.9078 - accuracy: 0.4031 - val_loss: 1.7352 - val_accuracy: 0.4771\n",
      "Epoch 47/50\n",
      "9/9 [==============================] - 3s 376ms/step - loss: 1.9096 - accuracy: 0.4068 - val_loss: 1.7056 - val_accuracy: 0.4973\n",
      "Epoch 48/50\n",
      "9/9 [==============================] - 3s 366ms/step - loss: 1.8786 - accuracy: 0.4075 - val_loss: 1.7051 - val_accuracy: 0.4973\n",
      "Epoch 49/50\n",
      "9/9 [==============================] - 3s 365ms/step - loss: 1.8672 - accuracy: 0.3967 - val_loss: 1.6853 - val_accuracy: 0.5027\n",
      "Epoch 50/50\n",
      "9/9 [==============================] - 2s 208ms/step - loss: 1.8534 - accuracy: 0.4075 - val_loss: 1.6944 - val_accuracy: 0.5027\n"
     ]
    }
   ],
   "source": [
    "# Exposure.\n",
    "model_cnn_1_exposure = get_model_cnn_v1(input_shape=(64, 64, 3))\n",
    "tensorboard_callback_1 = keras.callbacks.TensorBoard(log_dir=\"logs/cnn_v1_exposure\", histogram_freq=1)\n",
    "samples_weight = compute_sample_weight(\"balanced\", y_train_exposure)\n",
    "model_cnn_1_exposure.compile(optimizer='adam', loss='sparse_categorical_crossentropy', metrics=['accuracy'])\n",
    "history_v1_exposure = model_cnn_1_exposure.fit(\n",
    "    x=x_train_exposure,\n",
    "    y=y_train_exposure,\n",
    "    batch_size=512,\n",
    "    epochs=50,\t\n",
    "    callbacks=[save_callback_1, tensorboard_callback_1],\n",
    "    validation_data=(x_test_exposure, y_test_exposure),\n",
    "    sample_weight=samples_weight\n",
    ")"
   ]
  },
  {
   "cell_type": "code",
   "execution_count": 17,
   "metadata": {},
   "outputs": [
    {
     "name": "stdout",
     "output_type": "stream",
     "text": [
      "Epoch 1/50\n",
      "9/9 [==============================] - 8s 508ms/step - loss: 2.8907 - accuracy: 0.0449 - val_loss: 2.8901 - val_accuracy: 0.0897\n",
      "Epoch 2/50\n",
      "9/9 [==============================] - 4s 427ms/step - loss: 2.8904 - accuracy: 0.0735 - val_loss: 2.8882 - val_accuracy: 0.0897\n",
      "Epoch 3/50\n",
      "9/9 [==============================] - 2s 198ms/step - loss: 2.8901 - accuracy: 0.0802 - val_loss: 2.8876 - val_accuracy: 0.0897\n",
      "Epoch 4/50\n",
      "9/9 [==============================] - 4s 424ms/step - loss: 2.8897 - accuracy: 0.0728 - val_loss: 2.8885 - val_accuracy: 0.0897\n",
      "Epoch 5/50\n",
      "9/9 [==============================] - 3s 383ms/step - loss: 2.8901 - accuracy: 0.0607 - val_loss: 2.8875 - val_accuracy: 0.0897\n",
      "Epoch 6/50\n",
      "9/9 [==============================] - 3s 383ms/step - loss: 2.8889 - accuracy: 0.0760 - val_loss: 2.8837 - val_accuracy: 0.0714\n",
      "Epoch 7/50\n",
      "9/9 [==============================] - 2s 254ms/step - loss: 2.8871 - accuracy: 0.0632 - val_loss: 2.8831 - val_accuracy: 0.0311\n",
      "Epoch 8/50\n",
      "9/9 [==============================] - 4s 432ms/step - loss: 2.8848 - accuracy: 0.0664 - val_loss: 2.8752 - val_accuracy: 0.0742\n",
      "Epoch 9/50\n",
      "9/9 [==============================] - 2s 218ms/step - loss: 2.8784 - accuracy: 0.0863 - val_loss: 2.8607 - val_accuracy: 0.0806\n",
      "Epoch 10/50\n",
      "9/9 [==============================] - 3s 394ms/step - loss: 2.8694 - accuracy: 0.0772 - val_loss: 2.8475 - val_accuracy: 0.0714\n",
      "Epoch 11/50\n",
      "9/9 [==============================] - 3s 377ms/step - loss: 2.8541 - accuracy: 0.0806 - val_loss: 2.8197 - val_accuracy: 0.1291\n",
      "Epoch 12/50\n",
      "9/9 [==============================] - 2s 224ms/step - loss: 2.8294 - accuracy: 0.1042 - val_loss: 2.8007 - val_accuracy: 0.1319\n",
      "Epoch 13/50\n",
      "9/9 [==============================] - 2s 185ms/step - loss: 2.7983 - accuracy: 0.0996 - val_loss: 2.8117 - val_accuracy: 0.0769\n",
      "Epoch 14/50\n",
      "9/9 [==============================] - 2s 238ms/step - loss: 2.7658 - accuracy: 0.1102 - val_loss: 2.7159 - val_accuracy: 0.1474\n",
      "Epoch 15/50\n",
      "9/9 [==============================] - 2s 197ms/step - loss: 2.7265 - accuracy: 0.1122 - val_loss: 2.6662 - val_accuracy: 0.1493\n",
      "Epoch 16/50\n",
      "9/9 [==============================] - 2s 223ms/step - loss: 2.6750 - accuracy: 0.1138 - val_loss: 2.6655 - val_accuracy: 0.1291\n",
      "Epoch 17/50\n",
      "9/9 [==============================] - 3s 401ms/step - loss: 2.6518 - accuracy: 0.1141 - val_loss: 2.6075 - val_accuracy: 0.1493\n",
      "Epoch 18/50\n",
      "9/9 [==============================] - 2s 183ms/step - loss: 2.6179 - accuracy: 0.1342 - val_loss: 2.5539 - val_accuracy: 0.1832\n",
      "Epoch 19/50\n",
      "9/9 [==============================] - 2s 185ms/step - loss: 2.5745 - accuracy: 0.1473 - val_loss: 2.4875 - val_accuracy: 0.1859\n",
      "Epoch 20/50\n",
      "9/9 [==============================] - 2s 270ms/step - loss: 2.5495 - accuracy: 0.1557 - val_loss: 2.4514 - val_accuracy: 0.2225\n",
      "Epoch 21/50\n",
      "9/9 [==============================] - 2s 210ms/step - loss: 2.5128 - accuracy: 0.1635 - val_loss: 2.4354 - val_accuracy: 0.2390\n",
      "Epoch 22/50\n",
      "9/9 [==============================] - 3s 355ms/step - loss: 2.4990 - accuracy: 0.1704 - val_loss: 2.3779 - val_accuracy: 0.2610\n",
      "Epoch 23/50\n",
      "9/9 [==============================] - 3s 338ms/step - loss: 2.4719 - accuracy: 0.1748 - val_loss: 2.3806 - val_accuracy: 0.2537\n",
      "Epoch 24/50\n",
      "9/9 [==============================] - 2s 194ms/step - loss: 2.4519 - accuracy: 0.1830 - val_loss: 2.3400 - val_accuracy: 0.2582\n",
      "Epoch 25/50\n",
      "9/9 [==============================] - 2s 235ms/step - loss: 2.4389 - accuracy: 0.1844 - val_loss: 2.3225 - val_accuracy: 0.2674\n",
      "Epoch 26/50\n",
      "9/9 [==============================] - 2s 289ms/step - loss: 2.4128 - accuracy: 0.1979 - val_loss: 2.3198 - val_accuracy: 0.2647\n",
      "Epoch 27/50\n",
      "9/9 [==============================] - 3s 323ms/step - loss: 2.4119 - accuracy: 0.1883 - val_loss: 2.2885 - val_accuracy: 0.2766\n",
      "Epoch 28/50\n",
      "9/9 [==============================] - 2s 189ms/step - loss: 2.4022 - accuracy: 0.1967 - val_loss: 2.2720 - val_accuracy: 0.2775\n",
      "Epoch 29/50\n",
      "9/9 [==============================] - 3s 317ms/step - loss: 2.3952 - accuracy: 0.2089 - val_loss: 2.2800 - val_accuracy: 0.2784\n",
      "Epoch 30/50\n",
      "9/9 [==============================] - 3s 319ms/step - loss: 2.3868 - accuracy: 0.2158 - val_loss: 2.2471 - val_accuracy: 0.2857\n",
      "Epoch 31/50\n",
      "9/9 [==============================] - 2s 221ms/step - loss: 2.3741 - accuracy: 0.2240 - val_loss: 2.2411 - val_accuracy: 0.2940\n",
      "Epoch 32/50\n",
      "9/9 [==============================] - 2s 193ms/step - loss: 2.3715 - accuracy: 0.2249 - val_loss: 2.2264 - val_accuracy: 0.2821\n",
      "Epoch 33/50\n",
      "9/9 [==============================] - 2s 187ms/step - loss: 2.3514 - accuracy: 0.2233 - val_loss: 2.2485 - val_accuracy: 0.2857\n",
      "Epoch 34/50\n",
      "9/9 [==============================] - 2s 199ms/step - loss: 2.3511 - accuracy: 0.2306 - val_loss: 2.2174 - val_accuracy: 0.2976\n",
      "Epoch 35/50\n",
      "9/9 [==============================] - 2s 216ms/step - loss: 2.3361 - accuracy: 0.2359 - val_loss: 2.2116 - val_accuracy: 0.3049\n",
      "Epoch 36/50\n",
      "9/9 [==============================] - 2s 212ms/step - loss: 2.3237 - accuracy: 0.2400 - val_loss: 2.2030 - val_accuracy: 0.3004\n",
      "Epoch 37/50\n",
      "9/9 [==============================] - 2s 207ms/step - loss: 2.3354 - accuracy: 0.2375 - val_loss: 2.1951 - val_accuracy: 0.2995\n",
      "Epoch 38/50\n",
      "9/9 [==============================] - 3s 297ms/step - loss: 2.3203 - accuracy: 0.2341 - val_loss: 2.2280 - val_accuracy: 0.2894\n",
      "Epoch 39/50\n",
      "9/9 [==============================] - 3s 349ms/step - loss: 2.3180 - accuracy: 0.2444 - val_loss: 2.1868 - val_accuracy: 0.3141\n",
      "Epoch 40/50\n",
      "9/9 [==============================] - 2s 209ms/step - loss: 2.3179 - accuracy: 0.2419 - val_loss: 2.1778 - val_accuracy: 0.3095\n",
      "Epoch 41/50\n",
      "9/9 [==============================] - 2s 274ms/step - loss: 2.2976 - accuracy: 0.2471 - val_loss: 2.1944 - val_accuracy: 0.3013\n",
      "Epoch 42/50\n",
      "9/9 [==============================] - 3s 373ms/step - loss: 2.3108 - accuracy: 0.2389 - val_loss: 2.1713 - val_accuracy: 0.3178\n",
      "Epoch 43/50\n",
      "9/9 [==============================] - 3s 311ms/step - loss: 2.2953 - accuracy: 0.2458 - val_loss: 2.1788 - val_accuracy: 0.3132\n",
      "Epoch 44/50\n",
      "9/9 [==============================] - 2s 186ms/step - loss: 2.2951 - accuracy: 0.2478 - val_loss: 2.1903 - val_accuracy: 0.2967\n",
      "Epoch 45/50\n",
      "9/9 [==============================] - 3s 331ms/step - loss: 2.2924 - accuracy: 0.2435 - val_loss: 2.1545 - val_accuracy: 0.3114\n",
      "Epoch 46/50\n",
      "9/9 [==============================] - 2s 194ms/step - loss: 2.2966 - accuracy: 0.2355 - val_loss: 2.1605 - val_accuracy: 0.2976\n",
      "Epoch 47/50\n",
      "9/9 [==============================] - 2s 193ms/step - loss: 2.2892 - accuracy: 0.2341 - val_loss: 2.1665 - val_accuracy: 0.3059\n",
      "Epoch 48/50\n",
      "9/9 [==============================] - 3s 342ms/step - loss: 2.2697 - accuracy: 0.2499 - val_loss: 2.1432 - val_accuracy: 0.3187\n",
      "Epoch 49/50\n",
      "9/9 [==============================] - 2s 201ms/step - loss: 2.2550 - accuracy: 0.2590 - val_loss: 2.1233 - val_accuracy: 0.3260\n",
      "Epoch 50/50\n",
      "9/9 [==============================] - 2s 255ms/step - loss: 2.2716 - accuracy: 0.2554 - val_loss: 2.1217 - val_accuracy: 0.3242\n"
     ]
    }
   ],
   "source": [
    "# Exposure + gray scale.\n",
    "model_cnn_1_exposure_gray = get_model_cnn_v1(input_shape=(64, 64, 1))\n",
    "tensorboard_callback_1 = keras.callbacks.TensorBoard(log_dir=\"logs/cnn_v1_exposure_gray\", histogram_freq=1)\n",
    "samples_weight = compute_sample_weight(\"balanced\", y_train_exposure_gray)\n",
    "model_cnn_1_exposure_gray.compile(optimizer='adam', loss='sparse_categorical_crossentropy', metrics=['accuracy'])\n",
    "history_v1_exposure_gray = model_cnn_1_exposure_gray.fit(\n",
    "    x=x_train_exposure_gray,\n",
    "    y=y_train_exposure_gray,\n",
    "    batch_size=512,\n",
    "    epochs=50,\t\n",
    "    callbacks=[save_callback_1, tensorboard_callback_1],\n",
    "    validation_data=(x_test_exposure_gray, y_test_exposure_gray),\n",
    "    sample_weight=samples_weight\n",
    ")"
   ]
  },
  {
   "cell_type": "markdown",
   "metadata": {},
   "source": [
    "Let print a simple graph to compare the performance between the accuracy between the 4 types of images. We can also see the accuracy in tensorboard but juste readibility purpose I will print this graphic here."
   ]
  },
  {
   "cell_type": "code",
   "execution_count": 18,
   "metadata": {},
   "outputs": [
    {
     "data": {
      "image/png": "[encoded data removed]",
      "text/plain": [
       "<Figure size 640x480 with 1 Axes>"
      ]
     },
     "metadata": {},
     "output_type": "display_data"
    }
   ],
   "source": [
    "# Plot accuracy for the models with convolutional layers.\n",
    "plt.plot(history_v1_standard.history['accuracy'], label='Train Standard')\n",
    "plt.plot(history_v1_standard.history['val_accuracy'], label='Validation Standard')\n",
    "\n",
    "plt.plot(history_v1_gray.history['accuracy'], label='Train Gray')\n",
    "plt.plot(history_v1_gray.history['val_accuracy'], label='Validation Gray')\n",
    "\n",
    "plt.plot(history_v1_exposure.history['accuracy'], label='Train Exposure')\n",
    "plt.plot(history_v1_exposure.history['val_accuracy'], label='Validation Exposure')\n",
    "\n",
    "plt.plot(history_v1_exposure_gray.history['accuracy'], label='Train Gray + Exposure')\n",
    "plt.plot(history_v1_exposure_gray.history['val_accuracy'], label='Validation Gray + Exposure')\n",
    "\n",
    "plt.title('Training and Validation Accuracy Comparison Between Models')\n",
    "plt.xlabel('Epoch')\n",
    "plt.ylabel('Accuracy')\n",
    "plt.legend()\n",
    "plt.show()"
   ]
  },
  {
   "cell_type": "markdown",
   "metadata": {},
   "source": [
    "We can observe the best performances for the standard images, it seems that using other transformations just reduce the accuracy... The simple's the best like we say. The standard model achieve the best performance but the gray scale model is not too bad as well. I suppose all the models are good but it seems the gray one and the standard one are the best. The exposure + gray scale model is just catastrophic. I We will continue to use all of these 3 models even if I don't think the exposure is relevant... It seems logical to say that the more the pictures are detailed, the easiest the model find the good answer.  \n",
    "I am going to submit the performance of the standard and gray scale model. For that, I must train it on all the train data, so I will group my two lists and then save the content into a CSV file to submit my work on Kaggle."
   ]
  },
  {
   "cell_type": "code",
   "execution_count": 19,
   "metadata": {},
   "outputs": [
    {
     "name": "stdout",
     "output_type": "stream",
     "text": [
      "(5458, 64, 64, 3)\n",
      "(5458,)\n",
      "(5458, 64, 64, 1)\n",
      "(5458,)\n"
     ]
    }
   ],
   "source": [
    "# Add all train dataset.\n",
    "x_train_total_standard = np.concatenate((x_train_standard, x_test_standard), axis=0)\n",
    "y_train_total_standard = np.concatenate((y_train_standard, y_test_standard), axis=0)\n",
    "\n",
    "x_train_total_gray = np.concatenate((x_train_gray, x_test_gray), axis=0)\n",
    "y_train_total_gray = np.concatenate((y_train_gray, y_test_gray), axis=0)\n",
    "\n",
    "print(x_train_total_standard.shape)\n",
    "print(y_train_total_standard.shape)\n",
    "\n",
    "print(x_train_total_gray.shape)\n",
    "print(y_train_total_gray.shape)"
   ]
  },
  {
   "cell_type": "markdown",
   "metadata": {},
   "source": [
    "Now let's train again our models with all data and make them predict results."
   ]
  },
  {
   "cell_type": "code",
   "execution_count": 20,
   "metadata": {},
   "outputs": [
    {
     "name": "stdout",
     "output_type": "stream",
     "text": [
      "Epoch 1/50\n",
      "11/11 [==============================] - 5s 220ms/step - loss: 2.8018 - accuracy: 0.1217\n",
      "Epoch 2/50\n",
      "11/11 [==============================] - 2s 188ms/step - loss: 2.4827 - accuracy: 0.2325\n",
      "Epoch 3/50\n",
      "11/11 [==============================] - 4s 290ms/step - loss: 2.1877 - accuracy: 0.3324\n",
      "Epoch 4/50\n",
      "11/11 [==============================] - 2s 164ms/step - loss: 1.9540 - accuracy: 0.3941\n",
      "Epoch 5/50\n",
      "11/11 [==============================] - 2s 146ms/step - loss: 1.7656 - accuracy: 0.4518\n",
      "Epoch 6/50\n",
      "11/11 [==============================] - 2s 149ms/step - loss: 1.6436 - accuracy: 0.4892\n",
      "Epoch 7/50\n",
      "11/11 [==============================] - 2s 146ms/step - loss: 1.5122 - accuracy: 0.5207\n",
      "Epoch 8/50\n",
      "11/11 [==============================] - 2s 145ms/step - loss: 1.3801 - accuracy: 0.5775\n",
      "Epoch 9/50\n",
      "11/11 [==============================] - 2s 147ms/step - loss: 1.2750 - accuracy: 0.5986\n",
      "Epoch 10/50\n",
      "11/11 [==============================] - 2s 142ms/step - loss: 1.2163 - accuracy: 0.6121\n",
      "Epoch 11/50\n",
      "11/11 [==============================] - 2s 142ms/step - loss: 1.1363 - accuracy: 0.6370\n",
      "Epoch 12/50\n",
      "11/11 [==============================] - 2s 146ms/step - loss: 1.0449 - accuracy: 0.6631\n",
      "Epoch 13/50\n",
      "11/11 [==============================] - 2s 140ms/step - loss: 1.0227 - accuracy: 0.6695\n",
      "Epoch 14/50\n",
      "11/11 [==============================] - 2s 150ms/step - loss: 0.9431 - accuracy: 0.6937\n",
      "Epoch 15/50\n",
      "11/11 [==============================] - 2s 143ms/step - loss: 0.9145 - accuracy: 0.7083\n",
      "Epoch 16/50\n",
      "11/11 [==============================] - 2s 141ms/step - loss: 0.8580 - accuracy: 0.7164\n",
      "Epoch 17/50\n",
      "11/11 [==============================] - 2s 167ms/step - loss: 0.8274 - accuracy: 0.7316\n",
      "Epoch 18/50\n",
      "11/11 [==============================] - 2s 182ms/step - loss: 0.7796 - accuracy: 0.7437\n",
      "Epoch 19/50\n",
      "11/11 [==============================] - 2s 153ms/step - loss: 0.7477 - accuracy: 0.7523\n",
      "Epoch 20/50\n",
      "11/11 [==============================] - 2s 146ms/step - loss: 0.7115 - accuracy: 0.7534\n",
      "Epoch 21/50\n",
      "11/11 [==============================] - 2s 141ms/step - loss: 0.6755 - accuracy: 0.7686\n",
      "Epoch 22/50\n",
      "11/11 [==============================] - 2s 163ms/step - loss: 0.6515 - accuracy: 0.7748\n",
      "Epoch 23/50\n",
      "11/11 [==============================] - 2s 170ms/step - loss: 0.6268 - accuracy: 0.7811\n",
      "Epoch 24/50\n",
      "11/11 [==============================] - 2s 141ms/step - loss: 0.6045 - accuracy: 0.7922\n",
      "Epoch 25/50\n",
      "11/11 [==============================] - 2s 150ms/step - loss: 0.5886 - accuracy: 0.7931\n",
      "Epoch 26/50\n",
      "11/11 [==============================] - 2s 174ms/step - loss: 0.5444 - accuracy: 0.8038\n",
      "Epoch 27/50\n",
      "11/11 [==============================] - 2s 141ms/step - loss: 0.5405 - accuracy: 0.8078\n",
      "Epoch 28/50\n",
      "11/11 [==============================] - 2s 141ms/step - loss: 0.5172 - accuracy: 0.8146\n",
      "Epoch 29/50\n",
      "11/11 [==============================] - 2s 139ms/step - loss: 0.4919 - accuracy: 0.8215\n",
      "Epoch 30/50\n",
      "11/11 [==============================] - 2s 145ms/step - loss: 0.4787 - accuracy: 0.8237\n",
      "Epoch 31/50\n",
      "11/11 [==============================] - 2s 140ms/step - loss: 0.4467 - accuracy: 0.8327\n",
      "Epoch 32/50\n",
      "11/11 [==============================] - 2s 141ms/step - loss: 0.4469 - accuracy: 0.8360\n",
      "Epoch 33/50\n",
      "11/11 [==============================] - 2s 143ms/step - loss: 0.4474 - accuracy: 0.8349\n",
      "Epoch 34/50\n",
      "11/11 [==============================] - 2s 140ms/step - loss: 0.4290 - accuracy: 0.8369\n",
      "Epoch 35/50\n",
      "11/11 [==============================] - 2s 156ms/step - loss: 0.3931 - accuracy: 0.8551\n",
      "Epoch 36/50\n",
      "11/11 [==============================] - 2s 140ms/step - loss: 0.3802 - accuracy: 0.8580\n",
      "Epoch 37/50\n",
      "11/11 [==============================] - 2s 139ms/step - loss: 0.3808 - accuracy: 0.8505\n",
      "Epoch 38/50\n",
      "11/11 [==============================] - 2s 150ms/step - loss: 0.3550 - accuracy: 0.8655\n",
      "Epoch 39/50\n",
      "11/11 [==============================] - 2s 144ms/step - loss: 0.3548 - accuracy: 0.8652\n",
      "Epoch 40/50\n",
      "11/11 [==============================] - 2s 140ms/step - loss: 0.3480 - accuracy: 0.8659\n",
      "Epoch 41/50\n",
      "11/11 [==============================] - 2s 139ms/step - loss: 0.3350 - accuracy: 0.8727\n",
      "Epoch 42/50\n",
      "11/11 [==============================] - 2s 141ms/step - loss: 0.3228 - accuracy: 0.8728\n",
      "Epoch 43/50\n",
      "11/11 [==============================] - 2s 140ms/step - loss: 0.3043 - accuracy: 0.8822\n",
      "Epoch 44/50\n",
      "11/11 [==============================] - 2s 141ms/step - loss: 0.2869 - accuracy: 0.8875\n",
      "Epoch 45/50\n",
      "11/11 [==============================] - 2s 141ms/step - loss: 0.2878 - accuracy: 0.8912\n",
      "Epoch 46/50\n",
      "11/11 [==============================] - 2s 143ms/step - loss: 0.2676 - accuracy: 0.8934\n",
      "Epoch 47/50\n",
      "11/11 [==============================] - 2s 141ms/step - loss: 0.2671 - accuracy: 0.8967\n",
      "Epoch 48/50\n",
      "11/11 [==============================] - 2s 141ms/step - loss: 0.2559 - accuracy: 0.8978\n",
      "Epoch 49/50\n",
      "11/11 [==============================] - 2s 145ms/step - loss: 0.2486 - accuracy: 0.9014\n",
      "Epoch 50/50\n",
      "11/11 [==============================] - 2s 172ms/step - loss: 0.2391 - accuracy: 0.9018\n",
      "Epoch 1/50\n",
      "11/11 [==============================] - 3s 135ms/step - loss: 2.8888 - accuracy: 0.0685\n",
      "Epoch 2/50\n",
      "11/11 [==============================] - 1s 136ms/step - loss: 2.8570 - accuracy: 0.0977\n",
      "Epoch 3/50\n",
      "11/11 [==============================] - 2s 141ms/step - loss: 2.7779 - accuracy: 0.1242\n",
      "Epoch 4/50\n",
      "11/11 [==============================] - 2s 144ms/step - loss: 2.6673 - accuracy: 0.1618\n",
      "Epoch 5/50\n",
      "11/11 [==============================] - 1s 134ms/step - loss: 2.5407 - accuracy: 0.1794\n",
      "Epoch 6/50\n",
      "11/11 [==============================] - 1s 133ms/step - loss: 2.4398 - accuracy: 0.2017\n",
      "Epoch 7/50\n",
      "11/11 [==============================] - 1s 134ms/step - loss: 2.3590 - accuracy: 0.2318\n",
      "Epoch 8/50\n",
      "11/11 [==============================] - 1s 133ms/step - loss: 2.2849 - accuracy: 0.2664\n",
      "Epoch 9/50\n",
      "11/11 [==============================] - 1s 133ms/step - loss: 2.1851 - accuracy: 0.2939\n",
      "Epoch 10/50\n",
      "11/11 [==============================] - 2s 139ms/step - loss: 2.1397 - accuracy: 0.3065\n",
      "Epoch 11/50\n",
      "11/11 [==============================] - 2s 144ms/step - loss: 2.0502 - accuracy: 0.3487\n",
      "Epoch 12/50\n",
      "11/11 [==============================] - 1s 133ms/step - loss: 1.9859 - accuracy: 0.3617\n",
      "Epoch 13/50\n",
      "11/11 [==============================] - 1s 135ms/step - loss: 1.9214 - accuracy: 0.3901\n",
      "Epoch 14/50\n",
      "11/11 [==============================] - 1s 133ms/step - loss: 1.8588 - accuracy: 0.4005\n",
      "Epoch 15/50\n",
      "11/11 [==============================] - 1s 132ms/step - loss: 1.8153 - accuracy: 0.4165\n",
      "Epoch 16/50\n",
      "11/11 [==============================] - 1s 130ms/step - loss: 1.7541 - accuracy: 0.4392\n",
      "Epoch 17/50\n",
      "11/11 [==============================] - 1s 133ms/step - loss: 1.7173 - accuracy: 0.4427\n",
      "Epoch 18/50\n",
      "11/11 [==============================] - 2s 140ms/step - loss: 1.6740 - accuracy: 0.4621\n",
      "Epoch 19/50\n",
      "11/11 [==============================] - 1s 133ms/step - loss: 1.6338 - accuracy: 0.4782\n",
      "Epoch 20/50\n",
      "11/11 [==============================] - 1s 132ms/step - loss: 1.5894 - accuracy: 0.4828\n",
      "Epoch 21/50\n",
      "11/11 [==============================] - 1s 133ms/step - loss: 1.5429 - accuracy: 0.4949\n",
      "Epoch 22/50\n",
      "11/11 [==============================] - 1s 132ms/step - loss: 1.5193 - accuracy: 0.4995\n",
      "Epoch 23/50\n",
      "11/11 [==============================] - 1s 133ms/step - loss: 1.4764 - accuracy: 0.5079\n",
      "Epoch 24/50\n",
      "11/11 [==============================] - 1s 131ms/step - loss: 1.4329 - accuracy: 0.5269\n",
      "Epoch 25/50\n",
      "11/11 [==============================] - 1s 133ms/step - loss: 1.3990 - accuracy: 0.5376\n",
      "Epoch 26/50\n",
      "11/11 [==============================] - 1s 129ms/step - loss: 1.3730 - accuracy: 0.5366\n",
      "Epoch 27/50\n",
      "11/11 [==============================] - 1s 132ms/step - loss: 1.3115 - accuracy: 0.5575\n",
      "Epoch 28/50\n",
      "11/11 [==============================] - 1s 132ms/step - loss: 1.2920 - accuracy: 0.5693\n",
      "Epoch 29/50\n",
      "11/11 [==============================] - 1s 133ms/step - loss: 1.2598 - accuracy: 0.5738\n",
      "Epoch 30/50\n",
      "11/11 [==============================] - 1s 130ms/step - loss: 1.2442 - accuracy: 0.5781\n",
      "Epoch 31/50\n",
      "11/11 [==============================] - 2s 134ms/step - loss: 1.2092 - accuracy: 0.5900\n",
      "Epoch 32/50\n",
      "11/11 [==============================] - 1s 135ms/step - loss: 1.1800 - accuracy: 0.5925\n",
      "Epoch 33/50\n",
      "11/11 [==============================] - 2s 139ms/step - loss: 1.1565 - accuracy: 0.5982\n",
      "Epoch 34/50\n",
      "11/11 [==============================] - 2s 142ms/step - loss: 1.1140 - accuracy: 0.6123\n",
      "Epoch 35/50\n",
      "11/11 [==============================] - 2s 138ms/step - loss: 1.0769 - accuracy: 0.6182\n",
      "Epoch 36/50\n",
      "11/11 [==============================] - 2s 139ms/step - loss: 1.0569 - accuracy: 0.6359\n",
      "Epoch 37/50\n",
      "11/11 [==============================] - 2s 145ms/step - loss: 1.0495 - accuracy: 0.6283\n",
      "Epoch 38/50\n",
      "11/11 [==============================] - 1s 134ms/step - loss: 1.0351 - accuracy: 0.6376\n",
      "Epoch 39/50\n",
      "11/11 [==============================] - 1s 133ms/step - loss: 1.0198 - accuracy: 0.6440\n",
      "Epoch 40/50\n",
      "11/11 [==============================] - 1s 136ms/step - loss: 0.9825 - accuracy: 0.6528\n",
      "Epoch 41/50\n",
      "11/11 [==============================] - 1s 133ms/step - loss: 0.9402 - accuracy: 0.6610\n",
      "Epoch 42/50\n",
      "11/11 [==============================] - 1s 133ms/step - loss: 0.9380 - accuracy: 0.6587\n",
      "Epoch 43/50\n",
      "11/11 [==============================] - 1s 135ms/step - loss: 0.9121 - accuracy: 0.6742\n",
      "Epoch 44/50\n",
      "11/11 [==============================] - 2s 145ms/step - loss: 0.8977 - accuracy: 0.6818\n",
      "Epoch 45/50\n",
      "11/11 [==============================] - 2s 138ms/step - loss: 0.8749 - accuracy: 0.6818\n",
      "Epoch 46/50\n",
      "11/11 [==============================] - 1s 133ms/step - loss: 0.8602 - accuracy: 0.6794\n",
      "Epoch 47/50\n",
      "11/11 [==============================] - 1s 134ms/step - loss: 0.8353 - accuracy: 0.6957\n",
      "Epoch 48/50\n",
      "11/11 [==============================] - 1s 133ms/step - loss: 0.8073 - accuracy: 0.7010\n",
      "Epoch 49/50\n",
      "11/11 [==============================] - 2s 137ms/step - loss: 0.8027 - accuracy: 0.7076\n",
      "Epoch 50/50\n",
      "11/11 [==============================] - 1s 132ms/step - loss: 0.7835 - accuracy: 0.7102\n"
     ]
    }
   ],
   "source": [
    "# Standard.\n",
    "model_cnn_1_standard_total = get_model_cnn_v1(input_shape=(64, 64, 3))\n",
    "samples_weight = compute_sample_weight(\"balanced\", y_train_total_standard)\n",
    "model_cnn_1_standard_total.compile(optimizer='adam', loss='sparse_categorical_crossentropy', metrics=['accuracy'])\n",
    "history_v1_standard = model_cnn_1_standard_total.fit(\n",
    "    x=x_train_total_standard,\n",
    "    y=y_train_total_standard,\n",
    "    batch_size=512,\n",
    "    epochs=50,\n",
    "    sample_weight=samples_weight\n",
    ")\n",
    "\n",
    "# Gray scale.\n",
    "model_cnn_1_gray_total = get_model_cnn_v1(input_shape=(64, 64, 1))\n",
    "samples_weight = compute_sample_weight(\"balanced\", y_train_total_gray)\n",
    "model_cnn_1_gray_total.compile(optimizer='adam', loss='sparse_categorical_crossentropy', metrics=['accuracy'])\n",
    "history_v1_gray = model_cnn_1_gray_total.fit(\n",
    "    x=x_train_total_gray,\n",
    "    y=y_train_total_gray,\n",
    "    batch_size=512,\n",
    "    epochs=50,\n",
    "    sample_weight=samples_weight\n",
    ")"
   ]
  },
  {
   "cell_type": "markdown",
   "metadata": {},
   "source": [
    "Let's save ou results now."
   ]
  },
  {
   "cell_type": "code",
   "execution_count": 21,
   "metadata": {},
   "outputs": [
    {
     "name": "stdout",
     "output_type": "stream",
     "text": [
      "19/19 [==============================] - 13s 9ms/step\n"
     ]
    }
   ],
   "source": [
    "os.makedirs('working/predictions', exist_ok=True)\n",
    "y_prediction_standard = model_cnn_1_standard_total.predict(x_final_standard)\n",
    "y_prediction_standard = np.argmax(y_prediction_standard, axis=1)\n",
    "result = pd.DataFrame({'path': df_test.path, 'classId': y_prediction_standard})\n",
    "result.to_csv('working/predictions/submission_model_1_standard.csv', index=False)"
   ]
  },
  {
   "cell_type": "markdown",
   "metadata": {},
   "source": [
    "Results : an accuracy of 0.80, not too bad I suppose but it can stille be improved. To do that, we are going to do the same process but with another model. We will dropout layers to try to increase the accuracy."
   ]
  },
  {
   "cell_type": "markdown",
   "metadata": {},
   "source": [
    "## Try with another model"
   ]
  },
  {
   "cell_type": "code",
   "execution_count": 22,
   "metadata": {},
   "outputs": [],
   "source": [
    "def get_model_cnn_v2(input_shape=(64, 64, 1)):\n",
    "    \"\"\"\n",
    "    Creates a Sequential model for classifying the simpsons using pooling and dropout layers.\n",
    "\n",
    "    Parameters:\n",
    "    - input_shape (tuple): The shape of input images (default is (64, 64, 1)).\n",
    "    Returns:\n",
    "    - model (Sequential): The compiled Keras Sequential model.\n",
    "    \"\"\"\n",
    "    model = Sequential()\n",
    "\n",
    "    # Convolutional layers with pooling.\n",
    "    model.add(Input(shape=input_shape))\n",
    "    if len(input_shape) == 3:\n",
    "        model.add(Conv2D(8, kernel_size=(3, 3), strides=(1, 1), activation='relu'))\n",
    "        model.add(BatchNormalization())\n",
    "        model.add(MaxPooling2D(pool_size=(2, 2)))\n",
    "        model.add(Dropout(0.2))\n",
    "        model.add(Conv2D(16, kernel_size=(3, 3), strides=(1, 1), activation='relu'))\n",
    "        model.add(BatchNormalization())\n",
    "        model.add(MaxPooling2D(pool_size=(2, 2)))\n",
    "        model.add(Dropout(0.2))\n",
    "\n",
    "    # Flatten layer.\n",
    "    model.add(Flatten())\n",
    "\n",
    "    # Dense layers with Dropout.\n",
    "    model.add(Dense(128, activation='relu'))\n",
    "    model.add(BatchNormalization())\n",
    "    model.add(Dropout(0.5))\n",
    "    model.add(Dense(32, activation='relu'))\n",
    "    model.add(BatchNormalization())\n",
    "    model.add(Dropout(0.5))\n",
    "\n",
    "    # Output layer.\n",
    "    num_classes = 18  # Number of classes (digits 0-9).\n",
    "    model.add(Dense(num_classes, activation='softmax'))\n",
    "\n",
    "    return model"
   ]
  },
  {
   "cell_type": "markdown",
   "metadata": {},
   "source": [
    "Repeat the same process for 3 models (not exposure + gray, because it is very bad)."
   ]
  },
  {
   "cell_type": "code",
   "execution_count": 23,
   "metadata": {},
   "outputs": [],
   "source": [
    "save_callback_2 = keras.callbacks.ModelCheckpoint(filepath=\"models/model_v2\", verbose=0, save_best_only=True)\n",
    "\n",
    "model_cnn_2_standard = get_model_cnn_v2(input_shape=(64, 64, 3)) # Because we use a RGB image we precise the 3 here."
   ]
  },
  {
   "cell_type": "markdown",
   "metadata": {},
   "source": [
    "Let's check that we are < to 1M parameters."
   ]
  },
  {
   "cell_type": "code",
   "execution_count": 24,
   "metadata": {},
   "outputs": [
    {
     "name": "stdout",
     "output_type": "stream",
     "text": [
      "Model: \"sequential\"\n",
      "_________________________________________________________________\n",
      " Layer (type)                Output Shape              Param #   \n",
      "=================================================================\n",
      " conv2d (Conv2D)             (None, 62, 62, 8)         224       \n",
      "                                                                 \n",
      " max_pooling2d (MaxPooling2  (None, 31, 31, 8)         0         \n",
      " D)                                                              \n",
      "                                                                 \n",
      " conv2d_1 (Conv2D)           (None, 29, 29, 16)        1168      \n",
      "                                                                 \n",
      " max_pooling2d_1 (MaxPoolin  (None, 14, 14, 16)        0         \n",
      " g2D)                                                            \n",
      "                                                                 \n",
      " flatten (Flatten)           (None, 3136)              0         \n",
      "                                                                 \n",
      " dense (Dense)               (None, 128)               401536    \n",
      "                                                                 \n",
      " dropout (Dropout)           (None, 128)               0         \n",
      "                                                                 \n",
      " dense_1 (Dense)             (None, 32)                4128      \n",
      "                                                                 \n",
      " dropout_1 (Dropout)         (None, 32)                0         \n",
      "                                                                 \n",
      " dense_2 (Dense)             (None, 18)                594       \n"
     ]
    },
    {
     "name": "stdout",
     "output_type": "stream",
     "text": [
      "                                                                 \n",
      "=================================================================\n",
      "Total params: 407650 (1.56 MB)\n",
      "Trainable params: 407650 (1.56 MB)\n",
      "Non-trainable params: 0 (0.00 Byte)\n",
      "_________________________________________________________________\n"
     ]
    }
   ],
   "source": [
    "model_cnn_1_standard.summary()"
   ]
  },
  {
   "cell_type": "markdown",
   "metadata": {},
   "source": [
    "Let's train our models."
   ]
  },
  {
   "cell_type": "code",
   "execution_count": 25,
   "metadata": {},
   "outputs": [
    {
     "name": "stdout",
     "output_type": "stream",
     "text": [
      "Epoch 1/50\n",
      "9/9 [==============================] - ETA: 0s - loss: 3.3375 - accuracy: 0.1129INFO:tensorflow:Assets written to: models\\model_v2\\assets\n"
     ]
    },
    {
     "name": "stderr",
     "output_type": "stream",
     "text": [
      "INFO:tensorflow:Assets written to: models\\model_v2\\assets\n"
     ]
    },
    {
     "name": "stdout",
     "output_type": "stream",
     "text": [
      "9/9 [==============================] - 44s 5s/step - loss: 3.3375 - accuracy: 0.1129 - val_loss: 2.7675 - val_accuracy: 0.1291\n",
      "Epoch 2/50\n",
      "9/9 [==============================] - ETA: 0s - loss: 2.6325 - accuracy: 0.2304INFO:tensorflow:Assets written to: models\\model_v2\\assets\n"
     ]
    },
    {
     "name": "stderr",
     "output_type": "stream",
     "text": [
      "INFO:tensorflow:Assets written to: models\\model_v2\\assets\n"
     ]
    },
    {
     "name": "stdout",
     "output_type": "stream",
     "text": [
      "9/9 [==============================] - 7s 863ms/step - loss: 2.6325 - accuracy: 0.2304 - val_loss: 2.6904 - val_accuracy: 0.2353\n",
      "Epoch 3/50\n",
      "9/9 [==============================] - ETA: 0s - loss: 2.3178 - accuracy: 0.3007INFO:tensorflow:Assets written to: models\\model_v2\\assets\n"
     ]
    },
    {
     "name": "stderr",
     "output_type": "stream",
     "text": [
      "INFO:tensorflow:Assets written to: models\\model_v2\\assets\n"
     ]
    },
    {
     "name": "stdout",
     "output_type": "stream",
     "text": [
      "9/9 [==============================] - 7s 832ms/step - loss: 2.3178 - accuracy: 0.3007 - val_loss: 2.6353 - val_accuracy: 0.2811\n",
      "Epoch 4/50\n",
      "9/9 [==============================] - ETA: 0s - loss: 2.1328 - accuracy: 0.3447INFO:tensorflow:Assets written to: models\\model_v2\\assets\n"
     ]
    },
    {
     "name": "stderr",
     "output_type": "stream",
     "text": [
      "INFO:tensorflow:Assets written to: models\\model_v2\\assets\n"
     ]
    },
    {
     "name": "stdout",
     "output_type": "stream",
     "text": [
      "9/9 [==============================] - 9s 1s/step - loss: 2.1328 - accuracy: 0.3447 - val_loss: 2.6245 - val_accuracy: 0.2454\n",
      "Epoch 5/50\n",
      "9/9 [==============================] - ETA: 0s - loss: 2.0073 - accuracy: 0.3798INFO:tensorflow:Assets written to: models\\model_v2\\assets\n"
     ]
    },
    {
     "name": "stderr",
     "output_type": "stream",
     "text": [
      "INFO:tensorflow:Assets written to: models\\model_v2\\assets\n"
     ]
    },
    {
     "name": "stdout",
     "output_type": "stream",
     "text": [
      "9/9 [==============================] - 7s 890ms/step - loss: 2.0073 - accuracy: 0.3798 - val_loss: 2.6221 - val_accuracy: 0.2271\n",
      "Epoch 6/50\n",
      "9/9 [==============================] - 4s 445ms/step - loss: 1.8769 - accuracy: 0.4123 - val_loss: 2.6555 - val_accuracy: 0.1868\n",
      "Epoch 7/50\n",
      "9/9 [==============================] - 4s 496ms/step - loss: 1.8232 - accuracy: 0.4336 - val_loss: 2.6679 - val_accuracy: 0.1832\n",
      "Epoch 8/50\n",
      "9/9 [==============================] - 4s 442ms/step - loss: 1.7275 - accuracy: 0.4560 - val_loss: 2.6861 - val_accuracy: 0.1786\n",
      "Epoch 9/50\n",
      "9/9 [==============================] - 4s 411ms/step - loss: 1.6457 - accuracy: 0.4801 - val_loss: 2.6969 - val_accuracy: 0.1731\n",
      "Epoch 10/50\n",
      "9/9 [==============================] - 4s 467ms/step - loss: 1.6063 - accuracy: 0.4956 - val_loss: 2.7120 - val_accuracy: 0.1703\n",
      "Epoch 11/50\n",
      "9/9 [==============================] - 4s 425ms/step - loss: 1.5626 - accuracy: 0.5158 - val_loss: 2.7141 - val_accuracy: 0.1676\n",
      "Epoch 12/50\n",
      "9/9 [==============================] - 6s 743ms/step - loss: 1.4954 - accuracy: 0.5360 - val_loss: 2.7138 - val_accuracy: 0.1731\n",
      "Epoch 13/50\n",
      "9/9 [==============================] - 4s 475ms/step - loss: 1.4402 - accuracy: 0.5534 - val_loss: 2.6923 - val_accuracy: 0.1841\n",
      "Epoch 14/50\n",
      "9/9 [==============================] - 4s 442ms/step - loss: 1.3745 - accuracy: 0.5689 - val_loss: 2.6624 - val_accuracy: 0.2051\n",
      "Epoch 15/50\n",
      "9/9 [==============================] - 4s 415ms/step - loss: 1.3382 - accuracy: 0.5845 - val_loss: 2.6508 - val_accuracy: 0.2088\n",
      "Epoch 16/50\n",
      "9/9 [==============================] - 4s 497ms/step - loss: 1.2939 - accuracy: 0.5916 - val_loss: 2.6672 - val_accuracy: 0.2079\n",
      "Epoch 17/50\n",
      "9/9 [==============================] - 5s 530ms/step - loss: 1.2642 - accuracy: 0.6008 - val_loss: 2.6248 - val_accuracy: 0.2097\n",
      "Epoch 18/50\n",
      "9/9 [==============================] - ETA: 0s - loss: 1.2332 - accuracy: 0.6230INFO:tensorflow:Assets written to: models\\model_v2\\assets\n"
     ]
    },
    {
     "name": "stderr",
     "output_type": "stream",
     "text": [
      "INFO:tensorflow:Assets written to: models\\model_v2\\assets\n"
     ]
    },
    {
     "name": "stdout",
     "output_type": "stream",
     "text": [
      "9/9 [==============================] - 8s 971ms/step - loss: 1.2332 - accuracy: 0.6230 - val_loss: 2.5763 - val_accuracy: 0.2280\n",
      "Epoch 19/50\n",
      "9/9 [==============================] - ETA: 0s - loss: 1.1933 - accuracy: 0.6349INFO:tensorflow:Assets written to: models\\model_v2\\assets\n"
     ]
    },
    {
     "name": "stderr",
     "output_type": "stream",
     "text": [
      "INFO:tensorflow:Assets written to: models\\model_v2\\assets\n"
     ]
    },
    {
     "name": "stdout",
     "output_type": "stream",
     "text": [
      "9/9 [==============================] - 9s 1s/step - loss: 1.1933 - accuracy: 0.6349 - val_loss: 2.5688 - val_accuracy: 0.2372\n",
      "Epoch 20/50\n",
      "9/9 [==============================] - 4s 468ms/step - loss: 1.1749 - accuracy: 0.6335 - val_loss: 2.6120 - val_accuracy: 0.2381\n",
      "Epoch 21/50\n",
      "9/9 [==============================] - 5s 552ms/step - loss: 1.1402 - accuracy: 0.6393 - val_loss: 2.5890 - val_accuracy: 0.2601\n",
      "Epoch 22/50\n",
      "9/9 [==============================] - ETA: 0s - loss: 1.0882 - accuracy: 0.6693INFO:tensorflow:Assets written to: models\\model_v2\\assets\n"
     ]
    },
    {
     "name": "stderr",
     "output_type": "stream",
     "text": [
      "INFO:tensorflow:Assets written to: models\\model_v2\\assets\n"
     ]
    },
    {
     "name": "stdout",
     "output_type": "stream",
     "text": [
      "9/9 [==============================] - 9s 1s/step - loss: 1.0882 - accuracy: 0.6693 - val_loss: 2.5160 - val_accuracy: 0.2756\n",
      "Epoch 23/50\n",
      "9/9 [==============================] - ETA: 0s - loss: 1.1036 - accuracy: 0.6633INFO:tensorflow:Assets written to: models\\model_v2\\assets\n"
     ]
    },
    {
     "name": "stderr",
     "output_type": "stream",
     "text": [
      "INFO:tensorflow:Assets written to: models\\model_v2\\assets\n"
     ]
    },
    {
     "name": "stdout",
     "output_type": "stream",
     "text": [
      "9/9 [==============================] - 8s 1s/step - loss: 1.1036 - accuracy: 0.6633 - val_loss: 2.4793 - val_accuracy: 0.2921\n",
      "Epoch 24/50\n",
      "9/9 [==============================] - ETA: 0s - loss: 1.0335 - accuracy: 0.6741INFO:tensorflow:Assets written to: models\\model_v2\\assets\n"
     ]
    },
    {
     "name": "stderr",
     "output_type": "stream",
     "text": [
      "INFO:tensorflow:Assets written to: models\\model_v2\\assets\n"
     ]
    },
    {
     "name": "stdout",
     "output_type": "stream",
     "text": [
      "9/9 [==============================] - 7s 814ms/step - loss: 1.0335 - accuracy: 0.6741 - val_loss: 2.3762 - val_accuracy: 0.3086\n",
      "Epoch 25/50\n",
      "9/9 [==============================] - ETA: 0s - loss: 1.0230 - accuracy: 0.6741INFO:tensorflow:Assets written to: models\\model_v2\\assets\n"
     ]
    },
    {
     "name": "stderr",
     "output_type": "stream",
     "text": [
      "INFO:tensorflow:Assets written to: models\\model_v2\\assets\n"
     ]
    },
    {
     "name": "stdout",
     "output_type": "stream",
     "text": [
      "9/9 [==============================] - 7s 879ms/step - loss: 1.0230 - accuracy: 0.6741 - val_loss: 2.3352 - val_accuracy: 0.3315\n",
      "Epoch 26/50\n",
      "9/9 [==============================] - ETA: 0s - loss: 0.9964 - accuracy: 0.6885INFO:tensorflow:Assets written to: models\\model_v2\\assets\n"
     ]
    },
    {
     "name": "stderr",
     "output_type": "stream",
     "text": [
      "INFO:tensorflow:Assets written to: models\\model_v2\\assets\n"
     ]
    },
    {
     "name": "stdout",
     "output_type": "stream",
     "text": [
      "9/9 [==============================] - 9s 1s/step - loss: 0.9964 - accuracy: 0.6885 - val_loss: 2.3081 - val_accuracy: 0.3462\n",
      "Epoch 27/50\n",
      "9/9 [==============================] - ETA: 0s - loss: 0.9827 - accuracy: 0.6915INFO:tensorflow:Assets written to: models\\model_v2\\assets\n"
     ]
    },
    {
     "name": "stderr",
     "output_type": "stream",
     "text": [
      "INFO:tensorflow:Assets written to: models\\model_v2\\assets\n"
     ]
    },
    {
     "name": "stdout",
     "output_type": "stream",
     "text": [
      "9/9 [==============================] - 7s 818ms/step - loss: 0.9827 - accuracy: 0.6915 - val_loss: 2.2886 - val_accuracy: 0.3462\n",
      "Epoch 28/50\n",
      "9/9 [==============================] - ETA: 0s - loss: 0.9342 - accuracy: 0.7032INFO:tensorflow:Assets written to: models\\model_v2\\assets\n"
     ]
    },
    {
     "name": "stderr",
     "output_type": "stream",
     "text": [
      "INFO:tensorflow:Assets written to: models\\model_v2\\assets\n"
     ]
    },
    {
     "name": "stdout",
     "output_type": "stream",
     "text": [
      "9/9 [==============================] - 8s 971ms/step - loss: 0.9342 - accuracy: 0.7032 - val_loss: 2.1491 - val_accuracy: 0.3645\n",
      "Epoch 29/50\n",
      "9/9 [==============================] - ETA: 0s - loss: 0.9131 - accuracy: 0.7169INFO:tensorflow:Assets written to: models\\model_v2\\assets\n"
     ]
    },
    {
     "name": "stderr",
     "output_type": "stream",
     "text": [
      "INFO:tensorflow:Assets written to: models\\model_v2\\assets\n"
     ]
    },
    {
     "name": "stdout",
     "output_type": "stream",
     "text": [
      "9/9 [==============================] - 8s 961ms/step - loss: 0.9131 - accuracy: 0.7169 - val_loss: 2.0443 - val_accuracy: 0.3855\n",
      "Epoch 30/50\n",
      "9/9 [==============================] - ETA: 0s - loss: 0.9102 - accuracy: 0.7029INFO:tensorflow:Assets written to: models\\model_v2\\assets\n"
     ]
    },
    {
     "name": "stderr",
     "output_type": "stream",
     "text": [
      "INFO:tensorflow:Assets written to: models\\model_v2\\assets\n"
     ]
    },
    {
     "name": "stdout",
     "output_type": "stream",
     "text": [
      "9/9 [==============================] - 8s 1s/step - loss: 0.9102 - accuracy: 0.7029 - val_loss: 1.9863 - val_accuracy: 0.4066\n",
      "Epoch 31/50\n",
      "9/9 [==============================] - 3s 377ms/step - loss: 0.8812 - accuracy: 0.7192 - val_loss: 2.0534 - val_accuracy: 0.4002\n",
      "Epoch 32/50\n",
      "9/9 [==============================] - ETA: 0s - loss: 0.8447 - accuracy: 0.7187INFO:tensorflow:Assets written to: models\\model_v2\\assets\n"
     ]
    },
    {
     "name": "stderr",
     "output_type": "stream",
     "text": [
      "INFO:tensorflow:Assets written to: models\\model_v2\\assets\n"
     ]
    },
    {
     "name": "stdout",
     "output_type": "stream",
     "text": [
      "9/9 [==============================] - 7s 791ms/step - loss: 0.8447 - accuracy: 0.7187 - val_loss: 1.9845 - val_accuracy: 0.4121\n",
      "Epoch 33/50\n",
      "9/9 [==============================] - ETA: 0s - loss: 0.8418 - accuracy: 0.7247INFO:tensorflow:Assets written to: models\\model_v2\\assets\n"
     ]
    },
    {
     "name": "stderr",
     "output_type": "stream",
     "text": [
      "INFO:tensorflow:Assets written to: models\\model_v2\\assets\n"
     ]
    },
    {
     "name": "stdout",
     "output_type": "stream",
     "text": [
      "9/9 [==============================] - 7s 837ms/step - loss: 0.8418 - accuracy: 0.7247 - val_loss: 1.8501 - val_accuracy: 0.4524\n",
      "Epoch 34/50\n",
      "9/9 [==============================] - 4s 465ms/step - loss: 0.8188 - accuracy: 0.7350 - val_loss: 1.8968 - val_accuracy: 0.4350\n",
      "Epoch 35/50\n",
      "9/9 [==============================] - ETA: 0s - loss: 0.7761 - accuracy: 0.7510INFO:tensorflow:Assets written to: models\\model_v2\\assets\n"
     ]
    },
    {
     "name": "stderr",
     "output_type": "stream",
     "text": [
      "INFO:tensorflow:Assets written to: models\\model_v2\\assets\n"
     ]
    },
    {
     "name": "stdout",
     "output_type": "stream",
     "text": [
      "9/9 [==============================] - 8s 905ms/step - loss: 0.7761 - accuracy: 0.7510 - val_loss: 1.6729 - val_accuracy: 0.5128\n",
      "Epoch 36/50\n",
      "9/9 [==============================] - ETA: 0s - loss: 0.7816 - accuracy: 0.7437INFO:tensorflow:Assets written to: models\\model_v2\\assets\n"
     ]
    },
    {
     "name": "stderr",
     "output_type": "stream",
     "text": [
      "INFO:tensorflow:Assets written to: models\\model_v2\\assets\n"
     ]
    },
    {
     "name": "stdout",
     "output_type": "stream",
     "text": [
      "9/9 [==============================] - 7s 890ms/step - loss: 0.7816 - accuracy: 0.7437 - val_loss: 1.6502 - val_accuracy: 0.5174\n",
      "Epoch 37/50\n",
      "9/9 [==============================] - ETA: 0s - loss: 0.7712 - accuracy: 0.7561INFO:tensorflow:Assets written to: models\\model_v2\\assets\n"
     ]
    },
    {
     "name": "stderr",
     "output_type": "stream",
     "text": [
      "INFO:tensorflow:Assets written to: models\\model_v2\\assets\n"
     ]
    },
    {
     "name": "stdout",
     "output_type": "stream",
     "text": [
      "9/9 [==============================] - 7s 811ms/step - loss: 0.7712 - accuracy: 0.7561 - val_loss: 1.5586 - val_accuracy: 0.5522\n",
      "Epoch 38/50\n",
      "9/9 [==============================] - 4s 412ms/step - loss: 0.7297 - accuracy: 0.7590 - val_loss: 1.5930 - val_accuracy: 0.5430\n",
      "Epoch 39/50\n",
      "9/9 [==============================] - 3s 383ms/step - loss: 0.7215 - accuracy: 0.7659 - val_loss: 1.5736 - val_accuracy: 0.5540\n",
      "Epoch 40/50\n",
      "9/9 [==============================] - ETA: 0s - loss: 0.6967 - accuracy: 0.7737INFO:tensorflow:Assets written to: models\\model_v2\\assets\n"
     ]
    },
    {
     "name": "stderr",
     "output_type": "stream",
     "text": [
      "INFO:tensorflow:Assets written to: models\\model_v2\\assets\n"
     ]
    },
    {
     "name": "stdout",
     "output_type": "stream",
     "text": [
      "9/9 [==============================] - 7s 833ms/step - loss: 0.6967 - accuracy: 0.7737 - val_loss: 1.5336 - val_accuracy: 0.5641\n",
      "Epoch 41/50\n",
      "9/9 [==============================] - ETA: 0s - loss: 0.6960 - accuracy: 0.7794INFO:tensorflow:Assets written to: models\\model_v2\\assets\n"
     ]
    },
    {
     "name": "stderr",
     "output_type": "stream",
     "text": [
      "INFO:tensorflow:Assets written to: models\\model_v2\\assets\n"
     ]
    },
    {
     "name": "stdout",
     "output_type": "stream",
     "text": [
      "9/9 [==============================] - 8s 902ms/step - loss: 0.6960 - accuracy: 0.7794 - val_loss: 1.4816 - val_accuracy: 0.5769\n",
      "Epoch 42/50\n",
      "9/9 [==============================] - 5s 538ms/step - loss: 0.6513 - accuracy: 0.7858 - val_loss: 1.5572 - val_accuracy: 0.5668\n",
      "Epoch 43/50\n",
      "9/9 [==============================] - ETA: 0s - loss: 0.6648 - accuracy: 0.7783INFO:tensorflow:Assets written to: models\\model_v2\\assets\n"
     ]
    },
    {
     "name": "stderr",
     "output_type": "stream",
     "text": [
      "INFO:tensorflow:Assets written to: models\\model_v2\\assets\n"
     ]
    },
    {
     "name": "stdout",
     "output_type": "stream",
     "text": [
      "9/9 [==============================] - 7s 856ms/step - loss: 0.6648 - accuracy: 0.7783 - val_loss: 1.3573 - val_accuracy: 0.6145\n",
      "Epoch 44/50\n",
      "9/9 [==============================] - ETA: 0s - loss: 0.6513 - accuracy: 0.7797INFO:tensorflow:Assets written to: models\\model_v2\\assets\n"
     ]
    },
    {
     "name": "stderr",
     "output_type": "stream",
     "text": [
      "INFO:tensorflow:Assets written to: models\\model_v2\\assets\n"
     ]
    },
    {
     "name": "stdout",
     "output_type": "stream",
     "text": [
      "9/9 [==============================] - 7s 838ms/step - loss: 0.6513 - accuracy: 0.7797 - val_loss: 1.3475 - val_accuracy: 0.6154\n",
      "Epoch 45/50\n",
      "9/9 [==============================] - ETA: 0s - loss: 0.6382 - accuracy: 0.7854INFO:tensorflow:Assets written to: models\\model_v2\\assets\n"
     ]
    },
    {
     "name": "stderr",
     "output_type": "stream",
     "text": [
      "INFO:tensorflow:Assets written to: models\\model_v2\\assets\n"
     ]
    },
    {
     "name": "stdout",
     "output_type": "stream",
     "text": [
      "9/9 [==============================] - 6s 771ms/step - loss: 0.6382 - accuracy: 0.7854 - val_loss: 1.2984 - val_accuracy: 0.6346\n",
      "Epoch 46/50\n",
      "9/9 [==============================] - 4s 450ms/step - loss: 0.6445 - accuracy: 0.7847 - val_loss: 1.3185 - val_accuracy: 0.6291\n",
      "Epoch 47/50\n",
      "9/9 [==============================] - ETA: 0s - loss: 0.6175 - accuracy: 0.7980INFO:tensorflow:Assets written to: models\\model_v2\\assets\n"
     ]
    },
    {
     "name": "stderr",
     "output_type": "stream",
     "text": [
      "INFO:tensorflow:Assets written to: models\\model_v2\\assets\n"
     ]
    },
    {
     "name": "stdout",
     "output_type": "stream",
     "text": [
      "9/9 [==============================] - 7s 791ms/step - loss: 0.6175 - accuracy: 0.7980 - val_loss: 1.1923 - val_accuracy: 0.6621\n",
      "Epoch 48/50\n",
      "9/9 [==============================] - 5s 557ms/step - loss: 0.5883 - accuracy: 0.8085 - val_loss: 1.3083 - val_accuracy: 0.6410\n",
      "Epoch 49/50\n",
      "9/9 [==============================] - ETA: 0s - loss: 0.5827 - accuracy: 0.8062INFO:tensorflow:Assets written to: models\\model_v2\\assets\n"
     ]
    },
    {
     "name": "stderr",
     "output_type": "stream",
     "text": [
      "INFO:tensorflow:Assets written to: models\\model_v2\\assets\n"
     ]
    },
    {
     "name": "stdout",
     "output_type": "stream",
     "text": [
      "9/9 [==============================] - 7s 801ms/step - loss: 0.5827 - accuracy: 0.8062 - val_loss: 1.1758 - val_accuracy: 0.6804\n",
      "Epoch 50/50\n",
      "9/9 [==============================] - 4s 466ms/step - loss: 0.5778 - accuracy: 0.8108 - val_loss: 1.1832 - val_accuracy: 0.6886\n"
     ]
    }
   ],
   "source": [
    "samples_weight = compute_sample_weight(\"balanced\", y_train_standard)\n",
    "tensorboard_callback_2 = keras.callbacks.TensorBoard(log_dir=\"logs/cnn_v2_standard\", histogram_freq=1)\n",
    "model_cnn_2_standard.compile(optimizer='adam', loss='sparse_categorical_crossentropy', metrics=['accuracy'])\n",
    "\n",
    "# Train the model on 50 epochs.\n",
    "history_v2_standard = model_cnn_2_standard.fit(\n",
    "    x=x_train_standard,\n",
    "    y=y_train_standard,\n",
    "    batch_size=512,\n",
    "    epochs=50,\t\n",
    "    callbacks=[save_callback_2, tensorboard_callback_2],\n",
    "    validation_data=(x_test_standard, y_test_standard),\n",
    "    sample_weight=samples_weight\n",
    ")"
   ]
  },
  {
   "cell_type": "markdown",
   "metadata": {},
   "source": [
    "Let's now renew the operation with each of the previous image types."
   ]
  },
  {
   "cell_type": "code",
   "execution_count": 26,
   "metadata": {},
   "outputs": [
    {
     "name": "stdout",
     "output_type": "stream",
     "text": [
      "Epoch 1/50\n",
      "9/9 [==============================] - 9s 549ms/step - loss: 3.6248 - accuracy: 0.0875 - val_loss: 2.8824 - val_accuracy: 0.1227\n",
      "Epoch 2/50\n",
      "9/9 [==============================] - 4s 408ms/step - loss: 3.1122 - accuracy: 0.1390 - val_loss: 2.8917 - val_accuracy: 0.0943\n",
      "Epoch 3/50\n",
      "9/9 [==============================] - 3s 365ms/step - loss: 2.8375 - accuracy: 0.1713 - val_loss: 2.8976 - val_accuracy: 0.0751\n",
      "Epoch 4/50\n",
      "9/9 [==============================] - 4s 500ms/step - loss: 2.6484 - accuracy: 0.2050 - val_loss: 2.9100 - val_accuracy: 0.0394\n",
      "Epoch 5/50\n",
      "9/9 [==============================] - 3s 361ms/step - loss: 2.5655 - accuracy: 0.2238 - val_loss: 2.9216 - val_accuracy: 0.0330\n",
      "Epoch 6/50\n",
      "9/9 [==============================] - 3s 382ms/step - loss: 2.4250 - accuracy: 0.2545 - val_loss: 2.9329 - val_accuracy: 0.0293\n",
      "Epoch 7/50\n",
      "9/9 [==============================] - 3s 363ms/step - loss: 2.3121 - accuracy: 0.2909 - val_loss: 2.9544 - val_accuracy: 0.0339\n",
      "Epoch 8/50\n",
      "9/9 [==============================] - 3s 398ms/step - loss: 2.2495 - accuracy: 0.2868 - val_loss: 2.9507 - val_accuracy: 0.0788\n",
      "Epoch 9/50\n",
      "9/9 [==============================] - 3s 360ms/step - loss: 2.1828 - accuracy: 0.3065 - val_loss: 2.9356 - val_accuracy: 0.0980\n",
      "Epoch 10/50\n",
      "9/9 [==============================] - 3s 390ms/step - loss: 2.1451 - accuracy: 0.3234 - val_loss: 2.9377 - val_accuracy: 0.0971\n",
      "Epoch 11/50\n",
      "9/9 [==============================] - 4s 522ms/step - loss: 2.0682 - accuracy: 0.3360 - val_loss: 2.9560 - val_accuracy: 0.0879\n",
      "Epoch 12/50\n",
      "9/9 [==============================] - 4s 456ms/step - loss: 2.0198 - accuracy: 0.3509 - val_loss: 2.9782 - val_accuracy: 0.0870\n",
      "Epoch 13/50\n",
      "9/9 [==============================] - 5s 528ms/step - loss: 1.9730 - accuracy: 0.3630 - val_loss: 2.9855 - val_accuracy: 0.0870\n",
      "Epoch 14/50\n",
      "9/9 [==============================] - 4s 501ms/step - loss: 1.9376 - accuracy: 0.3710 - val_loss: 3.0011 - val_accuracy: 0.0852\n",
      "Epoch 15/50\n",
      "9/9 [==============================] - 4s 429ms/step - loss: 1.8746 - accuracy: 0.3912 - val_loss: 3.0125 - val_accuracy: 0.0852\n",
      "Epoch 16/50\n",
      "9/9 [==============================] - 4s 422ms/step - loss: 1.8466 - accuracy: 0.4059 - val_loss: 3.0106 - val_accuracy: 0.0861\n",
      "Epoch 17/50\n",
      "9/9 [==============================] - 3s 401ms/step - loss: 1.7867 - accuracy: 0.4210 - val_loss: 2.9861 - val_accuracy: 0.0852\n",
      "Epoch 18/50\n",
      "9/9 [==============================] - 4s 429ms/step - loss: 1.7610 - accuracy: 0.4313 - val_loss: 3.0132 - val_accuracy: 0.0925\n",
      "Epoch 19/50\n",
      "9/9 [==============================] - 5s 528ms/step - loss: 1.7385 - accuracy: 0.4407 - val_loss: 3.0477 - val_accuracy: 0.0934\n",
      "Epoch 20/50\n",
      "9/9 [==============================] - 3s 400ms/step - loss: 1.7051 - accuracy: 0.4446 - val_loss: 3.0708 - val_accuracy: 0.1026\n",
      "Epoch 21/50\n",
      "9/9 [==============================] - 5s 565ms/step - loss: 1.6434 - accuracy: 0.4734 - val_loss: 3.1186 - val_accuracy: 0.0971\n",
      "Epoch 22/50\n",
      "9/9 [==============================] - 5s 622ms/step - loss: 1.6162 - accuracy: 0.4670 - val_loss: 3.1226 - val_accuracy: 0.0925\n",
      "Epoch 23/50\n",
      "9/9 [==============================] - 4s 480ms/step - loss: 1.5748 - accuracy: 0.4730 - val_loss: 3.0544 - val_accuracy: 0.0897\n",
      "Epoch 24/50\n",
      "9/9 [==============================] - 3s 385ms/step - loss: 1.5471 - accuracy: 0.4989 - val_loss: 3.0097 - val_accuracy: 0.0788\n",
      "Epoch 25/50\n",
      "9/9 [==============================] - 3s 383ms/step - loss: 1.5323 - accuracy: 0.4995 - val_loss: 3.0214 - val_accuracy: 0.0705\n",
      "Epoch 26/50\n",
      "9/9 [==============================] - 4s 497ms/step - loss: 1.5080 - accuracy: 0.5126 - val_loss: 3.1320 - val_accuracy: 0.0668\n",
      "Epoch 27/50\n",
      "9/9 [==============================] - 3s 387ms/step - loss: 1.5006 - accuracy: 0.5119 - val_loss: 3.1848 - val_accuracy: 0.0659\n",
      "Epoch 28/50\n",
      "9/9 [==============================] - 3s 360ms/step - loss: 1.4625 - accuracy: 0.5243 - val_loss: 3.2083 - val_accuracy: 0.0659\n",
      "Epoch 29/50\n",
      "9/9 [==============================] - 3s 383ms/step - loss: 1.4094 - accuracy: 0.5497 - val_loss: 3.2404 - val_accuracy: 0.0678\n",
      "Epoch 30/50\n",
      "9/9 [==============================] - 4s 506ms/step - loss: 1.4236 - accuracy: 0.5360 - val_loss: 3.2141 - val_accuracy: 0.0687\n",
      "Epoch 31/50\n",
      "9/9 [==============================] - 4s 511ms/step - loss: 1.3617 - accuracy: 0.5495 - val_loss: 3.3270 - val_accuracy: 0.0678\n",
      "Epoch 32/50\n",
      "9/9 [==============================] - 3s 360ms/step - loss: 1.3248 - accuracy: 0.5575 - val_loss: 3.3905 - val_accuracy: 0.0659\n",
      "Epoch 33/50\n",
      "9/9 [==============================] - 3s 357ms/step - loss: 1.2887 - accuracy: 0.5763 - val_loss: 3.3396 - val_accuracy: 0.0650\n",
      "Epoch 34/50\n",
      "9/9 [==============================] - 3s 375ms/step - loss: 1.2601 - accuracy: 0.5877 - val_loss: 3.2927 - val_accuracy: 0.0650\n",
      "Epoch 35/50\n",
      "9/9 [==============================] - 3s 367ms/step - loss: 1.2705 - accuracy: 0.5731 - val_loss: 3.2911 - val_accuracy: 0.0678\n",
      "Epoch 36/50\n",
      "9/9 [==============================] - 3s 367ms/step - loss: 1.2047 - accuracy: 0.5893 - val_loss: 3.4281 - val_accuracy: 0.0668\n",
      "Epoch 37/50\n",
      "9/9 [==============================] - 4s 411ms/step - loss: 1.2009 - accuracy: 0.5994 - val_loss: 3.5241 - val_accuracy: 0.0659\n",
      "Epoch 38/50\n",
      "9/9 [==============================] - 3s 369ms/step - loss: 1.1738 - accuracy: 0.6120 - val_loss: 3.5429 - val_accuracy: 0.0678\n",
      "Epoch 39/50\n",
      "9/9 [==============================] - 3s 397ms/step - loss: 1.1652 - accuracy: 0.6271 - val_loss: 3.6922 - val_accuracy: 0.0668\n",
      "Epoch 40/50\n",
      "9/9 [==============================] - 3s 363ms/step - loss: 1.1361 - accuracy: 0.6219 - val_loss: 3.5512 - val_accuracy: 0.0696\n",
      "Epoch 41/50\n",
      "9/9 [==============================] - 3s 368ms/step - loss: 1.1176 - accuracy: 0.6244 - val_loss: 3.5532 - val_accuracy: 0.0668\n",
      "Epoch 42/50\n",
      "9/9 [==============================] - 3s 391ms/step - loss: 1.1134 - accuracy: 0.6308 - val_loss: 3.6201 - val_accuracy: 0.0696\n",
      "Epoch 43/50\n",
      "9/9 [==============================] - 3s 395ms/step - loss: 1.1072 - accuracy: 0.6319 - val_loss: 3.8297 - val_accuracy: 0.0687\n",
      "Epoch 44/50\n",
      "9/9 [==============================] - 4s 431ms/step - loss: 1.0591 - accuracy: 0.6361 - val_loss: 3.7440 - val_accuracy: 0.0705\n",
      "Epoch 45/50\n",
      "9/9 [==============================] - 3s 400ms/step - loss: 1.0253 - accuracy: 0.6551 - val_loss: 3.6703 - val_accuracy: 0.0705\n",
      "Epoch 46/50\n",
      "9/9 [==============================] - 3s 367ms/step - loss: 1.0285 - accuracy: 0.6475 - val_loss: 3.6421 - val_accuracy: 0.0742\n",
      "Epoch 47/50\n",
      "9/9 [==============================] - 4s 461ms/step - loss: 1.0035 - accuracy: 0.6493 - val_loss: 3.6596 - val_accuracy: 0.0760\n",
      "Epoch 48/50\n",
      "9/9 [==============================] - 4s 500ms/step - loss: 1.0107 - accuracy: 0.6519 - val_loss: 3.6767 - val_accuracy: 0.0769\n",
      "Epoch 49/50\n",
      "9/9 [==============================] - 4s 488ms/step - loss: 0.9895 - accuracy: 0.6663 - val_loss: 3.5520 - val_accuracy: 0.0824\n",
      "Epoch 50/50\n",
      "9/9 [==============================] - 4s 465ms/step - loss: 0.9570 - accuracy: 0.6734 - val_loss: 3.7365 - val_accuracy: 0.0788\n"
     ]
    }
   ],
   "source": [
    "# Gray scale.\n",
    "model_cnn_2_gray = get_model_cnn_v2(input_shape=(64, 64, 1))\n",
    "tensorboard_callback_2 = keras.callbacks.TensorBoard(log_dir=\"logs/cnn_v2_gray\", histogram_freq=1)\n",
    "samples_weight = compute_sample_weight(\"balanced\", y_train_gray)\n",
    "model_cnn_2_gray.compile(optimizer='adam', loss='sparse_categorical_crossentropy', metrics=['accuracy'])\n",
    "history_v2_gray = model_cnn_2_gray.fit(\n",
    "    x=x_train_gray,\n",
    "    y=y_train_gray,\n",
    "    batch_size=512,\n",
    "    epochs=50,\t\n",
    "    callbacks=[save_callback_2, tensorboard_callback_2],\n",
    "    validation_data=(x_test_gray, y_test_gray),\n",
    "    sample_weight=samples_weight\n",
    ")"
   ]
  },
  {
   "cell_type": "code",
   "execution_count": 27,
   "metadata": {},
   "outputs": [
    {
     "name": "stdout",
     "output_type": "stream",
     "text": [
      "Epoch 1/50\n",
      "9/9 [==============================] - 22s 2s/step - loss: 3.3937 - accuracy: 0.1145 - val_loss: 2.8896 - val_accuracy: 0.0266\n",
      "Epoch 2/50\n",
      "9/9 [==============================] - 4s 452ms/step - loss: 2.8360 - accuracy: 0.1869 - val_loss: 2.9023 - val_accuracy: 0.0852\n",
      "Epoch 3/50\n",
      "9/9 [==============================] - 4s 496ms/step - loss: 2.5603 - accuracy: 0.2430 - val_loss: 2.9320 - val_accuracy: 0.0852\n",
      "Epoch 4/50\n",
      "9/9 [==============================] - 5s 566ms/step - loss: 2.3202 - accuracy: 0.2996 - val_loss: 2.9714 - val_accuracy: 0.0852\n",
      "Epoch 5/50\n",
      "9/9 [==============================] - 5s 550ms/step - loss: 2.1416 - accuracy: 0.3541 - val_loss: 3.0033 - val_accuracy: 0.0201\n",
      "Epoch 6/50\n",
      "9/9 [==============================] - 8s 917ms/step - loss: 2.0256 - accuracy: 0.3704 - val_loss: 3.0397 - val_accuracy: 0.0348\n",
      "Epoch 7/50\n",
      "9/9 [==============================] - 6s 767ms/step - loss: 1.9040 - accuracy: 0.4180 - val_loss: 3.0748 - val_accuracy: 0.0348\n",
      "Epoch 8/50\n",
      "9/9 [==============================] - 5s 591ms/step - loss: 1.8298 - accuracy: 0.4361 - val_loss: 3.0978 - val_accuracy: 0.0348\n",
      "Epoch 9/50\n",
      "9/9 [==============================] - 3s 379ms/step - loss: 1.7461 - accuracy: 0.4512 - val_loss: 3.1143 - val_accuracy: 0.0348\n",
      "Epoch 10/50\n",
      "9/9 [==============================] - 4s 484ms/step - loss: 1.6862 - accuracy: 0.4702 - val_loss: 3.1306 - val_accuracy: 0.0348\n",
      "Epoch 11/50\n",
      "9/9 [==============================] - 4s 465ms/step - loss: 1.6504 - accuracy: 0.4867 - val_loss: 3.1460 - val_accuracy: 0.0348\n",
      "Epoch 12/50\n",
      "9/9 [==============================] - 5s 540ms/step - loss: 1.5856 - accuracy: 0.5135 - val_loss: 3.1551 - val_accuracy: 0.0348\n",
      "Epoch 13/50\n",
      "9/9 [==============================] - 3s 378ms/step - loss: 1.4922 - accuracy: 0.5401 - val_loss: 3.1755 - val_accuracy: 0.0348\n",
      "Epoch 14/50\n",
      "9/9 [==============================] - 5s 573ms/step - loss: 1.4552 - accuracy: 0.5502 - val_loss: 3.2023 - val_accuracy: 0.0348\n",
      "Epoch 15/50\n",
      "9/9 [==============================] - 4s 420ms/step - loss: 1.4231 - accuracy: 0.5662 - val_loss: 3.2294 - val_accuracy: 0.0348\n",
      "Epoch 16/50\n",
      "9/9 [==============================] - 4s 485ms/step - loss: 1.3813 - accuracy: 0.5792 - val_loss: 3.2585 - val_accuracy: 0.0348\n",
      "Epoch 17/50\n",
      "9/9 [==============================] - 5s 521ms/step - loss: 1.3370 - accuracy: 0.5898 - val_loss: 3.2616 - val_accuracy: 0.0348\n",
      "Epoch 18/50\n",
      "9/9 [==============================] - 5s 556ms/step - loss: 1.3133 - accuracy: 0.5994 - val_loss: 3.2760 - val_accuracy: 0.0348\n",
      "Epoch 19/50\n",
      "9/9 [==============================] - 4s 435ms/step - loss: 1.2671 - accuracy: 0.6161 - val_loss: 3.2951 - val_accuracy: 0.0293\n",
      "Epoch 20/50\n",
      "9/9 [==============================] - 4s 487ms/step - loss: 1.2259 - accuracy: 0.6198 - val_loss: 3.2989 - val_accuracy: 0.0302\n",
      "Epoch 21/50\n",
      "9/9 [==============================] - 4s 412ms/step - loss: 1.1947 - accuracy: 0.6285 - val_loss: 3.3029 - val_accuracy: 0.0266\n",
      "Epoch 22/50\n",
      "9/9 [==============================] - 4s 408ms/step - loss: 1.1570 - accuracy: 0.6429 - val_loss: 3.3199 - val_accuracy: 0.0348\n",
      "Epoch 23/50\n",
      "9/9 [==============================] - 4s 426ms/step - loss: 1.1201 - accuracy: 0.6493 - val_loss: 3.3367 - val_accuracy: 0.0266\n",
      "Epoch 24/50\n",
      "9/9 [==============================] - 4s 494ms/step - loss: 1.1051 - accuracy: 0.6585 - val_loss: 3.3639 - val_accuracy: 0.0266\n",
      "Epoch 25/50\n",
      "9/9 [==============================] - 4s 472ms/step - loss: 1.0684 - accuracy: 0.6688 - val_loss: 3.3896 - val_accuracy: 0.0266\n",
      "Epoch 26/50\n",
      "9/9 [==============================] - 3s 384ms/step - loss: 1.0628 - accuracy: 0.6686 - val_loss: 3.3982 - val_accuracy: 0.0348\n",
      "Epoch 27/50\n",
      "9/9 [==============================] - 4s 478ms/step - loss: 1.0299 - accuracy: 0.6738 - val_loss: 3.3985 - val_accuracy: 0.0348\n",
      "Epoch 28/50\n",
      "9/9 [==============================] - 4s 396ms/step - loss: 0.9919 - accuracy: 0.6922 - val_loss: 3.3853 - val_accuracy: 0.0348\n",
      "Epoch 29/50\n",
      "9/9 [==============================] - 4s 403ms/step - loss: 0.9787 - accuracy: 0.6922 - val_loss: 3.3403 - val_accuracy: 0.0348\n",
      "Epoch 30/50\n",
      "9/9 [==============================] - 5s 541ms/step - loss: 0.9583 - accuracy: 0.7020 - val_loss: 3.3478 - val_accuracy: 0.0366\n",
      "Epoch 31/50\n",
      "9/9 [==============================] - 3s 382ms/step - loss: 0.9531 - accuracy: 0.6986 - val_loss: 3.3352 - val_accuracy: 0.0943\n",
      "Epoch 32/50\n",
      "9/9 [==============================] - 4s 430ms/step - loss: 0.9051 - accuracy: 0.7153 - val_loss: 3.3269 - val_accuracy: 0.0962\n",
      "Epoch 33/50\n",
      "9/9 [==============================] - 4s 408ms/step - loss: 0.9099 - accuracy: 0.7119 - val_loss: 3.3415 - val_accuracy: 0.0962\n",
      "Epoch 34/50\n",
      "9/9 [==============================] - 5s 541ms/step - loss: 0.8760 - accuracy: 0.7153 - val_loss: 3.3090 - val_accuracy: 0.0962\n",
      "Epoch 35/50\n",
      "9/9 [==============================] - 4s 451ms/step - loss: 0.8475 - accuracy: 0.7242 - val_loss: 3.2761 - val_accuracy: 0.0962\n",
      "Epoch 36/50\n",
      "9/9 [==============================] - 3s 393ms/step - loss: 0.8447 - accuracy: 0.7341 - val_loss: 3.2423 - val_accuracy: 0.0998\n",
      "Epoch 37/50\n",
      "9/9 [==============================] - 5s 591ms/step - loss: 0.7965 - accuracy: 0.7485 - val_loss: 3.2088 - val_accuracy: 0.0962\n",
      "Epoch 38/50\n",
      "9/9 [==============================] - 5s 569ms/step - loss: 0.7654 - accuracy: 0.7547 - val_loss: 3.2394 - val_accuracy: 0.0962\n",
      "Epoch 39/50\n",
      "9/9 [==============================] - 4s 490ms/step - loss: 0.7646 - accuracy: 0.7545 - val_loss: 3.3220 - val_accuracy: 0.0971\n",
      "Epoch 40/50\n",
      "9/9 [==============================] - 4s 497ms/step - loss: 0.7620 - accuracy: 0.7533 - val_loss: 3.3369 - val_accuracy: 0.0998\n",
      "Epoch 41/50\n",
      "9/9 [==============================] - 4s 496ms/step - loss: 0.7404 - accuracy: 0.7641 - val_loss: 3.3441 - val_accuracy: 0.0971\n",
      "Epoch 42/50\n",
      "9/9 [==============================] - 4s 410ms/step - loss: 0.7162 - accuracy: 0.7634 - val_loss: 3.2456 - val_accuracy: 0.0971\n",
      "Epoch 43/50\n",
      "9/9 [==============================] - 5s 529ms/step - loss: 0.7106 - accuracy: 0.7698 - val_loss: 3.2835 - val_accuracy: 0.1035\n",
      "Epoch 44/50\n",
      "9/9 [==============================] - 4s 422ms/step - loss: 0.7092 - accuracy: 0.7721 - val_loss: 3.3804 - val_accuracy: 0.0989\n",
      "Epoch 45/50\n",
      "9/9 [==============================] - 4s 410ms/step - loss: 0.6991 - accuracy: 0.7694 - val_loss: 3.4149 - val_accuracy: 0.0980\n",
      "Epoch 46/50\n",
      "9/9 [==============================] - 4s 460ms/step - loss: 0.6803 - accuracy: 0.7760 - val_loss: 3.2698 - val_accuracy: 0.0962\n",
      "Epoch 47/50\n",
      "9/9 [==============================] - 4s 506ms/step - loss: 0.6617 - accuracy: 0.7817 - val_loss: 3.3756 - val_accuracy: 0.0952\n",
      "Epoch 48/50\n",
      "9/9 [==============================] - 4s 430ms/step - loss: 0.6410 - accuracy: 0.7888 - val_loss: 3.2789 - val_accuracy: 0.1035\n",
      "Epoch 49/50\n",
      "9/9 [==============================] - 4s 429ms/step - loss: 0.6302 - accuracy: 0.7911 - val_loss: 3.2458 - val_accuracy: 0.1218\n",
      "Epoch 50/50\n",
      "9/9 [==============================] - 4s 430ms/step - loss: 0.6126 - accuracy: 0.7950 - val_loss: 2.9109 - val_accuracy: 0.1603\n"
     ]
    }
   ],
   "source": [
    "# Exposure.\n",
    "model_cnn_2_exposure = get_model_cnn_v2(input_shape=(64, 64, 3))\n",
    "tensorboard_callback_2 = keras.callbacks.TensorBoard(log_dir=\"logs/cnn_v2_exposure\", histogram_freq=1)\n",
    "samples_weight = compute_sample_weight(\"balanced\", y_train_exposure)\n",
    "model_cnn_2_exposure.compile(optimizer='adam', loss='sparse_categorical_crossentropy', metrics=['accuracy'])\n",
    "history_v2_exposure = model_cnn_2_exposure.fit(\n",
    "    x=x_train_exposure,\n",
    "    y=y_train_exposure,\n",
    "    batch_size=512,\n",
    "    epochs=50,\t\n",
    "    callbacks=[save_callback_2, tensorboard_callback_2],\n",
    "    validation_data=(x_test_exposure, y_test_exposure),\n",
    "    sample_weight=samples_weight\n",
    ")"
   ]
  },
  {
   "cell_type": "markdown",
   "metadata": {},
   "source": [
    "Let's see the differences (and check tensorboard)."
   ]
  },
  {
   "cell_type": "code",
   "execution_count": 28,
   "metadata": {},
   "outputs": [
    {
     "data": {
      "image/png": "[encoded data removed]",
      "text/plain": [
       "<Figure size 640x480 with 1 Axes>"
      ]
     },
     "metadata": {},
     "output_type": "display_data"
    }
   ],
   "source": [
    "# Plot accuracy for the models with convolutional layers.\n",
    "plt.plot(history_v2_standard.history['accuracy'], label='Train Standard')\n",
    "plt.plot(history_v2_standard.history['val_accuracy'], label='Validation Standard')\n",
    "\n",
    "plt.plot(history_v2_gray.history['accuracy'], label='Train Gray')\n",
    "plt.plot(history_v2_gray.history['val_accuracy'], label='Validation Gray')\n",
    "\n",
    "plt.plot(history_v2_exposure.history['accuracy'], label='Train Exposure')\n",
    "plt.plot(history_v2_exposure.history['val_accuracy'], label='Validation Exposure')\n",
    "\n",
    "plt.title('Training and Validation Accuracy Comparison Between Models')\n",
    "plt.xlabel('Epoch')\n",
    "plt.ylabel('Accuracy')\n",
    "plt.legend()\n",
    "plt.show()"
   ]
  },
  {
   "cell_type": "markdown",
   "metadata": {},
   "source": [
    "It seems that the results show less accuracy from this model compared to the previous one, so I am going to even save the results of the standard model and submit them (beaucause it is the only model that can generalize if we compare to the the other 2)."
   ]
  },
  {
   "cell_type": "code",
   "execution_count": 30,
   "metadata": {},
   "outputs": [
    {
     "name": "stdout",
     "output_type": "stream",
     "text": [
      "Epoch 1/50\n",
      "11/11 [==============================] - 20s 466ms/step - loss: 3.4203 - accuracy: 0.0934\n",
      "Epoch 2/50\n",
      "11/11 [==============================] - 4s 340ms/step - loss: 2.7322 - accuracy: 0.1854\n",
      "Epoch 3/50\n",
      "11/11 [==============================] - 3s 305ms/step - loss: 2.3960 - accuracy: 0.2523\n",
      "Epoch 4/50\n",
      "11/11 [==============================] - 3s 306ms/step - loss: 2.1976 - accuracy: 0.3049\n",
      "Epoch 5/50\n",
      "11/11 [==============================] - 3s 290ms/step - loss: 2.0631 - accuracy: 0.3340\n",
      "Epoch 6/50\n",
      "11/11 [==============================] - 3s 295ms/step - loss: 1.9345 - accuracy: 0.3719\n",
      "Epoch 7/50\n",
      "11/11 [==============================] - 3s 296ms/step - loss: 1.8451 - accuracy: 0.4049\n",
      "Epoch 8/50\n",
      "11/11 [==============================] - 3s 301ms/step - loss: 1.7373 - accuracy: 0.4359\n",
      "Epoch 9/50\n",
      "11/11 [==============================] - 3s 294ms/step - loss: 1.6581 - accuracy: 0.4808\n",
      "Epoch 10/50\n",
      "11/11 [==============================] - 3s 296ms/step - loss: 1.5957 - accuracy: 0.4958\n",
      "Epoch 11/50\n",
      "11/11 [==============================] - 3s 300ms/step - loss: 1.5282 - accuracy: 0.5108\n",
      "Epoch 12/50\n",
      "11/11 [==============================] - 4s 349ms/step - loss: 1.4681 - accuracy: 0.5297\n",
      "Epoch 13/50\n",
      "11/11 [==============================] - 4s 315ms/step - loss: 1.4443 - accuracy: 0.5480\n",
      "Epoch 14/50\n",
      "11/11 [==============================] - 3s 293ms/step - loss: 1.4024 - accuracy: 0.5595\n",
      "Epoch 15/50\n",
      "11/11 [==============================] - 3s 305ms/step - loss: 1.3412 - accuracy: 0.5766\n",
      "Epoch 16/50\n",
      "11/11 [==============================] - 3s 292ms/step - loss: 1.3064 - accuracy: 0.5936\n",
      "Epoch 17/50\n",
      "11/11 [==============================] - 3s 296ms/step - loss: 1.2372 - accuracy: 0.6162\n",
      "Epoch 18/50\n",
      "11/11 [==============================] - 3s 294ms/step - loss: 1.1980 - accuracy: 0.6297\n",
      "Epoch 19/50\n",
      "11/11 [==============================] - 3s 293ms/step - loss: 1.1811 - accuracy: 0.6222\n",
      "Epoch 20/50\n",
      "11/11 [==============================] - 3s 294ms/step - loss: 1.1418 - accuracy: 0.6381\n",
      "Epoch 21/50\n",
      "11/11 [==============================] - 3s 293ms/step - loss: 1.0841 - accuracy: 0.6594\n",
      "Epoch 22/50\n",
      "11/11 [==============================] - 3s 295ms/step - loss: 1.0675 - accuracy: 0.6623\n",
      "Epoch 23/50\n",
      "11/11 [==============================] - 3s 304ms/step - loss: 1.0401 - accuracy: 0.6742\n",
      "Epoch 24/50\n",
      "11/11 [==============================] - 3s 297ms/step - loss: 1.0100 - accuracy: 0.6739\n",
      "Epoch 25/50\n",
      "11/11 [==============================] - 3s 296ms/step - loss: 0.9586 - accuracy: 0.6924\n",
      "Epoch 26/50\n",
      "11/11 [==============================] - 3s 295ms/step - loss: 0.9625 - accuracy: 0.6915\n",
      "Epoch 27/50\n",
      "11/11 [==============================] - 3s 308ms/step - loss: 0.9169 - accuracy: 0.7083\n",
      "Epoch 28/50\n",
      "11/11 [==============================] - 3s 311ms/step - loss: 0.9038 - accuracy: 0.7021\n",
      "Epoch 29/50\n",
      "11/11 [==============================] - 3s 301ms/step - loss: 0.8799 - accuracy: 0.7177\n",
      "Epoch 30/50\n",
      "11/11 [==============================] - 3s 298ms/step - loss: 0.8654 - accuracy: 0.7248\n",
      "Epoch 31/50\n",
      "11/11 [==============================] - 3s 298ms/step - loss: 0.8391 - accuracy: 0.7362\n",
      "Epoch 32/50\n",
      "11/11 [==============================] - 3s 300ms/step - loss: 0.8054 - accuracy: 0.7314\n",
      "Epoch 33/50\n",
      "11/11 [==============================] - 3s 308ms/step - loss: 0.8067 - accuracy: 0.7338\n",
      "Epoch 34/50\n",
      "11/11 [==============================] - 3s 293ms/step - loss: 0.7745 - accuracy: 0.7426\n",
      "Epoch 35/50\n",
      "11/11 [==============================] - 3s 295ms/step - loss: 0.7436 - accuracy: 0.7556\n",
      "Epoch 36/50\n",
      "11/11 [==============================] - 3s 295ms/step - loss: 0.7263 - accuracy: 0.7664\n",
      "Epoch 37/50\n",
      "11/11 [==============================] - 3s 300ms/step - loss: 0.6982 - accuracy: 0.7690\n",
      "Epoch 38/50\n",
      "11/11 [==============================] - 3s 294ms/step - loss: 0.6971 - accuracy: 0.7677\n",
      "Epoch 39/50\n",
      "11/11 [==============================] - 3s 302ms/step - loss: 0.6775 - accuracy: 0.7792\n",
      "Epoch 40/50\n",
      "11/11 [==============================] - 3s 303ms/step - loss: 0.6623 - accuracy: 0.7801\n",
      "Epoch 41/50\n",
      "11/11 [==============================] - 3s 312ms/step - loss: 0.6379 - accuracy: 0.7893\n",
      "Epoch 42/50\n",
      "11/11 [==============================] - 3s 295ms/step - loss: 0.6625 - accuracy: 0.7829\n",
      "Epoch 43/50\n",
      "11/11 [==============================] - 3s 303ms/step - loss: 0.6487 - accuracy: 0.7867\n",
      "Epoch 44/50\n",
      "11/11 [==============================] - 3s 293ms/step - loss: 0.6058 - accuracy: 0.7937\n",
      "Epoch 45/50\n",
      "11/11 [==============================] - 3s 295ms/step - loss: 0.6005 - accuracy: 0.7983\n",
      "Epoch 46/50\n",
      "11/11 [==============================] - 3s 294ms/step - loss: 0.5740 - accuracy: 0.8107\n",
      "Epoch 47/50\n",
      "11/11 [==============================] - 3s 296ms/step - loss: 0.5557 - accuracy: 0.8144\n",
      "Epoch 48/50\n",
      "11/11 [==============================] - 3s 298ms/step - loss: 0.5424 - accuracy: 0.8197\n",
      "Epoch 49/50\n",
      "11/11 [==============================] - 3s 303ms/step - loss: 0.5468 - accuracy: 0.8098\n",
      "Epoch 50/50\n",
      "11/11 [==============================] - 3s 288ms/step - loss: 0.5141 - accuracy: 0.8237\n"
     ]
    }
   ],
   "source": [
    "# Standard.\n",
    "model_cnn_2_standard_total = get_model_cnn_v2(input_shape=(64, 64, 3))\n",
    "samples_weight = compute_sample_weight(\"balanced\", y_train_total_standard)\n",
    "model_cnn_2_standard_total.compile(optimizer='adam', loss='sparse_categorical_crossentropy', metrics=['accuracy'])\n",
    "history_v2_standard = model_cnn_2_standard_total.fit(\n",
    "    x=x_train_total_standard,\n",
    "    y=y_train_total_standard,\n",
    "    batch_size=512,\n",
    "    epochs=50,\n",
    "    sample_weight=samples_weight\n",
    ")"
   ]
  },
  {
   "cell_type": "code",
   "execution_count": 31,
   "metadata": {},
   "outputs": [
    {
     "name": "stdout",
     "output_type": "stream",
     "text": [
      "19/19 [==============================] - 1s 18ms/step\n"
     ]
    }
   ],
   "source": [
    "os.makedirs('working/predictions', exist_ok=True)\n",
    "y_prediction_standard = model_cnn_2_standard_total.predict(x_final_standard)\n",
    "y_prediction_standard = np.argmax(y_prediction_standard, axis=1)\n",
    "result = pd.DataFrame({'path': df_test.path, 'classId': y_prediction_standard})\n",
    "result.to_csv('working/predictions/submission_model_2_standard.csv', index=False)"
   ]
  },
  {
   "cell_type": "markdown",
   "metadata": {},
   "source": [
    "In conlusion, the best accuracy I have reach is 0.8. I believe this score can be improved with more parameters, other model configurations, etc."
   ]
  }
 ],
 "metadata": {
  "kernelspec": {
   "display_name": "Python 3",
   "language": "python",
   "name": "python3"
  },
  "language_info": {
   "codemirror_mode": {
    "name": "ipython",
    "version": 3
   },
   "file_extension": ".py",
   "mimetype": "text/x-python",
   "name": "python",
   "nbconvert_exporter": "python",
   "pygments_lexer": "ipython3",
   "version": "3.11.7"
  }
 },
 "nbformat": 4,
 "nbformat_minor": 2
}

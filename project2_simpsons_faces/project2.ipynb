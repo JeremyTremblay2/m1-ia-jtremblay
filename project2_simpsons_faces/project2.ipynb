{
 "cells": [
  {
   "cell_type": "markdown",
   "metadata": {},
   "source": [
    "#### Jérémy TREMBLAY"
   ]
  },
  {
   "cell_type": "markdown",
   "metadata": {},
   "source": [
    "# Project 2: The Simpsons Faces"
   ]
  },
  {
   "cell_type": "code",
   "execution_count": 1,
   "metadata": {},
   "outputs": [
    {
     "name": "stdout",
     "output_type": "stream",
     "text": [
      "WARNING:tensorflow:From C:\\Users\\jtrem\\AppData\\Local\\Packages\\PythonSoftwareFoundation.Python.3.11_qbz5n2kfra8p0\\LocalCache\\local-packages\\Python311\\site-packages\\keras\\src\\losses.py:2976: The name tf.losses.sparse_softmax_cross_entropy is deprecated. Please use tf.compat.v1.losses.sparse_softmax_cross_entropy instead.\n",
      "\n"
     ]
    }
   ],
   "source": [
    "# Import used in this notebook.\n",
    "import os\n",
    "import h5py\n",
    "import random\n",
    "import numpy as np\n",
    "import pandas as pd\n",
    "import matplotlib.pyplot as plt\n",
    "\n",
    "from skimage import io, color, exposure, transform\n",
    "from sklearn.utils.class_weight import compute_sample_weight\n",
    "from tensorflow import keras\n",
    "from keras.models import Sequential\n",
    "from keras.layers import Input, Conv2D, Flatten, Dense, Dropout, MaxPooling2D, BatchNormalization"
   ]
  },
  {
   "cell_type": "markdown",
   "metadata": {},
   "source": [
    "Fix seeds for reprodutiblity principles."
   ]
  },
  {
   "cell_type": "code",
   "execution_count": 2,
   "metadata": {},
   "outputs": [],
   "source": [
    "np.random.seed(42)\n",
    "random.seed(42)"
   ]
  },
  {
   "cell_type": "markdown",
   "metadata": {},
   "source": [
    "In the subfolder of this path, there is a dataset extracted from The Simpsons serie.\n",
    "The mission is to classify correctly each person for each image to the corresponding personnage. This dataset is composed of more than 6000 images for training and nearly 600 for testing. Each image is associated with a class. The dataset offers 18 different classes, i.e. 18 different characters from The Simpsons.\n",
    "\n",
    "Constraints:\n",
    "* Don't cheat!\n",
    "* Respect a model with at most 1M parameters (it will be checked)\n",
    "* Max dataset image size must be (64, 64)\n",
    "\n",
    "**The goal of this notebook is to realize the best possible model to predict data.**"
   ]
  },
  {
   "cell_type": "markdown",
   "metadata": {},
   "source": [
    "## First step : load data"
   ]
  },
  {
   "cell_type": "markdown",
   "metadata": {},
   "source": [
    "The first step is to load the two CSV that will be used in this notebook with `pandas`."
   ]
  },
  {
   "cell_type": "code",
   "execution_count": 3,
   "metadata": {},
   "outputs": [
    {
     "name": "stdout",
     "output_type": "stream",
     "text": [
      "   width  height          className  classId                path\n",
      "0    236     333       bart_simpson        2  dataset_000000.png\n",
      "1    154     223       nelson_muntz       15  dataset_000001.png\n",
      "2    187     294      kent_brockman        8  dataset_000002.png\n",
      "3    219     281       ned_flanders       14  dataset_000003.png\n",
      "4    278     384  principal_skinner       16  dataset_000004.png\n",
      "---------------------------------------------------\n",
      "   width  height             path\n",
      "0    194     328  test_000000.png\n",
      "1    236     363  test_000001.png\n",
      "2    185     373  test_000002.png\n",
      "3    380     399  test_000003.png\n",
      "4    152     294  test_000004.png\n"
     ]
    }
   ],
   "source": [
    "# Specify the relative path of the the files.\n",
    "train_file_path = 'datasets/train.csv'\n",
    "test_file_path = 'datasets/test.csv'\n",
    "\n",
    "# Load the database into a DataFrame.\n",
    "df_train = pd.read_csv(train_file_path)\n",
    "df_test = pd.read_csv(test_file_path)\n",
    "\n",
    "# Display the first few rows of the DataFrame with head.\n",
    "print(df_train.head())\n",
    "print(\"---------------------------------------------------\")\n",
    "print(df_test.head())"
   ]
  },
  {
   "cell_type": "markdown",
   "metadata": {},
   "source": [
    "Perfect. We will now explore data."
   ]
  },
  {
   "cell_type": "code",
   "execution_count": 4,
   "metadata": {},
   "outputs": [
    {
     "name": "stdout",
     "output_type": "stream",
     "text": [
      "width        False\n",
      "height       False\n",
      "className    False\n",
      "classId      False\n",
      "path         False\n",
      "dtype: bool\n",
      "width     False\n",
      "height    False\n",
      "path      False\n",
      "dtype: bool\n"
     ]
    }
   ],
   "source": [
    "print(df_train.isnull().any())\n",
    "print(df_test.isnull().any())"
   ]
  },
  {
   "cell_type": "markdown",
   "metadata": {},
   "source": [
    "The datasets are already clean, we can easily read it now and search some information."
   ]
  },
  {
   "cell_type": "code",
   "execution_count": 5,
   "metadata": {},
   "outputs": [
    {
     "name": "stdout",
     "output_type": "stream",
     "text": [
      "(5458, 5)\n",
      "(596, 3)\n"
     ]
    }
   ],
   "source": [
    "# Know the dimensions of the dataframes.\n",
    "print(df_train.shape)\n",
    "print(df_test.shape)"
   ]
  },
  {
   "cell_type": "markdown",
   "metadata": {},
   "source": [
    "There is 5458 rows and 5 columns for the train dataset and 596 rows and 3 columns for the test dataset, let's check the content more in detail with some stats."
   ]
  },
  {
   "cell_type": "code",
   "execution_count": 6,
   "metadata": {},
   "outputs": [
    {
     "name": "stdout",
     "output_type": "stream",
     "text": [
      "<class 'pandas.core.frame.DataFrame'>\n",
      "RangeIndex: 5458 entries, 0 to 5457\n",
      "Data columns (total 5 columns):\n",
      " #   Column     Non-Null Count  Dtype \n",
      "---  ------     --------------  ----- \n",
      " 0   width      5458 non-null   int64 \n",
      " 1   height     5458 non-null   int64 \n",
      " 2   className  5458 non-null   object\n",
      " 3   classId    5458 non-null   int64 \n",
      " 4   path       5458 non-null   object\n",
      "dtypes: int64(3), object(2)\n",
      "memory usage: 213.3+ KB\n"
     ]
    }
   ],
   "source": [
    "# Display usefull information about the train dataset.\n",
    "df_train.info()"
   ]
  },
  {
   "cell_type": "code",
   "execution_count": 7,
   "metadata": {},
   "outputs": [
    {
     "name": "stdout",
     "output_type": "stream",
     "text": [
      "<class 'pandas.core.frame.DataFrame'>\n",
      "RangeIndex: 596 entries, 0 to 595\n",
      "Data columns (total 3 columns):\n",
      " #   Column  Non-Null Count  Dtype \n",
      "---  ------  --------------  ----- \n",
      " 0   width   596 non-null    int64 \n",
      " 1   height  596 non-null    int64 \n",
      " 2   path    596 non-null    object\n",
      "dtypes: int64(2), object(1)\n",
      "memory usage: 14.1+ KB\n"
     ]
    }
   ],
   "source": [
    "# Display usefull information about the test dataset.\n",
    "df_test.info()"
   ]
  },
  {
   "cell_type": "code",
   "execution_count": 8,
   "metadata": {},
   "outputs": [
    {
     "data": {
      "text/html": [
       "<div>\n",
       "<style scoped>\n",
       "    .dataframe tbody tr th:only-of-type {\n",
       "        vertical-align: middle;\n",
       "    }\n",
       "\n",
       "    .dataframe tbody tr th {\n",
       "        vertical-align: top;\n",
       "    }\n",
       "\n",
       "    .dataframe thead th {\n",
       "        text-align: right;\n",
       "    }\n",
       "</style>\n",
       "<table border=\"1\" class=\"dataframe\">\n",
       "  <thead>\n",
       "    <tr style=\"text-align: right;\">\n",
       "      <th></th>\n",
       "      <th>width</th>\n",
       "      <th>height</th>\n",
       "      <th>classId</th>\n",
       "    </tr>\n",
       "  </thead>\n",
       "  <tbody>\n",
       "    <tr>\n",
       "      <th>count</th>\n",
       "      <td>5458.000000</td>\n",
       "      <td>5458.000000</td>\n",
       "      <td>5458.000000</td>\n",
       "    </tr>\n",
       "    <tr>\n",
       "      <th>mean</th>\n",
       "      <td>226.390253</td>\n",
       "      <td>312.764749</td>\n",
       "      <td>8.030781</td>\n",
       "    </tr>\n",
       "    <tr>\n",
       "      <th>std</th>\n",
       "      <td>73.223297</td>\n",
       "      <td>82.585173</td>\n",
       "      <td>5.278480</td>\n",
       "    </tr>\n",
       "    <tr>\n",
       "      <th>min</th>\n",
       "      <td>111.000000</td>\n",
       "      <td>114.000000</td>\n",
       "      <td>0.000000</td>\n",
       "    </tr>\n",
       "    <tr>\n",
       "      <th>25%</th>\n",
       "      <td>173.000000</td>\n",
       "      <td>252.000000</td>\n",
       "      <td>3.000000</td>\n",
       "    </tr>\n",
       "    <tr>\n",
       "      <th>50%</th>\n",
       "      <td>214.000000</td>\n",
       "      <td>317.000000</td>\n",
       "      <td>8.000000</td>\n",
       "    </tr>\n",
       "    <tr>\n",
       "      <th>75%</th>\n",
       "      <td>264.000000</td>\n",
       "      <td>373.000000</td>\n",
       "      <td>13.000000</td>\n",
       "    </tr>\n",
       "    <tr>\n",
       "      <th>max</th>\n",
       "      <td>629.000000</td>\n",
       "      <td>618.000000</td>\n",
       "      <td>17.000000</td>\n",
       "    </tr>\n",
       "  </tbody>\n",
       "</table>\n",
       "</div>"
      ],
      "text/plain": [
       "             width       height      classId\n",
       "count  5458.000000  5458.000000  5458.000000\n",
       "mean    226.390253   312.764749     8.030781\n",
       "std      73.223297    82.585173     5.278480\n",
       "min     111.000000   114.000000     0.000000\n",
       "25%     173.000000   252.000000     3.000000\n",
       "50%     214.000000   317.000000     8.000000\n",
       "75%     264.000000   373.000000    13.000000\n",
       "max     629.000000   618.000000    17.000000"
      ]
     },
     "execution_count": 8,
     "metadata": {},
     "output_type": "execute_result"
    }
   ],
   "source": [
    "df_train.describe()"
   ]
  },
  {
   "cell_type": "code",
   "execution_count": 9,
   "metadata": {},
   "outputs": [
    {
     "data": {
      "text/html": [
       "<div>\n",
       "<style scoped>\n",
       "    .dataframe tbody tr th:only-of-type {\n",
       "        vertical-align: middle;\n",
       "    }\n",
       "\n",
       "    .dataframe tbody tr th {\n",
       "        vertical-align: top;\n",
       "    }\n",
       "\n",
       "    .dataframe thead th {\n",
       "        text-align: right;\n",
       "    }\n",
       "</style>\n",
       "<table border=\"1\" class=\"dataframe\">\n",
       "  <thead>\n",
       "    <tr style=\"text-align: right;\">\n",
       "      <th></th>\n",
       "      <th>width</th>\n",
       "      <th>height</th>\n",
       "    </tr>\n",
       "  </thead>\n",
       "  <tbody>\n",
       "    <tr>\n",
       "      <th>count</th>\n",
       "      <td>596.000000</td>\n",
       "      <td>596.00000</td>\n",
       "    </tr>\n",
       "    <tr>\n",
       "      <th>mean</th>\n",
       "      <td>228.652685</td>\n",
       "      <td>315.07047</td>\n",
       "    </tr>\n",
       "    <tr>\n",
       "      <th>std</th>\n",
       "      <td>79.461392</td>\n",
       "      <td>85.25644</td>\n",
       "    </tr>\n",
       "    <tr>\n",
       "      <th>min</th>\n",
       "      <td>112.000000</td>\n",
       "      <td>130.00000</td>\n",
       "    </tr>\n",
       "    <tr>\n",
       "      <th>25%</th>\n",
       "      <td>173.750000</td>\n",
       "      <td>253.00000</td>\n",
       "    </tr>\n",
       "    <tr>\n",
       "      <th>50%</th>\n",
       "      <td>210.000000</td>\n",
       "      <td>319.00000</td>\n",
       "    </tr>\n",
       "    <tr>\n",
       "      <th>75%</th>\n",
       "      <td>269.250000</td>\n",
       "      <td>380.00000</td>\n",
       "    </tr>\n",
       "    <tr>\n",
       "      <th>max</th>\n",
       "      <td>800.000000</td>\n",
       "      <td>816.00000</td>\n",
       "    </tr>\n",
       "  </tbody>\n",
       "</table>\n",
       "</div>"
      ],
      "text/plain": [
       "            width     height\n",
       "count  596.000000  596.00000\n",
       "mean   228.652685  315.07047\n",
       "std     79.461392   85.25644\n",
       "min    112.000000  130.00000\n",
       "25%    173.750000  253.00000\n",
       "50%    210.000000  319.00000\n",
       "75%    269.250000  380.00000\n",
       "max    800.000000  816.00000"
      ]
     },
     "execution_count": 9,
     "metadata": {},
     "output_type": "execute_result"
    }
   ],
   "source": [
    "df_test.describe()"
   ]
  },
  {
   "cell_type": "markdown",
   "metadata": {},
   "source": [
    "Since we want to predict the class of the simpson, we will use the columns `path` which contains the path to the image of the simpson. The dataset also provides the width and length of the images and the `className` containing the name of the personnage and its associated `classId`. For the test dataset, we also have the size of the image and their paths, but not their classes because it is what we want to know.\n",
    "Let's check the number of simpsonfor each class in the train dataset to see if the data is well balanced between the classes."
   ]
  },
  {
   "cell_type": "code",
   "execution_count": 10,
   "metadata": {},
   "outputs": [
    {
     "data": {
      "text/plain": [
       "className\n",
       "homer_simpson               533\n",
       "abraham_grampa_simpson      512\n",
       "marge_simpson               491\n",
       "bart_simpson                485\n",
       "ned_flanders                483\n",
       "charles_montgomery_burns    461\n",
       "lisa_simpson                420\n",
       "principal_skinner           407\n",
       "nelson_muntz                186\n",
       "krusty_the_clown            186\n",
       "chief_wiggum                181\n",
       "kent_brockman               168\n",
       "apu_nahasapeemapetilon      166\n",
       "edna_krabappel              164\n",
       "moe_szyslak                 164\n",
       "milhouse_van_houten         164\n",
       "comic_book_guy              149\n",
       "sideshow_bob                138\n",
       "Name: count, dtype: int64"
      ]
     },
     "execution_count": 10,
     "metadata": {},
     "output_type": "execute_result"
    }
   ],
   "source": [
    "df_train.className.value_counts()"
   ]
  },
  {
   "cell_type": "markdown",
   "metadata": {},
   "source": [
    "We can see that the data is not balanced between the classes. For example, there is more often marge simpson than kent brockman. We will use a tool later to balance the data and improve the training of our model, this is an important step.   \n",
    "\n",
    "We also need to do a dictionnary to link a `classId` to it's `className` to display some data, it can be usefull but just for us because our model will only use the `classId` to separate the images. Let's do it."
   ]
  },
  {
   "cell_type": "code",
   "execution_count": 11,
   "metadata": {},
   "outputs": [
    {
     "name": "stdout",
     "output_type": "stream",
     "text": [
      "{2: 'bart_simpson', 15: 'nelson_muntz', 8: 'kent_brockman', 14: 'ned_flanders', 16: 'principal_skinner', 0: 'abraham_grampa_simpson', 11: 'marge_simpson', 3: 'charles_montgomery_burns', 5: 'comic_book_guy', 7: 'homer_simpson', 6: 'edna_krabappel', 4: 'chief_wiggum', 10: 'lisa_simpson', 9: 'krusty_the_clown', 13: 'moe_szyslak', 1: 'apu_nahasapeemapetilon', 12: 'milhouse_van_houten', 17: 'sideshow_bob'}\n"
     ]
    }
   ],
   "source": [
    "# Create a dictionnary to associate a classId to a className.\n",
    "class_dict = dict(zip(df_train['classId'], df_train['className']))\n",
    "\n",
    "# Display data.\n",
    "print(class_dict)"
   ]
  },
  {
   "cell_type": "markdown",
   "metadata": {},
   "source": [
    "We are now ready to work with the data to separate it."
   ]
  },
  {
   "cell_type": "markdown",
   "metadata": {},
   "source": [
    "## Second step : separate data"
   ]
  },
  {
   "cell_type": "markdown",
   "metadata": {},
   "source": [
    "We must use our train dataset and split it to use it to train and test our model and check his performances. The test dataset cannot be used for that because it contains the data we want to predict, and we cannot check the effiency of the mdoel with it. We do not need to clean the dataset as saw at the previous step and we will not used the `width` and `heigh` columns of the datasets because they are not usefull. The `className` is usefull just for us, as human, to read the name of the simpson, but the model will use the integer value of the `classId` column to classify the data. We want to separate our data : 80% for train and 20% for test."
   ]
  },
  {
   "cell_type": "code",
   "execution_count": 12,
   "metadata": {},
   "outputs": [],
   "source": [
    "# Separate the dataset in two sets.\n",
    "data = df_train.sample(frac=1., axis=0, random_state=42)\n",
    "data_train = data.sample(frac=0.8, axis=0, random_state=42) # 80 / 20\n",
    "data_test = data.drop(data_train.index)"
   ]
  },
  {
   "cell_type": "markdown",
   "metadata": {},
   "source": [
    "Now our data is separated, we need to process it. In fact, we have here images of different sizes as seen previously, so we need to resize all of them at the same size and also apply a treatment on them. Then it will be possible to use our data to train our model."
   ]
  },
  {
   "cell_type": "markdown",
   "metadata": {},
   "source": [
    "## Thrid step: process and normalize data "
   ]
  },
  {
   "cell_type": "markdown",
   "metadata": {},
   "source": [
    "We must resize all the images at the same size. At the first step, we have seen that all the images are larger than 100x100 so we can resize them to a 64x64 format.  \n",
    "We can also preprocess images by applying them an effect, for example, we can apply a gray scale or transform them into RGB images before normalizing them. This step will for sure modify the performance of our model, so we need to do a function if we want to test various solutions."
   ]
  },
  {
   "cell_type": "code",
   "execution_count": 13,
   "metadata": {},
   "outputs": [],
   "source": [
    "def preprocessing_and_normalizing(dataframe, folder='train', transformation=0):\n",
    "    out_x_train = []\n",
    "    img_size = (64, 64)\n",
    "    folder = 'datasets/simpsons/' + folder\n",
    "\n",
    "    # Iterate through each image of our dataset.\n",
    "    for i, row in dataframe.iterrows():\n",
    "        # Read image content.\n",
    "        img_path = os.path.join(folder, row['path'])\n",
    "        img_arr = io.imread(img_path)\n",
    "\n",
    "        # Resize image to new shape.\n",
    "        img_arr = transform.resize(img_arr, img_size, preserve_range=True)\n",
    "\n",
    "        # Here come the transformation part. Depending on the tranformation parameter given to the function, something will be apply to the images.\n",
    "        if transformation == 1: # Gray scale.\n",
    "            img_arr = color.rgb2gray(img_arr).reshape(img_size[0], img_size[1], 1)\n",
    "        elif transformation == 2: # Better exposure.\n",
    "            img_arr = exposure.rescale_intensity(img_arr)\n",
    "        elif transformation == 3: # Better exposure + gray scale.\n",
    "            img_arr = exposure.rescale_intensity(img_arr)\n",
    "            img_arr = color.rgb2gray(img_arr).reshape(img_size[0], img_size[1], 1)\n",
    "\n",
    "        # Normalize image and add it to the list.\n",
    "        img_arr = img_arr / 255.\n",
    "\n",
    "        out_x_train.append(img_arr)\n",
    "    \n",
    "    # Return new normalized data.\n",
    "    return out_x_train"
   ]
  },
  {
   "cell_type": "markdown",
   "metadata": {},
   "source": [
    "Later in this challenge, I wanted to test other combinations with gray scale or RGB, so I decided to add this transformation parameter in this function and the associated treatments.  \n",
    "\n",
    "Now the data is ready, there is a last thing to do before using it: we mut save it to avoid to reload and process again all the data each time we want to test our models."
   ]
  },
  {
   "cell_type": "markdown",
   "metadata": {},
   "source": [
    "## Fourth step: Create a dataset file"
   ]
  },
  {
   "cell_type": "markdown",
   "metadata": {},
   "source": [
    "Let's now use our function to save our data in a h5 file to easily load it again. We first create two functions to load and save."
   ]
  },
  {
   "cell_type": "code",
   "execution_count": 14,
   "metadata": {},
   "outputs": [],
   "source": [
    "# Define constants and create folder if not existing.\n",
    "output_folder = 'working/datasets'\n",
    "os.makedirs(output_folder, exist_ok=True)\n",
    "\n",
    "def save_dataset(out_x_train, out_x_test, filename):\n",
    "    # Open & create the file and image save data inside to reuse it.\n",
    "    with h5py.File(os.path.join(output_folder, filename), \"w\") as f:\n",
    "        f.create_dataset(\"x_train\", data=out_x_train)\n",
    "        f.create_dataset(\"y_train\", data=data_train.classId.to_numpy())\n",
    "\n",
    "        # Do the same for test data. \n",
    "        f.create_dataset(\"x_test\", data=out_x_test)\n",
    "        f.create_dataset(\"y_test\", data=data_test.classId.to_numpy())\n",
    "\n",
    "def read_dataset(filename):\n",
    "    # Read dataset h5 file.\n",
    "    with h5py.File(os.path.join(output_folder, filename), 'r') as f:\n",
    "        x_train = f['x_train'][:]\n",
    "        y_train = f['y_train'][:]\n",
    "\n",
    "        # Do the same for test data.\n",
    "        x_test = f['x_test'][:]\n",
    "        y_test = f['y_test'][:]\n",
    "\n",
    "    return x_train, y_train, x_test, y_test"
   ]
  },
  {
   "cell_type": "markdown",
   "metadata": {},
   "source": [
    "Now let use our functions to load our images from dataframe, process them, save them into different h5 files: one with no processing, one with a gray scale and the other with RGB. This will be usefull later."
   ]
  },
  {
   "cell_type": "code",
   "execution_count": 15,
   "metadata": {},
   "outputs": [],
   "source": [
    "# With no processing. We normalize our two dataframe : train and test and then save them into the file.\n",
    "out_x_train = preprocessing_and_normalizing(data_train)\n",
    "out_x_test = preprocessing_and_normalizing(data_test)\n",
    "save_dataset(out_x_train, out_x_test, \"dataset_standard.h5\")\n",
    "\n",
    "# With gray scale.\n",
    "out_x_train = preprocessing_and_normalizing(data_train, transformation=1)\n",
    "out_x_test = preprocessing_and_normalizing(data_test, transformation=1)\n",
    "save_dataset(out_x_train, out_x_test, \"dataset_gray.h5\")\n",
    "\n",
    "# With RGB (better exposure).\n",
    "out_x_train = preprocessing_and_normalizing(data_train, transformation=2)\n",
    "out_x_test = preprocessing_and_normalizing(data_test, transformation=2)\n",
    "save_dataset(out_x_train, out_x_test, \"dataset_exposure.h5\")\n",
    "\n",
    "# With better exposure + gray scale.\n",
    "out_x_train = preprocessing_and_normalizing(data_train, transformation=3)\n",
    "out_x_test = preprocessing_and_normalizing(data_test, transformation=3)\n",
    "save_dataset(out_x_train, out_x_test, \"dataset_exposure_gray.h5\")"
   ]
  },
  {
   "cell_type": "markdown",
   "metadata": {},
   "source": [
    "Let processing the test data now (the thing we want to predict) and save it."
   ]
  },
  {
   "cell_type": "code",
   "execution_count": 20,
   "metadata": {},
   "outputs": [],
   "source": [
    "# With no processing.\n",
    "out_x_final = preprocessing_and_normalizing(df_test, folder='test')\n",
    "dataset_file_final = os.path.join(output_folder, 'dataset_standard_final.h5')\n",
    "with h5py.File(dataset_file_final, \"w\") as f:\n",
    "    f.create_dataset(\"x_test\",  data=out_x_final)\n",
    "\n",
    "# With gray scale.\n",
    "out_x_final = preprocessing_and_normalizing(df_test, folder='test', transformation=1)\n",
    "dataset_file_final = os.path.join(output_folder, 'dataset_gray_final.h5')\n",
    "with h5py.File(dataset_file_final, \"w\") as f:\n",
    "    f.create_dataset(\"x_test\",  data=out_x_final)\n",
    "\n",
    "# With RGB (better exposure).\n",
    "out_x_final = preprocessing_and_normalizing(df_test, folder='test', transformation=2)\n",
    "dataset_file_final = os.path.join(output_folder, 'dataset_exposure_final.h5')\n",
    "with h5py.File(dataset_file_final, \"w\") as f:\n",
    "    f.create_dataset(\"x_test\",  data=out_x_final)\n",
    "\n",
    "# With better exposure + gray scale.\n",
    "out_x_final = preprocessing_and_normalizing(df_test, folder='test', transformation=3)\n",
    "dataset_file_final = os.path.join(output_folder, 'dataset_exposure_gray_final.h5')\n",
    "with h5py.File(dataset_file_final, \"w\") as f:\n",
    "    f.create_dataset(\"x_test\",  data=out_x_final)"
   ]
  },
  {
   "cell_type": "markdown",
   "metadata": {},
   "source": [
    "Now we have our data we are ready to create a model, train it and see results."
   ]
  },
  {
   "cell_type": "markdown",
   "metadata": {},
   "source": [
    "## Fifth step: read data"
   ]
  },
  {
   "cell_type": "markdown",
   "metadata": {},
   "source": [
    "Now we have our data saved, let's read it to yuse it."
   ]
  },
  {
   "cell_type": "code",
   "execution_count": 27,
   "metadata": {},
   "outputs": [],
   "source": [
    "x_train_standard, y_train_standard, x_test_standard, y_test_standard = read_dataset(\"dataset_standard.h5\")\n",
    "x_train_gray, y_train_gray, x_test_gray, y_test_gray = read_dataset(\"dataset_gray.h5\")\n",
    "x_train_exposure, y_train_exposure, x_test_exposure, y_test_exposure = read_dataset(\"dataset_exposure.h5\")\n",
    "x_train_exposure_gray, y_train_exposure_gray, x_test_exposure_gray, y_test_exposure_gray = read_dataset(\"dataset_exposure_gray.h5\")"
   ]
  },
  {
   "cell_type": "markdown",
   "metadata": {},
   "source": [
    "Do the same for our final predictions."
   ]
  },
  {
   "cell_type": "code",
   "execution_count": 25,
   "metadata": {},
   "outputs": [],
   "source": [
    "with h5py.File(os.path.join(output_folder, 'dataset_standard_final.h5'), 'r') as f:\n",
    "    x_final_standard = f['x_test'][:]\n",
    "with h5py.File(os.path.join(output_folder, 'dataset_gray_final.h5'), 'r') as f:\n",
    "    x_final_gray = f['x_test'][:]\n",
    "with h5py.File(os.path.join(output_folder, 'dataset_exposure_final.h5'), 'r') as f:\n",
    "    x_final_exposure = f['x_test'][:]\n",
    "with h5py.File(os.path.join(output_folder, 'dataset_exposure_gray_final.h5'), 'r') as f:\n",
    "    x_final_exposure_gray = f['x_test'][:]"
   ]
  },
  {
   "cell_type": "markdown",
   "metadata": {},
   "source": [
    "Let's check the sizes to be sure everything is ok."
   ]
  },
  {
   "cell_type": "code",
   "execution_count": 31,
   "metadata": {},
   "outputs": [
    {
     "name": "stdout",
     "output_type": "stream",
     "text": [
      "(4366, 64, 64, 3)\n",
      "(4366, 64, 64, 3)\n",
      "(4366, 64, 64, 1)\n",
      "(4366, 64, 64, 1)\n",
      "(1092, 64, 64, 3)\n",
      "(1092, 64, 64, 3)\n",
      "(1092, 64, 64, 1)\n",
      "(1092, 64, 64, 1)\n",
      "(4366,)\n",
      "(4366,)\n",
      "(4366,)\n",
      "(4366,)\n",
      "(1092,)\n",
      "(1092,)\n",
      "(1092,)\n",
      "(1092,)\n",
      "(596, 64, 64, 3)\n",
      "(596, 64, 64, 3)\n",
      "(596, 64, 64, 1)\n",
      "(596, 64, 64, 1)\n"
     ]
    }
   ],
   "source": [
    "print(x_train_exposure.shape)\n",
    "print(x_train_standard.shape)\n",
    "print(x_train_gray.shape)\n",
    "print(x_train_exposure_gray.shape)\n",
    "print(x_test_exposure.shape)\n",
    "print(x_test_standard.shape)\n",
    "print(x_test_gray.shape)\n",
    "print(x_test_exposure_gray.shape)\n",
    "\n",
    "print(y_train_standard.shape)\n",
    "print(y_train_gray.shape)\n",
    "print(y_train_exposure.shape)\n",
    "print(y_train_exposure_gray.shape)\n",
    "print(y_test_exposure.shape)\n",
    "print(y_test_standard.shape)\n",
    "print(y_test_gray.shape)\n",
    "print(y_test_exposure_gray.shape)\n",
    "\n",
    "print(x_final_exposure.shape)\n",
    "print(x_final_standard.shape)\n",
    "print(x_final_gray.shape)\n",
    "print(x_final_exposure_gray.shape)"
   ]
  },
  {
   "cell_type": "markdown",
   "metadata": {},
   "source": [
    "It's seems ok. We note that we have a 3 sized images for the standard and exposure images only, this is beecause they are RGB images, the others are a gray scale. We will try our models on all these types of images to see which one is the best."
   ]
  },
  {
   "cell_type": "markdown",
   "metadata": {},
   "source": [
    "## Sixth step: Create and train a CNN"
   ]
  },
  {
   "cell_type": "markdown",
   "metadata": {},
   "source": [
    "We are now in the core subject of this project. Our model will be a CNN. We will do NOT use a DNN because we know that the CNN can make better performances than DNN (in overall), so we will directly skip to a CNN. But first, we need to define a `get_model` function to create such a model. But how can we create our model ? This is simple.  \n",
    "\n",
    "* It will be composed of an Input layer which will take the geometry of the input data as a parameter, here 64* 64 * 1 (in our case we will work with images in grayscale, therefore 1 color).\n",
    "* Inputs will be passed to 2 `Conv2D` layers each with a kernel of 3 * 3, a *stride* of 1 and no *padding*. These layers will respectively return a number of 8 and 16 feature maps (*features maps*). The activation functions will be `ReLu`.\n",
    "* A `Flatten` layer which allows the flattening of data into a vector in order to be able to correctly connect our following layers.\n",
    "* Then, two `Dense` layers, both composed of `ReLu` type activation functions and respectively 128 and 32 neurons.\n",
    "* A `Dropout` layer after each hidden layer.\n",
    "* Finally, a final layer of type `Dense` with a number of neurons corresponding to the number of classes to predict (18 different characters). This will be the output layer."
   ]
  },
  {
   "cell_type": "code",
   "execution_count": 35,
   "metadata": {},
   "outputs": [],
   "source": [
    "def get_model_cnn_v1(input_shape=(64, 64, 1), dropout_rate=0.2):\n",
    "    \"\"\"\n",
    "    Creates a Sequential model for classifying the simpsons using a pooling system.\n",
    "\n",
    "    Parameters:\n",
    "    - input_shape (tuple): The shape of input images (default is (64, 64, 1)).\n",
    "    - dropout_rate (float): The droupout rate used in Droupout (default is 0.2).\n",
    "\n",
    "    Returns:\n",
    "    - model (Sequential): The compiled Keras Sequential model.\n",
    "    \"\"\"\n",
    "    model = Sequential()\n",
    "\n",
    "    # Convolutional layers.\n",
    "    model.add(Input(shape=input_shape))\n",
    "    if len(input_shape) == 3:\n",
    "        model.add(Conv2D(8, kernel_size=(3, 3), strides=1, padding='valid', activation='relu'))\n",
    "        model.add(MaxPooling2D(pool_size=(2, 2)))\n",
    "        model.add(Conv2D(16, kernel_size=(3, 3), strides=1, padding='valid', activation='relu'))\n",
    "        model.add(MaxPooling2D(pool_size=(2, 2)))\n",
    "\n",
    "    # Flatten layer.\n",
    "    model.add(Flatten())\n",
    "\n",
    "    # Dense layers with Dropout.\n",
    "    model.add(Dense(128, activation='relu'))\n",
    "    model.add(Dropout(dropout_rate))\n",
    "    model.add(Dense(32, activation='relu'))\n",
    "    model.add(Dropout(dropout_rate))\n",
    "\n",
    "    # Output layer.\n",
    "    num_classes = 18  # Number of classes (18 simpsons).\n",
    "    model.add(Dense(num_classes, activation='softmax'))\n",
    "\n",
    "    return model"
   ]
  },
  {
   "cell_type": "code",
   "execution_count": 33,
   "metadata": {},
   "outputs": [],
   "source": [
    "# Log directory for TensorBoard.\n",
    "log_dir = 'logs/cnn_v1'\n",
    "os.makedirs(log_dir, exist_ok=True)\n",
    "tensorboard_callback = keras.callbacks.TensorBoard(log_dir=log_dir, histogram_freq=1)"
   ]
  },
  {
   "cell_type": "markdown",
   "metadata": {},
   "source": [
    "Now let's see the number of parameters to be sure there are not more than 1M."
   ]
  },
  {
   "cell_type": "code",
   "execution_count": 49,
   "metadata": {},
   "outputs": [
    {
     "name": "stdout",
     "output_type": "stream",
     "text": [
      "Model: \"sequential_6\"\n",
      "_________________________________________________________________\n",
      " Layer (type)                Output Shape              Param #   \n",
      "=================================================================\n",
      " conv2d_12 (Conv2D)          (None, 62, 62, 8)         224       \n",
      "                                                                 \n",
      " max_pooling2d_10 (MaxPooli  (None, 31, 31, 8)         0         \n",
      " ng2D)                                                           \n",
      "                                                                 \n",
      " conv2d_13 (Conv2D)          (None, 29, 29, 16)        1168      \n",
      "                                                                 \n",
      " max_pooling2d_11 (MaxPooli  (None, 14, 14, 16)        0         \n",
      " ng2D)                                                           \n",
      "                                                                 \n",
      " flatten_6 (Flatten)         (None, 3136)              0         \n",
      "                                                                 \n",
      " dense_18 (Dense)            (None, 128)               401536    \n",
      "                                                                 \n",
      " dropout_12 (Dropout)        (None, 128)               0         \n",
      "                                                                 \n",
      " dense_19 (Dense)            (None, 32)                4128      \n",
      "                                                                 \n",
      " dropout_13 (Dropout)        (None, 32)                0         \n",
      "                                                                 \n",
      " dense_20 (Dense)            (None, 18)                594       \n",
      "                                                                 \n",
      "=================================================================\n",
      "Total params: 407650 (1.56 MB)\n",
      "Trainable params: 407650 (1.56 MB)\n",
      "Non-trainable params: 0 (0.00 Byte)\n",
      "_________________________________________________________________\n"
     ]
    }
   ],
   "source": [
    "model_cnn_1_standard = get_model_cnn_v1(input_shape=(64, 64, 3)) # Because we use a RGB image we precise the 3 here.\n",
    "model_cnn_1_standard.summary()"
   ]
  },
  {
   "cell_type": "markdown",
   "metadata": {},
   "source": [
    "It's good, but the first time I do this, there was over than 7M parameters... To reduce this number I have decided to change my model and add it some pooling to reduce the number of parameters to 400K. Let's train it now. First we will use it on stadard data then try it on the gray scale images, the exposure and the exposure + gray scale images."
   ]
  },
  {
   "cell_type": "code",
   "execution_count": 50,
   "metadata": {},
   "outputs": [],
   "source": [
    "# Define usefull callbacks.\n",
    "save_callback_1 = keras.callbacks.ModelCheckpoint(filepath=\"models/model_v1\", verbose=0, save_best_only=True)\n",
    "tensorboard_callback_1 = keras.callbacks.TensorBoard(log_dir=\"logs/cnn_v1_standard\", histogram_freq=1)\n",
    "\n",
    "# Create folders.\n",
    "os.makedirs('models/', exist_ok=True)\n",
    "os.makedirs('logs/', exist_ok=True)"
   ]
  },
  {
   "cell_type": "code",
   "execution_count": 51,
   "metadata": {},
   "outputs": [
    {
     "name": "stdout",
     "output_type": "stream",
     "text": [
      "Epoch 1/50\n",
      "9/9 [==============================] - ETA: 0s - loss: 2.8743 - accuracy: 0.0735INFO:tensorflow:Assets written to: models\\model_v1\\assets\n"
     ]
    },
    {
     "name": "stderr",
     "output_type": "stream",
     "text": [
      "INFO:tensorflow:Assets written to: models\\model_v1\\assets\n"
     ]
    },
    {
     "name": "stdout",
     "output_type": "stream",
     "text": [
      "9/9 [==============================] - 60s 7s/step - loss: 2.8743 - accuracy: 0.0735 - val_loss: 2.8096 - val_accuracy: 0.1795\n",
      "Epoch 2/50\n",
      "9/9 [==============================] - ETA: 0s - loss: 2.7627 - accuracy: 0.1377INFO:tensorflow:Assets written to: models\\model_v1\\assets\n"
     ]
    },
    {
     "name": "stderr",
     "output_type": "stream",
     "text": [
      "INFO:tensorflow:Assets written to: models\\model_v1\\assets\n"
     ]
    },
    {
     "name": "stdout",
     "output_type": "stream",
     "text": [
      "9/9 [==============================] - 6s 684ms/step - loss: 2.7627 - accuracy: 0.1377 - val_loss: 2.6233 - val_accuracy: 0.1941\n",
      "Epoch 3/50\n",
      "9/9 [==============================] - ETA: 0s - loss: 2.5758 - accuracy: 0.2160INFO:tensorflow:Assets written to: models\\model_v1\\assets\n"
     ]
    },
    {
     "name": "stderr",
     "output_type": "stream",
     "text": [
      "INFO:tensorflow:Assets written to: models\\model_v1\\assets\n"
     ]
    },
    {
     "name": "stdout",
     "output_type": "stream",
     "text": [
      "9/9 [==============================] - 5s 567ms/step - loss: 2.5758 - accuracy: 0.2160 - val_loss: 2.3997 - val_accuracy: 0.3425\n",
      "Epoch 4/50\n",
      "9/9 [==============================] - ETA: 0s - loss: 2.3582 - accuracy: 0.2671INFO:tensorflow:Assets written to: models\\model_v1\\assets\n"
     ]
    },
    {
     "name": "stderr",
     "output_type": "stream",
     "text": [
      "INFO:tensorflow:Assets written to: models\\model_v1\\assets\n"
     ]
    },
    {
     "name": "stdout",
     "output_type": "stream",
     "text": [
      "9/9 [==============================] - 5s 659ms/step - loss: 2.3582 - accuracy: 0.2671 - val_loss: 2.0859 - val_accuracy: 0.4396\n",
      "Epoch 5/50\n",
      "9/9 [==============================] - ETA: 0s - loss: 2.1475 - accuracy: 0.3399INFO:tensorflow:Assets written to: models\\model_v1\\assets\n"
     ]
    },
    {
     "name": "stderr",
     "output_type": "stream",
     "text": [
      "INFO:tensorflow:Assets written to: models\\model_v1\\assets\n"
     ]
    },
    {
     "name": "stdout",
     "output_type": "stream",
     "text": [
      "9/9 [==============================] - 6s 760ms/step - loss: 2.1475 - accuracy: 0.3399 - val_loss: 1.8843 - val_accuracy: 0.4661\n",
      "Epoch 6/50\n",
      "9/9 [==============================] - ETA: 0s - loss: 1.9742 - accuracy: 0.3745INFO:tensorflow:Assets written to: models\\model_v1\\assets\n"
     ]
    },
    {
     "name": "stderr",
     "output_type": "stream",
     "text": [
      "INFO:tensorflow:Assets written to: models\\model_v1\\assets\n"
     ]
    },
    {
     "name": "stdout",
     "output_type": "stream",
     "text": [
      "9/9 [==============================] - 5s 590ms/step - loss: 1.9742 - accuracy: 0.3745 - val_loss: 1.6988 - val_accuracy: 0.5293\n",
      "Epoch 7/50\n",
      "9/9 [==============================] - ETA: 0s - loss: 1.8020 - accuracy: 0.4201INFO:tensorflow:Assets written to: models\\model_v1\\assets\n"
     ]
    },
    {
     "name": "stderr",
     "output_type": "stream",
     "text": [
      "INFO:tensorflow:Assets written to: models\\model_v1\\assets\n"
     ]
    },
    {
     "name": "stdout",
     "output_type": "stream",
     "text": [
      "9/9 [==============================] - 5s 590ms/step - loss: 1.8020 - accuracy: 0.4201 - val_loss: 1.5965 - val_accuracy: 0.5540\n",
      "Epoch 8/50\n",
      "9/9 [==============================] - ETA: 0s - loss: 1.6990 - accuracy: 0.4585INFO:tensorflow:Assets written to: models\\model_v1\\assets\n"
     ]
    },
    {
     "name": "stderr",
     "output_type": "stream",
     "text": [
      "INFO:tensorflow:Assets written to: models\\model_v1\\assets\n"
     ]
    },
    {
     "name": "stdout",
     "output_type": "stream",
     "text": [
      "9/9 [==============================] - 6s 685ms/step - loss: 1.6990 - accuracy: 0.4585 - val_loss: 1.4418 - val_accuracy: 0.6053\n",
      "Epoch 9/50\n",
      "9/9 [==============================] - ETA: 0s - loss: 1.5620 - accuracy: 0.5007INFO:tensorflow:Assets written to: models\\model_v1\\assets\n"
     ]
    },
    {
     "name": "stderr",
     "output_type": "stream",
     "text": [
      "INFO:tensorflow:Assets written to: models\\model_v1\\assets\n"
     ]
    },
    {
     "name": "stdout",
     "output_type": "stream",
     "text": [
      "9/9 [==============================] - 6s 707ms/step - loss: 1.5620 - accuracy: 0.5007 - val_loss: 1.3891 - val_accuracy: 0.6227\n",
      "Epoch 10/50\n",
      "9/9 [==============================] - ETA: 0s - loss: 1.4855 - accuracy: 0.5245INFO:tensorflow:Assets written to: models\\model_v1\\assets\n"
     ]
    },
    {
     "name": "stderr",
     "output_type": "stream",
     "text": [
      "INFO:tensorflow:Assets written to: models\\model_v1\\assets\n"
     ]
    },
    {
     "name": "stdout",
     "output_type": "stream",
     "text": [
      "9/9 [==============================] - 5s 602ms/step - loss: 1.4855 - accuracy: 0.5245 - val_loss: 1.2948 - val_accuracy: 0.6557\n",
      "Epoch 11/50\n",
      "9/9 [==============================] - ETA: 0s - loss: 1.4178 - accuracy: 0.5433INFO:tensorflow:Assets written to: models\\model_v1\\assets\n"
     ]
    },
    {
     "name": "stderr",
     "output_type": "stream",
     "text": [
      "INFO:tensorflow:Assets written to: models\\model_v1\\assets\n"
     ]
    },
    {
     "name": "stdout",
     "output_type": "stream",
     "text": [
      "9/9 [==============================] - 5s 635ms/step - loss: 1.4178 - accuracy: 0.5433 - val_loss: 1.2794 - val_accuracy: 0.6538\n",
      "Epoch 12/50\n",
      "9/9 [==============================] - ETA: 0s - loss: 1.3567 - accuracy: 0.5589INFO:tensorflow:Assets written to: models\\model_v1\\assets\n"
     ]
    },
    {
     "name": "stderr",
     "output_type": "stream",
     "text": [
      "INFO:tensorflow:Assets written to: models\\model_v1\\assets\n"
     ]
    },
    {
     "name": "stdout",
     "output_type": "stream",
     "text": [
      "9/9 [==============================] - 6s 728ms/step - loss: 1.3567 - accuracy: 0.5589 - val_loss: 1.2137 - val_accuracy: 0.6612\n",
      "Epoch 13/50\n",
      "9/9 [==============================] - ETA: 0s - loss: 1.2881 - accuracy: 0.5779INFO:tensorflow:Assets written to: models\\model_v1\\assets\n"
     ]
    },
    {
     "name": "stderr",
     "output_type": "stream",
     "text": [
      "INFO:tensorflow:Assets written to: models\\model_v1\\assets\n"
     ]
    },
    {
     "name": "stdout",
     "output_type": "stream",
     "text": [
      "9/9 [==============================] - 6s 670ms/step - loss: 1.2881 - accuracy: 0.5779 - val_loss: 1.1485 - val_accuracy: 0.6941\n",
      "Epoch 14/50\n",
      "9/9 [==============================] - ETA: 0s - loss: 1.2273 - accuracy: 0.6019INFO:tensorflow:Assets written to: models\\model_v1\\assets\n"
     ]
    },
    {
     "name": "stderr",
     "output_type": "stream",
     "text": [
      "INFO:tensorflow:Assets written to: models\\model_v1\\assets\n"
     ]
    },
    {
     "name": "stdout",
     "output_type": "stream",
     "text": [
      "9/9 [==============================] - 8s 934ms/step - loss: 1.2273 - accuracy: 0.6019 - val_loss: 1.0947 - val_accuracy: 0.6996\n",
      "Epoch 15/50\n",
      "9/9 [==============================] - ETA: 0s - loss: 1.1890 - accuracy: 0.6173INFO:tensorflow:Assets written to: models\\model_v1\\assets\n"
     ]
    },
    {
     "name": "stderr",
     "output_type": "stream",
     "text": [
      "INFO:tensorflow:Assets written to: models\\model_v1\\assets\n"
     ]
    },
    {
     "name": "stdout",
     "output_type": "stream",
     "text": [
      "9/9 [==============================] - 6s 719ms/step - loss: 1.1890 - accuracy: 0.6173 - val_loss: 1.0522 - val_accuracy: 0.7152\n",
      "Epoch 16/50\n",
      "9/9 [==============================] - 2s 228ms/step - loss: 1.1404 - accuracy: 0.6232 - val_loss: 1.0602 - val_accuracy: 0.7143\n",
      "Epoch 17/50\n",
      "9/9 [==============================] - ETA: 0s - loss: 1.0848 - accuracy: 0.6477INFO:tensorflow:Assets written to: models\\model_v1\\assets\n"
     ]
    },
    {
     "name": "stderr",
     "output_type": "stream",
     "text": [
      "INFO:tensorflow:Assets written to: models\\model_v1\\assets\n"
     ]
    },
    {
     "name": "stdout",
     "output_type": "stream",
     "text": [
      "9/9 [==============================] - 6s 669ms/step - loss: 1.0848 - accuracy: 0.6477 - val_loss: 0.9924 - val_accuracy: 0.7234\n",
      "Epoch 18/50\n",
      "9/9 [==============================] - ETA: 0s - loss: 1.0431 - accuracy: 0.6532INFO:tensorflow:Assets written to: models\\model_v1\\assets\n"
     ]
    },
    {
     "name": "stderr",
     "output_type": "stream",
     "text": [
      "INFO:tensorflow:Assets written to: models\\model_v1\\assets\n"
     ]
    },
    {
     "name": "stdout",
     "output_type": "stream",
     "text": [
      "9/9 [==============================] - 6s 744ms/step - loss: 1.0431 - accuracy: 0.6532 - val_loss: 0.9684 - val_accuracy: 0.7381\n",
      "Epoch 19/50\n",
      "9/9 [==============================] - 2s 209ms/step - loss: 1.0132 - accuracy: 0.6635 - val_loss: 0.9712 - val_accuracy: 0.7216\n",
      "Epoch 20/50\n",
      "9/9 [==============================] - ETA: 0s - loss: 0.9729 - accuracy: 0.6725INFO:tensorflow:Assets written to: models\\model_v1\\assets\n"
     ]
    },
    {
     "name": "stderr",
     "output_type": "stream",
     "text": [
      "INFO:tensorflow:Assets written to: models\\model_v1\\assets\n"
     ]
    },
    {
     "name": "stdout",
     "output_type": "stream",
     "text": [
      "9/9 [==============================] - 8s 972ms/step - loss: 0.9729 - accuracy: 0.6725 - val_loss: 0.9340 - val_accuracy: 0.7454\n",
      "Epoch 21/50\n",
      "9/9 [==============================] - 2s 243ms/step - loss: 0.9348 - accuracy: 0.6940 - val_loss: 0.9451 - val_accuracy: 0.7427\n",
      "Epoch 22/50\n",
      "9/9 [==============================] - ETA: 0s - loss: 0.9150 - accuracy: 0.6984INFO:tensorflow:Assets written to: models\\model_v1\\assets\n"
     ]
    },
    {
     "name": "stderr",
     "output_type": "stream",
     "text": [
      "INFO:tensorflow:Assets written to: models\\model_v1\\assets\n"
     ]
    },
    {
     "name": "stdout",
     "output_type": "stream",
     "text": [
      "9/9 [==============================] - 5s 568ms/step - loss: 0.9150 - accuracy: 0.6984 - val_loss: 0.9111 - val_accuracy: 0.7518\n",
      "Epoch 23/50\n",
      "9/9 [==============================] - ETA: 0s - loss: 0.8991 - accuracy: 0.6990INFO:tensorflow:Assets written to: models\\model_v1\\assets\n"
     ]
    },
    {
     "name": "stderr",
     "output_type": "stream",
     "text": [
      "INFO:tensorflow:Assets written to: models\\model_v1\\assets\n"
     ]
    },
    {
     "name": "stdout",
     "output_type": "stream",
     "text": [
      "9/9 [==============================] - 4s 538ms/step - loss: 0.8991 - accuracy: 0.6990 - val_loss: 0.8951 - val_accuracy: 0.7491\n",
      "Epoch 24/50\n",
      "9/9 [==============================] - 2s 256ms/step - loss: 0.8642 - accuracy: 0.7146 - val_loss: 0.8956 - val_accuracy: 0.7518\n",
      "Epoch 25/50\n",
      "9/9 [==============================] - ETA: 0s - loss: 0.8356 - accuracy: 0.7158INFO:tensorflow:Assets written to: models\\model_v1\\assets\n"
     ]
    },
    {
     "name": "stderr",
     "output_type": "stream",
     "text": [
      "INFO:tensorflow:Assets written to: models\\model_v1\\assets\n"
     ]
    },
    {
     "name": "stdout",
     "output_type": "stream",
     "text": [
      "9/9 [==============================] - 5s 603ms/step - loss: 0.8356 - accuracy: 0.7158 - val_loss: 0.8762 - val_accuracy: 0.7564\n",
      "Epoch 26/50\n",
      "9/9 [==============================] - 2s 236ms/step - loss: 0.8142 - accuracy: 0.7231 - val_loss: 0.8808 - val_accuracy: 0.7619\n",
      "Epoch 27/50\n",
      "9/9 [==============================] - ETA: 0s - loss: 0.7817 - accuracy: 0.7316INFO:tensorflow:Assets written to: models\\model_v1\\assets\n"
     ]
    },
    {
     "name": "stderr",
     "output_type": "stream",
     "text": [
      "INFO:tensorflow:Assets written to: models\\model_v1\\assets\n"
     ]
    },
    {
     "name": "stdout",
     "output_type": "stream",
     "text": [
      "9/9 [==============================] - 6s 782ms/step - loss: 0.7817 - accuracy: 0.7316 - val_loss: 0.8711 - val_accuracy: 0.7564\n",
      "Epoch 28/50\n",
      "9/9 [==============================] - ETA: 0s - loss: 0.7586 - accuracy: 0.7412INFO:tensorflow:Assets written to: models\\model_v1\\assets\n"
     ]
    },
    {
     "name": "stderr",
     "output_type": "stream",
     "text": [
      "INFO:tensorflow:Assets written to: models\\model_v1\\assets\n"
     ]
    },
    {
     "name": "stdout",
     "output_type": "stream",
     "text": [
      "9/9 [==============================] - 5s 625ms/step - loss: 0.7586 - accuracy: 0.7412 - val_loss: 0.8535 - val_accuracy: 0.7683\n",
      "Epoch 29/50\n",
      "9/9 [==============================] - ETA: 0s - loss: 0.7612 - accuracy: 0.7300INFO:tensorflow:Assets written to: models\\model_v1\\assets\n"
     ]
    },
    {
     "name": "stderr",
     "output_type": "stream",
     "text": [
      "INFO:tensorflow:Assets written to: models\\model_v1\\assets\n"
     ]
    },
    {
     "name": "stdout",
     "output_type": "stream",
     "text": [
      "9/9 [==============================] - 7s 863ms/step - loss: 0.7612 - accuracy: 0.7300 - val_loss: 0.8497 - val_accuracy: 0.7674\n",
      "Epoch 30/50\n",
      "9/9 [==============================] - 5s 571ms/step - loss: 0.7208 - accuracy: 0.7542 - val_loss: 0.8510 - val_accuracy: 0.7637\n",
      "Epoch 31/50\n",
      "9/9 [==============================] - ETA: 0s - loss: 0.6843 - accuracy: 0.7611INFO:tensorflow:Assets written to: models\\model_v1\\assets\n"
     ]
    },
    {
     "name": "stderr",
     "output_type": "stream",
     "text": [
      "INFO:tensorflow:Assets written to: models\\model_v1\\assets\n"
     ]
    },
    {
     "name": "stdout",
     "output_type": "stream",
     "text": [
      "9/9 [==============================] - 6s 707ms/step - loss: 0.6843 - accuracy: 0.7611 - val_loss: 0.8419 - val_accuracy: 0.7656\n",
      "Epoch 32/50\n",
      "9/9 [==============================] - 2s 281ms/step - loss: 0.6880 - accuracy: 0.7545 - val_loss: 0.8483 - val_accuracy: 0.7601\n",
      "Epoch 33/50\n",
      "9/9 [==============================] - ETA: 0s - loss: 0.6712 - accuracy: 0.7618INFO:tensorflow:Assets written to: models\\model_v1\\assets\n"
     ]
    },
    {
     "name": "stderr",
     "output_type": "stream",
     "text": [
      "INFO:tensorflow:Assets written to: models\\model_v1\\assets\n"
     ]
    },
    {
     "name": "stdout",
     "output_type": "stream",
     "text": [
      "9/9 [==============================] - 6s 686ms/step - loss: 0.6712 - accuracy: 0.7618 - val_loss: 0.8337 - val_accuracy: 0.7701\n",
      "Epoch 34/50\n",
      "9/9 [==============================] - ETA: 0s - loss: 0.6640 - accuracy: 0.7645INFO:tensorflow:Assets written to: models\\model_v1\\assets\n"
     ]
    },
    {
     "name": "stderr",
     "output_type": "stream",
     "text": [
      "INFO:tensorflow:Assets written to: models\\model_v1\\assets\n"
     ]
    },
    {
     "name": "stdout",
     "output_type": "stream",
     "text": [
      "9/9 [==============================] - 5s 666ms/step - loss: 0.6640 - accuracy: 0.7645 - val_loss: 0.8332 - val_accuracy: 0.7711\n",
      "Epoch 35/50\n",
      "9/9 [==============================] - ETA: 0s - loss: 0.6414 - accuracy: 0.7664INFO:tensorflow:Assets written to: models\\model_v1\\assets\n"
     ]
    },
    {
     "name": "stderr",
     "output_type": "stream",
     "text": [
      "INFO:tensorflow:Assets written to: models\\model_v1\\assets\n"
     ]
    },
    {
     "name": "stdout",
     "output_type": "stream",
     "text": [
      "9/9 [==============================] - 5s 646ms/step - loss: 0.6414 - accuracy: 0.7664 - val_loss: 0.8250 - val_accuracy: 0.7683\n",
      "Epoch 36/50\n",
      "9/9 [==============================] - ETA: 0s - loss: 0.6256 - accuracy: 0.7787INFO:tensorflow:Assets written to: models\\model_v1\\assets\n"
     ]
    },
    {
     "name": "stderr",
     "output_type": "stream",
     "text": [
      "INFO:tensorflow:Assets written to: models\\model_v1\\assets\n"
     ]
    },
    {
     "name": "stdout",
     "output_type": "stream",
     "text": [
      "9/9 [==============================] - 5s 603ms/step - loss: 0.6256 - accuracy: 0.7787 - val_loss: 0.8149 - val_accuracy: 0.7701\n",
      "Epoch 37/50\n",
      "9/9 [==============================] - ETA: 0s - loss: 0.5880 - accuracy: 0.7911INFO:tensorflow:Assets written to: models\\model_v1\\assets\n"
     ]
    },
    {
     "name": "stderr",
     "output_type": "stream",
     "text": [
      "INFO:tensorflow:Assets written to: models\\model_v1\\assets\n"
     ]
    },
    {
     "name": "stdout",
     "output_type": "stream",
     "text": [
      "9/9 [==============================] - 5s 616ms/step - loss: 0.5880 - accuracy: 0.7911 - val_loss: 0.8072 - val_accuracy: 0.7756\n",
      "Epoch 38/50\n",
      "9/9 [==============================] - 3s 360ms/step - loss: 0.5800 - accuracy: 0.7870 - val_loss: 0.8251 - val_accuracy: 0.7701\n",
      "Epoch 39/50\n",
      "9/9 [==============================] - ETA: 0s - loss: 0.5929 - accuracy: 0.7785INFO:tensorflow:Assets written to: models\\model_v1\\assets\n"
     ]
    },
    {
     "name": "stderr",
     "output_type": "stream",
     "text": [
      "INFO:tensorflow:Assets written to: models\\model_v1\\assets\n"
     ]
    },
    {
     "name": "stdout",
     "output_type": "stream",
     "text": [
      "9/9 [==============================] - 9s 1s/step - loss: 0.5929 - accuracy: 0.7785 - val_loss: 0.8002 - val_accuracy: 0.7875\n",
      "Epoch 40/50\n",
      "9/9 [==============================] - 2s 239ms/step - loss: 0.5571 - accuracy: 0.7943 - val_loss: 0.8219 - val_accuracy: 0.7729\n",
      "Epoch 41/50\n",
      "9/9 [==============================] - 2s 230ms/step - loss: 0.5318 - accuracy: 0.8046 - val_loss: 0.8100 - val_accuracy: 0.7830\n",
      "Epoch 42/50\n",
      "9/9 [==============================] - 2s 223ms/step - loss: 0.5315 - accuracy: 0.8085 - val_loss: 0.8200 - val_accuracy: 0.7830\n",
      "Epoch 43/50\n",
      "9/9 [==============================] - 2s 273ms/step - loss: 0.5365 - accuracy: 0.7991 - val_loss: 0.8112 - val_accuracy: 0.7775\n",
      "Epoch 44/50\n",
      "9/9 [==============================] - ETA: 0s - loss: 0.5059 - accuracy: 0.8099INFO:tensorflow:Assets written to: models\\model_v1\\assets\n"
     ]
    },
    {
     "name": "stderr",
     "output_type": "stream",
     "text": [
      "INFO:tensorflow:Assets written to: models\\model_v1\\assets\n"
     ]
    },
    {
     "name": "stdout",
     "output_type": "stream",
     "text": [
      "9/9 [==============================] - 7s 801ms/step - loss: 0.5059 - accuracy: 0.8099 - val_loss: 0.7968 - val_accuracy: 0.7830\n",
      "Epoch 45/50\n",
      "9/9 [==============================] - 2s 230ms/step - loss: 0.5053 - accuracy: 0.8113 - val_loss: 0.8117 - val_accuracy: 0.7729\n",
      "Epoch 46/50\n",
      "9/9 [==============================] - 2s 231ms/step - loss: 0.5014 - accuracy: 0.8069 - val_loss: 0.8129 - val_accuracy: 0.7793\n",
      "Epoch 47/50\n",
      "9/9 [==============================] - 3s 386ms/step - loss: 0.4870 - accuracy: 0.8165 - val_loss: 0.8132 - val_accuracy: 0.7756\n",
      "Epoch 48/50\n",
      "9/9 [==============================] - 2s 255ms/step - loss: 0.4693 - accuracy: 0.8195 - val_loss: 0.8030 - val_accuracy: 0.7793\n",
      "Epoch 49/50\n",
      "9/9 [==============================] - 2s 275ms/step - loss: 0.4470 - accuracy: 0.8307 - val_loss: 0.8027 - val_accuracy: 0.7830\n",
      "Epoch 50/50\n",
      "9/9 [==============================] - ETA: 0s - loss: 0.4296 - accuracy: 0.8339INFO:tensorflow:Assets written to: models\\model_v1\\assets\n"
     ]
    },
    {
     "name": "stderr",
     "output_type": "stream",
     "text": [
      "INFO:tensorflow:Assets written to: models\\model_v1\\assets\n"
     ]
    },
    {
     "name": "stdout",
     "output_type": "stream",
     "text": [
      "9/9 [==============================] - 4s 495ms/step - loss: 0.4296 - accuracy: 0.8339 - val_loss: 0.7879 - val_accuracy: 0.7766\n"
     ]
    }
   ],
   "source": [
    "samples_weight = compute_sample_weight(\"balanced\", y_train_standard) # Used to manage inbalanced data.\n",
    "\n",
    "model_cnn_1_standard.compile(optimizer='adam', loss='sparse_categorical_crossentropy', metrics=['accuracy'])\n",
    "\n",
    "# Train the model on 50 epochs.\n",
    "history_v1_standard = model_cnn_1_standard.fit(\n",
    "    x=x_train_standard,\n",
    "    y=y_train_standard,\n",
    "    batch_size=512,\n",
    "    epochs=50,\t\n",
    "    callbacks=[save_callback_1, tensorboard_callback_1],\n",
    "    validation_data=(x_test_standard, y_test_standard),\n",
    "    sample_weight=samples_weight\n",
    ")"
   ]
  },
  {
   "cell_type": "markdown",
   "metadata": {},
   "source": [
    "Let's now renew the operation with each of the previous image types."
   ]
  },
  {
   "cell_type": "code",
   "execution_count": 52,
   "metadata": {},
   "outputs": [
    {
     "name": "stdout",
     "output_type": "stream",
     "text": [
      "Epoch 1/50\n",
      "9/9 [==============================] - 7s 427ms/step - loss: 2.8870 - accuracy: 0.0747 - val_loss: 2.8760 - val_accuracy: 0.1538\n",
      "Epoch 2/50\n",
      "9/9 [==============================] - 2s 266ms/step - loss: 2.8547 - accuracy: 0.1280 - val_loss: 2.7892 - val_accuracy: 0.2125\n",
      "Epoch 3/50\n",
      "9/9 [==============================] - 3s 371ms/step - loss: 2.7870 - accuracy: 0.1697 - val_loss: 2.6686 - val_accuracy: 0.2674\n",
      "Epoch 4/50\n",
      "9/9 [==============================] - 3s 327ms/step - loss: 2.6706 - accuracy: 0.1958 - val_loss: 2.5030 - val_accuracy: 0.2711\n",
      "Epoch 5/50\n",
      "9/9 [==============================] - 2s 223ms/step - loss: 2.5351 - accuracy: 0.2089 - val_loss: 2.3527 - val_accuracy: 0.2857\n",
      "Epoch 6/50\n",
      "9/9 [==============================] - 2s 253ms/step - loss: 2.4323 - accuracy: 0.2414 - val_loss: 2.2201 - val_accuracy: 0.3114\n",
      "Epoch 7/50\n",
      "9/9 [==============================] - 2s 275ms/step - loss: 2.3481 - accuracy: 0.2533 - val_loss: 2.1441 - val_accuracy: 0.3516\n",
      "Epoch 8/50\n",
      "9/9 [==============================] - 3s 276ms/step - loss: 2.2717 - accuracy: 0.2792 - val_loss: 2.0964 - val_accuracy: 0.3544\n",
      "Epoch 9/50\n",
      "9/9 [==============================] - 2s 261ms/step - loss: 2.2057 - accuracy: 0.2897 - val_loss: 2.0370 - val_accuracy: 0.3965\n",
      "Epoch 10/50\n",
      "9/9 [==============================] - 2s 238ms/step - loss: 2.1537 - accuracy: 0.3138 - val_loss: 1.9808 - val_accuracy: 0.4304\n",
      "Epoch 11/50\n",
      "9/9 [==============================] - 2s 246ms/step - loss: 2.1087 - accuracy: 0.3433 - val_loss: 1.9412 - val_accuracy: 0.4304\n",
      "Epoch 12/50\n",
      "9/9 [==============================] - 2s 207ms/step - loss: 2.0646 - accuracy: 0.3397 - val_loss: 1.9008 - val_accuracy: 0.4414\n",
      "Epoch 13/50\n",
      "9/9 [==============================] - 2s 257ms/step - loss: 2.0317 - accuracy: 0.3433 - val_loss: 1.8714 - val_accuracy: 0.4661\n",
      "Epoch 14/50\n",
      "9/9 [==============================] - 2s 223ms/step - loss: 1.9572 - accuracy: 0.3717 - val_loss: 1.8386 - val_accuracy: 0.4716\n",
      "Epoch 15/50\n",
      "9/9 [==============================] - 2s 224ms/step - loss: 1.9381 - accuracy: 0.3678 - val_loss: 1.8301 - val_accuracy: 0.4679\n",
      "Epoch 16/50\n",
      "9/9 [==============================] - 2s 271ms/step - loss: 1.9111 - accuracy: 0.3830 - val_loss: 1.7813 - val_accuracy: 0.4963\n",
      "Epoch 17/50\n",
      "9/9 [==============================] - 2s 218ms/step - loss: 1.8565 - accuracy: 0.4116 - val_loss: 1.7521 - val_accuracy: 0.5000\n",
      "Epoch 18/50\n",
      "9/9 [==============================] - 3s 341ms/step - loss: 1.8167 - accuracy: 0.4130 - val_loss: 1.7240 - val_accuracy: 0.5156\n",
      "Epoch 19/50\n",
      "9/9 [==============================] - 2s 260ms/step - loss: 1.7770 - accuracy: 0.4187 - val_loss: 1.6856 - val_accuracy: 0.5147\n",
      "Epoch 20/50\n",
      "9/9 [==============================] - 3s 335ms/step - loss: 1.7416 - accuracy: 0.4450 - val_loss: 1.6804 - val_accuracy: 0.5046\n",
      "Epoch 21/50\n",
      "9/9 [==============================] - 2s 246ms/step - loss: 1.7167 - accuracy: 0.4519 - val_loss: 1.6550 - val_accuracy: 0.5147\n",
      "Epoch 22/50\n",
      "9/9 [==============================] - 2s 239ms/step - loss: 1.6898 - accuracy: 0.4501 - val_loss: 1.6282 - val_accuracy: 0.5385\n",
      "Epoch 23/50\n",
      "9/9 [==============================] - 2s 210ms/step - loss: 1.6377 - accuracy: 0.4661 - val_loss: 1.6283 - val_accuracy: 0.5449\n",
      "Epoch 24/50\n",
      "9/9 [==============================] - 3s 349ms/step - loss: 1.6179 - accuracy: 0.4702 - val_loss: 1.5732 - val_accuracy: 0.5586\n",
      "Epoch 25/50\n",
      "9/9 [==============================] - 2s 238ms/step - loss: 1.5554 - accuracy: 0.4986 - val_loss: 1.5609 - val_accuracy: 0.5357\n",
      "Epoch 26/50\n",
      "9/9 [==============================] - 2s 245ms/step - loss: 1.5339 - accuracy: 0.5032 - val_loss: 1.5528 - val_accuracy: 0.5577\n",
      "Epoch 27/50\n",
      "9/9 [==============================] - 2s 239ms/step - loss: 1.4668 - accuracy: 0.5135 - val_loss: 1.5425 - val_accuracy: 0.5430\n",
      "Epoch 28/50\n",
      "9/9 [==============================] - 2s 213ms/step - loss: 1.4723 - accuracy: 0.5027 - val_loss: 1.5438 - val_accuracy: 0.5394\n",
      "Epoch 29/50\n",
      "9/9 [==============================] - 2s 258ms/step - loss: 1.4151 - accuracy: 0.5204 - val_loss: 1.4789 - val_accuracy: 0.5614\n",
      "Epoch 30/50\n",
      "9/9 [==============================] - 2s 272ms/step - loss: 1.3700 - accuracy: 0.5339 - val_loss: 1.4568 - val_accuracy: 0.5760\n",
      "Epoch 31/50\n",
      "9/9 [==============================] - 2s 235ms/step - loss: 1.3439 - accuracy: 0.5442 - val_loss: 1.4446 - val_accuracy: 0.5687\n",
      "Epoch 32/50\n",
      "9/9 [==============================] - 2s 257ms/step - loss: 1.3334 - accuracy: 0.5424 - val_loss: 1.4206 - val_accuracy: 0.5824\n",
      "Epoch 33/50\n",
      "9/9 [==============================] - 2s 207ms/step - loss: 1.3065 - accuracy: 0.5563 - val_loss: 1.4360 - val_accuracy: 0.5778\n",
      "Epoch 34/50\n",
      "9/9 [==============================] - 3s 309ms/step - loss: 1.2900 - accuracy: 0.5598 - val_loss: 1.4368 - val_accuracy: 0.5824\n",
      "Epoch 35/50\n",
      "9/9 [==============================] - 2s 270ms/step - loss: 1.2510 - accuracy: 0.5696 - val_loss: 1.4125 - val_accuracy: 0.5824\n",
      "Epoch 36/50\n",
      "9/9 [==============================] - 2s 239ms/step - loss: 1.2067 - accuracy: 0.5845 - val_loss: 1.3809 - val_accuracy: 0.5971\n",
      "Epoch 37/50\n",
      "9/9 [==============================] - 3s 306ms/step - loss: 1.1985 - accuracy: 0.5825 - val_loss: 1.3559 - val_accuracy: 0.6053\n",
      "Epoch 38/50\n",
      "9/9 [==============================] - 2s 265ms/step - loss: 1.1740 - accuracy: 0.5941 - val_loss: 1.3596 - val_accuracy: 0.6108\n",
      "Epoch 39/50\n",
      "9/9 [==============================] - 2s 255ms/step - loss: 1.1380 - accuracy: 0.5985 - val_loss: 1.3520 - val_accuracy: 0.6007\n",
      "Epoch 40/50\n",
      "9/9 [==============================] - 2s 266ms/step - loss: 1.0958 - accuracy: 0.6173 - val_loss: 1.3191 - val_accuracy: 0.6190\n",
      "Epoch 41/50\n",
      "9/9 [==============================] - 2s 272ms/step - loss: 1.1247 - accuracy: 0.6033 - val_loss: 1.3648 - val_accuracy: 0.5980\n",
      "Epoch 42/50\n",
      "9/9 [==============================] - 2s 220ms/step - loss: 1.1043 - accuracy: 0.6005 - val_loss: 1.3427 - val_accuracy: 0.6154\n",
      "Epoch 43/50\n",
      "9/9 [==============================] - 2s 266ms/step - loss: 1.0462 - accuracy: 0.6264 - val_loss: 1.3120 - val_accuracy: 0.6136\n",
      "Epoch 44/50\n",
      "9/9 [==============================] - 2s 251ms/step - loss: 1.0320 - accuracy: 0.6349 - val_loss: 1.3124 - val_accuracy: 0.6218\n",
      "Epoch 45/50\n",
      "9/9 [==============================] - 2s 244ms/step - loss: 1.0054 - accuracy: 0.6351 - val_loss: 1.3008 - val_accuracy: 0.6181\n",
      "Epoch 46/50\n",
      "9/9 [==============================] - 2s 264ms/step - loss: 0.9785 - accuracy: 0.6493 - val_loss: 1.2891 - val_accuracy: 0.6282\n",
      "Epoch 47/50\n",
      "9/9 [==============================] - 2s 243ms/step - loss: 0.9339 - accuracy: 0.6555 - val_loss: 1.2814 - val_accuracy: 0.6227\n",
      "Epoch 48/50\n",
      "9/9 [==============================] - 2s 275ms/step - loss: 0.9175 - accuracy: 0.6677 - val_loss: 1.2720 - val_accuracy: 0.6300\n",
      "Epoch 49/50\n",
      "9/9 [==============================] - 2s 254ms/step - loss: 0.9101 - accuracy: 0.6622 - val_loss: 1.2647 - val_accuracy: 0.6273\n",
      "Epoch 50/50\n",
      "9/9 [==============================] - 2s 251ms/step - loss: 0.8861 - accuracy: 0.6688 - val_loss: 1.2763 - val_accuracy: 0.6291\n"
     ]
    }
   ],
   "source": [
    "# Gray scale.\n",
    "model_cnn_1_gray = get_model_cnn_v1(input_shape=(64, 64, 1))\n",
    "tensorboard_callback_1 = keras.callbacks.TensorBoard(log_dir=\"logs/cnn_v1_gray\", histogram_freq=1)\n",
    "samples_weight = compute_sample_weight(\"balanced\", y_train_gray)\n",
    "model_cnn_1_gray.compile(optimizer='adam', loss='sparse_categorical_crossentropy', metrics=['accuracy'])\n",
    "history_v1_gray = model_cnn_1_gray.fit(\n",
    "    x=x_train_gray,\n",
    "    y=y_train_gray,\n",
    "    batch_size=512,\n",
    "    epochs=50,\t\n",
    "    callbacks=[save_callback_1, tensorboard_callback_1],\n",
    "    validation_data=(x_test_gray, y_test_gray),\n",
    "    sample_weight=samples_weight\n",
    ")"
   ]
  },
  {
   "cell_type": "code",
   "execution_count": 53,
   "metadata": {},
   "outputs": [
    {
     "name": "stdout",
     "output_type": "stream",
     "text": [
      "Epoch 1/50\n",
      "9/9 [==============================] - 21s 1s/step - loss: 2.8904 - accuracy: 0.0822 - val_loss: 2.8881 - val_accuracy: 0.0852\n",
      "Epoch 2/50\n",
      "9/9 [==============================] - 4s 434ms/step - loss: 2.8889 - accuracy: 0.0902 - val_loss: 2.8838 - val_accuracy: 0.0943\n",
      "Epoch 3/50\n",
      "9/9 [==============================] - 4s 403ms/step - loss: 2.8834 - accuracy: 0.0978 - val_loss: 2.8655 - val_accuracy: 0.0916\n",
      "Epoch 4/50\n",
      "9/9 [==============================] - 4s 488ms/step - loss: 2.8730 - accuracy: 0.1054 - val_loss: 2.8363 - val_accuracy: 0.1136\n",
      "Epoch 5/50\n",
      "9/9 [==============================] - 4s 411ms/step - loss: 2.8479 - accuracy: 0.1326 - val_loss: 2.7986 - val_accuracy: 0.1200\n",
      "Epoch 6/50\n",
      "9/9 [==============================] - 3s 353ms/step - loss: 2.8020 - accuracy: 0.1422 - val_loss: 2.7299 - val_accuracy: 0.1273\n",
      "Epoch 7/50\n",
      "9/9 [==============================] - 4s 416ms/step - loss: 2.7260 - accuracy: 0.1427 - val_loss: 2.6005 - val_accuracy: 0.1474\n",
      "Epoch 8/50\n",
      "9/9 [==============================] - 4s 393ms/step - loss: 2.6351 - accuracy: 0.1619 - val_loss: 2.5001 - val_accuracy: 0.1804\n",
      "Epoch 9/50\n",
      "9/9 [==============================] - 4s 437ms/step - loss: 2.5601 - accuracy: 0.1874 - val_loss: 2.3776 - val_accuracy: 0.2592\n",
      "Epoch 10/50\n",
      "9/9 [==============================] - 3s 361ms/step - loss: 2.4790 - accuracy: 0.2151 - val_loss: 2.2614 - val_accuracy: 0.3022\n",
      "Epoch 11/50\n",
      "9/9 [==============================] - 4s 399ms/step - loss: 2.4199 - accuracy: 0.2366 - val_loss: 2.1919 - val_accuracy: 0.3278\n",
      "Epoch 12/50\n",
      "9/9 [==============================] - 4s 436ms/step - loss: 2.3548 - accuracy: 0.2641 - val_loss: 2.1269 - val_accuracy: 0.3434\n",
      "Epoch 13/50\n",
      "9/9 [==============================] - 4s 435ms/step - loss: 2.3384 - accuracy: 0.2517 - val_loss: 2.0681 - val_accuracy: 0.3443\n",
      "Epoch 14/50\n",
      "9/9 [==============================] - 4s 456ms/step - loss: 2.2931 - accuracy: 0.2732 - val_loss: 2.0852 - val_accuracy: 0.3526\n",
      "Epoch 15/50\n",
      "9/9 [==============================] - 4s 489ms/step - loss: 2.2685 - accuracy: 0.2753 - val_loss: 2.0041 - val_accuracy: 0.3690\n",
      "Epoch 16/50\n",
      "9/9 [==============================] - 4s 380ms/step - loss: 2.2382 - accuracy: 0.2884 - val_loss: 1.9873 - val_accuracy: 0.3837\n",
      "Epoch 17/50\n",
      "9/9 [==============================] - 4s 431ms/step - loss: 2.2241 - accuracy: 0.2904 - val_loss: 1.9796 - val_accuracy: 0.3846\n",
      "Epoch 18/50\n",
      "9/9 [==============================] - 3s 385ms/step - loss: 2.1791 - accuracy: 0.3010 - val_loss: 1.9262 - val_accuracy: 0.3984\n",
      "Epoch 19/50\n",
      "9/9 [==============================] - 4s 433ms/step - loss: 2.1592 - accuracy: 0.3087 - val_loss: 1.9141 - val_accuracy: 0.4011\n",
      "Epoch 20/50\n",
      "9/9 [==============================] - 4s 389ms/step - loss: 2.1527 - accuracy: 0.3142 - val_loss: 1.8981 - val_accuracy: 0.3956\n",
      "Epoch 21/50\n",
      "9/9 [==============================] - 3s 391ms/step - loss: 2.1340 - accuracy: 0.3181 - val_loss: 1.8859 - val_accuracy: 0.4029\n",
      "Epoch 22/50\n",
      "9/9 [==============================] - 4s 448ms/step - loss: 2.1168 - accuracy: 0.3191 - val_loss: 1.8849 - val_accuracy: 0.4139\n",
      "Epoch 23/50\n",
      "9/9 [==============================] - 4s 425ms/step - loss: 2.1009 - accuracy: 0.3241 - val_loss: 1.8459 - val_accuracy: 0.4167\n",
      "Epoch 24/50\n",
      "9/9 [==============================] - 4s 398ms/step - loss: 2.0917 - accuracy: 0.3294 - val_loss: 1.9053 - val_accuracy: 0.4029\n",
      "Epoch 25/50\n",
      "9/9 [==============================] - 5s 581ms/step - loss: 2.0787 - accuracy: 0.3262 - val_loss: 1.8433 - val_accuracy: 0.4295\n",
      "Epoch 26/50\n",
      "9/9 [==============================] - 4s 501ms/step - loss: 2.0526 - accuracy: 0.3507 - val_loss: 1.8156 - val_accuracy: 0.4313\n",
      "Epoch 27/50\n",
      "9/9 [==============================] - 5s 624ms/step - loss: 2.0550 - accuracy: 0.3436 - val_loss: 1.8335 - val_accuracy: 0.4286\n",
      "Epoch 28/50\n",
      "9/9 [==============================] - 4s 468ms/step - loss: 2.0235 - accuracy: 0.3481 - val_loss: 1.8011 - val_accuracy: 0.4524\n",
      "Epoch 29/50\n",
      "9/9 [==============================] - 4s 436ms/step - loss: 1.9994 - accuracy: 0.3580 - val_loss: 1.7826 - val_accuracy: 0.4441\n",
      "Epoch 30/50\n",
      "9/9 [==============================] - 4s 408ms/step - loss: 2.0040 - accuracy: 0.3520 - val_loss: 1.7874 - val_accuracy: 0.4386\n",
      "Epoch 31/50\n",
      "9/9 [==============================] - 3s 322ms/step - loss: 1.9967 - accuracy: 0.3685 - val_loss: 1.7809 - val_accuracy: 0.4597\n",
      "Epoch 32/50\n",
      "9/9 [==============================] - 3s 398ms/step - loss: 1.9649 - accuracy: 0.3713 - val_loss: 1.7724 - val_accuracy: 0.4679\n",
      "Epoch 33/50\n",
      "9/9 [==============================] - 3s 361ms/step - loss: 1.9626 - accuracy: 0.3683 - val_loss: 1.7536 - val_accuracy: 0.4606\n",
      "Epoch 34/50\n",
      "9/9 [==============================] - 5s 627ms/step - loss: 1.9402 - accuracy: 0.3864 - val_loss: 1.7453 - val_accuracy: 0.4634\n",
      "Epoch 35/50\n",
      "9/9 [==============================] - 4s 467ms/step - loss: 1.9366 - accuracy: 0.3830 - val_loss: 1.7533 - val_accuracy: 0.4734\n",
      "Epoch 36/50\n",
      "9/9 [==============================] - 5s 537ms/step - loss: 1.9483 - accuracy: 0.3816 - val_loss: 1.7311 - val_accuracy: 0.4753\n",
      "Epoch 37/50\n",
      "9/9 [==============================] - 4s 333ms/step - loss: 1.9133 - accuracy: 0.3859 - val_loss: 1.7178 - val_accuracy: 0.4780\n",
      "Epoch 38/50\n",
      "9/9 [==============================] - 4s 427ms/step - loss: 1.9077 - accuracy: 0.3765 - val_loss: 1.7594 - val_accuracy: 0.4799\n",
      "Epoch 39/50\n",
      "9/9 [==============================] - 4s 406ms/step - loss: 1.9120 - accuracy: 0.3830 - val_loss: 1.7039 - val_accuracy: 0.4780\n",
      "Epoch 40/50\n",
      "9/9 [==============================] - 4s 435ms/step - loss: 1.9213 - accuracy: 0.3839 - val_loss: 1.7103 - val_accuracy: 0.4890\n",
      "Epoch 41/50\n",
      "9/9 [==============================] - 4s 418ms/step - loss: 1.9254 - accuracy: 0.3820 - val_loss: 1.7197 - val_accuracy: 0.4881\n",
      "Epoch 42/50\n",
      "9/9 [==============================] - 4s 457ms/step - loss: 1.8894 - accuracy: 0.3859 - val_loss: 1.6795 - val_accuracy: 0.4918\n",
      "Epoch 43/50\n",
      "9/9 [==============================] - 3s 366ms/step - loss: 1.8835 - accuracy: 0.3969 - val_loss: 1.6855 - val_accuracy: 0.4918\n",
      "Epoch 44/50\n",
      "9/9 [==============================] - 4s 409ms/step - loss: 1.8536 - accuracy: 0.4082 - val_loss: 1.6749 - val_accuracy: 0.4918\n",
      "Epoch 45/50\n",
      "9/9 [==============================] - 3s 345ms/step - loss: 1.8357 - accuracy: 0.4063 - val_loss: 1.6755 - val_accuracy: 0.4890\n",
      "Epoch 46/50\n",
      "9/9 [==============================] - 3s 378ms/step - loss: 1.8675 - accuracy: 0.4052 - val_loss: 1.6548 - val_accuracy: 0.5101\n",
      "Epoch 47/50\n",
      "9/9 [==============================] - 3s 372ms/step - loss: 1.8337 - accuracy: 0.4141 - val_loss: 1.6625 - val_accuracy: 0.4890\n",
      "Epoch 48/50\n",
      "9/9 [==============================] - 3s 290ms/step - loss: 1.8437 - accuracy: 0.4061 - val_loss: 1.6614 - val_accuracy: 0.5046\n",
      "Epoch 49/50\n",
      "9/9 [==============================] - 2s 271ms/step - loss: 1.8317 - accuracy: 0.4214 - val_loss: 1.6591 - val_accuracy: 0.5082\n",
      "Epoch 50/50\n",
      "9/9 [==============================] - 3s 350ms/step - loss: 1.8059 - accuracy: 0.4217 - val_loss: 1.6393 - val_accuracy: 0.4954\n"
     ]
    }
   ],
   "source": [
    "# Exposure.\n",
    "model_cnn_1_exposure = get_model_cnn_v1(input_shape=(64, 64, 3))\n",
    "tensorboard_callback_1 = keras.callbacks.TensorBoard(log_dir=\"logs/cnn_v1_exposure\", histogram_freq=1)\n",
    "samples_weight = compute_sample_weight(\"balanced\", y_train_exposure)\n",
    "model_cnn_1_exposure.compile(optimizer='adam', loss='sparse_categorical_crossentropy', metrics=['accuracy'])\n",
    "history_v1_exposure = model_cnn_1_exposure.fit(\n",
    "    x=x_train_exposure,\n",
    "    y=y_train_exposure,\n",
    "    batch_size=512,\n",
    "    epochs=50,\t\n",
    "    callbacks=[save_callback_1, tensorboard_callback_1],\n",
    "    validation_data=(x_test_exposure, y_test_exposure),\n",
    "    sample_weight=samples_weight\n",
    ")"
   ]
  },
  {
   "cell_type": "code",
   "execution_count": 54,
   "metadata": {},
   "outputs": [
    {
     "name": "stdout",
     "output_type": "stream",
     "text": [
      "Epoch 1/50\n",
      "9/9 [==============================] - 13s 779ms/step - loss: 2.8907 - accuracy: 0.0341 - val_loss: 2.8911 - val_accuracy: 0.0275\n",
      "Epoch 2/50\n",
      "9/9 [==============================] - 4s 433ms/step - loss: 2.8905 - accuracy: 0.0314 - val_loss: 2.8904 - val_accuracy: 0.0275\n",
      "Epoch 3/50\n",
      "9/9 [==============================] - 3s 357ms/step - loss: 2.8904 - accuracy: 0.0520 - val_loss: 2.8904 - val_accuracy: 0.0897\n",
      "Epoch 4/50\n",
      "9/9 [==============================] - 3s 370ms/step - loss: 2.8905 - accuracy: 0.0579 - val_loss: 2.8903 - val_accuracy: 0.0897\n",
      "Epoch 5/50\n",
      "9/9 [==============================] - 3s 349ms/step - loss: 2.8904 - accuracy: 0.0630 - val_loss: 2.8902 - val_accuracy: 0.0897\n",
      "Epoch 6/50\n",
      "9/9 [==============================] - 4s 416ms/step - loss: 2.8904 - accuracy: 0.0683 - val_loss: 2.8901 - val_accuracy: 0.0897\n",
      "Epoch 7/50\n",
      "9/9 [==============================] - 2s 279ms/step - loss: 2.8904 - accuracy: 0.0683 - val_loss: 2.8901 - val_accuracy: 0.0897\n",
      "Epoch 8/50\n",
      "9/9 [==============================] - 2s 285ms/step - loss: 2.8904 - accuracy: 0.0680 - val_loss: 2.8901 - val_accuracy: 0.0897\n",
      "Epoch 9/50\n",
      "9/9 [==============================] - 2s 251ms/step - loss: 2.8904 - accuracy: 0.0646 - val_loss: 2.8899 - val_accuracy: 0.0275\n",
      "Epoch 10/50\n",
      "9/9 [==============================] - 2s 265ms/step - loss: 2.8904 - accuracy: 0.0399 - val_loss: 2.8900 - val_accuracy: 0.0275\n",
      "Epoch 11/50\n",
      "9/9 [==============================] - 2s 269ms/step - loss: 2.8904 - accuracy: 0.0488 - val_loss: 2.8901 - val_accuracy: 0.0275\n",
      "Epoch 12/50\n",
      "9/9 [==============================] - 2s 270ms/step - loss: 2.8905 - accuracy: 0.0403 - val_loss: 2.8902 - val_accuracy: 0.0266\n",
      "Epoch 13/50\n",
      "9/9 [==============================] - 2s 283ms/step - loss: 2.8904 - accuracy: 0.0424 - val_loss: 2.8901 - val_accuracy: 0.0275\n",
      "Epoch 14/50\n",
      "9/9 [==============================] - 3s 286ms/step - loss: 2.8904 - accuracy: 0.0486 - val_loss: 2.8902 - val_accuracy: 0.0266\n",
      "Epoch 15/50\n",
      "9/9 [==============================] - 3s 293ms/step - loss: 2.8905 - accuracy: 0.0557 - val_loss: 2.8901 - val_accuracy: 0.0971\n",
      "Epoch 16/50\n",
      "9/9 [==============================] - 2s 288ms/step - loss: 2.8904 - accuracy: 0.0841 - val_loss: 2.8902 - val_accuracy: 0.0971\n",
      "Epoch 17/50\n",
      "9/9 [==============================] - 2s 243ms/step - loss: 2.8904 - accuracy: 0.0708 - val_loss: 2.8900 - val_accuracy: 0.0650\n",
      "Epoch 18/50\n",
      "9/9 [==============================] - 2s 212ms/step - loss: 2.8904 - accuracy: 0.0756 - val_loss: 2.8900 - val_accuracy: 0.0971\n",
      "Epoch 19/50\n",
      "9/9 [==============================] - 2s 270ms/step - loss: 2.8904 - accuracy: 0.0774 - val_loss: 2.8900 - val_accuracy: 0.0201\n",
      "Epoch 20/50\n",
      "9/9 [==============================] - 2s 252ms/step - loss: 2.8904 - accuracy: 0.0623 - val_loss: 2.8902 - val_accuracy: 0.0897\n",
      "Epoch 21/50\n",
      "9/9 [==============================] - 2s 256ms/step - loss: 2.8904 - accuracy: 0.0618 - val_loss: 2.8900 - val_accuracy: 0.0897\n",
      "Epoch 22/50\n",
      "9/9 [==============================] - 2s 271ms/step - loss: 2.8905 - accuracy: 0.0701 - val_loss: 2.8899 - val_accuracy: 0.0897\n",
      "Epoch 23/50\n",
      "9/9 [==============================] - 2s 261ms/step - loss: 2.8903 - accuracy: 0.0667 - val_loss: 2.8900 - val_accuracy: 0.0897\n",
      "Epoch 24/50\n",
      "9/9 [==============================] - 2s 267ms/step - loss: 2.8905 - accuracy: 0.0669 - val_loss: 2.8898 - val_accuracy: 0.0897\n",
      "Epoch 25/50\n",
      "9/9 [==============================] - 2s 231ms/step - loss: 2.8904 - accuracy: 0.0650 - val_loss: 2.8899 - val_accuracy: 0.0897\n",
      "Epoch 26/50\n",
      "9/9 [==============================] - 2s 235ms/step - loss: 2.8905 - accuracy: 0.0618 - val_loss: 2.8900 - val_accuracy: 0.0897\n",
      "Epoch 27/50\n",
      "9/9 [==============================] - 2s 262ms/step - loss: 2.8905 - accuracy: 0.0689 - val_loss: 2.8900 - val_accuracy: 0.0897\n",
      "Epoch 28/50\n",
      "9/9 [==============================] - 2s 219ms/step - loss: 2.8904 - accuracy: 0.0671 - val_loss: 2.8901 - val_accuracy: 0.0201\n",
      "Epoch 29/50\n",
      "9/9 [==============================] - 3s 374ms/step - loss: 2.8904 - accuracy: 0.0717 - val_loss: 2.8903 - val_accuracy: 0.0897\n",
      "Epoch 30/50\n",
      "9/9 [==============================] - 2s 238ms/step - loss: 2.8904 - accuracy: 0.0577 - val_loss: 2.8903 - val_accuracy: 0.0897\n",
      "Epoch 31/50\n",
      "9/9 [==============================] - 2s 219ms/step - loss: 2.8905 - accuracy: 0.0566 - val_loss: 2.8901 - val_accuracy: 0.0897\n",
      "Epoch 32/50\n",
      "9/9 [==============================] - 2s 244ms/step - loss: 2.8904 - accuracy: 0.0630 - val_loss: 2.8901 - val_accuracy: 0.0897\n",
      "Epoch 33/50\n",
      "9/9 [==============================] - 2s 231ms/step - loss: 2.8904 - accuracy: 0.0598 - val_loss: 2.8901 - val_accuracy: 0.0897\n",
      "Epoch 34/50\n",
      "9/9 [==============================] - 3s 388ms/step - loss: 2.8905 - accuracy: 0.0582 - val_loss: 2.8902 - val_accuracy: 0.0897\n",
      "Epoch 35/50\n",
      "9/9 [==============================] - 2s 246ms/step - loss: 2.8904 - accuracy: 0.0573 - val_loss: 2.8903 - val_accuracy: 0.0403\n",
      "Epoch 36/50\n",
      "9/9 [==============================] - 2s 239ms/step - loss: 2.8904 - accuracy: 0.0490 - val_loss: 2.8904 - val_accuracy: 0.0403\n",
      "Epoch 37/50\n",
      "9/9 [==============================] - 2s 262ms/step - loss: 2.8904 - accuracy: 0.0323 - val_loss: 2.8903 - val_accuracy: 0.0403\n",
      "Epoch 38/50\n",
      "9/9 [==============================] - 2s 235ms/step - loss: 2.8904 - accuracy: 0.0348 - val_loss: 2.8904 - val_accuracy: 0.0403\n",
      "Epoch 39/50\n",
      "9/9 [==============================] - 2s 218ms/step - loss: 2.8904 - accuracy: 0.0479 - val_loss: 2.8903 - val_accuracy: 0.0852\n",
      "Epoch 40/50\n",
      "9/9 [==============================] - 2s 216ms/step - loss: 2.8905 - accuracy: 0.0357 - val_loss: 2.8905 - val_accuracy: 0.0375\n",
      "Epoch 41/50\n",
      "9/9 [==============================] - 2s 250ms/step - loss: 2.8904 - accuracy: 0.0250 - val_loss: 2.8906 - val_accuracy: 0.0375\n",
      "Epoch 42/50\n",
      "9/9 [==============================] - 2s 275ms/step - loss: 2.8904 - accuracy: 0.0286 - val_loss: 2.8905 - val_accuracy: 0.0375\n",
      "Epoch 43/50\n",
      "9/9 [==============================] - 3s 376ms/step - loss: 2.8904 - accuracy: 0.0289 - val_loss: 2.8905 - val_accuracy: 0.0375\n",
      "Epoch 44/50\n",
      "9/9 [==============================] - 3s 295ms/step - loss: 2.8904 - accuracy: 0.0273 - val_loss: 2.8905 - val_accuracy: 0.0375\n",
      "Epoch 45/50\n",
      "9/9 [==============================] - 3s 334ms/step - loss: 2.8904 - accuracy: 0.0295 - val_loss: 2.8905 - val_accuracy: 0.0403\n",
      "Epoch 46/50\n",
      "9/9 [==============================] - 2s 246ms/step - loss: 2.8904 - accuracy: 0.0295 - val_loss: 2.8905 - val_accuracy: 0.0403\n",
      "Epoch 47/50\n",
      "9/9 [==============================] - 2s 264ms/step - loss: 2.8904 - accuracy: 0.0318 - val_loss: 2.8905 - val_accuracy: 0.0375\n",
      "Epoch 48/50\n",
      "9/9 [==============================] - 2s 255ms/step - loss: 2.8904 - accuracy: 0.0275 - val_loss: 2.8905 - val_accuracy: 0.0375\n",
      "Epoch 49/50\n",
      "9/9 [==============================] - 2s 242ms/step - loss: 2.8903 - accuracy: 0.0270 - val_loss: 2.8905 - val_accuracy: 0.0375\n",
      "Epoch 50/50\n",
      "9/9 [==============================] - 2s 219ms/step - loss: 2.8904 - accuracy: 0.0559 - val_loss: 2.8904 - val_accuracy: 0.0852\n"
     ]
    }
   ],
   "source": [
    "# Exposure + gray scale.\n",
    "model_cnn_1_exposure_gray = get_model_cnn_v1(input_shape=(64, 64, 1))\n",
    "tensorboard_callback_1 = keras.callbacks.TensorBoard(log_dir=\"logs/cnn_v1_exposure_gray\", histogram_freq=1)\n",
    "samples_weight = compute_sample_weight(\"balanced\", y_train_exposure_gray)\n",
    "model_cnn_1_exposure_gray.compile(optimizer='adam', loss='sparse_categorical_crossentropy', metrics=['accuracy'])\n",
    "history_v1_exposure_gray = model_cnn_1_exposure_gray.fit(\n",
    "    x=x_train_exposure_gray,\n",
    "    y=y_train_exposure_gray,\n",
    "    batch_size=512,\n",
    "    epochs=50,\t\n",
    "    callbacks=[save_callback_1, tensorboard_callback_1],\n",
    "    validation_data=(x_test_exposure_gray, y_test_exposure_gray),\n",
    "    sample_weight=samples_weight\n",
    ")"
   ]
  },
  {
   "cell_type": "markdown",
   "metadata": {},
   "source": [
    "Let print a simple graph to compare the performance between the accuracy between the 4 types of images. We can also see the accuracy in tensorboard but juste readibility purpose I will print this graphic here."
   ]
  },
  {
   "cell_type": "code",
   "execution_count": 55,
   "metadata": {},
   "outputs": [
    {
     "data": {
      "image/png": "[encoded data removed]",
      "text/plain": [
       "<Figure size 640x480 with 1 Axes>"
      ]
     },
     "metadata": {},
     "output_type": "display_data"
    }
   ],
   "source": [
    "# Plot accuracy for the models with convolutional layers.\n",
    "plt.plot(history_v1_standard.history['accuracy'], label='Train Standard')\n",
    "plt.plot(history_v1_standard.history['val_accuracy'], label='Validation Standard')\n",
    "\n",
    "plt.plot(history_v1_gray.history['accuracy'], label='Train Gray')\n",
    "plt.plot(history_v1_gray.history['val_accuracy'], label='Validation Gray')\n",
    "\n",
    "plt.plot(history_v1_exposure.history['accuracy'], label='Train Exposure')\n",
    "plt.plot(history_v1_exposure.history['val_accuracy'], label='Validation Exposure')\n",
    "\n",
    "plt.plot(history_v1_exposure_gray.history['accuracy'], label='Train Gray + Exposure')\n",
    "plt.plot(history_v1_exposure_gray.history['val_accuracy'], label='Validation Gray + Exposure')\n",
    "\n",
    "plt.title('Training and Validation Accuracy Comparison Between Models')\n",
    "plt.xlabel('Epoch')\n",
    "plt.ylabel('Accuracy')\n",
    "plt.legend()\n",
    "plt.show()"
   ]
  },
  {
   "cell_type": "markdown",
   "metadata": {},
   "source": [
    "We can observe the best performances for the standard images, it seems that using other transformations just reduce the accuracy... The simple's the best like we say. The standard model achieve the best performance but the gray scale model is not too bad as well. I suppose all the models are good but it seems the gray one and the standard one are the best. The exposure + gray scale model is just catastrophic. I We will continue to use all of these 3 models even if I don't think the exposure is relevant... It seems logical to say that the more the pictures are detailed, the easiest the model find the good answer.  \n",
    "I am going to submit the performance of the standard and gray scale model. For that, I must train it on all the train data, so I will group my two lists and then save the content into a CSV file to submit my work on Kaggle."
   ]
  },
  {
   "cell_type": "code",
   "execution_count": 65,
   "metadata": {},
   "outputs": [
    {
     "name": "stdout",
     "output_type": "stream",
     "text": [
      "(5458, 64, 64, 3)\n",
      "(5458,)\n",
      "(5458, 64, 64, 1)\n",
      "(5458,)\n"
     ]
    }
   ],
   "source": [
    "# Add all train dataset.\n",
    "x_train_total_standard = np.concatenate((x_train_standard, x_test_standard), axis=0)\n",
    "y_train_total_standard = np.concatenate((y_train_standard, y_test_standard), axis=0)\n",
    "\n",
    "x_train_total_gray = np.concatenate((x_train_gray, x_test_gray), axis=0)\n",
    "y_train_total_gray = np.concatenate((y_train_gray, y_test_gray), axis=0)\n",
    "\n",
    "print(x_train_total_standard.shape)\n",
    "print(y_train_total_standard.shape)\n",
    "\n",
    "print(x_train_total_gray.shape)\n",
    "print(y_train_total_gray.shape)"
   ]
  },
  {
   "cell_type": "markdown",
   "metadata": {},
   "source": [
    "Now let's train again our models with all data and make them predict results."
   ]
  },
  {
   "cell_type": "code",
   "execution_count": 66,
   "metadata": {},
   "outputs": [
    {
     "name": "stdout",
     "output_type": "stream",
     "text": [
      "Epoch 1/50\n",
      "11/11 [==============================] - ETA: 0s - loss: 2.8189 - accuracy: 0.1444WARNING:tensorflow:Can save best model only with val_loss available, skipping.\n"
     ]
    },
    {
     "name": "stderr",
     "output_type": "stream",
     "text": [
      "WARNING:tensorflow:Can save best model only with val_loss available, skipping.\n"
     ]
    },
    {
     "name": "stdout",
     "output_type": "stream",
     "text": [
      "11/11 [==============================] - 31s 1s/step - loss: 2.8189 - accuracy: 0.1444\n",
      "Epoch 2/50\n",
      "11/11 [==============================] - ETA: 0s - loss: 2.5416 - accuracy: 0.2266WARNING:tensorflow:Can save best model only with val_loss available, skipping.\n"
     ]
    },
    {
     "name": "stderr",
     "output_type": "stream",
     "text": [
      "WARNING:tensorflow:Can save best model only with val_loss available, skipping.\n"
     ]
    },
    {
     "name": "stdout",
     "output_type": "stream",
     "text": [
      "11/11 [==============================] - 6s 378ms/step - loss: 2.5416 - accuracy: 0.2266\n",
      "Epoch 3/50\n",
      "11/11 [==============================] - ETA: 0s - loss: 2.2521 - accuracy: 0.3179WARNING:tensorflow:Can save best model only with val_loss available, skipping.\n"
     ]
    },
    {
     "name": "stderr",
     "output_type": "stream",
     "text": [
      "WARNING:tensorflow:Can save best model only with val_loss available, skipping.\n"
     ]
    },
    {
     "name": "stdout",
     "output_type": "stream",
     "text": [
      "11/11 [==============================] - 4s 386ms/step - loss: 2.2521 - accuracy: 0.3179\n",
      "Epoch 4/50\n",
      "11/11 [==============================] - ETA: 0s - loss: 1.9829 - accuracy: 0.3930WARNING:tensorflow:Can save best model only with val_loss available, skipping.\n"
     ]
    },
    {
     "name": "stderr",
     "output_type": "stream",
     "text": [
      "WARNING:tensorflow:Can save best model only with val_loss available, skipping.\n"
     ]
    },
    {
     "name": "stdout",
     "output_type": "stream",
     "text": [
      "11/11 [==============================] - 3s 309ms/step - loss: 1.9829 - accuracy: 0.3930\n",
      "Epoch 5/50\n",
      "11/11 [==============================] - ETA: 0s - loss: 1.7668 - accuracy: 0.4580WARNING:tensorflow:Can save best model only with val_loss available, skipping.\n"
     ]
    },
    {
     "name": "stderr",
     "output_type": "stream",
     "text": [
      "WARNING:tensorflow:Can save best model only with val_loss available, skipping.\n"
     ]
    },
    {
     "name": "stdout",
     "output_type": "stream",
     "text": [
      "11/11 [==============================] - 5s 441ms/step - loss: 1.7668 - accuracy: 0.4580\n",
      "Epoch 6/50\n",
      "11/11 [==============================] - ETA: 0s - loss: 1.5904 - accuracy: 0.4943WARNING:tensorflow:Can save best model only with val_loss available, skipping.\n"
     ]
    },
    {
     "name": "stderr",
     "output_type": "stream",
     "text": [
      "WARNING:tensorflow:Can save best model only with val_loss available, skipping.\n"
     ]
    },
    {
     "name": "stdout",
     "output_type": "stream",
     "text": [
      "11/11 [==============================] - 5s 499ms/step - loss: 1.5904 - accuracy: 0.4943\n",
      "Epoch 7/50\n",
      "11/11 [==============================] - ETA: 0s - loss: 1.4742 - accuracy: 0.5436WARNING:tensorflow:Can save best model only with val_loss available, skipping.\n"
     ]
    },
    {
     "name": "stderr",
     "output_type": "stream",
     "text": [
      "WARNING:tensorflow:Can save best model only with val_loss available, skipping.\n"
     ]
    },
    {
     "name": "stdout",
     "output_type": "stream",
     "text": [
      "11/11 [==============================] - 6s 562ms/step - loss: 1.4742 - accuracy: 0.5436\n",
      "Epoch 8/50\n",
      "11/11 [==============================] - ETA: 0s - loss: 1.4017 - accuracy: 0.5540WARNING:tensorflow:Can save best model only with val_loss available, skipping.\n"
     ]
    },
    {
     "name": "stderr",
     "output_type": "stream",
     "text": [
      "WARNING:tensorflow:Can save best model only with val_loss available, skipping.\n"
     ]
    },
    {
     "name": "stdout",
     "output_type": "stream",
     "text": [
      "11/11 [==============================] - 5s 451ms/step - loss: 1.4017 - accuracy: 0.5540\n",
      "Epoch 9/50\n",
      "11/11 [==============================] - ETA: 0s - loss: 1.3326 - accuracy: 0.5795WARNING:tensorflow:Can save best model only with val_loss available, skipping.\n"
     ]
    },
    {
     "name": "stderr",
     "output_type": "stream",
     "text": [
      "WARNING:tensorflow:Can save best model only with val_loss available, skipping.\n"
     ]
    },
    {
     "name": "stdout",
     "output_type": "stream",
     "text": [
      "11/11 [==============================] - 7s 629ms/step - loss: 1.3326 - accuracy: 0.5795\n",
      "Epoch 10/50\n",
      "11/11 [==============================] - ETA: 0s - loss: 1.2124 - accuracy: 0.6141WARNING:tensorflow:Can save best model only with val_loss available, skipping.\n"
     ]
    },
    {
     "name": "stderr",
     "output_type": "stream",
     "text": [
      "WARNING:tensorflow:Can save best model only with val_loss available, skipping.\n"
     ]
    },
    {
     "name": "stdout",
     "output_type": "stream",
     "text": [
      "11/11 [==============================] - 7s 633ms/step - loss: 1.2124 - accuracy: 0.6141\n",
      "Epoch 11/50\n",
      "11/11 [==============================] - ETA: 0s - loss: 1.1211 - accuracy: 0.6414WARNING:tensorflow:Can save best model only with val_loss available, skipping.\n"
     ]
    },
    {
     "name": "stderr",
     "output_type": "stream",
     "text": [
      "WARNING:tensorflow:Can save best model only with val_loss available, skipping.\n"
     ]
    },
    {
     "name": "stdout",
     "output_type": "stream",
     "text": [
      "11/11 [==============================] - 5s 468ms/step - loss: 1.1211 - accuracy: 0.6414\n",
      "Epoch 12/50\n",
      "11/11 [==============================] - ETA: 0s - loss: 1.0863 - accuracy: 0.6557WARNING:tensorflow:Can save best model only with val_loss available, skipping.\n"
     ]
    },
    {
     "name": "stderr",
     "output_type": "stream",
     "text": [
      "WARNING:tensorflow:Can save best model only with val_loss available, skipping.\n"
     ]
    },
    {
     "name": "stdout",
     "output_type": "stream",
     "text": [
      "11/11 [==============================] - 5s 431ms/step - loss: 1.0863 - accuracy: 0.6557\n",
      "Epoch 13/50\n",
      "11/11 [==============================] - ETA: 0s - loss: 1.0243 - accuracy: 0.6654WARNING:tensorflow:Can save best model only with val_loss available, skipping.\n"
     ]
    },
    {
     "name": "stderr",
     "output_type": "stream",
     "text": [
      "WARNING:tensorflow:Can save best model only with val_loss available, skipping.\n"
     ]
    },
    {
     "name": "stdout",
     "output_type": "stream",
     "text": [
      "11/11 [==============================] - 4s 403ms/step - loss: 1.0243 - accuracy: 0.6654\n",
      "Epoch 14/50\n",
      "11/11 [==============================] - ETA: 0s - loss: 0.9758 - accuracy: 0.6841WARNING:tensorflow:Can save best model only with val_loss available, skipping.\n"
     ]
    },
    {
     "name": "stderr",
     "output_type": "stream",
     "text": [
      "WARNING:tensorflow:Can save best model only with val_loss available, skipping.\n"
     ]
    },
    {
     "name": "stdout",
     "output_type": "stream",
     "text": [
      "11/11 [==============================] - 6s 533ms/step - loss: 0.9758 - accuracy: 0.6841\n",
      "Epoch 15/50\n",
      "11/11 [==============================] - ETA: 0s - loss: 0.9274 - accuracy: 0.6964WARNING:tensorflow:Can save best model only with val_loss available, skipping.\n"
     ]
    },
    {
     "name": "stderr",
     "output_type": "stream",
     "text": [
      "WARNING:tensorflow:Can save best model only with val_loss available, skipping.\n"
     ]
    },
    {
     "name": "stdout",
     "output_type": "stream",
     "text": [
      "11/11 [==============================] - 6s 563ms/step - loss: 0.9274 - accuracy: 0.6964\n",
      "Epoch 16/50\n",
      "11/11 [==============================] - ETA: 0s - loss: 0.8753 - accuracy: 0.7142WARNING:tensorflow:Can save best model only with val_loss available, skipping.\n"
     ]
    },
    {
     "name": "stderr",
     "output_type": "stream",
     "text": [
      "WARNING:tensorflow:Can save best model only with val_loss available, skipping.\n"
     ]
    },
    {
     "name": "stdout",
     "output_type": "stream",
     "text": [
      "11/11 [==============================] - 5s 424ms/step - loss: 0.8753 - accuracy: 0.7142\n",
      "Epoch 17/50\n",
      "11/11 [==============================] - ETA: 0s - loss: 0.8510 - accuracy: 0.7211WARNING:tensorflow:Can save best model only with val_loss available, skipping.\n"
     ]
    },
    {
     "name": "stderr",
     "output_type": "stream",
     "text": [
      "WARNING:tensorflow:Can save best model only with val_loss available, skipping.\n"
     ]
    },
    {
     "name": "stdout",
     "output_type": "stream",
     "text": [
      "11/11 [==============================] - 4s 367ms/step - loss: 0.8510 - accuracy: 0.7211\n",
      "Epoch 18/50\n",
      "11/11 [==============================] - ETA: 0s - loss: 0.8308 - accuracy: 0.7182WARNING:tensorflow:Can save best model only with val_loss available, skipping.\n"
     ]
    },
    {
     "name": "stderr",
     "output_type": "stream",
     "text": [
      "WARNING:tensorflow:Can save best model only with val_loss available, skipping.\n"
     ]
    },
    {
     "name": "stdout",
     "output_type": "stream",
     "text": [
      "11/11 [==============================] - 4s 338ms/step - loss: 0.8308 - accuracy: 0.7182\n",
      "Epoch 19/50\n",
      "11/11 [==============================] - ETA: 0s - loss: 0.7627 - accuracy: 0.7486WARNING:tensorflow:Can save best model only with val_loss available, skipping.\n"
     ]
    },
    {
     "name": "stderr",
     "output_type": "stream",
     "text": [
      "WARNING:tensorflow:Can save best model only with val_loss available, skipping.\n"
     ]
    },
    {
     "name": "stdout",
     "output_type": "stream",
     "text": [
      "11/11 [==============================] - 4s 368ms/step - loss: 0.7627 - accuracy: 0.7486\n",
      "Epoch 20/50\n",
      "11/11 [==============================] - ETA: 0s - loss: 0.7114 - accuracy: 0.7662WARNING:tensorflow:Can save best model only with val_loss available, skipping.\n"
     ]
    },
    {
     "name": "stderr",
     "output_type": "stream",
     "text": [
      "WARNING:tensorflow:Can save best model only with val_loss available, skipping.\n"
     ]
    },
    {
     "name": "stdout",
     "output_type": "stream",
     "text": [
      "11/11 [==============================] - 5s 442ms/step - loss: 0.7114 - accuracy: 0.7662\n",
      "Epoch 21/50\n",
      "11/11 [==============================] - ETA: 0s - loss: 0.7023 - accuracy: 0.7626WARNING:tensorflow:Can save best model only with val_loss available, skipping.\n"
     ]
    },
    {
     "name": "stderr",
     "output_type": "stream",
     "text": [
      "WARNING:tensorflow:Can save best model only with val_loss available, skipping.\n"
     ]
    },
    {
     "name": "stdout",
     "output_type": "stream",
     "text": [
      "11/11 [==============================] - 5s 483ms/step - loss: 0.7023 - accuracy: 0.7626\n",
      "Epoch 22/50\n",
      "11/11 [==============================] - ETA: 0s - loss: 0.6731 - accuracy: 0.7671WARNING:tensorflow:Can save best model only with val_loss available, skipping.\n"
     ]
    },
    {
     "name": "stderr",
     "output_type": "stream",
     "text": [
      "WARNING:tensorflow:Can save best model only with val_loss available, skipping.\n"
     ]
    },
    {
     "name": "stdout",
     "output_type": "stream",
     "text": [
      "11/11 [==============================] - 4s 400ms/step - loss: 0.6731 - accuracy: 0.7671\n",
      "Epoch 23/50\n",
      "11/11 [==============================] - ETA: 0s - loss: 0.6342 - accuracy: 0.7803WARNING:tensorflow:Can save best model only with val_loss available, skipping.\n"
     ]
    },
    {
     "name": "stderr",
     "output_type": "stream",
     "text": [
      "WARNING:tensorflow:Can save best model only with val_loss available, skipping.\n"
     ]
    },
    {
     "name": "stdout",
     "output_type": "stream",
     "text": [
      "11/11 [==============================] - 5s 456ms/step - loss: 0.6342 - accuracy: 0.7803\n",
      "Epoch 24/50\n",
      "11/11 [==============================] - ETA: 0s - loss: 0.6144 - accuracy: 0.7856WARNING:tensorflow:Can save best model only with val_loss available, skipping.\n"
     ]
    },
    {
     "name": "stderr",
     "output_type": "stream",
     "text": [
      "WARNING:tensorflow:Can save best model only with val_loss available, skipping.\n"
     ]
    },
    {
     "name": "stdout",
     "output_type": "stream",
     "text": [
      "11/11 [==============================] - 5s 430ms/step - loss: 0.6144 - accuracy: 0.7856\n",
      "Epoch 25/50\n",
      "11/11 [==============================] - ETA: 0s - loss: 0.6084 - accuracy: 0.7873WARNING:tensorflow:Can save best model only with val_loss available, skipping.\n"
     ]
    },
    {
     "name": "stderr",
     "output_type": "stream",
     "text": [
      "WARNING:tensorflow:Can save best model only with val_loss available, skipping.\n"
     ]
    },
    {
     "name": "stdout",
     "output_type": "stream",
     "text": [
      "11/11 [==============================] - 5s 441ms/step - loss: 0.6084 - accuracy: 0.7873\n",
      "Epoch 26/50\n",
      "11/11 [==============================] - ETA: 0s - loss: 0.5622 - accuracy: 0.8032WARNING:tensorflow:Can save best model only with val_loss available, skipping.\n"
     ]
    },
    {
     "name": "stderr",
     "output_type": "stream",
     "text": [
      "WARNING:tensorflow:Can save best model only with val_loss available, skipping.\n"
     ]
    },
    {
     "name": "stdout",
     "output_type": "stream",
     "text": [
      "11/11 [==============================] - 5s 503ms/step - loss: 0.5622 - accuracy: 0.8032\n",
      "Epoch 27/50\n",
      "11/11 [==============================] - ETA: 0s - loss: 0.5463 - accuracy: 0.8091WARNING:tensorflow:Can save best model only with val_loss available, skipping.\n"
     ]
    },
    {
     "name": "stderr",
     "output_type": "stream",
     "text": [
      "WARNING:tensorflow:Can save best model only with val_loss available, skipping.\n"
     ]
    },
    {
     "name": "stdout",
     "output_type": "stream",
     "text": [
      "11/11 [==============================] - 4s 366ms/step - loss: 0.5463 - accuracy: 0.8091\n",
      "Epoch 28/50\n",
      "11/11 [==============================] - ETA: 0s - loss: 0.5207 - accuracy: 0.8137WARNING:tensorflow:Can save best model only with val_loss available, skipping.\n"
     ]
    },
    {
     "name": "stderr",
     "output_type": "stream",
     "text": [
      "WARNING:tensorflow:Can save best model only with val_loss available, skipping.\n"
     ]
    },
    {
     "name": "stdout",
     "output_type": "stream",
     "text": [
      "11/11 [==============================] - 4s 412ms/step - loss: 0.5207 - accuracy: 0.8137\n",
      "Epoch 29/50\n",
      "11/11 [==============================] - ETA: 0s - loss: 0.4947 - accuracy: 0.8250WARNING:tensorflow:Can save best model only with val_loss available, skipping.\n"
     ]
    },
    {
     "name": "stderr",
     "output_type": "stream",
     "text": [
      "WARNING:tensorflow:Can save best model only with val_loss available, skipping.\n"
     ]
    },
    {
     "name": "stdout",
     "output_type": "stream",
     "text": [
      "11/11 [==============================] - 5s 391ms/step - loss: 0.4947 - accuracy: 0.8250\n",
      "Epoch 30/50\n",
      "11/11 [==============================] - ETA: 0s - loss: 0.4747 - accuracy: 0.8292WARNING:tensorflow:Can save best model only with val_loss available, skipping.\n"
     ]
    },
    {
     "name": "stderr",
     "output_type": "stream",
     "text": [
      "WARNING:tensorflow:Can save best model only with val_loss available, skipping.\n"
     ]
    },
    {
     "name": "stdout",
     "output_type": "stream",
     "text": [
      "11/11 [==============================] - 6s 510ms/step - loss: 0.4747 - accuracy: 0.8292\n",
      "Epoch 31/50\n",
      "11/11 [==============================] - ETA: 0s - loss: 0.4571 - accuracy: 0.8302WARNING:tensorflow:Can save best model only with val_loss available, skipping.\n"
     ]
    },
    {
     "name": "stderr",
     "output_type": "stream",
     "text": [
      "WARNING:tensorflow:Can save best model only with val_loss available, skipping.\n"
     ]
    },
    {
     "name": "stdout",
     "output_type": "stream",
     "text": [
      "11/11 [==============================] - 6s 514ms/step - loss: 0.4571 - accuracy: 0.8302\n",
      "Epoch 32/50\n",
      "11/11 [==============================] - ETA: 0s - loss: 0.4389 - accuracy: 0.8388WARNING:tensorflow:Can save best model only with val_loss available, skipping.\n"
     ]
    },
    {
     "name": "stderr",
     "output_type": "stream",
     "text": [
      "WARNING:tensorflow:Can save best model only with val_loss available, skipping.\n"
     ]
    },
    {
     "name": "stdout",
     "output_type": "stream",
     "text": [
      "11/11 [==============================] - 6s 555ms/step - loss: 0.4389 - accuracy: 0.8388\n",
      "Epoch 33/50\n",
      "11/11 [==============================] - ETA: 0s - loss: 0.4165 - accuracy: 0.8408WARNING:tensorflow:Can save best model only with val_loss available, skipping.\n"
     ]
    },
    {
     "name": "stderr",
     "output_type": "stream",
     "text": [
      "WARNING:tensorflow:Can save best model only with val_loss available, skipping.\n"
     ]
    },
    {
     "name": "stdout",
     "output_type": "stream",
     "text": [
      "11/11 [==============================] - 4s 334ms/step - loss: 0.4165 - accuracy: 0.8408\n",
      "Epoch 34/50\n",
      "11/11 [==============================] - ETA: 0s - loss: 0.4036 - accuracy: 0.8465WARNING:tensorflow:Can save best model only with val_loss available, skipping.\n"
     ]
    },
    {
     "name": "stderr",
     "output_type": "stream",
     "text": [
      "WARNING:tensorflow:Can save best model only with val_loss available, skipping.\n"
     ]
    },
    {
     "name": "stdout",
     "output_type": "stream",
     "text": [
      "11/11 [==============================] - 4s 342ms/step - loss: 0.4036 - accuracy: 0.8465\n",
      "Epoch 35/50\n",
      "11/11 [==============================] - ETA: 0s - loss: 0.3927 - accuracy: 0.8551WARNING:tensorflow:Can save best model only with val_loss available, skipping.\n"
     ]
    },
    {
     "name": "stderr",
     "output_type": "stream",
     "text": [
      "WARNING:tensorflow:Can save best model only with val_loss available, skipping.\n"
     ]
    },
    {
     "name": "stdout",
     "output_type": "stream",
     "text": [
      "11/11 [==============================] - 4s 361ms/step - loss: 0.3927 - accuracy: 0.8551\n",
      "Epoch 36/50\n",
      "11/11 [==============================] - ETA: 0s - loss: 0.3732 - accuracy: 0.8620WARNING:tensorflow:Can save best model only with val_loss available, skipping.\n"
     ]
    },
    {
     "name": "stderr",
     "output_type": "stream",
     "text": [
      "WARNING:tensorflow:Can save best model only with val_loss available, skipping.\n"
     ]
    },
    {
     "name": "stdout",
     "output_type": "stream",
     "text": [
      "11/11 [==============================] - 5s 415ms/step - loss: 0.3732 - accuracy: 0.8620\n",
      "Epoch 37/50\n",
      "11/11 [==============================] - ETA: 0s - loss: 0.3611 - accuracy: 0.8602WARNING:tensorflow:Can save best model only with val_loss available, skipping.\n"
     ]
    },
    {
     "name": "stderr",
     "output_type": "stream",
     "text": [
      "WARNING:tensorflow:Can save best model only with val_loss available, skipping.\n"
     ]
    },
    {
     "name": "stdout",
     "output_type": "stream",
     "text": [
      "11/11 [==============================] - 5s 447ms/step - loss: 0.3611 - accuracy: 0.8602\n",
      "Epoch 38/50\n",
      "11/11 [==============================] - ETA: 0s - loss: 0.3372 - accuracy: 0.8758WARNING:tensorflow:Can save best model only with val_loss available, skipping.\n"
     ]
    },
    {
     "name": "stderr",
     "output_type": "stream",
     "text": [
      "WARNING:tensorflow:Can save best model only with val_loss available, skipping.\n"
     ]
    },
    {
     "name": "stdout",
     "output_type": "stream",
     "text": [
      "11/11 [==============================] - 5s 512ms/step - loss: 0.3372 - accuracy: 0.8758\n",
      "Epoch 39/50\n",
      "11/11 [==============================] - ETA: 0s - loss: 0.3378 - accuracy: 0.8745WARNING:tensorflow:Can save best model only with val_loss available, skipping.\n"
     ]
    },
    {
     "name": "stderr",
     "output_type": "stream",
     "text": [
      "WARNING:tensorflow:Can save best model only with val_loss available, skipping.\n"
     ]
    },
    {
     "name": "stdout",
     "output_type": "stream",
     "text": [
      "11/11 [==============================] - 8s 758ms/step - loss: 0.3378 - accuracy: 0.8745\n",
      "Epoch 40/50\n",
      "11/11 [==============================] - ETA: 0s - loss: 0.3129 - accuracy: 0.8802WARNING:tensorflow:Can save best model only with val_loss available, skipping.\n"
     ]
    },
    {
     "name": "stderr",
     "output_type": "stream",
     "text": [
      "WARNING:tensorflow:Can save best model only with val_loss available, skipping.\n"
     ]
    },
    {
     "name": "stdout",
     "output_type": "stream",
     "text": [
      "11/11 [==============================] - 5s 451ms/step - loss: 0.3129 - accuracy: 0.8802\n",
      "Epoch 41/50\n",
      "11/11 [==============================] - ETA: 0s - loss: 0.3000 - accuracy: 0.8838WARNING:tensorflow:Can save best model only with val_loss available, skipping.\n"
     ]
    },
    {
     "name": "stderr",
     "output_type": "stream",
     "text": [
      "WARNING:tensorflow:Can save best model only with val_loss available, skipping.\n"
     ]
    },
    {
     "name": "stdout",
     "output_type": "stream",
     "text": [
      "11/11 [==============================] - 4s 371ms/step - loss: 0.3000 - accuracy: 0.8838\n",
      "Epoch 42/50\n",
      "11/11 [==============================] - ETA: 0s - loss: 0.2990 - accuracy: 0.8835WARNING:tensorflow:Can save best model only with val_loss available, skipping.\n"
     ]
    },
    {
     "name": "stderr",
     "output_type": "stream",
     "text": [
      "WARNING:tensorflow:Can save best model only with val_loss available, skipping.\n"
     ]
    },
    {
     "name": "stdout",
     "output_type": "stream",
     "text": [
      "11/11 [==============================] - 4s 379ms/step - loss: 0.2990 - accuracy: 0.8835\n",
      "Epoch 43/50\n",
      "11/11 [==============================] - ETA: 0s - loss: 0.2759 - accuracy: 0.8930WARNING:tensorflow:Can save best model only with val_loss available, skipping.\n"
     ]
    },
    {
     "name": "stderr",
     "output_type": "stream",
     "text": [
      "WARNING:tensorflow:Can save best model only with val_loss available, skipping.\n"
     ]
    },
    {
     "name": "stdout",
     "output_type": "stream",
     "text": [
      "11/11 [==============================] - 4s 336ms/step - loss: 0.2759 - accuracy: 0.8930\n",
      "Epoch 44/50\n",
      "11/11 [==============================] - ETA: 0s - loss: 0.2715 - accuracy: 0.8936WARNING:tensorflow:Can save best model only with val_loss available, skipping.\n"
     ]
    },
    {
     "name": "stderr",
     "output_type": "stream",
     "text": [
      "WARNING:tensorflow:Can save best model only with val_loss available, skipping.\n"
     ]
    },
    {
     "name": "stdout",
     "output_type": "stream",
     "text": [
      "11/11 [==============================] - 4s 337ms/step - loss: 0.2715 - accuracy: 0.8936\n",
      "Epoch 45/50\n",
      "11/11 [==============================] - ETA: 0s - loss: 0.2558 - accuracy: 0.8981WARNING:tensorflow:Can save best model only with val_loss available, skipping.\n"
     ]
    },
    {
     "name": "stderr",
     "output_type": "stream",
     "text": [
      "WARNING:tensorflow:Can save best model only with val_loss available, skipping.\n"
     ]
    },
    {
     "name": "stdout",
     "output_type": "stream",
     "text": [
      "11/11 [==============================] - 4s 319ms/step - loss: 0.2558 - accuracy: 0.8981\n",
      "Epoch 46/50\n",
      "11/11 [==============================] - ETA: 0s - loss: 0.2502 - accuracy: 0.9049WARNING:tensorflow:Can save best model only with val_loss available, skipping.\n"
     ]
    },
    {
     "name": "stderr",
     "output_type": "stream",
     "text": [
      "WARNING:tensorflow:Can save best model only with val_loss available, skipping.\n"
     ]
    },
    {
     "name": "stdout",
     "output_type": "stream",
     "text": [
      "11/11 [==============================] - 4s 356ms/step - loss: 0.2502 - accuracy: 0.9049\n",
      "Epoch 47/50\n",
      "11/11 [==============================] - ETA: 0s - loss: 0.2458 - accuracy: 0.9042WARNING:tensorflow:Can save best model only with val_loss available, skipping.\n"
     ]
    },
    {
     "name": "stderr",
     "output_type": "stream",
     "text": [
      "WARNING:tensorflow:Can save best model only with val_loss available, skipping.\n"
     ]
    },
    {
     "name": "stdout",
     "output_type": "stream",
     "text": [
      "11/11 [==============================] - 3s 285ms/step - loss: 0.2458 - accuracy: 0.9042\n",
      "Epoch 48/50\n",
      "11/11 [==============================] - ETA: 0s - loss: 0.2437 - accuracy: 0.9071WARNING:tensorflow:Can save best model only with val_loss available, skipping.\n"
     ]
    },
    {
     "name": "stderr",
     "output_type": "stream",
     "text": [
      "WARNING:tensorflow:Can save best model only with val_loss available, skipping.\n"
     ]
    },
    {
     "name": "stdout",
     "output_type": "stream",
     "text": [
      "11/11 [==============================] - 2s 228ms/step - loss: 0.2437 - accuracy: 0.9071\n",
      "Epoch 49/50\n",
      "11/11 [==============================] - ETA: 0s - loss: 0.2340 - accuracy: 0.9040WARNING:tensorflow:Can save best model only with val_loss available, skipping.\n"
     ]
    },
    {
     "name": "stderr",
     "output_type": "stream",
     "text": [
      "WARNING:tensorflow:Can save best model only with val_loss available, skipping.\n"
     ]
    },
    {
     "name": "stdout",
     "output_type": "stream",
     "text": [
      "11/11 [==============================] - 3s 291ms/step - loss: 0.2340 - accuracy: 0.9040\n",
      "Epoch 50/50\n",
      "11/11 [==============================] - ETA: 0s - loss: 0.2261 - accuracy: 0.9122WARNING:tensorflow:Can save best model only with val_loss available, skipping.\n"
     ]
    },
    {
     "name": "stderr",
     "output_type": "stream",
     "text": [
      "WARNING:tensorflow:Can save best model only with val_loss available, skipping.\n"
     ]
    },
    {
     "name": "stdout",
     "output_type": "stream",
     "text": [
      "11/11 [==============================] - 2s 214ms/step - loss: 0.2261 - accuracy: 0.9122\n",
      "Epoch 1/50\n",
      "11/11 [==============================] - 7s 164ms/step - loss: 2.8823 - accuracy: 0.0802\n",
      "Epoch 2/50\n",
      "11/11 [==============================] - 2s 167ms/step - loss: 2.8315 - accuracy: 0.0845\n",
      "Epoch 3/50\n",
      "11/11 [==============================] - 2s 213ms/step - loss: 2.7349 - accuracy: 0.1407\n",
      "Epoch 4/50\n",
      "11/11 [==============================] - 2s 181ms/step - loss: 2.5941 - accuracy: 0.1854\n",
      "Epoch 5/50\n",
      "11/11 [==============================] - 2s 181ms/step - loss: 2.4481 - accuracy: 0.2160\n",
      "Epoch 6/50\n",
      "11/11 [==============================] - 2s 201ms/step - loss: 2.3265 - accuracy: 0.2640\n",
      "Epoch 7/50\n",
      "11/11 [==============================] - 2s 180ms/step - loss: 2.2381 - accuracy: 0.3027\n",
      "Epoch 8/50\n",
      "11/11 [==============================] - 2s 140ms/step - loss: 2.1496 - accuracy: 0.3267\n",
      "Epoch 9/50\n",
      "11/11 [==============================] - 2s 143ms/step - loss: 2.0864 - accuracy: 0.3459\n",
      "Epoch 10/50\n",
      "11/11 [==============================] - 2s 146ms/step - loss: 2.0389 - accuracy: 0.3730\n",
      "Epoch 11/50\n",
      "11/11 [==============================] - 2s 151ms/step - loss: 1.9764 - accuracy: 0.3840\n",
      "Epoch 12/50\n",
      "11/11 [==============================] - 2s 143ms/step - loss: 1.9181 - accuracy: 0.4086\n",
      "Epoch 13/50\n",
      "11/11 [==============================] - 2s 140ms/step - loss: 1.8727 - accuracy: 0.4077\n",
      "Epoch 14/50\n",
      "11/11 [==============================] - 1s 134ms/step - loss: 1.8090 - accuracy: 0.4318\n",
      "Epoch 15/50\n",
      "11/11 [==============================] - 2s 146ms/step - loss: 1.7494 - accuracy: 0.4505\n",
      "Epoch 16/50\n",
      "11/11 [==============================] - 2s 171ms/step - loss: 1.7012 - accuracy: 0.4764\n",
      "Epoch 17/50\n",
      "11/11 [==============================] - 2s 151ms/step - loss: 1.6489 - accuracy: 0.4789\n",
      "Epoch 18/50\n",
      "11/11 [==============================] - 2s 173ms/step - loss: 1.5839 - accuracy: 0.5073\n",
      "Epoch 19/50\n",
      "11/11 [==============================] - 2s 157ms/step - loss: 1.5648 - accuracy: 0.5044\n",
      "Epoch 20/50\n",
      "11/11 [==============================] - 2s 162ms/step - loss: 1.5199 - accuracy: 0.5148\n",
      "Epoch 21/50\n",
      "11/11 [==============================] - 2s 165ms/step - loss: 1.4671 - accuracy: 0.5302\n",
      "Epoch 22/50\n",
      "11/11 [==============================] - 2s 141ms/step - loss: 1.4192 - accuracy: 0.5438\n",
      "Epoch 23/50\n",
      "11/11 [==============================] - 2s 150ms/step - loss: 1.3910 - accuracy: 0.5526\n",
      "Epoch 24/50\n",
      "11/11 [==============================] - 1s 137ms/step - loss: 1.3522 - accuracy: 0.5630\n",
      "Epoch 25/50\n",
      "11/11 [==============================] - 1s 127ms/step - loss: 1.3224 - accuracy: 0.5726\n",
      "Epoch 26/50\n",
      "11/11 [==============================] - 1s 134ms/step - loss: 1.2954 - accuracy: 0.5885\n",
      "Epoch 27/50\n",
      "11/11 [==============================] - 1s 129ms/step - loss: 1.2450 - accuracy: 0.5890\n",
      "Epoch 28/50\n",
      "11/11 [==============================] - 2s 163ms/step - loss: 1.1883 - accuracy: 0.6074\n",
      "Epoch 29/50\n",
      "11/11 [==============================] - 2s 137ms/step - loss: 1.1620 - accuracy: 0.6154\n",
      "Epoch 30/50\n",
      "11/11 [==============================] - 2s 140ms/step - loss: 1.1373 - accuracy: 0.6228\n",
      "Epoch 31/50\n",
      "11/11 [==============================] - 1s 116ms/step - loss: 1.1170 - accuracy: 0.6261\n",
      "Epoch 32/50\n",
      "11/11 [==============================] - 1s 123ms/step - loss: 1.0910 - accuracy: 0.6359\n",
      "Epoch 33/50\n",
      "11/11 [==============================] - 2s 168ms/step - loss: 1.0658 - accuracy: 0.6326\n",
      "Epoch 34/50\n",
      "11/11 [==============================] - 1s 134ms/step - loss: 1.0414 - accuracy: 0.6354\n",
      "Epoch 35/50\n",
      "11/11 [==============================] - 1s 122ms/step - loss: 0.9904 - accuracy: 0.6545\n",
      "Epoch 36/50\n",
      "11/11 [==============================] - 1s 119ms/step - loss: 0.9757 - accuracy: 0.6647\n",
      "Epoch 37/50\n",
      "11/11 [==============================] - 1s 117ms/step - loss: 0.9558 - accuracy: 0.6697\n",
      "Epoch 38/50\n",
      "11/11 [==============================] - 3s 216ms/step - loss: 0.9330 - accuracy: 0.6715\n",
      "Epoch 39/50\n",
      "11/11 [==============================] - 1s 118ms/step - loss: 0.8795 - accuracy: 0.6852\n",
      "Epoch 40/50\n",
      "11/11 [==============================] - 1s 118ms/step - loss: 0.8809 - accuracy: 0.6882\n",
      "Epoch 41/50\n",
      "11/11 [==============================] - 1s 137ms/step - loss: 0.8640 - accuracy: 0.6893\n",
      "Epoch 42/50\n",
      "11/11 [==============================] - 2s 139ms/step - loss: 0.8420 - accuracy: 0.7036\n",
      "Epoch 43/50\n",
      "11/11 [==============================] - 2s 137ms/step - loss: 0.7957 - accuracy: 0.7081\n",
      "Epoch 44/50\n",
      "11/11 [==============================] - 1s 133ms/step - loss: 0.7760 - accuracy: 0.7120\n",
      "Epoch 45/50\n",
      "11/11 [==============================] - 2s 146ms/step - loss: 0.7664 - accuracy: 0.7217\n",
      "Epoch 46/50\n",
      "11/11 [==============================] - 2s 141ms/step - loss: 0.7592 - accuracy: 0.7309\n",
      "Epoch 47/50\n",
      "11/11 [==============================] - 1s 125ms/step - loss: 0.7437 - accuracy: 0.7307\n",
      "Epoch 48/50\n",
      "11/11 [==============================] - 1s 125ms/step - loss: 0.7300 - accuracy: 0.7395\n",
      "Epoch 49/50\n",
      "11/11 [==============================] - 1s 121ms/step - loss: 0.7252 - accuracy: 0.7393\n",
      "Epoch 50/50\n",
      "11/11 [==============================] - 2s 149ms/step - loss: 0.6962 - accuracy: 0.7451\n"
     ]
    }
   ],
   "source": [
    "# Standard.\n",
    "model_cnn_1_standard_total = get_model_cnn_v1(input_shape=(64, 64, 3))\n",
    "samples_weight = compute_sample_weight(\"balanced\", y_train_total_standard)\n",
    "model_cnn_1_standard_total.compile(optimizer='adam', loss='sparse_categorical_crossentropy', metrics=['accuracy'])\n",
    "history_v1_standard = model_cnn_1_standard_total.fit(\n",
    "    x=x_train_total_standard,\n",
    "    y=y_train_total_standard,\n",
    "    batch_size=512,\n",
    "    epochs=50,\n",
    "    sample_weight=samples_weight\n",
    ")\n",
    "\n",
    "# Gray scale.\n",
    "model_cnn_1_gray_total = get_model_cnn_v1(input_shape=(64, 64, 1))\n",
    "samples_weight = compute_sample_weight(\"balanced\", y_train_total_gray)\n",
    "model_cnn_1_gray_total.compile(optimizer='adam', loss='sparse_categorical_crossentropy', metrics=['accuracy'])\n",
    "history_v1_gray = model_cnn_1_gray_total.fit(\n",
    "    x=x_train_total_gray,\n",
    "    y=y_train_total_gray,\n",
    "    batch_size=512,\n",
    "    epochs=50,\n",
    "    sample_weight=samples_weight\n",
    ")"
   ]
  },
  {
   "cell_type": "markdown",
   "metadata": {},
   "source": [
    "Let's save ou results now."
   ]
  },
  {
   "cell_type": "code",
   "execution_count": 68,
   "metadata": {},
   "outputs": [
    {
     "name": "stdout",
     "output_type": "stream",
     "text": [
      "19/19 [==============================] - 2s 13ms/step\n"
     ]
    }
   ],
   "source": [
    "os.makedirs('working/predictions', exist_ok=True)\n",
    "y_prediction_standard = model_cnn_1_standard_total.predict(x_final_standard)\n",
    "y_prediction_standard = np.argmax(y_prediction_standard, axis=1)\n",
    "result = pd.DataFrame({'path': df_test.path, 'classId': y_prediction_standard})\n",
    "result.to_csv('working/predictions/submission_model_1_standard.csv', index=False)"
   ]
  },
  {
   "cell_type": "markdown",
   "metadata": {},
   "source": [
    "Results : an accuracy of 0.80, not too bad I suppose but it can stille be improved. To do that, we are going to do the same process but with another model. We will dropout layers to try to increase the accuracy."
   ]
  },
  {
   "cell_type": "markdown",
   "metadata": {},
   "source": [
    "## Try with another model"
   ]
  },
  {
   "cell_type": "code",
   "execution_count": 70,
   "metadata": {},
   "outputs": [],
   "source": [
    "def get_model_cnn_v2(input_shape=(64, 64, 1)):\n",
    "    \"\"\"\n",
    "    Creates a Sequential model for classifying the simpsons using pooling and dropout layers.\n",
    "\n",
    "    Parameters:\n",
    "    - input_shape (tuple): The shape of input images (default is (64, 64, 1)).\n",
    "    Returns:\n",
    "    - model (Sequential): The compiled Keras Sequential model.\n",
    "    \"\"\"\n",
    "    model = Sequential()\n",
    "\n",
    "    # Convolutional layers with pooling.\n",
    "    model.add(Input(shape=input_shape))\n",
    "    if len(input_shape) == 3:\n",
    "        model.add(Conv2D(8, kernel_size=(3, 3), strides=(1, 1), activation='relu'))\n",
    "        model.add(BatchNormalization())\n",
    "        model.add(MaxPooling2D(pool_size=(2, 2)))\n",
    "        model.add(Dropout(0.2))\n",
    "        model.add(Conv2D(16, kernel_size=(3, 3), strides=(1, 1), activation='relu'))\n",
    "        model.add(BatchNormalization())\n",
    "        model.add(MaxPooling2D(pool_size=(2, 2)))\n",
    "        model.add(Dropout(0.2))\n",
    "\n",
    "    # Flatten layer.\n",
    "    model.add(Flatten())\n",
    "\n",
    "    # Dense layers with Dropout.\n",
    "    model.add(Dense(128, activation='relu'))\n",
    "    model.add(BatchNormalization())\n",
    "    model.add(Dropout(0.5))\n",
    "    model.add(Dense(32, activation='relu'))\n",
    "    model.add(BatchNormalization())\n",
    "    model.add(Dropout(0.5))\n",
    "\n",
    "    # Output layer.\n",
    "    num_classes = 18  # Number of classes (digits 0-9).\n",
    "    model.add(Dense(num_classes, activation='softmax'))\n",
    "\n",
    "    return model"
   ]
  },
  {
   "cell_type": "markdown",
   "metadata": {},
   "source": [
    "Repeat the same process for 3 models (not exposure + gray, because it is very bad)."
   ]
  },
  {
   "cell_type": "code",
   "execution_count": 71,
   "metadata": {},
   "outputs": [],
   "source": [
    "save_callback_2 = keras.callbacks.ModelCheckpoint(filepath=\"models/model_v2\", verbose=0, save_best_only=True)\n",
    "\n",
    "model_cnn_2_standard = get_model_cnn_v2(input_shape=(64, 64, 3)) # Because we use a RGB image we precise the 3 here."
   ]
  },
  {
   "cell_type": "markdown",
   "metadata": {},
   "source": [
    "Let's check that we are < to 1M parameters."
   ]
  },
  {
   "cell_type": "code",
   "execution_count": 72,
   "metadata": {},
   "outputs": [
    {
     "name": "stdout",
     "output_type": "stream",
     "text": [
      "Model: \"sequential_6\"\n",
      "_________________________________________________________________\n",
      " Layer (type)                Output Shape              Param #   \n",
      "=================================================================\n",
      " conv2d_12 (Conv2D)          (None, 62, 62, 8)         224       \n",
      "                                                                 \n",
      " max_pooling2d_10 (MaxPooli  (None, 31, 31, 8)         0         \n",
      " ng2D)                                                           \n",
      "                                                                 \n",
      " conv2d_13 (Conv2D)          (None, 29, 29, 16)        1168      \n",
      "                                                                 \n",
      " max_pooling2d_11 (MaxPooli  (None, 14, 14, 16)        0         \n",
      " ng2D)                                                           \n",
      "                                                                 \n",
      " flatten_6 (Flatten)         (None, 3136)              0         \n",
      "                                                                 \n",
      " dense_18 (Dense)            (None, 128)               401536    \n",
      "                                                                 \n",
      " dropout_12 (Dropout)        (None, 128)               0         \n",
      "                                                                 \n",
      " dense_19 (Dense)            (None, 32)                4128      \n",
      "                                                                 \n",
      " dropout_13 (Dropout)        (None, 32)                0         \n",
      "                                                                 \n",
      " dense_20 (Dense)            (None, 18)                594       \n",
      "                                                                 \n",
      "=================================================================\n",
      "Total params: 407650 (1.56 MB)\n",
      "Trainable params: 407650 (1.56 MB)\n",
      "Non-trainable params: 0 (0.00 Byte)\n",
      "_________________________________________________________________\n"
     ]
    }
   ],
   "source": [
    "model_cnn_1_standard.summary()"
   ]
  },
  {
   "cell_type": "markdown",
   "metadata": {},
   "source": [
    "Let's train our models."
   ]
  },
  {
   "cell_type": "code",
   "execution_count": 73,
   "metadata": {},
   "outputs": [
    {
     "name": "stdout",
     "output_type": "stream",
     "text": [
      "Epoch 1/50\n",
      "9/9 [==============================] - ETA: 0s - loss: 3.4585 - accuracy: 0.0923"
     ]
    },
    {
     "name": "stderr",
     "output_type": "stream",
     "text": [
      "Exception ignored in: <function WeakKeyDictionary.__init__.<locals>.remove at 0x00000248C029F6A0>\n",
      "Traceback (most recent call last):\n",
      "  File \"C:\\Program Files\\WindowsApps\\PythonSoftwareFoundation.Python.3.11_3.11.2032.0_x64__qbz5n2kfra8p0\\Lib\\weakref.py\", line 370, in remove\n",
      "    self = selfref()\n",
      "           ^^^^^^^^^\n",
      "KeyboardInterrupt: \n",
      "Exception ignored in: <function AtomicFunction.__del__ at 0x00000248BA304400>\n",
      "Traceback (most recent call last):\n",
      "  File \"C:\\Users\\jtrem\\AppData\\Local\\Packages\\PythonSoftwareFoundation.Python.3.11_qbz5n2kfra8p0\\LocalCache\\local-packages\\Python311\\site-packages\\tensorflow\\python\\eager\\polymorphic_function\\atomic_function.py\", line 300, in __del__\n",
      "    RUNTIME_FUNCTION_REFS.pop(key)\n",
      "KeyboardInterrupt: \n"
     ]
    },
    {
     "name": "stdout",
     "output_type": "stream",
     "text": [
      "INFO:tensorflow:Assets written to: models\\model_v2\\assets\n"
     ]
    },
    {
     "name": "stderr",
     "output_type": "stream",
     "text": [
      "INFO:tensorflow:Assets written to: models\\model_v2\\assets\n"
     ]
    },
    {
     "name": "stdout",
     "output_type": "stream",
     "text": [
      "9/9 [==============================] - 180s 21s/step - loss: 3.4585 - accuracy: 0.0923 - val_loss: 2.8779 - val_accuracy: 0.0998\n",
      "Epoch 2/50\n",
      "1/9 [==>...........................] - ETA: 10s - loss: 2.9728 - accuracy: 0.1465"
     ]
    }
   ],
   "source": [
    "samples_weight = compute_sample_weight(\"balanced\", y_train_standard)\n",
    "tensorboard_callback_2 = keras.callbacks.TensorBoard(log_dir=\"logs/cnn_v2_standard\", histogram_freq=1)\n",
    "model_cnn_2_standard.compile(optimizer='adam', loss='sparse_categorical_crossentropy', metrics=['accuracy'])\n",
    "\n",
    "# Train the model on 50 epochs.\n",
    "history_v2_standard = model_cnn_2_standard.fit(\n",
    "    x=x_train_standard,\n",
    "    y=y_train_standard,\n",
    "    batch_size=512,\n",
    "    epochs=50,\t\n",
    "    callbacks=[save_callback_2, tensorboard_callback_2],\n",
    "    validation_data=(x_test_standard, y_test_standard),\n",
    "    sample_weight=samples_weight\n",
    ")"
   ]
  },
  {
   "cell_type": "markdown",
   "metadata": {},
   "source": [
    "Let's now renew the operation with each of the previous image types."
   ]
  },
  {
   "cell_type": "code",
   "execution_count": null,
   "metadata": {},
   "outputs": [
    {
     "name": "stdout",
     "output_type": "stream",
     "text": [
      "Epoch 1/50\n",
      "9/9 [==============================] - 7s 427ms/step - loss: 2.8870 - accuracy: 0.0747 - val_loss: 2.8760 - val_accuracy: 0.1538\n",
      "Epoch 2/50\n",
      "9/9 [==============================] - 2s 266ms/step - loss: 2.8547 - accuracy: 0.1280 - val_loss: 2.7892 - val_accuracy: 0.2125\n",
      "Epoch 3/50\n",
      "9/9 [==============================] - 3s 371ms/step - loss: 2.7870 - accuracy: 0.1697 - val_loss: 2.6686 - val_accuracy: 0.2674\n",
      "Epoch 4/50\n",
      "9/9 [==============================] - 3s 327ms/step - loss: 2.6706 - accuracy: 0.1958 - val_loss: 2.5030 - val_accuracy: 0.2711\n",
      "Epoch 5/50\n",
      "9/9 [==============================] - 2s 223ms/step - loss: 2.5351 - accuracy: 0.2089 - val_loss: 2.3527 - val_accuracy: 0.2857\n",
      "Epoch 6/50\n",
      "9/9 [==============================] - 2s 253ms/step - loss: 2.4323 - accuracy: 0.2414 - val_loss: 2.2201 - val_accuracy: 0.3114\n",
      "Epoch 7/50\n",
      "9/9 [==============================] - 2s 275ms/step - loss: 2.3481 - accuracy: 0.2533 - val_loss: 2.1441 - val_accuracy: 0.3516\n",
      "Epoch 8/50\n",
      "9/9 [==============================] - 3s 276ms/step - loss: 2.2717 - accuracy: 0.2792 - val_loss: 2.0964 - val_accuracy: 0.3544\n",
      "Epoch 9/50\n",
      "9/9 [==============================] - 2s 261ms/step - loss: 2.2057 - accuracy: 0.2897 - val_loss: 2.0370 - val_accuracy: 0.3965\n",
      "Epoch 10/50\n",
      "9/9 [==============================] - 2s 238ms/step - loss: 2.1537 - accuracy: 0.3138 - val_loss: 1.9808 - val_accuracy: 0.4304\n",
      "Epoch 11/50\n",
      "9/9 [==============================] - 2s 246ms/step - loss: 2.1087 - accuracy: 0.3433 - val_loss: 1.9412 - val_accuracy: 0.4304\n",
      "Epoch 12/50\n",
      "9/9 [==============================] - 2s 207ms/step - loss: 2.0646 - accuracy: 0.3397 - val_loss: 1.9008 - val_accuracy: 0.4414\n",
      "Epoch 13/50\n",
      "9/9 [==============================] - 2s 257ms/step - loss: 2.0317 - accuracy: 0.3433 - val_loss: 1.8714 - val_accuracy: 0.4661\n",
      "Epoch 14/50\n",
      "9/9 [==============================] - 2s 223ms/step - loss: 1.9572 - accuracy: 0.3717 - val_loss: 1.8386 - val_accuracy: 0.4716\n",
      "Epoch 15/50\n",
      "9/9 [==============================] - 2s 224ms/step - loss: 1.9381 - accuracy: 0.3678 - val_loss: 1.8301 - val_accuracy: 0.4679\n",
      "Epoch 16/50\n",
      "9/9 [==============================] - 2s 271ms/step - loss: 1.9111 - accuracy: 0.3830 - val_loss: 1.7813 - val_accuracy: 0.4963\n",
      "Epoch 17/50\n",
      "9/9 [==============================] - 2s 218ms/step - loss: 1.8565 - accuracy: 0.4116 - val_loss: 1.7521 - val_accuracy: 0.5000\n",
      "Epoch 18/50\n",
      "9/9 [==============================] - 3s 341ms/step - loss: 1.8167 - accuracy: 0.4130 - val_loss: 1.7240 - val_accuracy: 0.5156\n",
      "Epoch 19/50\n",
      "9/9 [==============================] - 2s 260ms/step - loss: 1.7770 - accuracy: 0.4187 - val_loss: 1.6856 - val_accuracy: 0.5147\n",
      "Epoch 20/50\n",
      "9/9 [==============================] - 3s 335ms/step - loss: 1.7416 - accuracy: 0.4450 - val_loss: 1.6804 - val_accuracy: 0.5046\n",
      "Epoch 21/50\n",
      "9/9 [==============================] - 2s 246ms/step - loss: 1.7167 - accuracy: 0.4519 - val_loss: 1.6550 - val_accuracy: 0.5147\n",
      "Epoch 22/50\n",
      "9/9 [==============================] - 2s 239ms/step - loss: 1.6898 - accuracy: 0.4501 - val_loss: 1.6282 - val_accuracy: 0.5385\n",
      "Epoch 23/50\n",
      "9/9 [==============================] - 2s 210ms/step - loss: 1.6377 - accuracy: 0.4661 - val_loss: 1.6283 - val_accuracy: 0.5449\n",
      "Epoch 24/50\n",
      "9/9 [==============================] - 3s 349ms/step - loss: 1.6179 - accuracy: 0.4702 - val_loss: 1.5732 - val_accuracy: 0.5586\n",
      "Epoch 25/50\n",
      "9/9 [==============================] - 2s 238ms/step - loss: 1.5554 - accuracy: 0.4986 - val_loss: 1.5609 - val_accuracy: 0.5357\n",
      "Epoch 26/50\n",
      "9/9 [==============================] - 2s 245ms/step - loss: 1.5339 - accuracy: 0.5032 - val_loss: 1.5528 - val_accuracy: 0.5577\n",
      "Epoch 27/50\n",
      "9/9 [==============================] - 2s 239ms/step - loss: 1.4668 - accuracy: 0.5135 - val_loss: 1.5425 - val_accuracy: 0.5430\n",
      "Epoch 28/50\n",
      "9/9 [==============================] - 2s 213ms/step - loss: 1.4723 - accuracy: 0.5027 - val_loss: 1.5438 - val_accuracy: 0.5394\n",
      "Epoch 29/50\n",
      "9/9 [==============================] - 2s 258ms/step - loss: 1.4151 - accuracy: 0.5204 - val_loss: 1.4789 - val_accuracy: 0.5614\n",
      "Epoch 30/50\n",
      "9/9 [==============================] - 2s 272ms/step - loss: 1.3700 - accuracy: 0.5339 - val_loss: 1.4568 - val_accuracy: 0.5760\n",
      "Epoch 31/50\n",
      "9/9 [==============================] - 2s 235ms/step - loss: 1.3439 - accuracy: 0.5442 - val_loss: 1.4446 - val_accuracy: 0.5687\n",
      "Epoch 32/50\n",
      "9/9 [==============================] - 2s 257ms/step - loss: 1.3334 - accuracy: 0.5424 - val_loss: 1.4206 - val_accuracy: 0.5824\n",
      "Epoch 33/50\n",
      "9/9 [==============================] - 2s 207ms/step - loss: 1.3065 - accuracy: 0.5563 - val_loss: 1.4360 - val_accuracy: 0.5778\n",
      "Epoch 34/50\n",
      "9/9 [==============================] - 3s 309ms/step - loss: 1.2900 - accuracy: 0.5598 - val_loss: 1.4368 - val_accuracy: 0.5824\n",
      "Epoch 35/50\n",
      "9/9 [==============================] - 2s 270ms/step - loss: 1.2510 - accuracy: 0.5696 - val_loss: 1.4125 - val_accuracy: 0.5824\n",
      "Epoch 36/50\n",
      "9/9 [==============================] - 2s 239ms/step - loss: 1.2067 - accuracy: 0.5845 - val_loss: 1.3809 - val_accuracy: 0.5971\n",
      "Epoch 37/50\n",
      "9/9 [==============================] - 3s 306ms/step - loss: 1.1985 - accuracy: 0.5825 - val_loss: 1.3559 - val_accuracy: 0.6053\n",
      "Epoch 38/50\n",
      "9/9 [==============================] - 2s 265ms/step - loss: 1.1740 - accuracy: 0.5941 - val_loss: 1.3596 - val_accuracy: 0.6108\n",
      "Epoch 39/50\n",
      "9/9 [==============================] - 2s 255ms/step - loss: 1.1380 - accuracy: 0.5985 - val_loss: 1.3520 - val_accuracy: 0.6007\n",
      "Epoch 40/50\n",
      "9/9 [==============================] - 2s 266ms/step - loss: 1.0958 - accuracy: 0.6173 - val_loss: 1.3191 - val_accuracy: 0.6190\n",
      "Epoch 41/50\n",
      "9/9 [==============================] - 2s 272ms/step - loss: 1.1247 - accuracy: 0.6033 - val_loss: 1.3648 - val_accuracy: 0.5980\n",
      "Epoch 42/50\n",
      "9/9 [==============================] - 2s 220ms/step - loss: 1.1043 - accuracy: 0.6005 - val_loss: 1.3427 - val_accuracy: 0.6154\n",
      "Epoch 43/50\n",
      "9/9 [==============================] - 2s 266ms/step - loss: 1.0462 - accuracy: 0.6264 - val_loss: 1.3120 - val_accuracy: 0.6136\n",
      "Epoch 44/50\n",
      "9/9 [==============================] - 2s 251ms/step - loss: 1.0320 - accuracy: 0.6349 - val_loss: 1.3124 - val_accuracy: 0.6218\n",
      "Epoch 45/50\n",
      "9/9 [==============================] - 2s 244ms/step - loss: 1.0054 - accuracy: 0.6351 - val_loss: 1.3008 - val_accuracy: 0.6181\n",
      "Epoch 46/50\n",
      "9/9 [==============================] - 2s 264ms/step - loss: 0.9785 - accuracy: 0.6493 - val_loss: 1.2891 - val_accuracy: 0.6282\n",
      "Epoch 47/50\n",
      "9/9 [==============================] - 2s 243ms/step - loss: 0.9339 - accuracy: 0.6555 - val_loss: 1.2814 - val_accuracy: 0.6227\n",
      "Epoch 48/50\n",
      "9/9 [==============================] - 2s 275ms/step - loss: 0.9175 - accuracy: 0.6677 - val_loss: 1.2720 - val_accuracy: 0.6300\n",
      "Epoch 49/50\n",
      "9/9 [==============================] - 2s 254ms/step - loss: 0.9101 - accuracy: 0.6622 - val_loss: 1.2647 - val_accuracy: 0.6273\n",
      "Epoch 50/50\n",
      "9/9 [==============================] - 2s 251ms/step - loss: 0.8861 - accuracy: 0.6688 - val_loss: 1.2763 - val_accuracy: 0.6291\n"
     ]
    }
   ],
   "source": [
    "# Gray scale.\n",
    "model_cnn_2_gray = get_model_cnn_v2(input_shape=(64, 64, 1))\n",
    "tensorboard_callback_2 = keras.callbacks.TensorBoard(log_dir=\"logs/cnn_v2_gray\", histogram_freq=1)\n",
    "samples_weight = compute_sample_weight(\"balanced\", y_train_gray)\n",
    "model_cnn_2_gray.compile(optimizer='adam', loss='sparse_categorical_crossentropy', metrics=['accuracy'])\n",
    "history_v2_gray = model_cnn_2_gray.fit(\n",
    "    x=x_train_gray,\n",
    "    y=y_train_gray,\n",
    "    batch_size=512,\n",
    "    epochs=50,\t\n",
    "    callbacks=[save_callback_2, tensorboard_callback_2],\n",
    "    validation_data=(x_test_gray, y_test_gray),\n",
    "    sample_weight=samples_weight\n",
    ")"
   ]
  },
  {
   "cell_type": "code",
   "execution_count": null,
   "metadata": {},
   "outputs": [
    {
     "name": "stdout",
     "output_type": "stream",
     "text": [
      "Epoch 1/50\n",
      "9/9 [==============================] - 21s 1s/step - loss: 2.8904 - accuracy: 0.0822 - val_loss: 2.8881 - val_accuracy: 0.0852\n",
      "Epoch 2/50\n",
      "9/9 [==============================] - 4s 434ms/step - loss: 2.8889 - accuracy: 0.0902 - val_loss: 2.8838 - val_accuracy: 0.0943\n",
      "Epoch 3/50\n",
      "9/9 [==============================] - 4s 403ms/step - loss: 2.8834 - accuracy: 0.0978 - val_loss: 2.8655 - val_accuracy: 0.0916\n",
      "Epoch 4/50\n",
      "9/9 [==============================] - 4s 488ms/step - loss: 2.8730 - accuracy: 0.1054 - val_loss: 2.8363 - val_accuracy: 0.1136\n",
      "Epoch 5/50\n",
      "9/9 [==============================] - 4s 411ms/step - loss: 2.8479 - accuracy: 0.1326 - val_loss: 2.7986 - val_accuracy: 0.1200\n",
      "Epoch 6/50\n",
      "9/9 [==============================] - 3s 353ms/step - loss: 2.8020 - accuracy: 0.1422 - val_loss: 2.7299 - val_accuracy: 0.1273\n",
      "Epoch 7/50\n",
      "9/9 [==============================] - 4s 416ms/step - loss: 2.7260 - accuracy: 0.1427 - val_loss: 2.6005 - val_accuracy: 0.1474\n",
      "Epoch 8/50\n",
      "9/9 [==============================] - 4s 393ms/step - loss: 2.6351 - accuracy: 0.1619 - val_loss: 2.5001 - val_accuracy: 0.1804\n",
      "Epoch 9/50\n",
      "9/9 [==============================] - 4s 437ms/step - loss: 2.5601 - accuracy: 0.1874 - val_loss: 2.3776 - val_accuracy: 0.2592\n",
      "Epoch 10/50\n",
      "9/9 [==============================] - 3s 361ms/step - loss: 2.4790 - accuracy: 0.2151 - val_loss: 2.2614 - val_accuracy: 0.3022\n",
      "Epoch 11/50\n",
      "9/9 [==============================] - 4s 399ms/step - loss: 2.4199 - accuracy: 0.2366 - val_loss: 2.1919 - val_accuracy: 0.3278\n",
      "Epoch 12/50\n",
      "9/9 [==============================] - 4s 436ms/step - loss: 2.3548 - accuracy: 0.2641 - val_loss: 2.1269 - val_accuracy: 0.3434\n",
      "Epoch 13/50\n",
      "9/9 [==============================] - 4s 435ms/step - loss: 2.3384 - accuracy: 0.2517 - val_loss: 2.0681 - val_accuracy: 0.3443\n",
      "Epoch 14/50\n",
      "9/9 [==============================] - 4s 456ms/step - loss: 2.2931 - accuracy: 0.2732 - val_loss: 2.0852 - val_accuracy: 0.3526\n",
      "Epoch 15/50\n",
      "9/9 [==============================] - 4s 489ms/step - loss: 2.2685 - accuracy: 0.2753 - val_loss: 2.0041 - val_accuracy: 0.3690\n",
      "Epoch 16/50\n",
      "9/9 [==============================] - 4s 380ms/step - loss: 2.2382 - accuracy: 0.2884 - val_loss: 1.9873 - val_accuracy: 0.3837\n",
      "Epoch 17/50\n",
      "9/9 [==============================] - 4s 431ms/step - loss: 2.2241 - accuracy: 0.2904 - val_loss: 1.9796 - val_accuracy: 0.3846\n",
      "Epoch 18/50\n",
      "9/9 [==============================] - 3s 385ms/step - loss: 2.1791 - accuracy: 0.3010 - val_loss: 1.9262 - val_accuracy: 0.3984\n",
      "Epoch 19/50\n",
      "9/9 [==============================] - 4s 433ms/step - loss: 2.1592 - accuracy: 0.3087 - val_loss: 1.9141 - val_accuracy: 0.4011\n",
      "Epoch 20/50\n",
      "9/9 [==============================] - 4s 389ms/step - loss: 2.1527 - accuracy: 0.3142 - val_loss: 1.8981 - val_accuracy: 0.3956\n",
      "Epoch 21/50\n",
      "9/9 [==============================] - 3s 391ms/step - loss: 2.1340 - accuracy: 0.3181 - val_loss: 1.8859 - val_accuracy: 0.4029\n",
      "Epoch 22/50\n",
      "9/9 [==============================] - 4s 448ms/step - loss: 2.1168 - accuracy: 0.3191 - val_loss: 1.8849 - val_accuracy: 0.4139\n",
      "Epoch 23/50\n",
      "9/9 [==============================] - 4s 425ms/step - loss: 2.1009 - accuracy: 0.3241 - val_loss: 1.8459 - val_accuracy: 0.4167\n",
      "Epoch 24/50\n",
      "9/9 [==============================] - 4s 398ms/step - loss: 2.0917 - accuracy: 0.3294 - val_loss: 1.9053 - val_accuracy: 0.4029\n",
      "Epoch 25/50\n",
      "9/9 [==============================] - 5s 581ms/step - loss: 2.0787 - accuracy: 0.3262 - val_loss: 1.8433 - val_accuracy: 0.4295\n",
      "Epoch 26/50\n",
      "9/9 [==============================] - 4s 501ms/step - loss: 2.0526 - accuracy: 0.3507 - val_loss: 1.8156 - val_accuracy: 0.4313\n",
      "Epoch 27/50\n",
      "9/9 [==============================] - 5s 624ms/step - loss: 2.0550 - accuracy: 0.3436 - val_loss: 1.8335 - val_accuracy: 0.4286\n",
      "Epoch 28/50\n",
      "9/9 [==============================] - 4s 468ms/step - loss: 2.0235 - accuracy: 0.3481 - val_loss: 1.8011 - val_accuracy: 0.4524\n",
      "Epoch 29/50\n",
      "9/9 [==============================] - 4s 436ms/step - loss: 1.9994 - accuracy: 0.3580 - val_loss: 1.7826 - val_accuracy: 0.4441\n",
      "Epoch 30/50\n",
      "9/9 [==============================] - 4s 408ms/step - loss: 2.0040 - accuracy: 0.3520 - val_loss: 1.7874 - val_accuracy: 0.4386\n",
      "Epoch 31/50\n",
      "9/9 [==============================] - 3s 322ms/step - loss: 1.9967 - accuracy: 0.3685 - val_loss: 1.7809 - val_accuracy: 0.4597\n",
      "Epoch 32/50\n",
      "9/9 [==============================] - 3s 398ms/step - loss: 1.9649 - accuracy: 0.3713 - val_loss: 1.7724 - val_accuracy: 0.4679\n",
      "Epoch 33/50\n",
      "9/9 [==============================] - 3s 361ms/step - loss: 1.9626 - accuracy: 0.3683 - val_loss: 1.7536 - val_accuracy: 0.4606\n",
      "Epoch 34/50\n",
      "9/9 [==============================] - 5s 627ms/step - loss: 1.9402 - accuracy: 0.3864 - val_loss: 1.7453 - val_accuracy: 0.4634\n",
      "Epoch 35/50\n",
      "9/9 [==============================] - 4s 467ms/step - loss: 1.9366 - accuracy: 0.3830 - val_loss: 1.7533 - val_accuracy: 0.4734\n",
      "Epoch 36/50\n",
      "9/9 [==============================] - 5s 537ms/step - loss: 1.9483 - accuracy: 0.3816 - val_loss: 1.7311 - val_accuracy: 0.4753\n",
      "Epoch 37/50\n",
      "9/9 [==============================] - 4s 333ms/step - loss: 1.9133 - accuracy: 0.3859 - val_loss: 1.7178 - val_accuracy: 0.4780\n",
      "Epoch 38/50\n",
      "9/9 [==============================] - 4s 427ms/step - loss: 1.9077 - accuracy: 0.3765 - val_loss: 1.7594 - val_accuracy: 0.4799\n",
      "Epoch 39/50\n",
      "9/9 [==============================] - 4s 406ms/step - loss: 1.9120 - accuracy: 0.3830 - val_loss: 1.7039 - val_accuracy: 0.4780\n",
      "Epoch 40/50\n",
      "9/9 [==============================] - 4s 435ms/step - loss: 1.9213 - accuracy: 0.3839 - val_loss: 1.7103 - val_accuracy: 0.4890\n",
      "Epoch 41/50\n",
      "9/9 [==============================] - 4s 418ms/step - loss: 1.9254 - accuracy: 0.3820 - val_loss: 1.7197 - val_accuracy: 0.4881\n",
      "Epoch 42/50\n",
      "9/9 [==============================] - 4s 457ms/step - loss: 1.8894 - accuracy: 0.3859 - val_loss: 1.6795 - val_accuracy: 0.4918\n",
      "Epoch 43/50\n",
      "9/9 [==============================] - 3s 366ms/step - loss: 1.8835 - accuracy: 0.3969 - val_loss: 1.6855 - val_accuracy: 0.4918\n",
      "Epoch 44/50\n",
      "9/9 [==============================] - 4s 409ms/step - loss: 1.8536 - accuracy: 0.4082 - val_loss: 1.6749 - val_accuracy: 0.4918\n",
      "Epoch 45/50\n",
      "9/9 [==============================] - 3s 345ms/step - loss: 1.8357 - accuracy: 0.4063 - val_loss: 1.6755 - val_accuracy: 0.4890\n",
      "Epoch 46/50\n",
      "9/9 [==============================] - 3s 378ms/step - loss: 1.8675 - accuracy: 0.4052 - val_loss: 1.6548 - val_accuracy: 0.5101\n",
      "Epoch 47/50\n",
      "9/9 [==============================] - 3s 372ms/step - loss: 1.8337 - accuracy: 0.4141 - val_loss: 1.6625 - val_accuracy: 0.4890\n",
      "Epoch 48/50\n",
      "9/9 [==============================] - 3s 290ms/step - loss: 1.8437 - accuracy: 0.4061 - val_loss: 1.6614 - val_accuracy: 0.5046\n",
      "Epoch 49/50\n",
      "9/9 [==============================] - 2s 271ms/step - loss: 1.8317 - accuracy: 0.4214 - val_loss: 1.6591 - val_accuracy: 0.5082\n",
      "Epoch 50/50\n",
      "9/9 [==============================] - 3s 350ms/step - loss: 1.8059 - accuracy: 0.4217 - val_loss: 1.6393 - val_accuracy: 0.4954\n"
     ]
    }
   ],
   "source": [
    "# Exposure.\n",
    "model_cnn_2_exposure = get_model_cnn_v2(input_shape=(64, 64, 3))\n",
    "tensorboard_callback_2 = keras.callbacks.TensorBoard(log_dir=\"logs/cnn_v2_exposure\", histogram_freq=1)\n",
    "samples_weight = compute_sample_weight(\"balanced\", y_train_exposure)\n",
    "model_cnn_2_exposure.compile(optimizer='adam', loss='sparse_categorical_crossentropy', metrics=['accuracy'])\n",
    "history_v2_exposure = model_cnn_2_exposure.fit(\n",
    "    x=x_train_exposure,\n",
    "    y=y_train_exposure,\n",
    "    batch_size=512,\n",
    "    epochs=50,\t\n",
    "    callbacks=[save_callback_2, tensorboard_callback_2],\n",
    "    validation_data=(x_test_exposure, y_test_exposure),\n",
    "    sample_weight=samples_weight\n",
    ")"
   ]
  },
  {
   "cell_type": "markdown",
   "metadata": {},
   "source": [
    "Let's see the differences (and check tensorboard)."
   ]
  },
  {
   "cell_type": "code",
   "execution_count": null,
   "metadata": {},
   "outputs": [],
   "source": [
    "# Plot accuracy for the models with convolutional layers.\n",
    "plt.plot(history_v2_standard.history['accuracy'], label='Train Standard')\n",
    "plt.plot(history_v2_standard.history['val_accuracy'], label='Validation Standard')\n",
    "\n",
    "plt.plot(history_v2_gray.history['accuracy'], label='Train Gray')\n",
    "plt.plot(history_v2_gray.history['val_accuracy'], label='Validation Gray')\n",
    "\n",
    "plt.plot(history_v2_exposure.history['accuracy'], label='Train Exposure')\n",
    "plt.plot(history_v2_exposure.history['val_accuracy'], label='Validation Exposure')\n",
    "\n",
    "plt.title('Training and Validation Accuracy Comparison Between Models')\n",
    "plt.xlabel('Epoch')\n",
    "plt.ylabel('Accuracy')\n",
    "plt.legend()\n",
    "plt.show()"
   ]
  }
 ],
 "metadata": {
  "kernelspec": {
   "display_name": "Python 3",
   "language": "python",
   "name": "python3"
  },
  "language_info": {
   "codemirror_mode": {
    "name": "ipython",
    "version": 3
   },
   "file_extension": ".py",
   "mimetype": "text/x-python",
   "name": "python",
   "nbconvert_exporter": "python",
   "pygments_lexer": "ipython3",
   "version": "3.11.7"
  }
 },
 "nbformat": 4,
 "nbformat_minor": 2
}

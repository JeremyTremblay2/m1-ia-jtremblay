{
 "cells": [
  {
   "cell_type": "markdown",
   "metadata": {},
   "source": [
    "#### Jérémy TREMBLAY"
   ]
  },
  {
   "cell_type": "markdown",
   "metadata": {},
   "source": [
    "# Project 1 : Supervied Learning"
   ]
  },
  {
   "cell_type": "code",
   "execution_count": 81,
   "metadata": {},
   "outputs": [],
   "source": [
    "# Import the libraries that will be used in this notebook.\n",
    "import pandas as pd\n",
    "import numpy as np\n",
    "import random\n",
    "\n",
    "# Import the pyplot module from matplotlib with the plt alias.\n",
    "import matplotlib.pyplot as plt\n",
    "\n",
    "# Import the sklearn modules.\n",
    "from sklearn.preprocessing import OrdinalEncoder\n",
    "from sklearn.model_selection import train_test_split\n",
    "from sklearn.metrics import r2_score, mean_squared_error\n",
    "from sklearn.linear_model import LinearRegression\n",
    "from sklearn.neighbors import KNeighborsRegressor\n",
    "from sklearn.preprocessing import StandardScaler\n",
    "from sklearn import tree"
   ]
  },
  {
   "cell_type": "markdown",
   "metadata": {},
   "source": [
    "Fix seeds for reprodutiblity principles."
   ]
  },
  {
   "cell_type": "code",
   "execution_count": 82,
   "metadata": {},
   "outputs": [],
   "source": [
    "np.random.seed(42)\n",
    "random.seed(42)"
   ]
  },
  {
   "cell_type": "markdown",
   "metadata": {},
   "source": [
    "In the subfolder of this path, there is a dataset extracted from observations from the Bergen institute.\n",
    "The mission is to estimate the age of the fish based on the parameters provided in order to better regulate fish stocks.  \n",
    "\n",
    "Constraints:\n",
    "* Use the 3 models seen in class (regression, knn, decision tree)\n",
    "* Optimize your models by analyzing the different versions and possible parameterizations.  \n",
    "\n",
    "**The goal of this notebook is to realize the best possible model to predict data.**"
   ]
  },
  {
   "cell_type": "markdown",
   "metadata": {},
   "source": [
    "## First step : load data"
   ]
  },
  {
   "cell_type": "markdown",
   "metadata": {},
   "source": [
    "The first step is to load the two CSV that will be used in this notebook with `pandas`."
   ]
  },
  {
   "cell_type": "code",
   "execution_count": 83,
   "metadata": {},
   "outputs": [
    {
     "name": "stdout",
     "output_type": "stream",
     "text": [
      "   id  weight  length  liverweight  gonadweight  age\n",
      "0   1   20700   132.0        0.528        2.300   14\n",
      "1   2    1308    54.0        0.082        0.002    5\n",
      "2   3    2730    72.0        0.046        0.039    7\n",
      "3   4    3300    76.0        0.098        0.020    7\n",
      "4   5    1155    51.0        0.035        0.002    4\n",
      "---------------------------------------------------\n",
      "    id  weight  length  liverweight  gonadweight\n",
      "0  441    2566    70.0        0.077        0.005\n",
      "1  442    1235    53.0        0.035        0.006\n",
      "2  443    4008    82.0        0.114        0.146\n",
      "3  444    4310    78.0        0.318        0.370\n",
      "4  445   16130   105.0        1.118        3.720\n"
     ]
    }
   ],
   "source": [
    "# Specify the relative path of the the files.\n",
    "train_file_path = 'datasets/train.csv'\n",
    "test_file_path = 'datasets/test.csv'\n",
    "\n",
    "# Load the database into a DataFrame.\n",
    "df_train = pd.read_csv(train_file_path)\n",
    "df_test = pd.read_csv(test_file_path)\n",
    "\n",
    "# Display the first few rows of the DataFrame with head.\n",
    "print(df_train.head())\n",
    "print(\"---------------------------------------------------\")\n",
    "print(df_test.head())"
   ]
  },
  {
   "cell_type": "markdown",
   "metadata": {},
   "source": [
    "Perfect. We will now explore data."
   ]
  },
  {
   "cell_type": "code",
   "execution_count": 84,
   "metadata": {},
   "outputs": [
    {
     "name": "stdout",
     "output_type": "stream",
     "text": [
      "id             False\n",
      "weight         False\n",
      "length         False\n",
      "liverweight    False\n",
      "gonadweight    False\n",
      "age            False\n",
      "dtype: bool\n",
      "id             False\n",
      "weight         False\n",
      "length         False\n",
      "liverweight    False\n",
      "gonadweight    False\n",
      "dtype: bool\n"
     ]
    }
   ],
   "source": [
    "print(df_train.isnull().any())\n",
    "print(df_test.isnull().any())"
   ]
  },
  {
   "cell_type": "markdown",
   "metadata": {},
   "source": [
    "The datasets are already clean, we can easily read it now and search some information."
   ]
  },
  {
   "cell_type": "code",
   "execution_count": 85,
   "metadata": {},
   "outputs": [
    {
     "name": "stdout",
     "output_type": "stream",
     "text": [
      "(440, 6)\n",
      "(81, 5)\n"
     ]
    }
   ],
   "source": [
    "# Know the dimensions of the dataframes.\n",
    "print(df_train.shape)\n",
    "print(df_test.shape)"
   ]
  },
  {
   "cell_type": "markdown",
   "metadata": {},
   "source": [
    "There is 440 rows and 6 columns for the train dataset and 81 rows and 5 columns for the test dataset, let's check the content more in detail with some stats."
   ]
  },
  {
   "cell_type": "code",
   "execution_count": 86,
   "metadata": {},
   "outputs": [
    {
     "name": "stdout",
     "output_type": "stream",
     "text": [
      "<class 'pandas.core.frame.DataFrame'>\n",
      "RangeIndex: 440 entries, 0 to 439\n",
      "Data columns (total 6 columns):\n",
      " #   Column       Non-Null Count  Dtype  \n",
      "---  ------       --------------  -----  \n",
      " 0   id           440 non-null    int64  \n",
      " 1   weight       440 non-null    int64  \n",
      " 2   length       440 non-null    float64\n",
      " 3   liverweight  440 non-null    float64\n",
      " 4   gonadweight  440 non-null    float64\n",
      " 5   age          440 non-null    int64  \n",
      "dtypes: float64(3), int64(3)\n",
      "memory usage: 20.8 KB\n"
     ]
    }
   ],
   "source": [
    "# Display usefull information about the train dataset.\n",
    "df_train.info()"
   ]
  },
  {
   "cell_type": "code",
   "execution_count": 87,
   "metadata": {},
   "outputs": [
    {
     "name": "stdout",
     "output_type": "stream",
     "text": [
      "<class 'pandas.core.frame.DataFrame'>\n",
      "RangeIndex: 81 entries, 0 to 80\n",
      "Data columns (total 5 columns):\n",
      " #   Column       Non-Null Count  Dtype  \n",
      "---  ------       --------------  -----  \n",
      " 0   id           81 non-null     int64  \n",
      " 1   weight       81 non-null     int64  \n",
      " 2   length       81 non-null     float64\n",
      " 3   liverweight  81 non-null     float64\n",
      " 4   gonadweight  81 non-null     float64\n",
      "dtypes: float64(3), int64(2)\n",
      "memory usage: 3.3 KB\n"
     ]
    }
   ],
   "source": [
    "# Display usefull information about the test dataset.\n",
    "df_test.info()"
   ]
  },
  {
   "cell_type": "code",
   "execution_count": 88,
   "metadata": {},
   "outputs": [
    {
     "data": {
      "text/html": [
       "<div>\n",
       "<style scoped>\n",
       "    .dataframe tbody tr th:only-of-type {\n",
       "        vertical-align: middle;\n",
       "    }\n",
       "\n",
       "    .dataframe tbody tr th {\n",
       "        vertical-align: top;\n",
       "    }\n",
       "\n",
       "    .dataframe thead th {\n",
       "        text-align: right;\n",
       "    }\n",
       "</style>\n",
       "<table border=\"1\" class=\"dataframe\">\n",
       "  <thead>\n",
       "    <tr style=\"text-align: right;\">\n",
       "      <th></th>\n",
       "      <th>id</th>\n",
       "      <th>weight</th>\n",
       "      <th>length</th>\n",
       "      <th>liverweight</th>\n",
       "      <th>gonadweight</th>\n",
       "      <th>age</th>\n",
       "    </tr>\n",
       "  </thead>\n",
       "  <tbody>\n",
       "    <tr>\n",
       "      <th>count</th>\n",
       "      <td>440.000000</td>\n",
       "      <td>440.000000</td>\n",
       "      <td>440.000000</td>\n",
       "      <td>440.000000</td>\n",
       "      <td>440.000000</td>\n",
       "      <td>440.000000</td>\n",
       "    </tr>\n",
       "    <tr>\n",
       "      <th>mean</th>\n",
       "      <td>220.500000</td>\n",
       "      <td>5134.756818</td>\n",
       "      <td>76.900000</td>\n",
       "      <td>0.325775</td>\n",
       "      <td>0.472077</td>\n",
       "      <td>7.745455</td>\n",
       "    </tr>\n",
       "    <tr>\n",
       "      <th>std</th>\n",
       "      <td>127.161315</td>\n",
       "      <td>4296.584819</td>\n",
       "      <td>19.683868</td>\n",
       "      <td>0.366086</td>\n",
       "      <td>0.821960</td>\n",
       "      <td>2.637340</td>\n",
       "    </tr>\n",
       "    <tr>\n",
       "      <th>min</th>\n",
       "      <td>1.000000</td>\n",
       "      <td>495.000000</td>\n",
       "      <td>40.000000</td>\n",
       "      <td>0.007000</td>\n",
       "      <td>0.001000</td>\n",
       "      <td>3.000000</td>\n",
       "    </tr>\n",
       "    <tr>\n",
       "      <th>25%</th>\n",
       "      <td>110.750000</td>\n",
       "      <td>2210.500000</td>\n",
       "      <td>63.000000</td>\n",
       "      <td>0.073500</td>\n",
       "      <td>0.010000</td>\n",
       "      <td>6.000000</td>\n",
       "    </tr>\n",
       "    <tr>\n",
       "      <th>50%</th>\n",
       "      <td>220.500000</td>\n",
       "      <td>3715.000000</td>\n",
       "      <td>75.000000</td>\n",
       "      <td>0.180500</td>\n",
       "      <td>0.092500</td>\n",
       "      <td>7.000000</td>\n",
       "    </tr>\n",
       "    <tr>\n",
       "      <th>75%</th>\n",
       "      <td>330.250000</td>\n",
       "      <td>6808.750000</td>\n",
       "      <td>90.250000</td>\n",
       "      <td>0.457500</td>\n",
       "      <td>0.483000</td>\n",
       "      <td>9.000000</td>\n",
       "    </tr>\n",
       "    <tr>\n",
       "      <th>max</th>\n",
       "      <td>440.000000</td>\n",
       "      <td>23620.000000</td>\n",
       "      <td>132.000000</td>\n",
       "      <td>1.823000</td>\n",
       "      <td>5.240000</td>\n",
       "      <td>16.000000</td>\n",
       "    </tr>\n",
       "  </tbody>\n",
       "</table>\n",
       "</div>"
      ],
      "text/plain": [
       "               id        weight      length  liverweight  gonadweight  \\\n",
       "count  440.000000    440.000000  440.000000   440.000000   440.000000   \n",
       "mean   220.500000   5134.756818   76.900000     0.325775     0.472077   \n",
       "std    127.161315   4296.584819   19.683868     0.366086     0.821960   \n",
       "min      1.000000    495.000000   40.000000     0.007000     0.001000   \n",
       "25%    110.750000   2210.500000   63.000000     0.073500     0.010000   \n",
       "50%    220.500000   3715.000000   75.000000     0.180500     0.092500   \n",
       "75%    330.250000   6808.750000   90.250000     0.457500     0.483000   \n",
       "max    440.000000  23620.000000  132.000000     1.823000     5.240000   \n",
       "\n",
       "              age  \n",
       "count  440.000000  \n",
       "mean     7.745455  \n",
       "std      2.637340  \n",
       "min      3.000000  \n",
       "25%      6.000000  \n",
       "50%      7.000000  \n",
       "75%      9.000000  \n",
       "max     16.000000  "
      ]
     },
     "execution_count": 88,
     "metadata": {},
     "output_type": "execute_result"
    }
   ],
   "source": [
    "df_train.describe()"
   ]
  },
  {
   "cell_type": "code",
   "execution_count": 89,
   "metadata": {},
   "outputs": [
    {
     "data": {
      "text/html": [
       "<div>\n",
       "<style scoped>\n",
       "    .dataframe tbody tr th:only-of-type {\n",
       "        vertical-align: middle;\n",
       "    }\n",
       "\n",
       "    .dataframe tbody tr th {\n",
       "        vertical-align: top;\n",
       "    }\n",
       "\n",
       "    .dataframe thead th {\n",
       "        text-align: right;\n",
       "    }\n",
       "</style>\n",
       "<table border=\"1\" class=\"dataframe\">\n",
       "  <thead>\n",
       "    <tr style=\"text-align: right;\">\n",
       "      <th></th>\n",
       "      <th>id</th>\n",
       "      <th>weight</th>\n",
       "      <th>length</th>\n",
       "      <th>liverweight</th>\n",
       "      <th>gonadweight</th>\n",
       "    </tr>\n",
       "  </thead>\n",
       "  <tbody>\n",
       "    <tr>\n",
       "      <th>count</th>\n",
       "      <td>81.000000</td>\n",
       "      <td>81.000000</td>\n",
       "      <td>81.000000</td>\n",
       "      <td>81.000000</td>\n",
       "      <td>81.000000</td>\n",
       "    </tr>\n",
       "    <tr>\n",
       "      <th>mean</th>\n",
       "      <td>481.000000</td>\n",
       "      <td>4527.728395</td>\n",
       "      <td>73.981481</td>\n",
       "      <td>0.309037</td>\n",
       "      <td>0.445222</td>\n",
       "    </tr>\n",
       "    <tr>\n",
       "      <th>std</th>\n",
       "      <td>23.526581</td>\n",
       "      <td>4029.039696</td>\n",
       "      <td>19.954706</td>\n",
       "      <td>0.397947</td>\n",
       "      <td>0.838763</td>\n",
       "    </tr>\n",
       "    <tr>\n",
       "      <th>min</th>\n",
       "      <td>441.000000</td>\n",
       "      <td>550.000000</td>\n",
       "      <td>40.500000</td>\n",
       "      <td>0.012000</td>\n",
       "      <td>0.001000</td>\n",
       "    </tr>\n",
       "    <tr>\n",
       "      <th>25%</th>\n",
       "      <td>461.000000</td>\n",
       "      <td>1706.000000</td>\n",
       "      <td>58.000000</td>\n",
       "      <td>0.077000</td>\n",
       "      <td>0.006000</td>\n",
       "    </tr>\n",
       "    <tr>\n",
       "      <th>50%</th>\n",
       "      <td>481.000000</td>\n",
       "      <td>3290.000000</td>\n",
       "      <td>73.000000</td>\n",
       "      <td>0.147000</td>\n",
       "      <td>0.106000</td>\n",
       "    </tr>\n",
       "    <tr>\n",
       "      <th>75%</th>\n",
       "      <td>501.000000</td>\n",
       "      <td>6320.000000</td>\n",
       "      <td>86.000000</td>\n",
       "      <td>0.318000</td>\n",
       "      <td>0.398000</td>\n",
       "    </tr>\n",
       "    <tr>\n",
       "      <th>max</th>\n",
       "      <td>521.000000</td>\n",
       "      <td>17110.000000</td>\n",
       "      <td>124.000000</td>\n",
       "      <td>1.680000</td>\n",
       "      <td>4.010000</td>\n",
       "    </tr>\n",
       "  </tbody>\n",
       "</table>\n",
       "</div>"
      ],
      "text/plain": [
       "               id        weight      length  liverweight  gonadweight\n",
       "count   81.000000     81.000000   81.000000    81.000000    81.000000\n",
       "mean   481.000000   4527.728395   73.981481     0.309037     0.445222\n",
       "std     23.526581   4029.039696   19.954706     0.397947     0.838763\n",
       "min    441.000000    550.000000   40.500000     0.012000     0.001000\n",
       "25%    461.000000   1706.000000   58.000000     0.077000     0.006000\n",
       "50%    481.000000   3290.000000   73.000000     0.147000     0.106000\n",
       "75%    501.000000   6320.000000   86.000000     0.318000     0.398000\n",
       "max    521.000000  17110.000000  124.000000     1.680000     4.010000"
      ]
     },
     "execution_count": 89,
     "metadata": {},
     "output_type": "execute_result"
    }
   ],
   "source": [
    "df_test.describe()"
   ]
  },
  {
   "cell_type": "markdown",
   "metadata": {},
   "source": [
    "Since we want to predict the age of the fish, we will use the columns `weight`, `length`, `liverweight` and `gonadweight`.\n",
    "The `id` is here just to identify the fish. The `age` is the variable we want to know. This is why the column does not exists in the test dataset. Let's check the number of fish with their ages for the train dataset."
   ]
  },
  {
   "cell_type": "code",
   "execution_count": 90,
   "metadata": {},
   "outputs": [
    {
     "data": {
      "text/plain": [
       "age\n",
       "7     75\n",
       "6     70\n",
       "8     63\n",
       "9     51\n",
       "5     47\n",
       "4     34\n",
       "12    30\n",
       "11    23\n",
       "10    18\n",
       "13    10\n",
       "14     9\n",
       "3      6\n",
       "15     2\n",
       "16     2\n",
       "Name: count, dtype: int64"
      ]
     },
     "execution_count": 90,
     "metadata": {},
     "output_type": "execute_result"
    }
   ],
   "source": [
    "df_train.age.value_counts()"
   ]
  },
  {
   "cell_type": "markdown",
   "metadata": {},
   "source": [
    "We are now ready to work with the data."
   ]
  },
  {
   "cell_type": "markdown",
   "metadata": {},
   "source": [
    "## Second step : clean and separate data"
   ]
  },
  {
   "cell_type": "markdown",
   "metadata": {},
   "source": [
    "We must use our train dataset and split it to use it to train and test our model and check his performances. The test dataset cannot be used ffor that because it contains the data we want to predict, and we cannot check the effiency of the mdoel with it. We do not need to clean the dataset as saw at the previous step, so let's suppress the `id` and `age` columns of the datasets because they will not be used by our models."
   ]
  },
  {
   "cell_type": "code",
   "execution_count": 91,
   "metadata": {},
   "outputs": [],
   "source": [
    "X_train_real = df_train[df_train.columns.difference([\"id\", \"age\"])] # The columns used to predict the fish's age.\n",
    "y_train_real = df_train.age # The answer.\n",
    "X_test_real = df_test[df_test.columns.difference([\"id\"])] # The columns used to predict the fish's age in the test dataset.\n",
    "\n",
    "# Let's split data: 30% for test and 70% for train.\n",
    "X_train, X_test, y_train, y_test = train_test_split(X_train_real, y_train_real, test_size=0.3)"
   ]
  },
  {
   "cell_type": "markdown",
   "metadata": {},
   "source": [
    "Now we can use it with our models. We are in a regression case. We will use a LinearRegressor, a KNNRegressor and a DecisionTreeRegressor. For each model, we will try different value for some parameters to see which one produces the best results and at the end of each step, we will apply our model on our test dataset and submit our work for these predictions. These prediction files can be found under the `predictions` folder. So first, let's use the LinearRegressor."
   ]
  },
  {
   "cell_type": "markdown",
   "metadata": {},
   "source": [
    "## Thrid step : using Linear Regressor"
   ]
  },
  {
   "cell_type": "markdown",
   "metadata": {},
   "source": [
    "We need to reshape our data and then create our model, fit it and see his predictions about our train dataset."
   ]
  },
  {
   "cell_type": "code",
   "execution_count": 92,
   "metadata": {},
   "outputs": [],
   "source": [
    "# Reshape the data size (not usefull here).\n",
    "X_test_reshaped = np.array(X_test).reshape(-1, 1)\n",
    "y_test_reshaped = np.array(y_test).reshape(-1, 1)"
   ]
  },
  {
   "cell_type": "code",
   "execution_count": 93,
   "metadata": {},
   "outputs": [],
   "source": [
    "# Create a linear regression, fit it and get its results and predictions.\n",
    "linear = LinearRegression()\n",
    "linear.fit(X_train, y_train)\n",
    "\n",
    "# First let's see how our model predict the test data\n",
    "y_predict = linear.predict(X_test)"
   ]
  },
  {
   "cell_type": "markdown",
   "metadata": {},
   "source": [
    "Let's check some metrics now to see the performances of our model. For this, we will use the R2 score with the mean square error along this notebook."
   ]
  },
  {
   "cell_type": "code",
   "execution_count": 94,
   "metadata": {},
   "outputs": [
    {
     "name": "stdout",
     "output_type": "stream",
     "text": [
      "R-squared (R2): 0.7922446301406176\n",
      "Mean Squared Error (MSE): 1.5684194990417326\n"
     ]
    }
   ],
   "source": [
    "# Calculate R-squared (R2).\n",
    "r2 = r2_score(y_test, y_predict)\n",
    "\n",
    "# Calculate Mean Squared Error (MSE).\n",
    "mse = mean_squared_error(y_test, y_predict)\n",
    "\n",
    "# Display the results\n",
    "print(f'R-squared (R2): {r2}')\n",
    "print(f'Mean Squared Error (MSE): {mse}')"
   ]
  },
  {
   "cell_type": "markdown",
   "metadata": {},
   "source": [
    "Remember that we seek to have an R2 as close to 1 as possible (better performance) and an MSE as low as possible (more accurate predictions)."
   ]
  },
  {
   "cell_type": "markdown",
   "metadata": {},
   "source": [
    "To improve again the values, we can search a parameter and try different value to improve our results. Because this is not one of the best model use for that generally, we will not parameterize this model. We will therefore parameterize the others. So we are now done with this model, let's predict the results of our test dataset and save it in a CSV file."
   ]
  },
  {
   "cell_type": "code",
   "execution_count": 95,
   "metadata": {},
   "outputs": [],
   "source": [
    "# Predict our test dataset.\n",
    "y_predict = linear.predict(X_test_real)\n",
    "\n",
    "# Create a dataframe to associate the fish id with its prediction.\n",
    "predictions_df = pd.DataFrame({'id': df_test['id'], 'age': y_predict})\n",
    "\n",
    "# Save data into a CSV file to submit it on Kaggle.\n",
    "predictions_df.to_csv('predictions/linear_regression.csv', index=False)"
   ]
  },
  {
   "cell_type": "markdown",
   "metadata": {},
   "source": [
    "Now we have submitted our file we can continue with the next model."
   ]
  },
  {
   "cell_type": "markdown",
   "metadata": {},
   "source": [
    "## Fourth step : using KNN"
   ]
  },
  {
   "cell_type": "markdown",
   "metadata": {},
   "source": [
    "## Fifth step : using a decision tree"
   ]
  },
  {
   "cell_type": "markdown",
   "metadata": {},
   "source": [
    "## Conclusion"
   ]
  },
  {
   "cell_type": "markdown",
   "metadata": {},
   "source": []
  }
 ],
 "metadata": {
  "kernelspec": {
   "display_name": "Python 3",
   "language": "python",
   "name": "python3"
  },
  "language_info": {
   "codemirror_mode": {
    "name": "ipython",
    "version": 3
   },
   "file_extension": ".py",
   "mimetype": "text/x-python",
   "name": "python",
   "nbconvert_exporter": "python",
   "pygments_lexer": "ipython3",
   "version": "3.11.7"
  }
 },
 "nbformat": 4,
 "nbformat_minor": 2
}

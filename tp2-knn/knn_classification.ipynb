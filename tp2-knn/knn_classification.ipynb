{
 "cells": [
  {
   "attachments": {},
   "cell_type": "markdown",
   "metadata": {},
   "source": [
    "#### Jérémy TREMBLAY"
   ]
  },
  {
   "attachments": {},
   "cell_type": "markdown",
   "metadata": {},
   "source": [
    "# TP2 : KNN and classification"
   ]
  },
  {
   "cell_type": "code",
   "execution_count": 40,
   "metadata": {},
   "outputs": [],
   "source": [
    "# Import the library that will be used in this notebook.\n",
    "import pandas as pd\n",
    "import numpy as np\n",
    "import random\n",
    "import math\n",
    "\n",
    "# Import the pyplot module from matplotlib with the plt alias.\n",
    "import matplotlib.pyplot as plt\n",
    "\n",
    "# Import the sklearn modules.\n",
    "from sklearn.model_selection import train_test_split\n",
    "from sklearn.metrics import accuracy_score, confusion_matrix\n",
    "from sklearn.neighbors import KNeighborsClassifier"
   ]
  },
  {
   "attachments": {},
   "cell_type": "markdown",
   "metadata": {},
   "source": [
    "## Task 1: Dataset analysis"
   ]
  },
  {
   "attachments": {},
   "cell_type": "markdown",
   "metadata": {},
   "source": [
    "**Consigne :** À partir des fonctions du dataset, répondez aux questions suivantes :\n",
    "* Combien de classes sont présentes dans la base de données ?\n",
    "* Combien de caractéristiques descriptives de ces classes et de quels types ?\n",
    "* Combien d’exemples dans la base de données ? Et par classe ?"
   ]
  },
  {
   "cell_type": "code",
   "execution_count": 41,
   "metadata": {},
   "outputs": [
    {
     "name": "stdout",
     "output_type": "stream",
     "text": [
      "   Glucose  BloodPressure  Insulin   BMI  DiabetesPedigreeFunction  Age  \\\n",
      "0      148             72        0  33.6                     0.627   50   \n",
      "1       85             66        0  26.6                     0.351   31   \n",
      "2      183             64        0  23.3                     0.672   32   \n",
      "3       89             66       94  28.1                     0.167   21   \n",
      "4      137             40      168  43.1                     2.288   33   \n",
      "\n",
      "   Outcome  \n",
      "0        1  \n",
      "1        0  \n",
      "2        1  \n",
      "3        0  \n",
      "4        1  \n"
     ]
    }
   ],
   "source": [
    "# Specify the relative path of the diabete file.\n",
    "file_path = 'datasets/diabetes.csv'\n",
    "\n",
    "# Load the database into a DataFrame.\n",
    "df = pd.read_csv(file_path)\n",
    "\n",
    "# Display the first few rows of the DataFrame with head.\n",
    "print(df.head())"
   ]
  },
  {
   "cell_type": "code",
   "execution_count": 42,
   "metadata": {},
   "outputs": [
    {
     "name": "stdout",
     "output_type": "stream",
     "text": [
      "Glucose                     False\n",
      "BloodPressure               False\n",
      "Insulin                     False\n",
      "BMI                         False\n",
      "DiabetesPedigreeFunction    False\n",
      "Age                         False\n",
      "Outcome                     False\n",
      "dtype: bool\n"
     ]
    }
   ],
   "source": [
    "print(df.isnull().any())"
   ]
  },
  {
   "attachments": {},
   "cell_type": "markdown",
   "metadata": {},
   "source": [
    "The dataset is already clean, we can easily read it now and search some information."
   ]
  },
  {
   "cell_type": "code",
   "execution_count": 43,
   "metadata": {},
   "outputs": [
    {
     "data": {
      "text/plain": [
       "(767, 7)"
      ]
     },
     "execution_count": 43,
     "metadata": {},
     "output_type": "execute_result"
    }
   ],
   "source": [
    "# Know the dimensions of the dataframe.\n",
    "df.shape"
   ]
  },
  {
   "attachments": {},
   "cell_type": "markdown",
   "metadata": {},
   "source": [
    "There is 767 rows and 7 columns, let's check the content more in detail with some stats."
   ]
  },
  {
   "cell_type": "code",
   "execution_count": 44,
   "metadata": {},
   "outputs": [
    {
     "name": "stdout",
     "output_type": "stream",
     "text": [
      "<class 'pandas.core.frame.DataFrame'>\n",
      "RangeIndex: 767 entries, 0 to 766\n",
      "Data columns (total 7 columns):\n",
      " #   Column                    Non-Null Count  Dtype  \n",
      "---  ------                    --------------  -----  \n",
      " 0   Glucose                   767 non-null    int64  \n",
      " 1   BloodPressure             767 non-null    int64  \n",
      " 2   Insulin                   767 non-null    int64  \n",
      " 3   BMI                       767 non-null    float64\n",
      " 4   DiabetesPedigreeFunction  767 non-null    float64\n",
      " 5   Age                       767 non-null    int64  \n",
      " 6   Outcome                   767 non-null    int64  \n",
      "dtypes: float64(2), int64(5)\n",
      "memory usage: 42.1 KB\n"
     ]
    }
   ],
   "source": [
    "# Display usefull information about the dataset.\n",
    "df.info()"
   ]
  },
  {
   "cell_type": "code",
   "execution_count": 45,
   "metadata": {},
   "outputs": [
    {
     "data": {
      "text/html": [
       "<div>\n",
       "<style scoped>\n",
       "    .dataframe tbody tr th:only-of-type {\n",
       "        vertical-align: middle;\n",
       "    }\n",
       "\n",
       "    .dataframe tbody tr th {\n",
       "        vertical-align: top;\n",
       "    }\n",
       "\n",
       "    .dataframe thead th {\n",
       "        text-align: right;\n",
       "    }\n",
       "</style>\n",
       "<table border=\"1\" class=\"dataframe\">\n",
       "  <thead>\n",
       "    <tr style=\"text-align: right;\">\n",
       "      <th></th>\n",
       "      <th>Glucose</th>\n",
       "      <th>BloodPressure</th>\n",
       "      <th>Insulin</th>\n",
       "      <th>BMI</th>\n",
       "      <th>DiabetesPedigreeFunction</th>\n",
       "      <th>Age</th>\n",
       "      <th>Outcome</th>\n",
       "    </tr>\n",
       "  </thead>\n",
       "  <tbody>\n",
       "    <tr>\n",
       "      <th>count</th>\n",
       "      <td>767.000000</td>\n",
       "      <td>767.000000</td>\n",
       "      <td>767.000000</td>\n",
       "      <td>767.000000</td>\n",
       "      <td>767.000000</td>\n",
       "      <td>767.000000</td>\n",
       "      <td>767.000000</td>\n",
       "    </tr>\n",
       "    <tr>\n",
       "      <th>mean</th>\n",
       "      <td>120.930900</td>\n",
       "      <td>69.104302</td>\n",
       "      <td>79.903520</td>\n",
       "      <td>31.994654</td>\n",
       "      <td>0.472081</td>\n",
       "      <td>33.254237</td>\n",
       "      <td>0.349413</td>\n",
       "    </tr>\n",
       "    <tr>\n",
       "      <th>std</th>\n",
       "      <td>31.977581</td>\n",
       "      <td>19.368410</td>\n",
       "      <td>115.283105</td>\n",
       "      <td>7.889095</td>\n",
       "      <td>0.331496</td>\n",
       "      <td>11.762079</td>\n",
       "      <td>0.477096</td>\n",
       "    </tr>\n",
       "    <tr>\n",
       "      <th>min</th>\n",
       "      <td>0.000000</td>\n",
       "      <td>0.000000</td>\n",
       "      <td>0.000000</td>\n",
       "      <td>0.000000</td>\n",
       "      <td>0.078000</td>\n",
       "      <td>21.000000</td>\n",
       "      <td>0.000000</td>\n",
       "    </tr>\n",
       "    <tr>\n",
       "      <th>25%</th>\n",
       "      <td>99.000000</td>\n",
       "      <td>62.000000</td>\n",
       "      <td>0.000000</td>\n",
       "      <td>27.300000</td>\n",
       "      <td>0.243500</td>\n",
       "      <td>24.000000</td>\n",
       "      <td>0.000000</td>\n",
       "    </tr>\n",
       "    <tr>\n",
       "      <th>50%</th>\n",
       "      <td>117.000000</td>\n",
       "      <td>72.000000</td>\n",
       "      <td>32.000000</td>\n",
       "      <td>32.000000</td>\n",
       "      <td>0.374000</td>\n",
       "      <td>29.000000</td>\n",
       "      <td>0.000000</td>\n",
       "    </tr>\n",
       "    <tr>\n",
       "      <th>75%</th>\n",
       "      <td>140.500000</td>\n",
       "      <td>80.000000</td>\n",
       "      <td>127.500000</td>\n",
       "      <td>36.600000</td>\n",
       "      <td>0.626500</td>\n",
       "      <td>41.000000</td>\n",
       "      <td>1.000000</td>\n",
       "    </tr>\n",
       "    <tr>\n",
       "      <th>max</th>\n",
       "      <td>199.000000</td>\n",
       "      <td>122.000000</td>\n",
       "      <td>846.000000</td>\n",
       "      <td>67.100000</td>\n",
       "      <td>2.420000</td>\n",
       "      <td>81.000000</td>\n",
       "      <td>1.000000</td>\n",
       "    </tr>\n",
       "  </tbody>\n",
       "</table>\n",
       "</div>"
      ],
      "text/plain": [
       "          Glucose  BloodPressure     Insulin         BMI  \\\n",
       "count  767.000000     767.000000  767.000000  767.000000   \n",
       "mean   120.930900      69.104302   79.903520   31.994654   \n",
       "std     31.977581      19.368410  115.283105    7.889095   \n",
       "min      0.000000       0.000000    0.000000    0.000000   \n",
       "25%     99.000000      62.000000    0.000000   27.300000   \n",
       "50%    117.000000      72.000000   32.000000   32.000000   \n",
       "75%    140.500000      80.000000  127.500000   36.600000   \n",
       "max    199.000000     122.000000  846.000000   67.100000   \n",
       "\n",
       "       DiabetesPedigreeFunction         Age     Outcome  \n",
       "count                767.000000  767.000000  767.000000  \n",
       "mean                   0.472081   33.254237    0.349413  \n",
       "std                    0.331496   11.762079    0.477096  \n",
       "min                    0.078000   21.000000    0.000000  \n",
       "25%                    0.243500   24.000000    0.000000  \n",
       "50%                    0.374000   29.000000    0.000000  \n",
       "75%                    0.626500   41.000000    1.000000  \n",
       "max                    2.420000   81.000000    1.000000  "
      ]
     },
     "execution_count": 45,
     "metadata": {},
     "output_type": "execute_result"
    }
   ],
   "source": [
    "df.describe()"
   ]
  },
  {
   "cell_type": "code",
   "execution_count": 46,
   "metadata": {},
   "outputs": [
    {
     "data": {
      "text/plain": [
       "0    499\n",
       "1    268\n",
       "Name: Outcome, dtype: int64"
      ]
     },
     "execution_count": 46,
     "metadata": {},
     "output_type": "execute_result"
    }
   ],
   "source": [
    "df.Outcome.value_counts()"
   ]
  },
  {
   "attachments": {},
   "cell_type": "markdown",
   "metadata": {},
   "source": [
    "We can see in this dataset two different clases:\n",
    "- The diabetics (`Outcome` is set to 1)\n",
    "- The non-diabetics (`Outcome` is set to 0)\n",
    "\n",
    "With the data analysed, we can see that there is more non-diabetic people that diabetic people (fortunately).\n",
    "\n",
    "We can see 6 descriptives caracteristics in this dataset (plus the outcome):\n",
    "- The glucose level (`Glucose`), stocked in an integer format.\n",
    "- The blood pressure (`BloodPressure`), stocked in an integer format.\n",
    "- The insulin level (`Insulin`) stocked in an integer format.\n",
    "- The BMI (Body Mass Index) of the person  (`BMI`), stocked in a float format.\n",
    "- The Diabetes pedigree function (a function which scores likelihood of diabetes based on family history) of the person (`DiabetesPedigreeFunction`), stocked in a float format.\n",
    "- The age of the person (`Age`), stocked in an integer format.\n",
    "\n",
    "There is at total 767 examples, 499 are non-diabetics people and 268 are diabetics."
   ]
  },
  {
   "attachments": {},
   "cell_type": "markdown",
   "metadata": {},
   "source": [
    "## Task 2: Prepare train and test dataset"
   ]
  },
  {
   "attachments": {},
   "cell_type": "markdown",
   "metadata": {},
   "source": [
    "**Consigne :** Préparez les données de manière à ce que l’on puisse prédire les classes `Outcome`. Puis, en exploitant la librairie `scikit-learn`, proposez un découpage de la base de données à hauteur de 2/3 d'apprentissage et 1/3 de test."
   ]
  },
  {
   "attachments": {},
   "cell_type": "markdown",
   "metadata": {},
   "source": [
    "First, let's get our XY (labels) and X (descriptors) fields:"
   ]
  },
  {
   "cell_type": "code",
   "execution_count": 47,
   "metadata": {},
   "outputs": [
    {
     "name": "stdout",
     "output_type": "stream",
     "text": [
      "     Age   BMI  BloodPressure  DiabetesPedigreeFunction  Glucose  Insulin\n",
      "0     50  33.6             72                     0.627      148        0\n",
      "1     31  26.6             66                     0.351       85        0\n",
      "2     32  23.3             64                     0.672      183        0\n",
      "3     21  28.1             66                     0.167       89       94\n",
      "4     33  43.1             40                     2.288      137      168\n",
      "..   ...   ...            ...                       ...      ...      ...\n",
      "762   33  22.5             62                     0.142       89        0\n",
      "763   63  32.9             76                     0.171      101      180\n",
      "764   27  36.8             70                     0.340      122        0\n",
      "765   30  26.2             72                     0.245      121      112\n",
      "766   47  30.1             60                     0.349      126        0\n",
      "\n",
      "[767 rows x 6 columns]\n",
      "[1 0 1 0 1 0 1 0 1 1 0 1 0 1 1 1 1 1 0 1 0 0 1 1 1 1 1 0 0 0 0 1 0 0 0 0 0\n",
      " 1 1 1 0 0 0 1 0 1 0 0 1 0 0 0 0 1 0 0 1 0 0 0 0 1 0 0 1 0 1 0 0 0 1 0 1 0\n",
      " 0 0 0 0 1 0 0 0 0 0 1 0 0 0 1 0 0 0 0 1 0 0 0 0 0 1 1 0 0 0 0 0 0 0 0 1 1\n",
      " 1 0 0 1 1 1 0 0 0 1 0 0 0 1 1 0 0 1 1 1 1 1 0 0 0 0 0 0 0 0 0 0 1 0 0 0 0\n",
      " 0 0 0 0 1 0 1 1 0 0 0 1 0 0 0 0 1 1 0 0 0 0 1 1 0 0 0 1 0 1 0 1 0 0 0 0 0\n",
      " 1 1 1 1 1 0 0 1 1 0 1 0 1 1 1 0 0 0 0 0 0 1 1 0 1 0 0 0 1 1 1 1 0 1 1 1 1\n",
      " 0 0 0 0 0 1 0 0 1 1 0 0 0 1 1 1 1 0 0 0 1 1 0 1 0 0 0 0 0 0 0 0 1 1 0 0 0\n",
      " 1 0 1 0 0 1 0 1 0 0 1 1 0 0 0 0 0 1 0 0 0 1 0 0 1 1 0 0 1 0 0 0 1 1 1 0 0\n",
      " 1 0 1 0 1 1 0 1 0 0 1 0 1 1 0 0 1 0 1 0 0 1 0 1 0 1 1 1 0 0 1 0 1 0 0 0 1\n",
      " 0 0 0 0 1 1 1 0 0 0 0 0 0 0 0 0 1 0 0 0 0 0 1 1 1 0 1 1 0 0 1 0 0 1 0 0 1\n",
      " 1 0 0 0 0 1 0 0 1 0 0 0 0 0 0 0 1 1 1 0 0 1 0 0 1 0 0 1 0 1 1 0 1 0 1 0 1\n",
      " 0 1 1 0 0 0 0 1 1 0 1 0 1 0 0 0 0 1 1 0 1 0 1 0 0 0 0 0 1 0 0 0 0 1 0 0 1\n",
      " 1 1 0 0 1 0 0 1 0 0 0 1 0 0 1 0 0 0 0 0 0 0 0 0 1 0 0 0 0 0 0 0 1 0 0 0 1\n",
      " 0 0 0 1 1 0 0 0 0 0 0 0 1 0 0 0 0 1 0 0 0 1 0 0 0 1 0 0 0 1 0 0 0 0 1 1 0\n",
      " 0 0 0 0 0 1 0 0 0 0 0 0 0 0 0 0 0 1 0 0 0 1 1 1 1 0 0 1 1 0 0 0 0 0 0 0 0\n",
      " 0 0 0 0 0 1 1 0 0 0 0 0 0 0 1 0 0 0 0 0 0 0 1 0 1 1 0 0 0 1 0 1 0 1 0 1 0\n",
      " 1 0 0 1 0 0 1 0 0 0 0 1 1 0 1 0 0 0 0 1 1 0 1 0 0 0 1 1 0 0 0 0 0 0 0 0 0\n",
      " 0 1 0 0 0 0 1 0 0 1 0 0 0 1 0 0 0 1 1 1 0 0 0 0 0 0 1 0 0 0 1 0 1 1 1 1 0\n",
      " 1 1 0 0 0 0 0 0 0 1 1 0 1 0 0 1 0 1 0 0 0 0 0 1 0 1 0 1 0 1 1 0 0 0 0 1 1\n",
      " 0 0 0 1 0 1 1 0 0 1 0 0 1 1 0 0 1 0 0 1 0 0 0 0 0 0 0 1 1 1 0 0 0 0 0 0 1\n",
      " 1 0 0 1 0 0 1 0 1 1 1 0 0 1 1 1 0 1 0 1 0 1 0 0 0 0 1]\n"
     ]
    }
   ],
   "source": [
    "X = df[df.columns.difference([\"Outcome\"])]\n",
    "print(X)\n",
    "Y = df[\"Outcome\"].values\n",
    "print(Y)"
   ]
  },
  {
   "attachments": {},
   "cell_type": "markdown",
   "metadata": {},
   "source": [
    "## Task 3: Train and see the predictions of our model"
   ]
  },
  {
   "attachments": {},
   "cell_type": "markdown",
   "metadata": {},
   "source": [
    "Now let's split our data between a train and a test dataset:"
   ]
  },
  {
   "cell_type": "code",
   "execution_count": 52,
   "metadata": {},
   "outputs": [
    {
     "name": "stdout",
     "output_type": "stream",
     "text": [
      "Train:  513 ,  513\n",
      "Test:  254 ,  254\n"
     ]
    }
   ],
   "source": [
    "X_train, X_test, Y_train, Y_test = train_test_split(X, Y, test_size=0.33, random_state=42) # 1/3 for the test.\n",
    "print(\"Train: \", len(X_train), \", \", len(Y_train))\n",
    "print(\"Test: \", len(X_test), \", \", len(Y_test))"
   ]
  },
  {
   "attachments": {},
   "cell_type": "markdown",
   "metadata": {},
   "source": [
    "Now we can see that we have a 2/3 split dataset for ou model, this is a good separation between the train and the test steps. Let's create and train our model."
   ]
  },
  {
   "cell_type": "code",
   "execution_count": 62,
   "metadata": {},
   "outputs": [
    {
     "name": "stdout",
     "output_type": "stream",
     "text": [
      "Accuracy of the train dataset:  1.0\n"
     ]
    }
   ],
   "source": [
    "model = KNeighborsClassifier(n_neighbors=1)\n",
    "model.fit(X_train, Y_train) # Train step.\n",
    "\n",
    "train_prediction = model.predict(X_train) # Test step but with the train data.\n",
    "score = model.score(X_train, Y_train)\n",
    "print (\"Accuracy of the train dataset: \", score)"
   ]
  },
  {
   "attachments": {},
   "cell_type": "markdown",
   "metadata": {},
   "source": [
    "Obviously here, when we give the data the model was trained with to test, we see that it always found the good answers (logic, it already knows the answers). This is called as overfitting. This model will be less precise with data which it was not train with.\n",
    "Let's now try with real data : test data."
   ]
  },
  {
   "cell_type": "code",
   "execution_count": 63,
   "metadata": {},
   "outputs": [
    {
     "name": "stdout",
     "output_type": "stream",
     "text": [
      "Prediction:  [1 1 0 1 0 1 0 0 0 0 0 1 1 0 0 0 0 0 0 1 0 0 1 0 1 1 0 0 0 0 1 1 1 1 1 0 1\n",
      " 0 0 1 0 1 0 0 0 0 1 0 0 0 1 0 0 0 0 0 0 1 1 0 1 1 0 0 0 1 0 1 0 0 1 1 0 0\n",
      " 0 1 0 0 1 0 1 0 0 1 0 0 1 0 0 0 0 0 0 0 1 1 1 1 1 0 1 0 1 0 0 1 1 0 1 0 0\n",
      " 0 0 0 1 1 0 0 1 0 0 0 1 0 0 0 0 1 0 0 1 0 0 1 0 0 1 1 1 0 0 0 0 0 1 0 0 0\n",
      " 0 1 0 0 0 0 0 0 0 1 0 0 0 1 0 0 0 1 0 1 1 1 1 0 0 0 1 0 0 0 0 0 0 0 1 0 0\n",
      " 0 1 1 0 0 0 0 0 0 0 0 0 0 0 1 1 0 0 1 1 0 0 0 1 0 1 1 0 0 1 0 0 0 0 1 1 0\n",
      " 0 0 1 1 1 0 0 0 0 0 0 0 1 0 0 1 1 1 0 0 0 0 1 0 0 0 0 0 0 0 0 0]\n",
      "Real value:  [1 0 0 1 0 0 0 0 0 0 0 0 1 0 0 1 0 0 1 1 1 0 0 0 0 1 0 1 1 0 1 1 1 1 0 1 0\n",
      " 1 0 1 1 1 0 0 0 1 1 0 0 0 0 0 0 0 0 0 0 1 1 0 1 0 0 1 0 0 0 1 0 1 0 1 0 1\n",
      " 1 0 0 0 0 0 1 0 0 0 0 0 1 1 0 0 0 0 0 0 1 0 0 0 1 0 0 0 1 0 0 0 0 0 0 1 0\n",
      " 0 0 0 0 1 1 0 0 0 0 0 1 0 0 0 0 1 1 0 1 1 0 1 0 0 0 0 1 0 0 0 0 1 1 0 1 0\n",
      " 0 1 0 0 1 0 0 0 0 0 1 0 0 1 0 0 0 1 0 0 0 1 0 1 1 0 0 0 0 0 1 1 0 1 0 0 1\n",
      " 0 1 0 1 1 1 0 1 0 0 0 0 0 1 1 1 0 0 1 0 1 0 0 1 1 0 1 0 1 1 0 0 0 0 0 1 0\n",
      " 0 1 1 1 1 1 0 0 0 0 0 0 1 0 0 0 1 1 1 0 1 0 0 0 0 1 1 0 0 0 0 0]\n",
      "Accuracy of the test dataset:  0.6889763779527559\n"
     ]
    }
   ],
   "source": [
    "test_prediction = model.predict(X_test) # Test step.\n",
    "score = model.score(X_test, Y_test)\n",
    "\n",
    "print(\"Prediction: \", test_prediction)\n",
    "print(\"Real value: \", Y_test)\n",
    "print (\"Accuracy of the test dataset: \", score)"
   ]
  },
  {
   "attachments": {},
   "cell_type": "markdown",
   "metadata": {},
   "source": [
    "We can see here that our model predict correctly around 70% of the results. It is also possible to compare each mistake individually to understand why our model choose the wrond answer but it is a good start for a non-parameterized model."
   ]
  },
  {
   "attachments": {},
   "cell_type": "markdown",
   "metadata": {},
   "source": [
    "## Task 4: Display confusion matrix"
   ]
  },
  {
   "attachments": {},
   "cell_type": "markdown",
   "metadata": {},
   "source": [
    "**Consigne :** Analysez la matrice de confusion proposée par les prédictions du modèle sur la base de test. Que pouvez-vous observer ?"
   ]
  },
  {
   "cell_type": "code",
   "execution_count": 64,
   "metadata": {},
   "outputs": [
    {
     "data": {
      "text/plain": [
       "array([[334,   0],\n",
       "       [  0, 179]])"
      ]
     },
     "execution_count": 64,
     "metadata": {},
     "output_type": "execute_result"
    }
   ],
   "source": [
    "# Create the confusion matrix for the train data.\n",
    "confusion_matrix(Y_train, train_prediction)"
   ]
  },
  {
   "cell_type": "code",
   "execution_count": 72,
   "metadata": {},
   "outputs": [
    {
     "data": {
      "text/plain": [
       "array([[128,  37],\n",
       "       [ 42,  47]])"
      ]
     },
     "execution_count": 72,
     "metadata": {},
     "output_type": "execute_result"
    }
   ],
   "source": [
    "# Do the same thing for the test data.\n",
    "confusion_matrix(Y_test, test_prediction)"
   ]
  },
  {
   "attachments": {},
   "cell_type": "markdown",
   "metadata": {},
   "source": [
    "We can see that the model predict correcly all the cases for the train data. It recognises all the true positives and false negatives.\n",
    "\n",
    "For the test data, it has found 128 true positives, 47 true negatives, 42 false positives and 37 false negatives.\n",
    "We can see it mainly find the true positives and the false negatives, which is good. It has made some mistakes and found some false positive cases, but this is not really a bad thing, because this means that some people were recognised as diabetics but in reality they are not. However, the false negatives is much more harmful, because some people will not receive treatments and risk death because they was not detected as diabetics."
   ]
  },
  {
   "attachments": {},
   "cell_type": "markdown",
   "metadata": {},
   "source": [
    "## Task 5: train and test different models with parameters"
   ]
  },
  {
   "attachments": {},
   "cell_type": "markdown",
   "metadata": {},
   "source": [
    "**Consigne :** Testez plusieurs valeurs de paramètre `n_neighbors` et sélectionnez celle qui vous semble vous procurer le modèle le plus performant. Avec par exemple `n_neighbors` appartenant à [1, 20]."
   ]
  },
  {
   "cell_type": "code",
   "execution_count": 73,
   "metadata": {},
   "outputs": [
    {
     "name": "stdout",
     "output_type": "stream",
     "text": [
      "For n_neighbors= 1 , we have these accuracy, for train:  1.0 , for test:  0.6889763779527559\n",
      "For n_neighbors= 2 , we have these accuracy, for train:  0.8460038986354775 , for test:  0.7086614173228346\n",
      "For n_neighbors= 3 , we have these accuracy, for train:  0.8460038986354775 , for test:  0.7086614173228346\n",
      "For n_neighbors= 4 , we have these accuracy, for train:  0.8206627680311891 , for test:  0.7362204724409449\n",
      "For n_neighbors= 5 , we have these accuracy, for train:  0.8167641325536062 , for test:  0.7401574803149606\n",
      "For n_neighbors= 6 , we have these accuracy, for train:  0.797270955165692 , for test:  0.7480314960629921\n",
      "For n_neighbors= 7 , we have these accuracy, for train:  0.7914230019493177 , for test:  0.7362204724409449\n",
      "For n_neighbors= 8 , we have these accuracy, for train:  0.7953216374269005 , for test:  0.7283464566929134\n",
      "For n_neighbors= 9 , we have these accuracy, for train:  0.7875243664717348 , for test:  0.7362204724409449\n",
      "For n_neighbors= 10 , we have these accuracy, for train:  0.7797270955165692 , for test:  0.7322834645669292\n",
      "For n_neighbors= 11 , we have these accuracy, for train:  0.7894736842105263 , for test:  0.7559055118110236\n",
      "For n_neighbors= 12 , we have these accuracy, for train:  0.7797270955165692 , for test:  0.7283464566929134\n",
      "For n_neighbors= 13 , we have these accuracy, for train:  0.7875243664717348 , for test:  0.7244094488188977\n",
      "For n_neighbors= 14 , we have these accuracy, for train:  0.7758284600389863 , for test:  0.7283464566929134\n",
      "For n_neighbors= 15 , we have these accuracy, for train:  0.783625730994152 , for test:  0.7322834645669292\n",
      "For n_neighbors= 16 , we have these accuracy, for train:  0.7719298245614035 , for test:  0.7244094488188977\n",
      "For n_neighbors= 17 , we have these accuracy, for train:  0.7699805068226121 , for test:  0.7283464566929134\n",
      "For n_neighbors= 18 , we have these accuracy, for train:  0.7719298245614035 , for test:  0.7283464566929134\n",
      "For n_neighbors= 19 , we have these accuracy, for train:  0.7641325536062378 , for test:  0.7244094488188977\n",
      "For n_neighbors= 20 , we have these accuracy, for train:  0.7699805068226121 , for test:  0.7204724409448819\n"
     ]
    }
   ],
   "source": [
    "# Let's loop until we found the best value for the parameter of our model.\n",
    "for i in range(1, 21):\n",
    "    model = KNeighborsClassifier(n_neighbors=i)\n",
    "    model.fit(X_train, Y_train) # Train step.\n",
    "    train_prediction = model.predict(X_train) # Test step but with the train data.\n",
    "    train_score = model.score(X_train, Y_train)\n",
    "    test_prediction = model.predict(X_test) # Test step.\n",
    "    test_score = model.score(X_test, Y_test)\n",
    "    print (\"For n_neighbors=\", i, \"we have these accuracy, for train: \", train_score, \"for test: \", test_score)"
   ]
  },
  {
   "attachments": {},
   "cell_type": "markdown",
   "metadata": {},
   "source": [
    "We can see here that the best accuracy for the test dataset is around 0.75, and this happends when `n_neighbors` = 11, so here the best parameter seems to be 11."
   ]
  }
 ],
 "metadata": {
  "kernelspec": {
   "display_name": "ml-venv",
   "language": "python",
   "name": "ml-venv"
  },
  "language_info": {
   "codemirror_mode": {
    "name": "ipython",
    "version": 3
   },
   "file_extension": ".py",
   "mimetype": "text/x-python",
   "name": "python",
   "nbconvert_exporter": "python",
   "pygments_lexer": "ipython3",
   "version": "3.10.12"
  },
  "orig_nbformat": 4
 },
 "nbformat": 4,
 "nbformat_minor": 2
}

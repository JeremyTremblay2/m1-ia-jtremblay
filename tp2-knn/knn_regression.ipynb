{
 "cells": [
  {
   "attachments": {},
   "cell_type": "markdown",
   "metadata": {},
   "source": [
    "#### Jérémy TREMBLAY"
   ]
  },
  {
   "attachments": {},
   "cell_type": "markdown",
   "metadata": {},
   "source": [
    "# TP2 : KNN and regression"
   ]
  },
  {
   "cell_type": "code",
   "execution_count": 23,
   "metadata": {},
   "outputs": [],
   "source": [
    "# Import the library that will be used in this notebook.\n",
    "import pandas as pd\n",
    "import numpy as np\n",
    "import random\n",
    "\n",
    "# Import the pyplot module from matplotlib with the plt alias.\n",
    "import matplotlib.pyplot as plt\n",
    "\n",
    "# Import the sklearn modules.\n",
    "from sklearn.model_selection import train_test_split\n",
    "from sklearn.metrics import mean_absolute_error, mean_squared_error, r2_score\n",
    "from sklearn.neighbors import KNeighborsRegressor\n",
    "from sklearn.preprocessing import StandardScaler"
   ]
  },
  {
   "attachments": {},
   "cell_type": "markdown",
   "metadata": {},
   "source": [
    "## Task 6: Prepare data"
   ]
  },
  {
   "attachments": {},
   "cell_type": "markdown",
   "metadata": {},
   "source": [
    "**Consigne :** De la même manière que dans la première partie du TP, analysez et préparez les données."
   ]
  },
  {
   "cell_type": "code",
   "execution_count": 24,
   "metadata": {},
   "outputs": [
    {
     "name": "stdout",
     "output_type": "stream",
     "text": [
      "      RM  LSTAT  PTRATIO      MEDV\n",
      "0  6.575   4.98     15.3  504000.0\n",
      "1  6.421   9.14     17.8  453600.0\n",
      "2  7.185   4.03     17.8  728700.0\n",
      "3  6.998   2.94     18.7  701400.0\n",
      "4  7.147   5.33     18.7  760200.0\n"
     ]
    }
   ],
   "source": [
    "# Specify the relative path of the housing file.\n",
    "file_path = 'datasets/housing.csv'\n",
    "\n",
    "# Load the database into a DataFrame.\n",
    "df = pd.read_csv(file_path)\n",
    "\n",
    "# Display the first few rows of the DataFrame with head.\n",
    "print(df.head())"
   ]
  },
  {
   "cell_type": "code",
   "execution_count": 25,
   "metadata": {},
   "outputs": [
    {
     "name": "stdout",
     "output_type": "stream",
     "text": [
      "RM         False\n",
      "LSTAT      False\n",
      "PTRATIO    False\n",
      "MEDV       False\n",
      "dtype: bool\n"
     ]
    }
   ],
   "source": [
    "print(df.isnull().any())"
   ]
  },
  {
   "attachments": {},
   "cell_type": "markdown",
   "metadata": {},
   "source": [
    "The dataset is already clean, we can easily read it now and search some information."
   ]
  },
  {
   "cell_type": "code",
   "execution_count": 26,
   "metadata": {},
   "outputs": [
    {
     "data": {
      "text/plain": [
       "(489, 4)"
      ]
     },
     "execution_count": 26,
     "metadata": {},
     "output_type": "execute_result"
    }
   ],
   "source": [
    "# Know the dimensions of the dataframe.\n",
    "df.shape"
   ]
  },
  {
   "attachments": {},
   "cell_type": "markdown",
   "metadata": {},
   "source": [
    "There is 489 rows and 4 columns, let's check the content more in detail with some stats."
   ]
  },
  {
   "cell_type": "code",
   "execution_count": 27,
   "metadata": {},
   "outputs": [
    {
     "name": "stdout",
     "output_type": "stream",
     "text": [
      "<class 'pandas.core.frame.DataFrame'>\n",
      "RangeIndex: 489 entries, 0 to 488\n",
      "Data columns (total 4 columns):\n",
      " #   Column   Non-Null Count  Dtype  \n",
      "---  ------   --------------  -----  \n",
      " 0   RM       489 non-null    float64\n",
      " 1   LSTAT    489 non-null    float64\n",
      " 2   PTRATIO  489 non-null    float64\n",
      " 3   MEDV     489 non-null    float64\n",
      "dtypes: float64(4)\n",
      "memory usage: 15.4 KB\n"
     ]
    }
   ],
   "source": [
    "# Display usefull information about the dataset.\n",
    "df.info()"
   ]
  },
  {
   "cell_type": "code",
   "execution_count": 28,
   "metadata": {},
   "outputs": [
    {
     "data": {
      "text/html": [
       "<div>\n",
       "<style scoped>\n",
       "    .dataframe tbody tr th:only-of-type {\n",
       "        vertical-align: middle;\n",
       "    }\n",
       "\n",
       "    .dataframe tbody tr th {\n",
       "        vertical-align: top;\n",
       "    }\n",
       "\n",
       "    .dataframe thead th {\n",
       "        text-align: right;\n",
       "    }\n",
       "</style>\n",
       "<table border=\"1\" class=\"dataframe\">\n",
       "  <thead>\n",
       "    <tr style=\"text-align: right;\">\n",
       "      <th></th>\n",
       "      <th>RM</th>\n",
       "      <th>LSTAT</th>\n",
       "      <th>PTRATIO</th>\n",
       "      <th>MEDV</th>\n",
       "    </tr>\n",
       "  </thead>\n",
       "  <tbody>\n",
       "    <tr>\n",
       "      <th>count</th>\n",
       "      <td>489.000000</td>\n",
       "      <td>489.000000</td>\n",
       "      <td>489.000000</td>\n",
       "      <td>4.890000e+02</td>\n",
       "    </tr>\n",
       "    <tr>\n",
       "      <th>mean</th>\n",
       "      <td>6.240288</td>\n",
       "      <td>12.939632</td>\n",
       "      <td>18.516564</td>\n",
       "      <td>4.543429e+05</td>\n",
       "    </tr>\n",
       "    <tr>\n",
       "      <th>std</th>\n",
       "      <td>0.643650</td>\n",
       "      <td>7.081990</td>\n",
       "      <td>2.111268</td>\n",
       "      <td>1.653403e+05</td>\n",
       "    </tr>\n",
       "    <tr>\n",
       "      <th>min</th>\n",
       "      <td>3.561000</td>\n",
       "      <td>1.980000</td>\n",
       "      <td>12.600000</td>\n",
       "      <td>1.050000e+05</td>\n",
       "    </tr>\n",
       "    <tr>\n",
       "      <th>25%</th>\n",
       "      <td>5.880000</td>\n",
       "      <td>7.370000</td>\n",
       "      <td>17.400000</td>\n",
       "      <td>3.507000e+05</td>\n",
       "    </tr>\n",
       "    <tr>\n",
       "      <th>50%</th>\n",
       "      <td>6.185000</td>\n",
       "      <td>11.690000</td>\n",
       "      <td>19.100000</td>\n",
       "      <td>4.389000e+05</td>\n",
       "    </tr>\n",
       "    <tr>\n",
       "      <th>75%</th>\n",
       "      <td>6.575000</td>\n",
       "      <td>17.120000</td>\n",
       "      <td>20.200000</td>\n",
       "      <td>5.187000e+05</td>\n",
       "    </tr>\n",
       "    <tr>\n",
       "      <th>max</th>\n",
       "      <td>8.398000</td>\n",
       "      <td>37.970000</td>\n",
       "      <td>22.000000</td>\n",
       "      <td>1.024800e+06</td>\n",
       "    </tr>\n",
       "  </tbody>\n",
       "</table>\n",
       "</div>"
      ],
      "text/plain": [
       "               RM       LSTAT     PTRATIO          MEDV\n",
       "count  489.000000  489.000000  489.000000  4.890000e+02\n",
       "mean     6.240288   12.939632   18.516564  4.543429e+05\n",
       "std      0.643650    7.081990    2.111268  1.653403e+05\n",
       "min      3.561000    1.980000   12.600000  1.050000e+05\n",
       "25%      5.880000    7.370000   17.400000  3.507000e+05\n",
       "50%      6.185000   11.690000   19.100000  4.389000e+05\n",
       "75%      6.575000   17.120000   20.200000  5.187000e+05\n",
       "max      8.398000   37.970000   22.000000  1.024800e+06"
      ]
     },
     "execution_count": 28,
     "metadata": {},
     "output_type": "execute_result"
    }
   ],
   "source": [
    "df.describe()"
   ]
  },
  {
   "cell_type": "code",
   "execution_count": 29,
   "metadata": {},
   "outputs": [
    {
     "data": {
      "text/plain": [
       "525000.0    8\n",
       "485100.0    7\n",
       "462000.0    7\n",
       "455700.0    7\n",
       "407400.0    6\n",
       "           ..\n",
       "690900.0    1\n",
       "726600.0    1\n",
       "636300.0    1\n",
       "699300.0    1\n",
       "170100.0    1\n",
       "Name: MEDV, Length: 228, dtype: int64"
      ]
     },
     "execution_count": 29,
     "metadata": {},
     "output_type": "execute_result"
    }
   ],
   "source": [
    "df.MEDV.value_counts()"
   ]
  },
  {
   "attachments": {},
   "cell_type": "markdown",
   "metadata": {},
   "source": [
    "After analyse, we can observe different things about this dataset:\n",
    "\n",
    "1. It contains no empty values.\n",
    "\n",
    "2. It only contains 4 columns.\n",
    "\n",
    "The columns contain the following data:    \n",
    "  \n",
    "* RM (Average number of rooms per dwelling):\n",
    "  * Mean: Approximately 6.24 rooms per dwelling.\n",
    "  * Range: From a minimum of 3.56 to a maximum of 8.40 rooms.    \n",
    "  \n",
    "* LSTAT (Percentage of lower status population):\n",
    "  * Mean: Around 12.94% lower status population.\n",
    "  * Range: Varies from 1.98% to 37.97%.   \n",
    "  \n",
    "* PTRATIO (Pupil-teacher ratio):\n",
    "  * Mean: About 18.52 students per teacher.\n",
    "  * Range: Ranges from 12.60 to 22.00 students per teacher.    \n",
    "\n",
    "* MEDV (Median value of owner-occupied homes):\n",
    "  * Mean: Approximately $454,342.90 for median home value.\n",
    "  * Range: Median home values vary from $105,000 to $1,024,800.\n",
    "\n",
    "Information found [here](https://www.kaggle.com/code/prasadperera/the-boston-housing-dataset)."
   ]
  },
  {
   "attachments": {},
   "cell_type": "markdown",
   "metadata": {},
   "source": [
    "Let's now define the data we will use for this exercise. We will use the first three columns (LSTAT, PTRATIO and RM) to predict the MEDV. To do this, we define the variables and split the data for the future tasks."
   ]
  },
  {
   "cell_type": "code",
   "execution_count": 30,
   "metadata": {},
   "outputs": [],
   "source": [
    "# Our data.\n",
    "X = df[['RM', 'LSTAT', 'PTRATIO']]\n",
    "y = df['MEDV']\n",
    "\n",
    "# Split data between test and train (66% train).\n",
    "X_train, X_test, y_train, y_test = train_test_split(X, y, test_size=0.33, random_state=42)"
   ]
  },
  {
   "attachments": {},
   "cell_type": "markdown",
   "metadata": {},
   "source": [
    "Now that we have analysed the data we can create and train our model."
   ]
  },
  {
   "attachments": {},
   "cell_type": "markdown",
   "metadata": {},
   "source": [
    "## Task 7: Train and analyse the model"
   ]
  },
  {
   "attachments": {},
   "cell_type": "markdown",
   "metadata": {},
   "source": [
    "**Consigne :** Réalisez l’apprentissage de votre modèle et identifiez une valeur du paramètre `n_neighbors` proposant une bonne généralisation. Pour cela, vous pouvez vous appuyez sur différentes métriques, dont certaines utilisées dans le précédent TP :\n",
    "\n",
    "* Le coefficient de détermination\n",
    "\n",
    "* L’erreur moyenne absolue définie par : `1 / n * Somme | y barre - y | pour i = 1 jusqu'à N` \n",
    "\n",
    "* L’erreur quadratique moyenne définie par : `1 / n * Somme (y barre - y)² pour i = 1 jusqu'à N `\n",
    "\n",
    "avec y barre la valeur prédite et y la valeur attendue."
   ]
  },
  {
   "cell_type": "code",
   "execution_count": 31,
   "metadata": {},
   "outputs": [
    {
     "name": "stdout",
     "output_type": "stream",
     "text": [
      "n_neighbors = 1: R-squared = 0.7260, MAE = 64516.67, MSE = 6737091666.67\n",
      "n_neighbors = 2: R-squared = 0.7488, MAE = 63012.96, MSE = 6177579722.22\n",
      "n_neighbors = 3: R-squared = 0.7780, MAE = 59016.05, MSE = 5459338024.69\n",
      "n_neighbors = 4: R-squared = 0.7822, MAE = 56311.11, MSE = 5355805486.11\n",
      "n_neighbors = 5: R-squared = 0.7767, MAE = 56738.89, MSE = 5489780333.33\n",
      "n_neighbors = 6: R-squared = 0.7821, MAE = 56069.14, MSE = 5358768549.38\n",
      "n_neighbors = 7: R-squared = 0.7823, MAE = 55831.48, MSE = 5354503888.89\n",
      "n_neighbors = 8: R-squared = 0.7837, MAE = 55839.58, MSE = 5320045269.10\n",
      "n_neighbors = 9: R-squared = 0.7837, MAE = 55778.19, MSE = 5319446721.54\n",
      "n_neighbors = 10: R-squared = 0.7798, MAE = 56307.22, MSE = 5413818083.33\n",
      "n_neighbors = 11: R-squared = 0.7753, MAE = 57379.97, MSE = 5526418204.78\n",
      "n_neighbors = 12: R-squared = 0.7697, MAE = 57829.94, MSE = 5663827577.16\n",
      "n_neighbors = 13: R-squared = 0.7665, MAE = 57957.41, MSE = 5741286992.11\n",
      "n_neighbors = 14: R-squared = 0.7608, MAE = 58332.41, MSE = 5881831250.00\n",
      "n_neighbors = 15: R-squared = 0.7545, MAE = 58556.30, MSE = 6037492775.31\n",
      "n_neighbors = 16: R-squared = 0.7547, MAE = 58921.53, MSE = 6032672217.88\n",
      "n_neighbors = 17: R-squared = 0.7525, MAE = 59294.88, MSE = 6085513366.01\n",
      "n_neighbors = 18: R-squared = 0.7509, MAE = 59136.32, MSE = 6126147618.31\n",
      "n_neighbors = 19: R-squared = 0.7481, MAE = 59585.96, MSE = 6194163447.21\n",
      "n_neighbors = 20: R-squared = 0.7438, MAE = 59772.87, MSE = 6300368345.83\n"
     ]
    }
   ],
   "source": [
    "# List of n_neighbors values to test.\n",
    "n_neighbors_values = list(range(1, 21))  # From 1 to 20 inclusive.\n",
    "\n",
    "for n_neighbors in n_neighbors_values:\n",
    "    # Create a K-Nearest Neighbors (KNN) model with the current n_neighbors value.\n",
    "    model = KNeighborsRegressor(n_neighbors=n_neighbors)\n",
    "    model.fit(X_train, y_train)\n",
    "    \n",
    "    # Make predictions on the test set.\n",
    "    y_pred = model.predict(X_test)\n",
    "    \n",
    "    # Calculate the coefficient of determination (R-squared).\n",
    "    r2 = r2_score(y_test, y_pred)\n",
    "    \n",
    "    # Calculate the Mean Absolute Error (MAE).\n",
    "    mae = mean_absolute_error(y_test, y_pred)\n",
    "    \n",
    "    # Calculate the Mean Squared Error (MSE).\n",
    "    mse = mean_squared_error(y_test, y_pred)\n",
    "    \n",
    "    # Display the metrics for each n_neighbors value.\n",
    "    print(f'n_neighbors = {n_neighbors}: R-squared = {r2:.4f}, MAE = {mae:.2f}, MSE = {mse:.2f}')"
   ]
  },
  {
   "attachments": {},
   "cell_type": "markdown",
   "metadata": {},
   "source": [
    "**Conclusion:**  \n",
    "\n",
    "For `n_neighbors` = 1, the R-squared is `0.7260`, indicating that the model explains a significant portion of the variance. However, the *MAE* and *MSE* are high, suggestikng that this model might be overfitting the data.\n",
    "\n",
    "For `n_neighbors` = 8, you have a high R-squared (`0.7837`), indicating a good fit to the data. The *MAE* and *MSE* are lower than for n_neighbors = 1, which is a good sign.\n",
    "\n",
    "For `n_neighbors` = 20, the R-squaresd starts to decrease, and both *MAE* and *MSE* increase significantly. This suggests that the model is losing predictive power and underperforming.\n",
    "\n",
    "Based on these observations, we want to choose a value for `n_neighbors` between 8 and 9. This range seems to offer a good trade-off between model complexity and performance. An `n_neighbors` value of 8 or 9 provides a relatively high R-squared while keeping *MAE* and *MSE* reasonably low, indicating good predictive power and generalization to unseeen data."
   ]
  },
  {
   "attachments": {},
   "cell_type": "markdown",
   "metadata": {},
   "source": [
    "## Task 8: Normalize data and analyse performances"
   ]
  },
  {
   "attachments": {},
   "cell_type": "markdown",
   "metadata": {},
   "source": [
    "**Consigne :** Utilisez le `StandardScaler` proposé par `scikit-learn` pour normaliser les données d’entrée de la base de données.  Vérifiez ensuite les performances du modèle."
   ]
  },
  {
   "cell_type": "code",
   "execution_count": 32,
   "metadata": {},
   "outputs": [],
   "source": [
    "# Create scaler.\n",
    "scaler = StandardScaler()"
   ]
  },
  {
   "attachments": {},
   "cell_type": "markdown",
   "metadata": {},
   "source": [
    "Then we should transform our data by using our scaler."
   ]
  },
  {
   "cell_type": "code",
   "execution_count": 33,
   "metadata": {},
   "outputs": [],
   "source": [
    "X_train_scaled = scaler.fit_transform(X_train)\n",
    "X_test_scaled = scaler.transform(X_test)"
   ]
  },
  {
   "attachments": {},
   "cell_type": "markdown",
   "metadata": {},
   "source": [
    "Then we can train our model and predict the value based on the parameter found just before."
   ]
  },
  {
   "cell_type": "code",
   "execution_count": 34,
   "metadata": {},
   "outputs": [
    {
     "name": "stdout",
     "output_type": "stream",
     "text": [
      "n_neighbors = 8: R-squared = 0.8143, MAE = 52477.31, MSE = 4565602222.22\n"
     ]
    }
   ],
   "source": [
    "model = KNeighborsRegressor(n_neighbors=8)  # We choose an appropriate n_neighbors value which is 8.\n",
    "model.fit(X_train_scaled, y_train)\n",
    "y_pred = model.predict(X_test_scaled)  # Predict.\n",
    "\n",
    "# COmpute values.\n",
    "r2 = r2_score(y_test, y_pred)\n",
    "mae = mean_absolute_error(y_test, y_pred)\n",
    "mse = mean_squared_error(y_test, y_pred)\n",
    "\n",
    "# Display data.\n",
    "print(f'n_neighbors = 8: R-squared = {r2:.4f}, MAE = {mae:.2f}, MSE = {mse:.2f}')"
   ]
  },
  {
   "attachments": {},
   "cell_type": "markdown",
   "metadata": {},
   "source": [
    "**Conclusion:**  \n",
    "R-squared (R²) = 0.8143: This value indicates that the model explains approximately 81.43% of the variance in the target variable. A high R² value is a positive sign, suggesting a good fit to the data.\n",
    "\n",
    "Mean Absolute Error (MAE) = 52477.31: The MAE measures the average absolute difference between predicted and actual values. A lower MAE is desirable, and 52477.31 indicates that, on average, predictions are off by this amount.\n",
    "\n",
    "Mean Squared Error (MSE) = 4565602222.22: The MSE measufres the average squared difference between predicted and actual values. A lower MSE is better, and this value shows the average squared prediction error.\n",
    "\n",
    "Based on these metrics, the model with n_neighbors = 8 and data normalization performs before than previously. We can observe better results with the use of the scaler."
   ]
  }
 ],
 "metadata": {
  "kernelspec": {
   "display_name": "ml-venv",
   "language": "python",
   "name": "ml-venv"
  },
  "language_info": {
   "codemirror_mode": {
    "name": "ipython",
    "version": 3
   },
   "file_extension": ".py",
   "mimetype": "text/x-python",
   "name": "python",
   "nbconvert_exporter": "python",
   "pygments_lexer": "ipython3",
   "version": "3.10.12"
  },
  "orig_nbformat": 4
 },
 "nbformat": 4,
 "nbformat_minor": 2
}

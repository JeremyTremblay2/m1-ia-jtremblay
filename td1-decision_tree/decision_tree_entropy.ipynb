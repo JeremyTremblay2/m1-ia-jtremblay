{
 "cells": [
  {
   "attachments": {},
   "cell_type": "markdown",
   "metadata": {},
   "source": [
    "#### Jérémy TREMBLAY"
   ]
  },
  {
   "attachments": {},
   "cell_type": "markdown",
   "metadata": {},
   "source": [
    "# TD1: Decision Tree"
   ]
  },
  {
   "cell_type": "code",
   "execution_count": 1,
   "metadata": {},
   "outputs": [],
   "source": [
    "import math"
   ]
  },
  {
   "attachments": {},
   "cell_type": "markdown",
   "metadata": {},
   "source": [
    "## Task 1: Build decision tree"
   ]
  },
  {
   "attachments": {},
   "cell_type": "markdown",
   "metadata": {},
   "source": [
    "| Force vent (FV) | Présence précipitations (PP) | État piste (EP) | Décision |\n",
    "|-----------------|-----------------------------|-----------------|----------|\n",
    "| 1               | Faible                      | Faux                          | Correcte  | oui     |\n",
    "| 2               | Faible                      | Faux                          | Dégradée | oui     |\n",
    "| 3               | Faible                      | Vrai                          | Correcte  | oui     |\n",
    "| 4               | Modérée                     | Faux                          | Correcte  | oui     |\n",
    "| 5               | Modérée                     | Vrai                          | Dégradée | non     |\n",
    "| 6               | Modérée                     | Vrai                          | Correcte  | non     |\n",
    "| 7               | Dangereuse                  | Faux                          | Correcte  | non     |\n",
    "| 8               | Dangereuse                  | Vrai                          | Dégradée | non     |\n"
   ]
  },
  {
   "attachments": {},
   "cell_type": "markdown",
   "metadata": {},
   "source": [
    "**Consigne :** A partir de ces données, construisez un arbre de décision pure."
   ]
  },
  {
   "attachments": {},
   "cell_type": "markdown",
   "metadata": {},
   "source": [
    "First we need to normalize data. Here is the new board."
   ]
  },
  {
   "attachments": {},
   "cell_type": "markdown",
   "metadata": {},
   "source": [
    "| Vent faible (VF) | Vent modéré (VM) | Vent violent (VV) | Présence précipitations (PP)   | État piste (EP)   | Décision   |\n",
    "|:------------:|:-------------:|:----------:|:-----------------------------|:-------------------|:-----------|\n",
    "|    vrai    |    faux    |   faux   | Faux                        | Correcte          | oui        |\n",
    "|    vrai    |    faux    |   faux   | Faux                        | Dégradée         | oui        |\n",
    "|    vrai    |    faux    |   faux   | Vrai                        | Correcte          | oui        |\n",
    "|    faux    |    vrai    |   faux   | Faux                        | Correcte          | oui        |\n",
    "|    faux    |    vrai    |   faux   | Vrai                        | Dégradée         | non        |\n",
    "|    faux    |    vrai    |   faux   | Vrai                        | Correcte          | non        |\n",
    "|    faux    |    faux    |   vrai   | Faux                        | Correcte          | non        |\n",
    "|    faux    |    faux    |   vrai   | Vrai                        | Dégradée         | non        |\n"
   ]
  },
  {
   "attachments": {},
   "cell_type": "markdown",
   "metadata": {},
   "source": [
    "We first compute each entropie for each criteria value. "
   ]
  },
  {
   "cell_type": "code",
   "execution_count": 12,
   "metadata": {},
   "outputs": [
    {
     "name": "stdout",
     "output_type": "stream",
     "text": [
      "J(VF = VRAI) = -3/3 * log2(3/3) = -0.00\n",
      "J(VF = FAUX) = -1/5 * log2(1/5) - 4/5 * log2(4/5) = 0.72\n",
      "J(VM = VRAI) = -1/3 * log2(1/3) - 2/3 * log2(2/3) = 0.92\n",
      "J(VM = FAUX) = -3/5 * log2(3/5) - 2/5 * log2(2/5) = 0.97\n",
      "J(VV = VRAI) = -2/2 * log2(2/2) = -0.00\n",
      "J(VV = FAUX) = -4/6 * log2(4/6) - 2/6 * log2(2/6) = 0.92\n",
      "J(PP = VRAI) = -1/4 * log2(1/4) - 3/4 * log2(3/4) = 0.81\n",
      "J(PP = FAUX) = -3/4 * log2(3/4) - 1/4 * log2(1/4) = 0.81\n",
      "J(EP = Correcte) = -3/5 * log2(3/5) - 2/5 * log2(2/5) = 0.97\n",
      "J(EP = Dégradée) = -1/3 * log2(1/3) - 2/3 * log2(2/3) = 0.92\n"
     ]
    }
   ],
   "source": [
    "print(\"J(VF = VRAI) = -3/3 * log2(3/3) = {:.2f}\".format(-3/3 * math.log2(3/3)))\n",
    "print(\"J(VF = FAUX) = -1/5 * log2(1/5) - 4/5 * log2(4/5) = {:.2f}\".format(-1/5 * math.log2(1/5) - 4/5 * math.log2(4/5)))\n",
    "print(\"J(VM = VRAI) = -1/3 * log2(1/3) - 2/3 * log2(2/3) = {:.2f}\".format(-1/3 * math.log2(1/3) - 2/3 * math.log2(2/3)))\n",
    "print(\"J(VM = FAUX) = -3/5 * log2(3/5) - 2/5 * log2(2/5) = {:.2f}\".format(-3/5 * math.log2(3/5) - 2/5 * math.log2(2/5)))\n",
    "print(\"J(VV = VRAI) = -2/2 * log2(2/2) = {:.2f}\".format(-2/2 * math.log2(2/2)))\n",
    "print(\"J(VV = FAUX) = -4/6 * log2(4/6) - 2/6 * log2(2/6) = {:.2f}\".format(-4/6 * math.log2(4/6) - 2/6 * math.log2(2/6)))\n",
    "print(\"J(PP = VRAI) = -1/4 * log2(1/4) - 3/4 * log2(3/4) = {:.2f}\".format(-1/4 * math.log2(1/4) - 3/4 * math.log2(3/4)))\n",
    "print(\"J(PP = FAUX) = -3/4 * log2(3/4) - 1/4 * log2(1/4) = {:.2f}\".format(-3/4 * math.log2(3/4) - 1/4 * math.log2(1/4)))\n",
    "print(\"J(EP = Correcte) = -3/5 * log2(3/5) - 2/5 * log2(2/5) = {:.2f}\".format(-3/5 * math.log2(3/5) - 2/5 * math.log2(2/5)))\n",
    "print(\"J(EP = Dégradée) = -1/3 * log2(1/3) - 2/3 * log2(2/3) = {:.2f}\".format(-1/3 * math.log2(1/3) - 2/3 * math.log2(2/3)))"
   ]
  },
  {
   "attachments": {},
   "cell_type": "markdown",
   "metadata": {},
   "source": [
    "We then compute H for each criteria.  \n",
    "\n",
    "H(oui, VV) = 2/8 J(VV = VRAI) + 6/8 J(VV = FAUX) = 0.81"
   ]
  },
  {
   "attachments": {},
   "cell_type": "markdown",
   "metadata": {},
   "source": [
    "Then we can create new boards."
   ]
  },
  {
   "attachments": {},
   "cell_type": "markdown",
   "metadata": {},
   "source": [
    "Then we follow the process again and again and again..."
   ]
  }
 ],
 "metadata": {
  "kernelspec": {
   "display_name": "ml-venv",
   "language": "python",
   "name": "ml-venv"
  },
  "language_info": {
   "codemirror_mode": {
    "name": "ipython",
    "version": 3
   },
   "file_extension": ".py",
   "mimetype": "text/x-python",
   "name": "python",
   "nbconvert_exporter": "python",
   "pygments_lexer": "ipython3",
   "version": "3.10.12"
  },
  "orig_nbformat": 4
 },
 "nbformat": 4,
 "nbformat_minor": 2
}

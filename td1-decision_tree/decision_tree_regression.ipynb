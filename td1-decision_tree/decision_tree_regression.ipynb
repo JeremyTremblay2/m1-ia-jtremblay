{
 "cells": [
  {
   "attachments": {},
   "cell_type": "markdown",
   "metadata": {},
   "source": [
    "#### Jérémy TREMBLAY"
   ]
  },
  {
   "attachments": {},
   "cell_type": "markdown",
   "metadata": {},
   "source": [
    "# TD1: Decision Tree Regression"
   ]
  },
  {
   "cell_type": "code",
   "execution_count": 1,
   "metadata": {},
   "outputs": [],
   "source": [
    "# Import the library that will be used in this notebook.\n",
    "import pandas as pd\n",
    "\n",
    "# Import the sklearn modules.\n",
    "from sklearn.model_selection import train_test_split\n",
    "from sklearn.tree import DecisionTreeRegressor\n",
    "from sklearn.metrics import mean_absolute_error, mean_squared_error, r2_score"
   ]
  },
  {
   "attachments": {},
   "cell_type": "markdown",
   "metadata": {},
   "source": [
    "## Task 3: Create Regression Tree"
   ]
  },
  {
   "attachments": {},
   "cell_type": "markdown",
   "metadata": {},
   "source": [
    "**Consigne :** À partir da la base de données de *redwine*, proposer un modèle d’arbre de décision (de régression) performant qui prédit la note d’un vin rouge en fonction de ses attributs.  \n",
    "\n",
    "Indications :  \n",
    "* Il sera nécessaire d’utiliser un `DecisionTreeRegressor`.\n",
    "* Il faudra adapter les mesures d’erreur : *MAE*, *MSE*, *R2* (mesures disponibles dans le module `sklearn.metrics`)."
   ]
  },
  {
   "attachments": {},
   "cell_type": "markdown",
   "metadata": {},
   "source": [
    "### First step: prepare data"
   ]
  },
  {
   "attachments": {},
   "cell_type": "markdown",
   "metadata": {},
   "source": [
    "First we need to load and prepare data."
   ]
  },
  {
   "cell_type": "code",
   "execution_count": 2,
   "metadata": {},
   "outputs": [
    {
     "name": "stdout",
     "output_type": "stream",
     "text": [
      "   fixed acidity  volatile acidity  citric acid  residual sugar  chlorides  \\\n",
      "0            7.4              0.70         0.00             1.9      0.076   \n",
      "1            7.8              0.88         0.00             2.6      0.098   \n",
      "2            7.8              0.76         0.04             2.3      0.092   \n",
      "3           11.2              0.28         0.56             1.9      0.075   \n",
      "4            7.4              0.70         0.00             1.9      0.076   \n",
      "\n",
      "   free sulfur dioxide  total sulfur dioxide  density    pH  sulphates  \\\n",
      "0                 11.0                  34.0   0.9978  3.51       0.56   \n",
      "1                 25.0                  67.0   0.9968  3.20       0.68   \n",
      "2                 15.0                  54.0   0.9970  3.26       0.65   \n",
      "3                 17.0                  60.0   0.9980  3.16       0.58   \n",
      "4                 11.0                  34.0   0.9978  3.51       0.56   \n",
      "\n",
      "   alcohol  quality  \n",
      "0      9.4        5  \n",
      "1      9.8        5  \n",
      "2      9.8        5  \n",
      "3      9.8        6  \n",
      "4      9.4        5  \n"
     ]
    }
   ],
   "source": [
    "# Specify the relative path of the redwine file.\n",
    "file_path = 'datasets/redwine.csv'\n",
    "\n",
    "# Load the database into a DataFrame.\n",
    "df = pd.read_csv(file_path)\n",
    "\n",
    "# Display the first few rows of the DataFrame with head.\n",
    "print(df.head())"
   ]
  },
  {
   "cell_type": "code",
   "execution_count": 3,
   "metadata": {},
   "outputs": [
    {
     "name": "stdout",
     "output_type": "stream",
     "text": [
      "fixed acidity           False\n",
      "volatile acidity        False\n",
      "citric acid             False\n",
      "residual sugar          False\n",
      "chlorides               False\n",
      "free sulfur dioxide     False\n",
      "total sulfur dioxide    False\n",
      "density                 False\n",
      "pH                      False\n",
      "sulphates               False\n",
      "alcohol                 False\n",
      "quality                 False\n",
      "dtype: bool\n"
     ]
    }
   ],
   "source": [
    "print(df.isnull().any())"
   ]
  },
  {
   "attachments": {},
   "cell_type": "markdown",
   "metadata": {},
   "source": [
    "The dataset is already clean."
   ]
  },
  {
   "cell_type": "code",
   "execution_count": 4,
   "metadata": {},
   "outputs": [
    {
     "data": {
      "text/plain": [
       "(1599, 12)"
      ]
     },
     "execution_count": 4,
     "metadata": {},
     "output_type": "execute_result"
    }
   ],
   "source": [
    "# Know the dimensions of the dataframe.\n",
    "df.shape"
   ]
  },
  {
   "attachments": {},
   "cell_type": "markdown",
   "metadata": {},
   "source": [
    "There is 1599 rows and 12 columns, let's check the content more in detail with some stats."
   ]
  },
  {
   "cell_type": "code",
   "execution_count": 5,
   "metadata": {},
   "outputs": [
    {
     "name": "stdout",
     "output_type": "stream",
     "text": [
      "<class 'pandas.core.frame.DataFrame'>\n",
      "RangeIndex: 1599 entries, 0 to 1598\n",
      "Data columns (total 12 columns):\n",
      " #   Column                Non-Null Count  Dtype  \n",
      "---  ------                --------------  -----  \n",
      " 0   fixed acidity         1599 non-null   float64\n",
      " 1   volatile acidity      1599 non-null   float64\n",
      " 2   citric acid           1599 non-null   float64\n",
      " 3   residual sugar        1599 non-null   float64\n",
      " 4   chlorides             1599 non-null   float64\n",
      " 5   free sulfur dioxide   1599 non-null   float64\n",
      " 6   total sulfur dioxide  1599 non-null   float64\n",
      " 7   density               1599 non-null   float64\n",
      " 8   pH                    1599 non-null   float64\n",
      " 9   sulphates             1599 non-null   float64\n",
      " 10  alcohol               1599 non-null   float64\n",
      " 11  quality               1599 non-null   int64  \n",
      "dtypes: float64(11), int64(1)\n",
      "memory usage: 150.0 KB\n"
     ]
    }
   ],
   "source": [
    "# Display usefull information about the dataset.\n",
    "df.info()"
   ]
  },
  {
   "cell_type": "code",
   "execution_count": 6,
   "metadata": {},
   "outputs": [
    {
     "data": {
      "text/html": [
       "<div>\n",
       "<style scoped>\n",
       "    .dataframe tbody tr th:only-of-type {\n",
       "        vertical-align: middle;\n",
       "    }\n",
       "\n",
       "    .dataframe tbody tr th {\n",
       "        vertical-align: top;\n",
       "    }\n",
       "\n",
       "    .dataframe thead th {\n",
       "        text-align: right;\n",
       "    }\n",
       "</style>\n",
       "<table border=\"1\" class=\"dataframe\">\n",
       "  <thead>\n",
       "    <tr style=\"text-align: right;\">\n",
       "      <th></th>\n",
       "      <th>fixed acidity</th>\n",
       "      <th>volatile acidity</th>\n",
       "      <th>citric acid</th>\n",
       "      <th>residual sugar</th>\n",
       "      <th>chlorides</th>\n",
       "      <th>free sulfur dioxide</th>\n",
       "      <th>total sulfur dioxide</th>\n",
       "      <th>density</th>\n",
       "      <th>pH</th>\n",
       "      <th>sulphates</th>\n",
       "      <th>alcohol</th>\n",
       "      <th>quality</th>\n",
       "    </tr>\n",
       "  </thead>\n",
       "  <tbody>\n",
       "    <tr>\n",
       "      <th>count</th>\n",
       "      <td>1599.000000</td>\n",
       "      <td>1599.000000</td>\n",
       "      <td>1599.000000</td>\n",
       "      <td>1599.000000</td>\n",
       "      <td>1599.000000</td>\n",
       "      <td>1599.000000</td>\n",
       "      <td>1599.000000</td>\n",
       "      <td>1599.000000</td>\n",
       "      <td>1599.000000</td>\n",
       "      <td>1599.000000</td>\n",
       "      <td>1599.000000</td>\n",
       "      <td>1599.000000</td>\n",
       "    </tr>\n",
       "    <tr>\n",
       "      <th>mean</th>\n",
       "      <td>8.319637</td>\n",
       "      <td>0.527821</td>\n",
       "      <td>0.270976</td>\n",
       "      <td>2.538806</td>\n",
       "      <td>0.087467</td>\n",
       "      <td>15.874922</td>\n",
       "      <td>46.467792</td>\n",
       "      <td>0.996747</td>\n",
       "      <td>3.311113</td>\n",
       "      <td>0.658149</td>\n",
       "      <td>10.422983</td>\n",
       "      <td>5.636023</td>\n",
       "    </tr>\n",
       "    <tr>\n",
       "      <th>std</th>\n",
       "      <td>1.741096</td>\n",
       "      <td>0.179060</td>\n",
       "      <td>0.194801</td>\n",
       "      <td>1.409928</td>\n",
       "      <td>0.047065</td>\n",
       "      <td>10.460157</td>\n",
       "      <td>32.895324</td>\n",
       "      <td>0.001887</td>\n",
       "      <td>0.154386</td>\n",
       "      <td>0.169507</td>\n",
       "      <td>1.065668</td>\n",
       "      <td>0.807569</td>\n",
       "    </tr>\n",
       "    <tr>\n",
       "      <th>min</th>\n",
       "      <td>4.600000</td>\n",
       "      <td>0.120000</td>\n",
       "      <td>0.000000</td>\n",
       "      <td>0.900000</td>\n",
       "      <td>0.012000</td>\n",
       "      <td>1.000000</td>\n",
       "      <td>6.000000</td>\n",
       "      <td>0.990070</td>\n",
       "      <td>2.740000</td>\n",
       "      <td>0.330000</td>\n",
       "      <td>8.400000</td>\n",
       "      <td>3.000000</td>\n",
       "    </tr>\n",
       "    <tr>\n",
       "      <th>25%</th>\n",
       "      <td>7.100000</td>\n",
       "      <td>0.390000</td>\n",
       "      <td>0.090000</td>\n",
       "      <td>1.900000</td>\n",
       "      <td>0.070000</td>\n",
       "      <td>7.000000</td>\n",
       "      <td>22.000000</td>\n",
       "      <td>0.995600</td>\n",
       "      <td>3.210000</td>\n",
       "      <td>0.550000</td>\n",
       "      <td>9.500000</td>\n",
       "      <td>5.000000</td>\n",
       "    </tr>\n",
       "    <tr>\n",
       "      <th>50%</th>\n",
       "      <td>7.900000</td>\n",
       "      <td>0.520000</td>\n",
       "      <td>0.260000</td>\n",
       "      <td>2.200000</td>\n",
       "      <td>0.079000</td>\n",
       "      <td>14.000000</td>\n",
       "      <td>38.000000</td>\n",
       "      <td>0.996750</td>\n",
       "      <td>3.310000</td>\n",
       "      <td>0.620000</td>\n",
       "      <td>10.200000</td>\n",
       "      <td>6.000000</td>\n",
       "    </tr>\n",
       "    <tr>\n",
       "      <th>75%</th>\n",
       "      <td>9.200000</td>\n",
       "      <td>0.640000</td>\n",
       "      <td>0.420000</td>\n",
       "      <td>2.600000</td>\n",
       "      <td>0.090000</td>\n",
       "      <td>21.000000</td>\n",
       "      <td>62.000000</td>\n",
       "      <td>0.997835</td>\n",
       "      <td>3.400000</td>\n",
       "      <td>0.730000</td>\n",
       "      <td>11.100000</td>\n",
       "      <td>6.000000</td>\n",
       "    </tr>\n",
       "    <tr>\n",
       "      <th>max</th>\n",
       "      <td>15.900000</td>\n",
       "      <td>1.580000</td>\n",
       "      <td>1.000000</td>\n",
       "      <td>15.500000</td>\n",
       "      <td>0.611000</td>\n",
       "      <td>72.000000</td>\n",
       "      <td>289.000000</td>\n",
       "      <td>1.003690</td>\n",
       "      <td>4.010000</td>\n",
       "      <td>2.000000</td>\n",
       "      <td>14.900000</td>\n",
       "      <td>8.000000</td>\n",
       "    </tr>\n",
       "  </tbody>\n",
       "</table>\n",
       "</div>"
      ],
      "text/plain": [
       "       fixed acidity  volatile acidity  citric acid  residual sugar  \\\n",
       "count    1599.000000       1599.000000  1599.000000     1599.000000   \n",
       "mean        8.319637          0.527821     0.270976        2.538806   \n",
       "std         1.741096          0.179060     0.194801        1.409928   \n",
       "min         4.600000          0.120000     0.000000        0.900000   \n",
       "25%         7.100000          0.390000     0.090000        1.900000   \n",
       "50%         7.900000          0.520000     0.260000        2.200000   \n",
       "75%         9.200000          0.640000     0.420000        2.600000   \n",
       "max        15.900000          1.580000     1.000000       15.500000   \n",
       "\n",
       "         chlorides  free sulfur dioxide  total sulfur dioxide      density  \\\n",
       "count  1599.000000          1599.000000           1599.000000  1599.000000   \n",
       "mean      0.087467            15.874922             46.467792     0.996747   \n",
       "std       0.047065            10.460157             32.895324     0.001887   \n",
       "min       0.012000             1.000000              6.000000     0.990070   \n",
       "25%       0.070000             7.000000             22.000000     0.995600   \n",
       "50%       0.079000            14.000000             38.000000     0.996750   \n",
       "75%       0.090000            21.000000             62.000000     0.997835   \n",
       "max       0.611000            72.000000            289.000000     1.003690   \n",
       "\n",
       "                pH    sulphates      alcohol      quality  \n",
       "count  1599.000000  1599.000000  1599.000000  1599.000000  \n",
       "mean      3.311113     0.658149    10.422983     5.636023  \n",
       "std       0.154386     0.169507     1.065668     0.807569  \n",
       "min       2.740000     0.330000     8.400000     3.000000  \n",
       "25%       3.210000     0.550000     9.500000     5.000000  \n",
       "50%       3.310000     0.620000    10.200000     6.000000  \n",
       "75%       3.400000     0.730000    11.100000     6.000000  \n",
       "max       4.010000     2.000000    14.900000     8.000000  "
      ]
     },
     "execution_count": 6,
     "metadata": {},
     "output_type": "execute_result"
    }
   ],
   "source": [
    "df.describe()"
   ]
  },
  {
   "cell_type": "code",
   "execution_count": 7,
   "metadata": {},
   "outputs": [
    {
     "data": {
      "text/plain": [
       "5    681\n",
       "6    638\n",
       "7    199\n",
       "4     53\n",
       "8     18\n",
       "3     10\n",
       "Name: quality, dtype: int64"
      ]
     },
     "execution_count": 7,
     "metadata": {},
     "output_type": "execute_result"
    }
   ],
   "source": [
    "df.quality.value_counts()"
   ]
  },
  {
   "attachments": {},
   "cell_type": "markdown",
   "metadata": {},
   "source": [
    "What we can conclude about this data:  \n",
    "\n",
    "The dataset contains various attributes related to red wine quality. Here's a brief overview of the columns and what they represent:\n",
    "* `Fixed Acidity`: Represents the fixed (non-volatile) acids in the wine.\n",
    "* `Volatile Acidity`: Indicates the amount of acetic acid in the wine, which can lead to an unpleasant, vinegar-like taste.\n",
    "* `Citric Acid`: Reflects the presence of citric acid, which can add freshness and flavor to the wine.\n",
    "* `Residual Sugar`: Represents the amount of residuall sugar in the wine after fermentation.\n",
    "* `Chlorides`: Indicates the amount of salt in the wine.\n",
    "* `Free Sulfur Dioxide`: Measures the free forum of sulfur dioxide, which is used for preserving the wine.\n",
    "* `Total Sulfur Dioxide`: Represents the total amount of sulfur dioxide, which is related to the wine's preservation and taste.\n",
    "* `Density`: Reflects the density of the wine.\n",
    "* `pH`: Represents the pH level, which can influence the wine's acidity.\n",
    "* `Sulphates`: Indicates the amount of sulfur dioxide used in winemaking.\n",
    "* `Alcohol`: Represents the alcohol content in the wine.\n",
    "* `Quality`: Indicates the wine's quality, typically rated on a scale from 1 to 10.\n",
    "\n",
    "This dataset provides a collection of attributes that are often used to assess and predict the quality of red wine. Each row in the dataset corresponds to a specific red wine sample, and the \"Quality\" column provides a rating for each sample, which is the data we are trying to predict."
   ]
  },
  {
   "attachments": {},
   "cell_type": "markdown",
   "metadata": {},
   "source": [
    "### Second step: Split data"
   ]
  },
  {
   "attachments": {},
   "cell_type": "markdown",
   "metadata": {},
   "source": [
    "Now let's split the data between train and test."
   ]
  },
  {
   "cell_type": "code",
   "execution_count": 8,
   "metadata": {},
   "outputs": [],
   "source": [
    "# Load our fields X and Y. \n",
    "X = df.drop('quality', axis=1)\n",
    "y = df['quality']"
   ]
  },
  {
   "cell_type": "code",
   "execution_count": 9,
   "metadata": {},
   "outputs": [
    {
     "name": "stdout",
     "output_type": "stream",
     "text": [
      "Train:  1071 ,  1071\n",
      "Test:  528 ,  528\n"
     ]
    }
   ],
   "source": [
    "# Split data.\n",
    "X_train, X_test, y_train, y_test = train_test_split(X, y, test_size=0.33, random_state=42) # 1/3 for the test.\n",
    "print(\"Train: \", len(X_train), \", \", len(y_train))\n",
    "print(\"Test: \", len(X_test), \", \", len(y_test))"
   ]
  },
  {
   "attachments": {},
   "cell_type": "markdown",
   "metadata": {},
   "source": [
    "### Third part: Create regression tree"
   ]
  },
  {
   "attachments": {},
   "cell_type": "markdown",
   "metadata": {},
   "source": [
    "The main part of the code is here: we create our regression tree for each depth level to find the `max_depth` parameter."
   ]
  },
  {
   "cell_type": "code",
   "execution_count": 10,
   "metadata": {},
   "outputs": [
    {
     "name": "stdout",
     "output_type": "stream",
     "text": [
      "Model (depth=1): [train MSE: 0.52, test MSE: 0.57, MAE: 0.59, R2: 0.14]\n",
      "Model (depth=2): [train MSE: 0.46, test MSE: 0.52, MAE: 0.58, R2: 0.21]\n",
      "Model (depth=3): [train MSE: 0.41, test MSE: 0.51, MAE: 0.56, R2: 0.24]\n",
      "Model (depth=4): [train MSE: 0.36, test MSE: 0.49, MAE: 0.55, R2: 0.26]\n",
      "Model (depth=5): [train MSE: 0.31, test MSE: 0.48, MAE: 0.52, R2: 0.28]\n",
      "Model (depth=6): [train MSE: 0.26, test MSE: 0.52, MAE: 0.52, R2: 0.21]\n",
      "Model (depth=7): [train MSE: 0.21, test MSE: 0.54, MAE: 0.51, R2: 0.18]\n",
      "Model (depth=8): [train MSE: 0.16, test MSE: 0.55, MAE: 0.51, R2: 0.17]\n",
      "Model (depth=9): [train MSE: 0.12, test MSE: 0.59, MAE: 0.51, R2: 0.10]\n",
      "Model (depth=10): [train MSE: 0.09, test MSE: 0.63, MAE: 0.51, R2: 0.04]\n",
      "Model (depth=11): [train MSE: 0.07, test MSE: 0.64, MAE: 0.51, R2: 0.04]\n",
      "Model (depth=12): [train MSE: 0.05, test MSE: 0.64, MAE: 0.49, R2: 0.04]\n",
      "Model (depth=13): [train MSE: 0.03, test MSE: 0.67, MAE: 0.50, R2: -0.01]\n",
      "Model (depth=14): [train MSE: 0.02, test MSE: 0.66, MAE: 0.49, R2: 0.01]\n",
      "Model (depth=15): [train MSE: 0.01, test MSE: 0.67, MAE: 0.50, R2: -0.01]\n",
      "Model (depth=16): [train MSE: 0.01, test MSE: 0.73, MAE: 0.53, R2: -0.11]\n",
      "Model (depth=17): [train MSE: 0.00, test MSE: 0.67, MAE: 0.50, R2: -0.02]\n",
      "Model (depth=18): [train MSE: 0.00, test MSE: 0.71, MAE: 0.52, R2: -0.08]\n",
      "Model (depth=19): [train MSE: 0.00, test MSE: 0.72, MAE: 0.52, R2: -0.09]\n",
      "Model (depth=20): [train MSE: 0.00, test MSE: 0.70, MAE: 0.52, R2: -0.06]\n",
      "Model (depth=21): [train MSE: 0.00, test MSE: 0.74, MAE: 0.53, R2: -0.12]\n",
      "Model (depth=22): [train MSE: 0.00, test MSE: 0.71, MAE: 0.51, R2: -0.07]\n"
     ]
    }
   ],
   "source": [
    "# We test the first 23 depth.\n",
    "depths = range(1, 23)\n",
    "\n",
    "# iterate through each depth and create a regression tree, train it and predict result, compare the prediction and display the accuracy.\n",
    "for depth in depths:\n",
    "    model = DecisionTreeRegressor(max_depth=depth, random_state=42)\n",
    "    model.fit(X_train, y_train)\n",
    "    y_train_pred = model.predict(X_train)\n",
    "    y_test_pred = model.predict(X_test)\n",
    "    \n",
    "    # Compute train MSE, test MSE, MAE and R2 and display data.\n",
    "    train_mse = mean_squared_error(y_train, y_train_pred)\n",
    "    test_mse = mean_squared_error(y_test, y_test_pred)\n",
    "    mae = mean_absolute_error(y_test, y_test_pred)\n",
    "    r2 = r2_score(y_test, y_test_pred)\n",
    "    print(f\"Model (depth={depth}): [train MSE: {train_mse:.2f}, test MSE: {test_mse:.2f}, MAE: {mae:.2f}, R2: {r2:.2f}]\")"
   ]
  },
  {
   "attachments": {},
   "cell_type": "markdown",
   "metadata": {},
   "source": [
    "**Conclusion :** After evaluating various decision tree regression models with different maximum depths (`max_depth`), we can observe this:\n",
    "\n",
    "With a depth of 1, the model exhibits a relatively low test Mean Squared Error (*MSE*) of 0.57, but the *R2* (Coefficient of Determination) is only 0.14, suggesting limited predictive power.\n",
    "\n",
    "As the depth increases up to 5, the test *MSE* continues to decrease, indicating improved model performance. However, beyond depth 5, the test *MSE* starts to increase again, indicating overfitting.\n",
    "\n",
    "The Mean Absolute Error (*MAE*) is relatively stable across different depths, with values hovering around 0.51 to 0.53.\n",
    "\n",
    "The *R2* values are relatively low, indicating that the models explain only a small portion of the variance in the target variable.\n",
    "\n",
    "Considering the trade-off between model complexity and performance, this is recommended to choose a maximum depth of 5 for the decision tree regression model. At this depth, the model achieves a reasonably low test *MSE* of 0.48, a relatively low MA*E of 0.52, and a moderate *R2* of 0.28, suggesting that it strikes a balance between fitting the data and generalizing to unseen data. Beyond depth 5, the model becomes overly complex and may not generalize well to new data."
   ]
  },
  {
   "cell_type": "code",
   "execution_count": 11,
   "metadata": {},
   "outputs": [],
   "source": [
    "optimal_depth = 5"
   ]
  },
  {
   "attachments": {},
   "cell_type": "markdown",
   "metadata": {},
   "source": [
    "So let's use `max_depth` = 5 to train our model:"
   ]
  },
  {
   "cell_type": "code",
   "execution_count": 12,
   "metadata": {},
   "outputs": [
    {
     "name": "stdout",
     "output_type": "stream",
     "text": [
      "Model Evaluation - Max Depth 5\n",
      "Train MSE: 0.31\n",
      "Test MSE: 0.48\n",
      "MAE: 0.52\n",
      "R2: 0.28\n"
     ]
    }
   ],
   "source": [
    "# Train our model with this depth.\n",
    "final_model = DecisionTreeRegressor(max_depth=optimal_depth, random_state=42)\n",
    "final_model.fit(X_train, y_train)\n",
    "\n",
    "# Test.\n",
    "y_train_pred = final_model.predict(X_train)\n",
    "y_test_pred = final_model.predict(X_test)\n",
    "\n",
    "# Evaluate the final model.\n",
    "train_mse = mean_squared_error(y_train, y_train_pred)\n",
    "test_mse = mean_squared_error(y_test, y_test_pred)\n",
    "mae = mean_absolute_error(y_test, y_test_pred)\n",
    "r2 = r2_score(y_test, y_test_pred)\n",
    "\n",
    "print(f'Model Evaluation - Max Depth {optimal_depth}')\n",
    "print(f'Train MSE: {train_mse:.2f}')\n",
    "print(f'Test MSE: {test_mse:.2f}')\n",
    "print(f'MAE: {mae:.2f}')\n",
    "print(f'R2: {r2:.2f}')"
   ]
  }
 ],
 "metadata": {
  "kernelspec": {
   "display_name": "ml-venv",
   "language": "python",
   "name": "ml-venv"
  },
  "language_info": {
   "codemirror_mode": {
    "name": "ipython",
    "version": 3
   },
   "file_extension": ".py",
   "mimetype": "text/x-python",
   "name": "python",
   "nbconvert_exporter": "python",
   "pygments_lexer": "ipython3",
   "version": "3.10.12"
  },
  "orig_nbformat": 4
 },
 "nbformat": 4,
 "nbformat_minor": 2
}

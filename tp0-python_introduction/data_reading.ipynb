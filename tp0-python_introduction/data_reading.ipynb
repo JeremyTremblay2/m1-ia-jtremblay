{
 "cells": [
  {
   "cell_type": "markdown",
   "id": "22484cee-9599-443a-9415-81cc8351af8c",
   "metadata": {},
   "source": [
    "#### Jérémy TREMBLAY"
   ]
  },
  {
   "cell_type": "markdown",
   "id": "8c3d1bd1-c4d5-4f14-8825-ae04d7a94b1f",
   "metadata": {},
   "source": [
    "# TP0 : Python Introduction"
   ]
  },
  {
   "cell_type": "code",
   "execution_count": 4,
   "id": "558600bc-dcd0-4527-9b9f-fdbd350e6b6f",
   "metadata": {
    "tags": []
   },
   "outputs": [],
   "source": [
    "# Import the library that will be used in this notebook.\n",
    "import pandas as pd\n",
    "import numpy as np\n",
    "import random\n",
    "import math\n",
    "\n",
    "# Import the pyplot module from matplotlib with the plt alias.\n",
    "import matplotlib.pyplot as plt"
   ]
  },
  {
   "cell_type": "markdown",
   "id": "ecfdc314-e456-41f8-90a5-0eabe87c1a05",
   "metadata": {
    "tags": []
   },
   "source": [
    "## Task 6 : Read database"
   ]
  },
  {
   "cell_type": "markdown",
   "id": "8583dbd1-7eaf-42ec-8615-94d3aa5fbe98",
   "metadata": {
    "tags": []
   },
   "source": [
    "**Consigne :** Récupérez la base de données *opossum*. Ajoutez-la dans un dossier `datasets` relatif à ce TP.  \n",
    "À l’aide la librairie `pandas`, lire cette base de données (voir méthode d’ouverture d’un fichier relative à son extension), puis affichez quelques valeurs de cette base à l’aide de la méthode `head`."
   ]
  },
  {
   "cell_type": "code",
   "execution_count": 5,
   "id": "6f0283cd-8535-4010-b915-b9565c89b6c7",
   "metadata": {},
   "outputs": [
    {
     "name": "stdout",
     "output_type": "stream",
     "text": [
      "  sex  age  hdlngth  skullw  totlngth  taill  footlgth  earconch   eye  chest  \\\n",
      "0   m  1.0     85.9    52.4      80.5   35.0      62.0      42.4  14.1   25.5   \n",
      "1   m  1.0     86.7    52.6      84.0   38.0      62.3      44.8  15.0   23.5   \n",
      "2   m  1.0     85.8    50.0      81.0   36.5      62.8      43.0  14.8   22.0   \n",
      "3   m  1.0     86.5    51.0      81.0   36.5      63.0      44.3  13.2   23.0   \n",
      "4   m  1.0     88.6    54.7      82.5   39.0      64.4      48.0  14.0   25.0   \n",
      "\n",
      "   belly  \n",
      "0   30.0  \n",
      "1   30.5  \n",
      "2   28.5  \n",
      "3   28.0  \n",
      "4   33.0  \n"
     ]
    }
   ],
   "source": [
    "# Specify the relative path of the opossum file.\n",
    "file_path = 'datasets/opossum.csv'\n",
    "\n",
    "# Load the database into a DataFrame.\n",
    "df = pd.read_csv(file_path)\n",
    "\n",
    "# Display the first few rows of the DataFrame with head.\n",
    "print(df.head())"
   ]
  },
  {
   "cell_type": "markdown",
   "id": "8c50c2e7-3c71-4a46-8a6f-e48e5999a133",
   "metadata": {},
   "source": [
    "## Task 7 : Use Panda's features"
   ]
  },
  {
   "cell_type": "markdown",
   "id": "a5c10a52-74d4-4818-8a5d-fade1393d8b5",
   "metadata": {},
   "source": [
    "**Consigne :** Il est possible d’accéder aux valeurs des lignes et colonnes de différentes manières en traitant notre\n",
    "« dataframe ». Familiarisez-vous avec les commandes."
   ]
  },
  {
   "cell_type": "code",
   "execution_count": 7,
   "id": "b511f6c5-4d6e-4e7d-9980-116eba301e3a",
   "metadata": {
    "tags": []
   },
   "outputs": [
    {
     "name": "stdout",
     "output_type": "stream",
     "text": [
      "82\n"
     ]
    }
   ],
   "source": [
    "# Display number of rows in the dataframe.\n",
    "print(len(df.index))"
   ]
  },
  {
   "cell_type": "code",
   "execution_count": 8,
   "id": "acc5e0b7-4331-4d7c-8702-0f752a1c52d1",
   "metadata": {
    "tags": []
   },
   "outputs": [
    {
     "name": "stdout",
     "output_type": "stream",
     "text": [
      "Index(['sex', 'age', 'hdlngth', 'skullw', 'totlngth', 'taill', 'footlgth',\n",
      "       'earconch', 'eye', 'chest', 'belly'],\n",
      "      dtype='object')\n"
     ]
    }
   ],
   "source": [
    "# Display the columns.\n",
    "print(df.columns)"
   ]
  },
  {
   "cell_type": "code",
   "execution_count": 9,
   "id": "a9154149-a49c-4891-bcd4-12cb3bea2c16",
   "metadata": {
    "tags": []
   },
   "outputs": [
    {
     "name": "stdout",
     "output_type": "stream",
     "text": [
      "0     1.0\n",
      "1     1.0\n",
      "2     1.0\n",
      "3     1.0\n",
      "4     1.0\n",
      "     ... \n",
      "77    8.0\n",
      "78    9.0\n",
      "79    9.0\n",
      "80    NaN\n",
      "81    NaN\n",
      "Name: age, Length: 82, dtype: float64\n"
     ]
    }
   ],
   "source": [
    "# Returns a panda's serie.\n",
    "print(df[\"age\"])"
   ]
  },
  {
   "cell_type": "code",
   "execution_count": 10,
   "id": "485b10fd-1ec8-4ece-902f-c5abac5e07a9",
   "metadata": {
    "tags": []
   },
   "outputs": [
    {
     "data": {
      "text/plain": [
       "array([ 1.,  1.,  1.,  1.,  1.,  1.,  1.,  1.,  2.,  2.,  2.,  2.,  2.,\n",
       "        2.,  2.,  2.,  2.,  2.,  2.,  2.,  3.,  3.,  3.,  3.,  3.,  3.,\n",
       "        3.,  3.,  3.,  3.,  3.,  3.,  3.,  3.,  3.,  3.,  3.,  3.,  3.,\n",
       "        4.,  4.,  4.,  4.,  4.,  4.,  4.,  4.,  4.,  4.,  5.,  5.,  5.,\n",
       "        5.,  5.,  5.,  5.,  5.,  5.,  5.,  5.,  6.,  6.,  6.,  6.,  6.,\n",
       "        6.,  6.,  6.,  6.,  6.,  6.,  7.,  7.,  7.,  7.,  7.,  7.,  8.,\n",
       "        9.,  9., nan, nan])"
      ]
     },
     "execution_count": 10,
     "metadata": {},
     "output_type": "execute_result"
    }
   ],
   "source": [
    "# Display the values of each row of the age column of this serie.\n",
    "df[\"age\"].values"
   ]
  },
  {
   "cell_type": "code",
   "execution_count": 12,
   "id": "a5943af3-2488-46dd-a5ad-12306c0b88cc",
   "metadata": {
    "tags": []
   },
   "outputs": [
    {
     "name": "stdout",
     "output_type": "stream",
     "text": [
      "sex            m\n",
      "age          1.0\n",
      "hdlngth     85.9\n",
      "skullw      52.4\n",
      "totlngth    80.5\n",
      "taill       35.0\n",
      "footlgth    62.0\n",
      "earconch    42.4\n",
      "eye         14.1\n",
      "chest       25.5\n",
      "belly       30.0\n",
      "Name: 0, dtype: object\n"
     ]
    }
   ],
   "source": [
    "# Display the first row.\n",
    "print(df.iloc[0])"
   ]
  },
  {
   "cell_type": "code",
   "execution_count": 14,
   "id": "495ac551-0c13-4573-bc73-f12d602d757a",
   "metadata": {
    "tags": []
   },
   "outputs": [
    {
     "name": "stdout",
     "output_type": "stream",
     "text": [
      "0     m\n",
      "1     m\n",
      "2     m\n",
      "3     m\n",
      "4     m\n",
      "     ..\n",
      "77    m\n",
      "78    f\n",
      "79    f\n",
      "80    m\n",
      "81    m\n",
      "Name: sex, Length: 82, dtype: object\n"
     ]
    }
   ],
   "source": [
    "# Display the sex for each row.\n",
    "print(df.iloc[:, 0])"
   ]
  },
  {
   "cell_type": "code",
   "execution_count": 15,
   "id": "5a1e76e7-1aca-43ec-8b55-3172576ed5a9",
   "metadata": {
    "tags": []
   },
   "outputs": [
    {
     "name": "stdout",
     "output_type": "stream",
     "text": [
      "sex         False\n",
      "age          True\n",
      "hdlngth     False\n",
      "skullw      False\n",
      "totlngth    False\n",
      "taill       False\n",
      "footlgth     True\n",
      "earconch    False\n",
      "eye         False\n",
      "chest       False\n",
      "belly       False\n",
      "dtype: bool\n"
     ]
    }
   ],
   "source": [
    "# Indicates if there is at least one column with a null value.\n",
    "print(df.isnull().any())"
   ]
  },
  {
   "cell_type": "code",
   "execution_count": 18,
   "id": "c3ebf8b1-f3db-49e5-a443-9d97492b8950",
   "metadata": {
    "tags": []
   },
   "outputs": [
    {
     "name": "stdout",
     "output_type": "stream",
     "text": [
      "80\n"
     ]
    }
   ],
   "source": [
    "# Delete the rows with missing values.\n",
    "df = df.dropna(subset=['age'])\n",
    "\n",
    "# Now the dataset only contains 80 rows (2 were null).\n",
    "print(len(df.index))"
   ]
  },
  {
   "cell_type": "markdown",
   "id": "ba927e19-cb7d-47e5-9320-2b5cd1b289ea",
   "metadata": {},
   "source": [
    "## Task 8 : Delete the lines with missing values"
   ]
  },
  {
   "cell_type": "markdown",
   "id": "57961f3e-d5bb-4751-a829-e82cc94d10c3",
   "metadata": {},
   "source": [
    "**Consigne :** Supprimez les lignes avec des valeurs manquantes pour vous assurer que le dataframe est propre.  \n",
    "Afficher ensuite la matrice de correlation des colonnes entre-elles à l’aide de la méthode `corr`."
   ]
  },
  {
   "cell_type": "markdown",
   "id": "dcf55d0c-5f4e-45b5-a8c5-bd7e252b252d",
   "metadata": {},
   "source": [
    "### Clean the dataframe"
   ]
  },
  {
   "cell_type": "markdown",
   "id": "9fac1c59-13be-46a0-ac55-ad7134cd5c4e",
   "metadata": {},
   "source": [
    "First we need to load again the dataset to get a new and clean data frame."
   ]
  },
  {
   "cell_type": "code",
   "execution_count": 21,
   "id": "32517d41-f770-4e61-985b-cddb1b33c6d0",
   "metadata": {
    "tags": []
   },
   "outputs": [
    {
     "name": "stdout",
     "output_type": "stream",
     "text": [
      "82\n"
     ]
    }
   ],
   "source": [
    "df = pd.read_csv(file_path)\n",
    "\n",
    "# Display the first few rows of the DataFrame with head.\n",
    "print(len(df.index))"
   ]
  },
  {
   "cell_type": "markdown",
   "id": "9ab0a5d6-67c4-49b1-8d87-47c795496f1d",
   "metadata": {},
   "source": [
    "There is 82 rows, let check the columns that contains null values:"
   ]
  },
  {
   "cell_type": "code",
   "execution_count": 23,
   "id": "1ba9f11c-3522-466e-93c3-f6cbee01e94c",
   "metadata": {
    "tags": []
   },
   "outputs": [
    {
     "name": "stdout",
     "output_type": "stream",
     "text": [
      "sex         False\n",
      "age          True\n",
      "hdlngth     False\n",
      "skullw      False\n",
      "totlngth    False\n",
      "taill       False\n",
      "footlgth     True\n",
      "earconch    False\n",
      "eye         False\n",
      "chest       False\n",
      "belly       False\n",
      "dtype: bool\n"
     ]
    }
   ],
   "source": [
    "print(df.isnull().any())"
   ]
  },
  {
   "cell_type": "markdown",
   "id": "c53781bb-a31f-4c16-9830-426b42a89c4b",
   "metadata": {},
   "source": [
    "We need to clean the columns footlength and age."
   ]
  },
  {
   "cell_type": "code",
   "execution_count": 24,
   "id": "483b5674-b401-4c34-976a-26b3e2868b31",
   "metadata": {
    "tags": []
   },
   "outputs": [],
   "source": [
    "# Delete the rows with missing values.\n",
    "df = df.dropna(subset=['age'])\n",
    "df = df.dropna(subset=['footlgth'])"
   ]
  },
  {
   "cell_type": "markdown",
   "id": "dabe646f-3448-4515-b0cc-b8fc191bdeff",
   "metadata": {},
   "source": [
    "Let now check the number of rows of this dataframe:"
   ]
  },
  {
   "cell_type": "code",
   "execution_count": 25,
   "id": "c8b620c3-03ca-4a1b-941f-1ad2ecd4ff44",
   "metadata": {
    "tags": []
   },
   "outputs": [
    {
     "name": "stdout",
     "output_type": "stream",
     "text": [
      "79\n"
     ]
    }
   ],
   "source": [
    "print(len(df.index))"
   ]
  },
  {
   "cell_type": "markdown",
   "id": "309e4ca6-1d9e-4c44-9dac-beb1987d3b35",
   "metadata": {},
   "source": [
    "3 rows were removed. Let now check that everything is clean:"
   ]
  },
  {
   "cell_type": "code",
   "execution_count": 26,
   "id": "c9669e97-1cba-470c-a9e9-fde565d8382e",
   "metadata": {
    "tags": []
   },
   "outputs": [
    {
     "name": "stdout",
     "output_type": "stream",
     "text": [
      "sex         False\n",
      "age         False\n",
      "hdlngth     False\n",
      "skullw      False\n",
      "totlngth    False\n",
      "taill       False\n",
      "footlgth    False\n",
      "earconch    False\n",
      "eye         False\n",
      "chest       False\n",
      "belly       False\n",
      "dtype: bool\n"
     ]
    }
   ],
   "source": [
    "print(df.isnull().any())"
   ]
  },
  {
   "cell_type": "markdown",
   "id": "412b4546-0773-4718-b888-6fbeb1533563",
   "metadata": {
    "tags": []
   },
   "source": [
    "Perfect.\n",
    "Note: It is also possible to remove all the missing rows whatever the columns touched by missing values."
   ]
  },
  {
   "cell_type": "code",
   "execution_count": 28,
   "id": "18cae579-6387-4fe8-89d2-651c0cc818d4",
   "metadata": {
    "tags": []
   },
   "outputs": [
    {
     "name": "stdout",
     "output_type": "stream",
     "text": [
      "82\n",
      "79\n"
     ]
    }
   ],
   "source": [
    "df = pd.read_csv(file_path) # Load the dataframe again\n",
    "\n",
    "print(len(df.index)) # 82\n",
    "\n",
    "# Remove all incomplete rows.\n",
    "df.dropna(inplace=True)\n",
    "\n",
    "print(len(df.index)) # 79"
   ]
  },
  {
   "cell_type": "markdown",
   "id": "869547c6-a84f-4c16-aa91-7160788e995e",
   "metadata": {},
   "source": [
    " ### Display correlation matrix"
   ]
  },
  {
   "cell_type": "code",
   "execution_count": 30,
   "id": "c81a133e-045b-40c0-873c-d129ebd6a567",
   "metadata": {
    "tags": []
   },
   "outputs": [
    {
     "name": "stdout",
     "output_type": "stream",
     "text": [
      "Correlation Matrix:\n",
      "               age   hdlngth    skullw  totlngth     taill  footlgth  \\\n",
      "age       1.000000  0.434319  0.349908  0.326974  0.107362  0.162146   \n",
      "hdlngth   0.434319  1.000000  0.655521  0.599842  0.079489  0.352002   \n",
      "skullw    0.349908  0.655521  1.000000  0.420161  0.056414  0.248005   \n",
      "totlngth  0.326974  0.599842  0.420161  1.000000  0.487067  0.460960   \n",
      "taill     0.107362  0.079489  0.056414  0.487067  1.000000 -0.229061   \n",
      "footlgth  0.162146  0.352002  0.248005  0.460960 -0.229061  1.000000   \n",
      "earconch  0.112547  0.288993  0.151263  0.339191 -0.329926  0.899060   \n",
      "eye       0.198595  0.351383  0.270535  0.226744  0.107057 -0.000398   \n",
      "chest     0.373069  0.591205  0.557144  0.500999 -0.020560  0.512088   \n",
      "belly     0.384682  0.509035  0.407957  0.419246  0.143754  0.286707   \n",
      "\n",
      "          earconch       eye     chest     belly  \n",
      "age       0.112547  0.198595  0.373069  0.384682  \n",
      "hdlngth   0.288993  0.351383  0.591205  0.509035  \n",
      "skullw    0.151263  0.270535  0.557144  0.407957  \n",
      "totlngth  0.339191  0.226744  0.500999  0.419246  \n",
      "taill    -0.329926  0.107057 -0.020560  0.143754  \n",
      "footlgth  0.899060 -0.000398  0.512088  0.286707  \n",
      "earconch  1.000000 -0.055145  0.423112  0.239345  \n",
      "eye      -0.055145  1.000000  0.055851  0.232614  \n",
      "chest     0.423112  0.055851  1.000000  0.562481  \n",
      "belly     0.239345  0.232614  0.562481  1.000000  \n"
     ]
    },
    {
     "name": "stderr",
     "output_type": "stream",
     "text": [
      "/run/user/1000/ipykernel_6110/1510436604.py:2: FutureWarning: The default value of numeric_only in DataFrame.corr is deprecated. In a future version, it will default to False. Select only valid columns or specify the value of numeric_only to silence this warning.\n",
      "  corr_matrix = df.corr()\n"
     ]
    }
   ],
   "source": [
    "# Get the correlation matrix.\n",
    "corr_matrix = df.corr()\n",
    "\n",
    "# Display the correlation matrix numerically.\n",
    "print(\"Correlation Matrix:\")\n",
    "print(corr_matrix)"
   ]
  },
  {
   "cell_type": "markdown",
   "id": "97132446-8c03-458b-b9c8-f2f2befb8a3b",
   "metadata": {},
   "source": [
    "Let's visually see this correlation matrix"
   ]
  },
  {
   "cell_type": "code",
   "execution_count": 31,
   "id": "9370815e-a387-414a-bf58-5b89b614c889",
   "metadata": {
    "tags": []
   },
   "outputs": [
    {
     "data": {
      "image/png": "[encoded data removed]",
      "text/plain": [
       "<Figure size 1000x800 with 2 Axes>"
      ]
     },
     "metadata": {},
     "output_type": "display_data"
    }
   ],
   "source": [
    "# Create a heatmap of the correlation matrix.\n",
    "plt.figure(figsize=(10, 8))\n",
    "im = plt.imshow(corr_matrix, cmap=plt.cm.RdBu, vmin=-1, vmax=1)\n",
    "plt.colorbar(im)\n",
    "\n",
    "pticks = np.arange(len(corr_matrix.columns))\n",
    "plt.xticks(ticks=pticks, labels=corr_matrix.columns, rotation=45)\n",
    "plt.yticks(ticks=pticks, labels=corr_matrix.columns)\n",
    "\n",
    "# Display the matrix.\n",
    "plt.title(\"Correlation Matrix Heatmap\")\n",
    "plt.show()"
   ]
  },
  {
   "cell_type": "markdown",
   "id": "53f6fe57-ef67-4e70-9819-fa6c24601c3d",
   "metadata": {},
   "source": [
    "## Task 9: Identify 5 descriptors linked with the width of the skull of an opossum."
   ]
  },
  {
   "cell_type": "markdown",
   "id": "140e17dc-55b3-480c-b5de-66439db6afd2",
   "metadata": {},
   "source": [
    "**Consigne :** À partir de cette matrice de corrélation, identifiez 5 descripteurs qui semblent être intéressants pour\n",
    "donner des indications sur la largeur du crâne d’un opossum (`skullw`)."
   ]
  },
  {
   "cell_type": "markdown",
   "id": "8321c4f6-2f01-4462-b3eb-5ae27b6ab727",
   "metadata": {},
   "source": [
    "From the correlation matrix, if we closely look on the `skullw` line (or column), we can see that the blue squares indicate a strong correlation on each of the other criterions (look on the intersection and check the line or column corresponding). For example, we can see the darkest blue corresponds at the width of the skull (logic, a criterion, is correlated with itself). This is not a relevant information.\n",
    "However, if we look on the other blue squares, we can see that the darkest square corresponds with the head length. So the skull width seems to be correlated with the head length (this seems logical). Then, from the darkes to the lighest bleu, we have: the chest, the belly, the tooth length and the age. The other criterions seems also have a small correlation.  \n",
    "\n",
    "So, if we have to remember only 5 criterions to determine the width of a skull, it would be these (from the most correlated to the least correlated):\n",
    "1. The head length (`hdlngth`)\n",
    "2. The chest (`chest`)\n",
    "3. The belly (`belly`)\n",
    "4. The tooth length (`totlngth`)\n",
    "5. The age (`age`)"
   ]
  },
  {
   "cell_type": "code",
   "execution_count": null,
   "id": "ef4aa8f7-f604-46bc-b11b-8799b77ddff2",
   "metadata": {},
   "outputs": [],
   "source": []
  }
 ],
 "metadata": {
  "kernelspec": {
   "display_name": "ml-venv",
   "language": "python",
   "name": "ml-venv"
  },
  "language_info": {
   "codemirror_mode": {
    "name": "ipython",
    "version": 3
   },
   "file_extension": ".py",
   "mimetype": "text/x-python",
   "name": "python",
   "nbconvert_exporter": "python",
   "pygments_lexer": "ipython3",
   "version": "3.10.12"
  }
 },
 "nbformat": 4,
 "nbformat_minor": 5
}
